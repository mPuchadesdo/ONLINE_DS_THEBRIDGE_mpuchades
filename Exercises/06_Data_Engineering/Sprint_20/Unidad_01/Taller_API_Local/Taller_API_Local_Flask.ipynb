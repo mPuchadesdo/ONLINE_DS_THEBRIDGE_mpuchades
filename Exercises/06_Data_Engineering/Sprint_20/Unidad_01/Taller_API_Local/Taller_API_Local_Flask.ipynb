{
 "cells": [
  {
   "cell_type": "markdown",
   "metadata": {},
   "source": [
    "# Taller Flask\n",
    "## 1. Despliegue de una API\n",
    "Para este apartado vamos a realizar un primer despliegue de un servicio web que\n",
    "simplemente contenga un mensaje. Para ello hay que seguir los siguientes pasos:\n",
    "1. Busca un lugar en tu ordenador y crea una carpeta de \"demo_clase\", donde alojarás\n",
    "todos los proyectos de estos tutoriales.\n",
    "2. Crea un archivo de pyton llamado \"app1.py\"\n",
    "3. Introduce el siguiente código. Primero se crea la configuración de la API Flask.\n",
    "Después viene declarado el único tipo de petición, que sería un GET a la URL del\n",
    "servicio raíz, el cual devuelve una página web, un HTML, con un par de frases.\n",
    "Finalmente, se queda corriendo la app mediante \"app.run()\"."
   ]
  },
  {
   "cell_type": "code",
   "execution_count": null,
   "metadata": {},
   "outputs": [],
   "source": [
    "import flask\n",
    "app = flask.Flask(__name__)\n",
    "app.config[\"DEBUG\"] = True\n",
    "@app.route('/', methods=['GET'])\n",
    "def home():\n",
    "    return \"<h1>Distant Reading Archive</h1><p>This site is a prototype API for distant reading of science fiction novels.</p>\"\n",
    "app.run()"
   ]
  },
  {
   "cell_type": "markdown",
   "metadata": {},
   "source": [
    "4. Para ejecutar esto, ve a un \"Simbolo del sistema\", \"powershell\" (o terminal si estás\n",
    "en MAC) y dentro de la carpeta \"/demo_clase\", ejecuta \"python app1.py\". Esto\n",
    "lanzará el servicio en local. Accede al mismo mediante la URL sugerida por el output\n",
    "de la sentencia (lo normal es que sea http://127.0.0.1:5000/).\n",
    "Para que el servicio deje de correr: CTRL + C\n",
    "Este debería ser el output:\n",
    "\n",
    "Fíjate en el terminal cada vez que accedes a esa URL. El servicio está recibiendo\n",
    "peticiones, como si un usuario estuviera accediendo a una web.\n",
    "¿Qué está haciendo Flask? Está mapeando la URL \"/\", con la función \"home()\", por lo que\n",
    "cada vez que se acceda a la URL \"/\", es decir, sin ninguna ruta extra, llamará a la función\n",
    "\"home()\" y devolverá su output, que en este caso es un texto HTML, pero podría ser un\n",
    "JSON con otros datos.\n",
    "El proceso de mapear URLs a funciones se denomina routing.\n",
    "```python\n",
    "@app.route('/', methods=['GET'])\n",
    "```\n",
    "Utiliza como methods, el GET, que es la acción HTTP para que el servidor devuelva datos\n",
    "al usuario. Se suele combinar mucho con POST, para recibir datos del usuario.\n",
    "```python\n",
    "app.config[\"DEBUG\"] = True\n",
    "```\n",
    "Se utiliza para que salten los errores en la página y podamos ver bien qué es. Si no, pondría\n",
    "un \"Bad Gateway\"."
   ]
  },
  {
   "cell_type": "markdown",
   "metadata": {},
   "source": [
    "## 2. API con datos\n",
    "Como el propósito de este taller es montar una API con la que podamos acceder a una base\n",
    "de datos de libros, comenzaremos creando algunos datos sintéticos, así como un enrutado\n",
    "a los mismos:\n",
    "1. Importa:"
   ]
  },
  {
   "cell_type": "code",
   "execution_count": null,
   "metadata": {},
   "outputs": [],
   "source": [
    "from flask import request, jsonify"
   ]
  },
  {
   "cell_type": "markdown",
   "metadata": {},
   "source": [
    "2. Declara una lista con varios diccionarios. Éstos serán los datos que devolverá la API"
   ]
  },
  {
   "cell_type": "code",
   "execution_count": null,
   "metadata": {},
   "outputs": [],
   "source": [
    "books = [\n",
    "    {'id': 0,\n",
    "     'title': 'A Fire Upon the Deep',\n",
    "     'author': 'Vernor Vinge',\n",
    "     'first_sentence': 'The coldsleep itself was dreamless.',\n",
    "     'year_published': '1992'},\n",
    "    {'id': 1,\n",
    "     'title': 'The Ones Who Walk Away From Omelas',\n",
    "     'author': 'Ursula K. Le Guin',\n",
    "     'first_sentence': 'With a clamor of bells that set the swallows soaring, the Festival of Summer came to the city Omelas, bright-towered by the sea.',\n",
    "     'published': '1973'},\n",
    "    {'id': 2,\n",
    "     'title': 'Dhalgren',\n",
    "     'author': 'Samuel R. Delany',\n",
    "     'first_sentence': 'to wound the autumnal city.',\n",
    "     'published': '1975'},\n",
    "    {'id': 3,\n",
    "     'title': 'The Chain',\n",
    "     'author': 'Jaime G. Páramo',\n",
    "     'first_sentence': 'There were tears on her eyes and fears trapped her mind but, inside, the courage of those who have nothing to lose and all to win, flown wild and free.',\n",
    "     'published': '2025'}\n",
    "]"
   ]
  },
  {
   "cell_type": "markdown",
   "metadata": {},
   "source": [
    "3. Añade la ruta y función para acceder a estos datos"
   ]
  },
  {
   "cell_type": "code",
   "execution_count": null,
   "metadata": {},
   "outputs": [],
   "source": [
    "@app.route('/api/v1/resources/books/all', methods=['GET'])\n",
    "def api_all():\n",
    "    return jsonify(books)"
   ]
  },
  {
   "cell_type": "markdown",
   "metadata": {},
   "source": [
    "4. Corre la aplicación y accede a\n",
    "http://127.0.0.1:5000/api/v1/resources/books/all\n",
    "Verás que la API devuelve un JSON, que es el formato de datos más común para\n",
    "comunicaciones web. Este json lo creamos a partir de la lista de diccionarios, gracias\n",
    "a la función \"jsonify()\", de flask.\n",
    "De momento nuestro programa tiene un punto de acceso y devuelve todos los libros de\n",
    "nuestra \"base de datos\"."
   ]
  },
  {
   "cell_type": "markdown",
   "metadata": {},
   "source": [
    "## 3. API para búsqueda de datos\n",
    "Hasta el momento hemos creado un endpoint y una ruta de acceso a todos los datos. Para\n",
    "este apartado implementaremos en la API una búsqueda de objetos por ID:\n",
    "1. Añade la siguiente función para buscar por ID. Comprueba en los argumentos de la\n",
    "petición si existe ID. De ser así, buscamos en la base de datos con ese ID, y en caso\n",
    "contrario, devolvemos un mensaje de error."
   ]
  },
  {
   "cell_type": "code",
   "execution_count": null,
   "metadata": {},
   "outputs": [],
   "source": [
    "@app.route('/api/v1/resources/book', methods = ['GET'])\n",
    "def api_id():\n",
    "    if 'id' in request.args:\n",
    "        id = int(request.args['id'])\n",
    "    else:\n",
    "        return \"Error: No id field provided. Please specify an id.\"\n",
    "    results = []\n",
    "    for book in books:\n",
    "        if book['id'] == id:\n",
    "            results.append(book)\n",
    "    return jsonify(results)"
   ]
  },
  {
   "cell_type": "markdown",
   "metadata": {},
   "source": [
    "Accede a las siguientes URLs para comprobar su funcionamiento:\n",
    "127.0.0.1:5000/api/v1/resources/books?id=0\n",
    "127.0.0.1:5000/api/v1/resources/books?id=1\n",
    "127.0.0.1:5000/api/v1/resources/books?id=2\n",
    "127.0.0.1:5000/api/v1/resources/books?id=3\n",
    "Todo lo que va después del \"?\", se denominan query parameters, empleados para\n",
    "filtrar un tipo de datos concreto.\n",
    "En este punto tenemos creado un nuevo enrutado:\n",
    "\"/api/v1/resources/books\", que llamará a la función \"api_id()\", cada vez\n",
    "que se acceda a esa ruta.\n",
    "Otra manera de acceder a los datos es con el argumento en la propia URL. Como en el\n",
    "siguiente ejemplo donde vamos a buscar por título:"
   ]
  },
  {
   "cell_type": "code",
   "execution_count": null,
   "metadata": {},
   "outputs": [],
   "source": [
    "@app.route('/api/v1/resources/book/<string:title>', methods=['GET'])\n",
    "def get_by_title(title):\n",
    "    for book in books:\n",
    "        if book['title'] == title:\n",
    "            return jsonify(book)\n",
    "    return jsonify({'message': \"Book not found\"})"
   ]
  },
  {
   "cell_type": "markdown",
   "metadata": {},
   "source": [
    "O también con los argumentos en el propio cuerpo de la petición HTTP. Fíjate que se ha\n",
    "cambiado la version del enrutado, para no confundir con los anteriores."
   ]
  },
  {
   "cell_type": "code",
   "execution_count": null,
   "metadata": {},
   "outputs": [],
   "source": [
    "@app.route('/api/v2/resources/books', methods=['GET'])\n",
    "def get_by_id():\n",
    "    id = int(request.get_json()['id'])\n",
    "    for book in books:\n",
    "        if book['id'] == id:\n",
    "            return jsonify(book)\n",
    "    return jsonify({'message': \"Book not found\"})"
   ]
  },
  {
   "cell_type": "markdown",
   "metadata": {},
   "source": [
    "Si quisiésemos subir a la BD algún libro, realizaremos un POST:"
   ]
  },
  {
   "cell_type": "code",
   "execution_count": null,
   "metadata": {},
   "outputs": [],
   "source": [
    "@app.route('/api/v1/resources/book', methods=['POST'])\n",
    "def post_book():\n",
    "    data = request.get_json()\n",
    "    books.append(data)\n",
    "    return data"
   ]
  },
  {
   "cell_type": "markdown",
   "metadata": {},
   "source": [
    "## 4. API con BD SQL\n",
    "Finalmente crearemos una API que sea capaz de manejar errores de consulta a la base de\n",
    "datos, descargarse todos los libros y filtrarlos por fecha de publicación. La BD se puede\n",
    "descargar desde este enlace. Utilizaremos el siguiente código:"
   ]
  },
  {
   "cell_type": "code",
   "execution_count": null,
   "metadata": {},
   "outputs": [],
   "source": [
    "from flask import Flask, request\n",
    "import sqlite3\n",
    "app = Flask(__name__)\n",
    "app.config[\"DEBUG\"] = True\n",
    "@app.route('/api/v1/resources/books/all', methods=['GET'])\n",
    "def get_all():\n",
    "    connection = sqlite3.connect('books.db')\n",
    "    cursor = connection.cursor()\n",
    "    select_books = \"SELECT * FROM books\"\n",
    "    result = cursor.execute(select_books).fetchall()\n",
    "    connection.close()\n",
    "    return {'books': result}\n",
    "\n",
    "@app.route('/api/v1/resources/book/<string:author>', methods=['GET'])\n",
    "def get_by_author(author):\n",
    "    connection = sqlite3.connect('books.db')\n",
    "    cursor = connection.cursor()\n",
    "    select_books = \"SELECT * FROM books WHERE author=?\"\n",
    "    result = cursor.execute(select_books, (author,)).fetchall()\n",
    "    connection.close()\n",
    "    return {'books': result}\n",
    "@app.route('/api/v1/resources/book/filter', methods=['GET'])\n",
    "def filter_table():\n",
    "    query_parameters = request.get_json()\n",
    "    id = query_parameters.get('id')\n",
    "    published = query_parameters.get('published')\n",
    "    author = query_parameters.get('author')\n",
    "    connection = sqlite3.connect('books.db')\n",
    "    cursor = connection.cursor()\n",
    "    query = \"SELECT * FROM books WHERE\"\n",
    "    to_filter = []\n",
    "    if id:\n",
    "        query += ' id=? AND'\n",
    "        to_filter.append(id)\n",
    "    if published:\n",
    "        query += ' published=? AND'\n",
    "        to_filter.append(published)\n",
    "    if author:\n",
    "        query += ' author=? AND'\n",
    "        to_filter.append(author)\n",
    "    if not (id or published or author):\n",
    "        return \"page not found 404\"\n",
    "    query = query[:-4] + ';\"\n",
    "    result = cursor.execute(query, to_filter).fetchall()\n",
    "    connection.close()\n",
    "    return {'books': result}\n",
    "app.run()"
   ]
  },
  {
   "cell_type": "markdown",
   "metadata": {},
   "source": [
    "Prueba las siguientes URLs:\n",
    "http://127.0.0.1:5000/api/v1/resources/books/all\n",
    "http://127.0.0.1:5000/api/v1/resources/book/Connie%20Willis\n",
    "La BD tiene 67 entradas, con libros ganadores del premio Hugo entre 1953 y 2014. Incluye\n",
    "nombres de las novelas, autor, id, año de publicación y primera frase.\n",
    "La función \"dict_factory()\" permite devolver los objetos de la BD como diccionarios, y no\n",
    "como listas."
   ]
  },
  {
   "cell_type": "markdown",
   "metadata": {},
   "source": [
    "## 5. Material extra\n",
    "Si quieres seguir formándote con Flask, estos recursos te pueden ayudar:\n",
    "Tutorial completo y nivel avanzado\n",
    "https://blog.miguelgrinberg.com/post/the-flask-mega-tutorial-part-i-hello-world\n",
    "Curso con videos de Oreilly\n",
    "https://learning.oreilly.com/videos/rest-apis-with/9781788621526/\n",
    "Flask Web Development - Oreilly\n",
    "https://learning.oreilly.com/library/view/flask-web-development/9781491991725/"
   ]
  }
 ],
 "metadata": {
  "kernelspec": {
   "display_name": "Python 3",
   "language": "python",
   "name": "python3"
  },
  "language_info": {
   "codemirror_mode": {
    "name": "ipython",
    "version": 3
   },
   "file_extension": ".py",
   "mimetype": "text/x-python",
   "name": "python",
   "nbconvert_exporter": "python",
   "pygments_lexer": "ipython3",
   "version": "3.8.5"
  }
 },
 "nbformat": 4,
 "nbformat_minor": 4
}
