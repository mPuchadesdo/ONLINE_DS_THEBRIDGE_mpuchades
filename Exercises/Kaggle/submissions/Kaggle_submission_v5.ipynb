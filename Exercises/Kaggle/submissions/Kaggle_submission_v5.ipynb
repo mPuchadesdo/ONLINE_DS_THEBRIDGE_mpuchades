{
 "cells": [
  {
   "cell_type": "markdown",
   "metadata": {},
   "source": [
    "## Kaggle – DataTops®\n",
    "Luismi ha decidido cambiar de aires y, por eso, ha comprado una tienda de portátiles. Sin embargo, su única especialidad es Data Science, por lo que ha decidido crear un modelo de ML para establecer los mejores precios.\n",
    "\n",
    "¿Podrías ayudar a Luismi a mejorar ese modelo?"
   ]
  },
  {
   "cell_type": "markdown",
   "metadata": {},
   "source": [
    "## Métrica: \n",
    "Error de raíz cuadrada media (RMSE) es la desviación estándar de los valores residuales (errores de predicción). Los valores residuales son una medida de la distancia de los puntos de datos de la línea de regresión; RMSE es una medida de cuál es el nivel de dispersión de estos valores residuales. En otras palabras, le indica el nivel de concentración de los datos en la línea de mejor ajuste.\n",
    "\n",
    "\n",
    "$$ RMSE = \\sqrt{\\frac{1}{n}\\Sigma_{i=1}^{n}{\\Big(\\frac{d_i -f_i}{\\sigma_i}\\Big)^2}}$$\n"
   ]
  },
  {
   "cell_type": "markdown",
   "metadata": {},
   "source": [
    "## Librerías"
   ]
  },
  {
   "cell_type": "code",
   "execution_count": 1,
   "metadata": {},
   "outputs": [],
   "source": [
    "import numpy as np\n",
    "import pandas as pd\n",
    "import toolbox_ML as tb\n",
    "import bootcampviztools as bt\n",
    "\n",
    "from PIL import Image\n",
    "from sklearn.preprocessing import OrdinalEncoder, OneHotEncoder\n",
    "from sklearn.model_selection import train_test_split, cross_val_score, GridSearchCV\n",
    "from sklearn.metrics import mean_squared_error\n",
    "from sklearn.ensemble import RandomForestRegressor\n",
    "from lightgbm import LGBMRegressor\n",
    "from xgboost import XGBRFRegressor\n",
    "from catboost import CatBoostRegressor\n",
    "import urllib.request"
   ]
  },
  {
   "cell_type": "markdown",
   "metadata": {},
   "source": [
    "## Datos"
   ]
  },
  {
   "cell_type": "code",
   "execution_count": 2,
   "metadata": {},
   "outputs": [],
   "source": [
    "# Para que funcione necesitas bajarte los archivos de datos de Kaggle \n",
    "df = pd.read_csv(\"./data/train.csv\", index_col = 0)\n",
    "df.index.name = None"
   ]
  },
  {
   "cell_type": "code",
   "execution_count": 3,
   "metadata": {},
   "outputs": [],
   "source": [
    "df_bck_up = df.copy()"
   ]
  },
  {
   "cell_type": "markdown",
   "metadata": {},
   "source": [
    "## Exploración de los datos"
   ]
  },
  {
   "cell_type": "code",
   "execution_count": 4,
   "metadata": {},
   "outputs": [
    {
     "name": "stdout",
     "output_type": "stream",
     "text": [
      "<class 'pandas.core.frame.DataFrame'>\n",
      "Index: 912 entries, 755 to 229\n",
      "Data columns (total 12 columns):\n",
      " #   Column            Non-Null Count  Dtype  \n",
      "---  ------            --------------  -----  \n",
      " 0   Company           912 non-null    object \n",
      " 1   Product           912 non-null    object \n",
      " 2   TypeName          912 non-null    object \n",
      " 3   Inches            912 non-null    float64\n",
      " 4   ScreenResolution  912 non-null    object \n",
      " 5   Cpu               912 non-null    object \n",
      " 6   Ram               912 non-null    object \n",
      " 7   Memory            912 non-null    object \n",
      " 8   Gpu               912 non-null    object \n",
      " 9   OpSys             912 non-null    object \n",
      " 10  Weight            912 non-null    object \n",
      " 11  Price_in_euros    912 non-null    float64\n",
      "dtypes: float64(2), object(10)\n",
      "memory usage: 92.6+ KB\n"
     ]
    }
   ],
   "source": [
    "df.info()"
   ]
  },
  {
   "cell_type": "code",
   "execution_count": 5,
   "metadata": {},
   "outputs": [
    {
     "data": {
      "text/plain": [
       "Company             0\n",
       "Product             0\n",
       "TypeName            0\n",
       "Inches              0\n",
       "ScreenResolution    0\n",
       "Cpu                 0\n",
       "Ram                 0\n",
       "Memory              0\n",
       "Gpu                 0\n",
       "OpSys               0\n",
       "Weight              0\n",
       "Price_in_euros      0\n",
       "dtype: int64"
      ]
     },
     "execution_count": 5,
     "metadata": {},
     "output_type": "execute_result"
    }
   ],
   "source": [
    "df.isna().sum()"
   ]
  },
  {
   "cell_type": "code",
   "execution_count": 6,
   "metadata": {},
   "outputs": [
    {
     "data": {
      "text/html": [
       "<div>\n",
       "<style scoped>\n",
       "    .dataframe tbody tr th:only-of-type {\n",
       "        vertical-align: middle;\n",
       "    }\n",
       "\n",
       "    .dataframe tbody tr th {\n",
       "        vertical-align: top;\n",
       "    }\n",
       "\n",
       "    .dataframe thead th {\n",
       "        text-align: right;\n",
       "    }\n",
       "</style>\n",
       "<table border=\"1\" class=\"dataframe\">\n",
       "  <thead>\n",
       "    <tr style=\"text-align: right;\">\n",
       "      <th></th>\n",
       "      <th>Company</th>\n",
       "      <th>Product</th>\n",
       "      <th>TypeName</th>\n",
       "      <th>Inches</th>\n",
       "      <th>ScreenResolution</th>\n",
       "      <th>Cpu</th>\n",
       "      <th>Ram</th>\n",
       "      <th>Memory</th>\n",
       "      <th>Gpu</th>\n",
       "      <th>OpSys</th>\n",
       "      <th>Weight</th>\n",
       "      <th>Price_in_euros</th>\n",
       "    </tr>\n",
       "  </thead>\n",
       "  <tbody>\n",
       "    <tr>\n",
       "      <th>755</th>\n",
       "      <td>HP</td>\n",
       "      <td>250 G6</td>\n",
       "      <td>Notebook</td>\n",
       "      <td>15.6</td>\n",
       "      <td>Full HD 1920x1080</td>\n",
       "      <td>Intel Core i3 6006U 2GHz</td>\n",
       "      <td>8GB</td>\n",
       "      <td>256GB SSD</td>\n",
       "      <td>Intel HD Graphics 520</td>\n",
       "      <td>Windows 10</td>\n",
       "      <td>1.86kg</td>\n",
       "      <td>539.00</td>\n",
       "    </tr>\n",
       "    <tr>\n",
       "      <th>618</th>\n",
       "      <td>Dell</td>\n",
       "      <td>Inspiron 7559</td>\n",
       "      <td>Gaming</td>\n",
       "      <td>15.6</td>\n",
       "      <td>Full HD 1920x1080</td>\n",
       "      <td>Intel Core i7 6700HQ 2.6GHz</td>\n",
       "      <td>16GB</td>\n",
       "      <td>1TB HDD</td>\n",
       "      <td>Nvidia GeForce GTX 960&lt;U+039C&gt;</td>\n",
       "      <td>Windows 10</td>\n",
       "      <td>2.59kg</td>\n",
       "      <td>879.01</td>\n",
       "    </tr>\n",
       "    <tr>\n",
       "      <th>909</th>\n",
       "      <td>HP</td>\n",
       "      <td>ProBook 450</td>\n",
       "      <td>Notebook</td>\n",
       "      <td>15.6</td>\n",
       "      <td>Full HD 1920x1080</td>\n",
       "      <td>Intel Core i7 7500U 2.7GHz</td>\n",
       "      <td>8GB</td>\n",
       "      <td>1TB HDD</td>\n",
       "      <td>Nvidia GeForce 930MX</td>\n",
       "      <td>Windows 10</td>\n",
       "      <td>2.04kg</td>\n",
       "      <td>900.00</td>\n",
       "    </tr>\n",
       "    <tr>\n",
       "      <th>2</th>\n",
       "      <td>Apple</td>\n",
       "      <td>Macbook Air</td>\n",
       "      <td>Ultrabook</td>\n",
       "      <td>13.3</td>\n",
       "      <td>1440x900</td>\n",
       "      <td>Intel Core i5 1.8GHz</td>\n",
       "      <td>8GB</td>\n",
       "      <td>128GB Flash Storage</td>\n",
       "      <td>Intel HD Graphics 6000</td>\n",
       "      <td>macOS</td>\n",
       "      <td>1.34kg</td>\n",
       "      <td>898.94</td>\n",
       "    </tr>\n",
       "    <tr>\n",
       "      <th>286</th>\n",
       "      <td>Dell</td>\n",
       "      <td>Inspiron 3567</td>\n",
       "      <td>Notebook</td>\n",
       "      <td>15.6</td>\n",
       "      <td>Full HD 1920x1080</td>\n",
       "      <td>Intel Core i3 6006U 2.0GHz</td>\n",
       "      <td>4GB</td>\n",
       "      <td>1TB HDD</td>\n",
       "      <td>AMD Radeon R5 M430</td>\n",
       "      <td>Linux</td>\n",
       "      <td>2.25kg</td>\n",
       "      <td>428.00</td>\n",
       "    </tr>\n",
       "  </tbody>\n",
       "</table>\n",
       "</div>"
      ],
      "text/plain": [
       "    Company        Product   TypeName  Inches   ScreenResolution  \\\n",
       "755      HP         250 G6   Notebook    15.6  Full HD 1920x1080   \n",
       "618    Dell  Inspiron 7559     Gaming    15.6  Full HD 1920x1080   \n",
       "909      HP    ProBook 450   Notebook    15.6  Full HD 1920x1080   \n",
       "2     Apple    Macbook Air  Ultrabook    13.3           1440x900   \n",
       "286    Dell  Inspiron 3567   Notebook    15.6  Full HD 1920x1080   \n",
       "\n",
       "                             Cpu   Ram               Memory  \\\n",
       "755     Intel Core i3 6006U 2GHz   8GB            256GB SSD   \n",
       "618  Intel Core i7 6700HQ 2.6GHz  16GB              1TB HDD   \n",
       "909   Intel Core i7 7500U 2.7GHz   8GB              1TB HDD   \n",
       "2           Intel Core i5 1.8GHz   8GB  128GB Flash Storage   \n",
       "286   Intel Core i3 6006U 2.0GHz   4GB              1TB HDD   \n",
       "\n",
       "                                Gpu       OpSys  Weight  Price_in_euros  \n",
       "755           Intel HD Graphics 520  Windows 10  1.86kg          539.00  \n",
       "618  Nvidia GeForce GTX 960<U+039C>  Windows 10  2.59kg          879.01  \n",
       "909            Nvidia GeForce 930MX  Windows 10  2.04kg          900.00  \n",
       "2            Intel HD Graphics 6000       macOS  1.34kg          898.94  \n",
       "286              AMD Radeon R5 M430       Linux  2.25kg          428.00  "
      ]
     },
     "execution_count": 6,
     "metadata": {},
     "output_type": "execute_result"
    }
   ],
   "source": [
    "df.head()"
   ]
  },
  {
   "cell_type": "code",
   "execution_count": 7,
   "metadata": {},
   "outputs": [
    {
     "data": {
      "text/html": [
       "<div>\n",
       "<style scoped>\n",
       "    .dataframe tbody tr th:only-of-type {\n",
       "        vertical-align: middle;\n",
       "    }\n",
       "\n",
       "    .dataframe tbody tr th {\n",
       "        vertical-align: top;\n",
       "    }\n",
       "\n",
       "    .dataframe thead th {\n",
       "        text-align: right;\n",
       "    }\n",
       "</style>\n",
       "<table border=\"1\" class=\"dataframe\">\n",
       "  <thead>\n",
       "    <tr style=\"text-align: right;\">\n",
       "      <th></th>\n",
       "      <th>Company</th>\n",
       "      <th>Product</th>\n",
       "      <th>TypeName</th>\n",
       "      <th>Inches</th>\n",
       "      <th>ScreenResolution</th>\n",
       "      <th>Cpu</th>\n",
       "      <th>Ram</th>\n",
       "      <th>Memory</th>\n",
       "      <th>Gpu</th>\n",
       "      <th>OpSys</th>\n",
       "      <th>Weight</th>\n",
       "      <th>Price_in_euros</th>\n",
       "    </tr>\n",
       "  </thead>\n",
       "  <tbody>\n",
       "    <tr>\n",
       "      <th>28</th>\n",
       "      <td>Dell</td>\n",
       "      <td>Inspiron 5570</td>\n",
       "      <td>Notebook</td>\n",
       "      <td>15.6</td>\n",
       "      <td>Full HD 1920x1080</td>\n",
       "      <td>Intel Core i5 8250U 1.6GHz</td>\n",
       "      <td>8GB</td>\n",
       "      <td>256GB SSD</td>\n",
       "      <td>AMD Radeon 530</td>\n",
       "      <td>Windows 10</td>\n",
       "      <td>2.2kg</td>\n",
       "      <td>800.00</td>\n",
       "    </tr>\n",
       "    <tr>\n",
       "      <th>1160</th>\n",
       "      <td>HP</td>\n",
       "      <td>Spectre Pro</td>\n",
       "      <td>2 in 1 Convertible</td>\n",
       "      <td>13.3</td>\n",
       "      <td>Full HD / Touchscreen 1920x1080</td>\n",
       "      <td>Intel Core i5 6300U 2.4GHz</td>\n",
       "      <td>8GB</td>\n",
       "      <td>256GB SSD</td>\n",
       "      <td>Intel HD Graphics 520</td>\n",
       "      <td>Windows 10</td>\n",
       "      <td>1.48kg</td>\n",
       "      <td>1629.00</td>\n",
       "    </tr>\n",
       "    <tr>\n",
       "      <th>78</th>\n",
       "      <td>Lenovo</td>\n",
       "      <td>IdeaPad 320-15IKBN</td>\n",
       "      <td>Notebook</td>\n",
       "      <td>15.6</td>\n",
       "      <td>Full HD 1920x1080</td>\n",
       "      <td>Intel Core i5 7200U 2.5GHz</td>\n",
       "      <td>8GB</td>\n",
       "      <td>2TB HDD</td>\n",
       "      <td>Intel HD Graphics 620</td>\n",
       "      <td>No OS</td>\n",
       "      <td>2.2kg</td>\n",
       "      <td>519.00</td>\n",
       "    </tr>\n",
       "    <tr>\n",
       "      <th>23</th>\n",
       "      <td>HP</td>\n",
       "      <td>255 G6</td>\n",
       "      <td>Notebook</td>\n",
       "      <td>15.6</td>\n",
       "      <td>1366x768</td>\n",
       "      <td>AMD E-Series E2-9000e 1.5GHz</td>\n",
       "      <td>4GB</td>\n",
       "      <td>500GB HDD</td>\n",
       "      <td>AMD Radeon R2</td>\n",
       "      <td>No OS</td>\n",
       "      <td>1.86kg</td>\n",
       "      <td>258.00</td>\n",
       "    </tr>\n",
       "    <tr>\n",
       "      <th>229</th>\n",
       "      <td>Dell</td>\n",
       "      <td>Alienware 17</td>\n",
       "      <td>Gaming</td>\n",
       "      <td>17.3</td>\n",
       "      <td>IPS Panel Full HD 1920x1080</td>\n",
       "      <td>Intel Core i7 7700HQ 2.8GHz</td>\n",
       "      <td>16GB</td>\n",
       "      <td>256GB SSD +  1TB HDD</td>\n",
       "      <td>Nvidia GeForce GTX 1060</td>\n",
       "      <td>Windows 10</td>\n",
       "      <td>4.42kg</td>\n",
       "      <td>2456.34</td>\n",
       "    </tr>\n",
       "  </tbody>\n",
       "</table>\n",
       "</div>"
      ],
      "text/plain": [
       "     Company             Product            TypeName  Inches  \\\n",
       "28      Dell       Inspiron 5570            Notebook    15.6   \n",
       "1160      HP         Spectre Pro  2 in 1 Convertible    13.3   \n",
       "78    Lenovo  IdeaPad 320-15IKBN            Notebook    15.6   \n",
       "23        HP              255 G6            Notebook    15.6   \n",
       "229     Dell        Alienware 17              Gaming    17.3   \n",
       "\n",
       "                     ScreenResolution                           Cpu   Ram  \\\n",
       "28                  Full HD 1920x1080    Intel Core i5 8250U 1.6GHz   8GB   \n",
       "1160  Full HD / Touchscreen 1920x1080    Intel Core i5 6300U 2.4GHz   8GB   \n",
       "78                  Full HD 1920x1080    Intel Core i5 7200U 2.5GHz   8GB   \n",
       "23                           1366x768  AMD E-Series E2-9000e 1.5GHz   4GB   \n",
       "229       IPS Panel Full HD 1920x1080   Intel Core i7 7700HQ 2.8GHz  16GB   \n",
       "\n",
       "                    Memory                      Gpu       OpSys  Weight  \\\n",
       "28               256GB SSD           AMD Radeon 530  Windows 10   2.2kg   \n",
       "1160             256GB SSD    Intel HD Graphics 520  Windows 10  1.48kg   \n",
       "78                 2TB HDD    Intel HD Graphics 620       No OS   2.2kg   \n",
       "23               500GB HDD            AMD Radeon R2       No OS  1.86kg   \n",
       "229   256GB SSD +  1TB HDD  Nvidia GeForce GTX 1060  Windows 10  4.42kg   \n",
       "\n",
       "      Price_in_euros  \n",
       "28            800.00  \n",
       "1160         1629.00  \n",
       "78            519.00  \n",
       "23            258.00  \n",
       "229          2456.34  "
      ]
     },
     "execution_count": 7,
     "metadata": {},
     "output_type": "execute_result"
    }
   ],
   "source": [
    "df.tail()"
   ]
  },
  {
   "cell_type": "code",
   "execution_count": 8,
   "metadata": {},
   "outputs": [
    {
     "data": {
      "text/html": [
       "<div>\n",
       "<style scoped>\n",
       "    .dataframe tbody tr th:only-of-type {\n",
       "        vertical-align: middle;\n",
       "    }\n",
       "\n",
       "    .dataframe tbody tr th {\n",
       "        vertical-align: top;\n",
       "    }\n",
       "\n",
       "    .dataframe thead th {\n",
       "        text-align: right;\n",
       "    }\n",
       "</style>\n",
       "<table border=\"1\" class=\"dataframe\">\n",
       "  <thead>\n",
       "    <tr style=\"text-align: right;\">\n",
       "      <th></th>\n",
       "      <th>DATA_TYPE</th>\n",
       "      <th>MISSINGS (%)</th>\n",
       "      <th>UNIQUE_VALUES</th>\n",
       "      <th>CARDIN (%)</th>\n",
       "    </tr>\n",
       "  </thead>\n",
       "  <tbody>\n",
       "    <tr>\n",
       "      <th>Company</th>\n",
       "      <td>object</td>\n",
       "      <td>0</td>\n",
       "      <td>19</td>\n",
       "      <td>2.08</td>\n",
       "    </tr>\n",
       "    <tr>\n",
       "      <th>Product</th>\n",
       "      <td>object</td>\n",
       "      <td>0</td>\n",
       "      <td>480</td>\n",
       "      <td>52.63</td>\n",
       "    </tr>\n",
       "    <tr>\n",
       "      <th>TypeName</th>\n",
       "      <td>object</td>\n",
       "      <td>0</td>\n",
       "      <td>6</td>\n",
       "      <td>0.66</td>\n",
       "    </tr>\n",
       "    <tr>\n",
       "      <th>Inches</th>\n",
       "      <td>float64</td>\n",
       "      <td>0</td>\n",
       "      <td>17</td>\n",
       "      <td>1.86</td>\n",
       "    </tr>\n",
       "    <tr>\n",
       "      <th>ScreenResolution</th>\n",
       "      <td>object</td>\n",
       "      <td>0</td>\n",
       "      <td>36</td>\n",
       "      <td>3.95</td>\n",
       "    </tr>\n",
       "    <tr>\n",
       "      <th>Cpu</th>\n",
       "      <td>object</td>\n",
       "      <td>0</td>\n",
       "      <td>107</td>\n",
       "      <td>11.73</td>\n",
       "    </tr>\n",
       "    <tr>\n",
       "      <th>Ram</th>\n",
       "      <td>object</td>\n",
       "      <td>0</td>\n",
       "      <td>9</td>\n",
       "      <td>0.99</td>\n",
       "    </tr>\n",
       "    <tr>\n",
       "      <th>Memory</th>\n",
       "      <td>object</td>\n",
       "      <td>0</td>\n",
       "      <td>37</td>\n",
       "      <td>4.06</td>\n",
       "    </tr>\n",
       "    <tr>\n",
       "      <th>Gpu</th>\n",
       "      <td>object</td>\n",
       "      <td>0</td>\n",
       "      <td>93</td>\n",
       "      <td>10.2</td>\n",
       "    </tr>\n",
       "    <tr>\n",
       "      <th>OpSys</th>\n",
       "      <td>object</td>\n",
       "      <td>0</td>\n",
       "      <td>9</td>\n",
       "      <td>0.99</td>\n",
       "    </tr>\n",
       "    <tr>\n",
       "      <th>Weight</th>\n",
       "      <td>object</td>\n",
       "      <td>0</td>\n",
       "      <td>165</td>\n",
       "      <td>18.09</td>\n",
       "    </tr>\n",
       "    <tr>\n",
       "      <th>Price_in_euros</th>\n",
       "      <td>float64</td>\n",
       "      <td>0</td>\n",
       "      <td>603</td>\n",
       "      <td>66.12</td>\n",
       "    </tr>\n",
       "  </tbody>\n",
       "</table>\n",
       "</div>"
      ],
      "text/plain": [
       "                 DATA_TYPE MISSINGS (%) UNIQUE_VALUES CARDIN (%)\n",
       "Company             object            0            19       2.08\n",
       "Product             object            0           480      52.63\n",
       "TypeName            object            0             6       0.66\n",
       "Inches             float64            0            17       1.86\n",
       "ScreenResolution    object            0            36       3.95\n",
       "Cpu                 object            0           107      11.73\n",
       "Ram                 object            0             9       0.99\n",
       "Memory              object            0            37       4.06\n",
       "Gpu                 object            0            93       10.2\n",
       "OpSys               object            0             9       0.99\n",
       "Weight              object            0           165      18.09\n",
       "Price_in_euros     float64            0           603      66.12"
      ]
     },
     "execution_count": 8,
     "metadata": {},
     "output_type": "execute_result"
    }
   ],
   "source": [
    "tb.describe_df(df)"
   ]
  },
  {
   "cell_type": "code",
   "execution_count": 9,
   "metadata": {},
   "outputs": [
    {
     "data": {
      "text/html": [
       "<div>\n",
       "<style scoped>\n",
       "    .dataframe tbody tr th:only-of-type {\n",
       "        vertical-align: middle;\n",
       "    }\n",
       "\n",
       "    .dataframe tbody tr th {\n",
       "        vertical-align: top;\n",
       "    }\n",
       "\n",
       "    .dataframe thead th {\n",
       "        text-align: right;\n",
       "    }\n",
       "</style>\n",
       "<table border=\"1\" class=\"dataframe\">\n",
       "  <thead>\n",
       "    <tr style=\"text-align: right;\">\n",
       "      <th></th>\n",
       "      <th>variable</th>\n",
       "      <th>tipo</th>\n",
       "    </tr>\n",
       "  </thead>\n",
       "  <tbody>\n",
       "    <tr>\n",
       "      <th>0</th>\n",
       "      <td>Company</td>\n",
       "      <td>Numérica Discreta</td>\n",
       "    </tr>\n",
       "    <tr>\n",
       "      <th>1</th>\n",
       "      <td>Product</td>\n",
       "      <td>Numérica Continua</td>\n",
       "    </tr>\n",
       "    <tr>\n",
       "      <th>2</th>\n",
       "      <td>TypeName</td>\n",
       "      <td>Categórica</td>\n",
       "    </tr>\n",
       "    <tr>\n",
       "      <th>3</th>\n",
       "      <td>Inches</td>\n",
       "      <td>Numérica Discreta</td>\n",
       "    </tr>\n",
       "    <tr>\n",
       "      <th>4</th>\n",
       "      <td>ScreenResolution</td>\n",
       "      <td>Numérica Discreta</td>\n",
       "    </tr>\n",
       "    <tr>\n",
       "      <th>5</th>\n",
       "      <td>Cpu</td>\n",
       "      <td>Numérica Discreta</td>\n",
       "    </tr>\n",
       "    <tr>\n",
       "      <th>6</th>\n",
       "      <td>Ram</td>\n",
       "      <td>Categórica</td>\n",
       "    </tr>\n",
       "    <tr>\n",
       "      <th>7</th>\n",
       "      <td>Memory</td>\n",
       "      <td>Numérica Discreta</td>\n",
       "    </tr>\n",
       "    <tr>\n",
       "      <th>8</th>\n",
       "      <td>Gpu</td>\n",
       "      <td>Numérica Discreta</td>\n",
       "    </tr>\n",
       "    <tr>\n",
       "      <th>9</th>\n",
       "      <td>OpSys</td>\n",
       "      <td>Categórica</td>\n",
       "    </tr>\n",
       "    <tr>\n",
       "      <th>10</th>\n",
       "      <td>Weight</td>\n",
       "      <td>Numérica Continua</td>\n",
       "    </tr>\n",
       "    <tr>\n",
       "      <th>11</th>\n",
       "      <td>Price_in_euros</td>\n",
       "      <td>Numérica Continua</td>\n",
       "    </tr>\n",
       "  </tbody>\n",
       "</table>\n",
       "</div>"
      ],
      "text/plain": [
       "            variable               tipo\n",
       "0            Company  Numérica Discreta\n",
       "1            Product  Numérica Continua\n",
       "2           TypeName         Categórica\n",
       "3             Inches  Numérica Discreta\n",
       "4   ScreenResolution  Numérica Discreta\n",
       "5                Cpu  Numérica Discreta\n",
       "6                Ram         Categórica\n",
       "7             Memory  Numérica Discreta\n",
       "8                Gpu  Numérica Discreta\n",
       "9              OpSys         Categórica\n",
       "10            Weight  Numérica Continua\n",
       "11    Price_in_euros  Numérica Continua"
      ]
     },
     "execution_count": 9,
     "metadata": {},
     "output_type": "execute_result"
    }
   ],
   "source": [
    "tb.tipifica_variables(df)"
   ]
  },
  {
   "cell_type": "markdown",
   "metadata": {},
   "source": [
    "## Procesado de datos"
   ]
  },
  {
   "cell_type": "code",
   "execution_count": 10,
   "metadata": {},
   "outputs": [],
   "source": [
    "target = \"Price_in_euros\""
   ]
  },
  {
   "cell_type": "code",
   "execution_count": 11,
   "metadata": {},
   "outputs": [],
   "source": [
    "df.drop_duplicates(keep = \"first\", inplace = True)"
   ]
  },
  {
   "cell_type": "code",
   "execution_count": 12,
   "metadata": {},
   "outputs": [],
   "source": [
    "df[\"inches\"] = df.Inches.astype(float)\n",
    "df['ram_gb'] = df['Ram'].str.replace('GB', '').astype(int)\n",
    "df[\"weight_kg\"] = df['Weight'].str.replace('kg', '').astype(float)\n",
    "df.drop(columns = [\"Inches\", \"Ram\", \"Weight\"], inplace = True)"
   ]
  },
  {
   "cell_type": "code",
   "execution_count": 13,
   "metadata": {},
   "outputs": [
    {
     "name": "stdout",
     "output_type": "stream",
     "text": [
      "['Company', 'Product', 'TypeName', 'ScreenResolution', 'Cpu', 'Memory', 'Gpu', 'OpSys']\n"
     ]
    }
   ],
   "source": [
    "feat_sel = tb.get_features_cat_regression(df, \"Price_in_euros\")\n",
    "print(feat_sel)"
   ]
  },
  {
   "cell_type": "code",
   "execution_count": 14,
   "metadata": {},
   "outputs": [
    {
     "data": {
      "text/plain": [
       "[]"
      ]
     },
     "execution_count": 14,
     "metadata": {},
     "output_type": "execute_result"
    }
   ],
   "source": [
    "tb.get_features_num_regression(df, \"Price_in_euros\", 0.6)"
   ]
  },
  {
   "cell_type": "code",
   "execution_count": 15,
   "metadata": {},
   "outputs": [],
   "source": [
    "df = pd.get_dummies(df, columns = feat_sel, dtype = int)"
   ]
  },
  {
   "cell_type": "code",
   "execution_count": 16,
   "metadata": {},
   "outputs": [
    {
     "name": "stdout",
     "output_type": "stream",
     "text": [
      "<class 'pandas.core.frame.DataFrame'>\n",
      "Index: 891 entries, 755 to 229\n",
      "Columns: 791 entries, Price_in_euros to OpSys_macOS\n",
      "dtypes: float64(3), int32(788)\n",
      "memory usage: 2.7 MB\n"
     ]
    }
   ],
   "source": [
    "df.info()"
   ]
  },
  {
   "cell_type": "markdown",
   "metadata": {},
   "source": [
    "Nuestro target es la columna `Price_in_euros`"
   ]
  },
  {
   "cell_type": "markdown",
   "metadata": {},
   "source": [
    "-----------------------------------------------------------------------------------------------------------------"
   ]
  },
  {
   "cell_type": "markdown",
   "metadata": {},
   "source": [
    "## Modelado"
   ]
  },
  {
   "cell_type": "markdown",
   "metadata": {},
   "source": [
    "### 1. Definir X e y"
   ]
  },
  {
   "cell_type": "code",
   "execution_count": 17,
   "metadata": {},
   "outputs": [],
   "source": [
    "X = df.drop(columns = [target])\n",
    "y = df[target]"
   ]
  },
  {
   "cell_type": "markdown",
   "metadata": {},
   "source": [
    "### 2. Dividir X_train, X_test, y_train, y_test"
   ]
  },
  {
   "cell_type": "code",
   "execution_count": 18,
   "metadata": {},
   "outputs": [],
   "source": [
    "X_train, X_test, y_train, y_test = train_test_split(X, y, test_size = 0.20, random_state = 42)"
   ]
  },
  {
   "cell_type": "code",
   "execution_count": 19,
   "metadata": {},
   "outputs": [
    {
     "data": {
      "text/html": [
       "<div>\n",
       "<style scoped>\n",
       "    .dataframe tbody tr th:only-of-type {\n",
       "        vertical-align: middle;\n",
       "    }\n",
       "\n",
       "    .dataframe tbody tr th {\n",
       "        vertical-align: top;\n",
       "    }\n",
       "\n",
       "    .dataframe thead th {\n",
       "        text-align: right;\n",
       "    }\n",
       "</style>\n",
       "<table border=\"1\" class=\"dataframe\">\n",
       "  <thead>\n",
       "    <tr style=\"text-align: right;\">\n",
       "      <th></th>\n",
       "      <th>inches</th>\n",
       "      <th>ram_gb</th>\n",
       "      <th>weight_kg</th>\n",
       "      <th>Company_Acer</th>\n",
       "      <th>Company_Apple</th>\n",
       "      <th>Company_Asus</th>\n",
       "      <th>Company_Chuwi</th>\n",
       "      <th>Company_Dell</th>\n",
       "      <th>Company_Fujitsu</th>\n",
       "      <th>Company_Google</th>\n",
       "      <th>...</th>\n",
       "      <th>Gpu_Nvidia Quadro M620M</th>\n",
       "      <th>OpSys_Android</th>\n",
       "      <th>OpSys_Chrome OS</th>\n",
       "      <th>OpSys_Linux</th>\n",
       "      <th>OpSys_Mac OS X</th>\n",
       "      <th>OpSys_No OS</th>\n",
       "      <th>OpSys_Windows 10</th>\n",
       "      <th>OpSys_Windows 10 S</th>\n",
       "      <th>OpSys_Windows 7</th>\n",
       "      <th>OpSys_macOS</th>\n",
       "    </tr>\n",
       "  </thead>\n",
       "  <tbody>\n",
       "    <tr>\n",
       "      <th>112</th>\n",
       "      <td>14.0</td>\n",
       "      <td>8</td>\n",
       "      <td>1.58</td>\n",
       "      <td>0</td>\n",
       "      <td>0</td>\n",
       "      <td>0</td>\n",
       "      <td>0</td>\n",
       "      <td>0</td>\n",
       "      <td>0</td>\n",
       "      <td>0</td>\n",
       "      <td>...</td>\n",
       "      <td>0</td>\n",
       "      <td>0</td>\n",
       "      <td>0</td>\n",
       "      <td>0</td>\n",
       "      <td>0</td>\n",
       "      <td>0</td>\n",
       "      <td>1</td>\n",
       "      <td>0</td>\n",
       "      <td>0</td>\n",
       "      <td>0</td>\n",
       "    </tr>\n",
       "    <tr>\n",
       "      <th>13</th>\n",
       "      <td>15.4</td>\n",
       "      <td>16</td>\n",
       "      <td>1.83</td>\n",
       "      <td>0</td>\n",
       "      <td>1</td>\n",
       "      <td>0</td>\n",
       "      <td>0</td>\n",
       "      <td>0</td>\n",
       "      <td>0</td>\n",
       "      <td>0</td>\n",
       "      <td>...</td>\n",
       "      <td>0</td>\n",
       "      <td>0</td>\n",
       "      <td>0</td>\n",
       "      <td>0</td>\n",
       "      <td>0</td>\n",
       "      <td>0</td>\n",
       "      <td>0</td>\n",
       "      <td>0</td>\n",
       "      <td>0</td>\n",
       "      <td>1</td>\n",
       "    </tr>\n",
       "    <tr>\n",
       "      <th>1190</th>\n",
       "      <td>15.6</td>\n",
       "      <td>4</td>\n",
       "      <td>2.20</td>\n",
       "      <td>0</td>\n",
       "      <td>0</td>\n",
       "      <td>1</td>\n",
       "      <td>0</td>\n",
       "      <td>0</td>\n",
       "      <td>0</td>\n",
       "      <td>0</td>\n",
       "      <td>...</td>\n",
       "      <td>0</td>\n",
       "      <td>0</td>\n",
       "      <td>0</td>\n",
       "      <td>0</td>\n",
       "      <td>0</td>\n",
       "      <td>0</td>\n",
       "      <td>1</td>\n",
       "      <td>0</td>\n",
       "      <td>0</td>\n",
       "      <td>0</td>\n",
       "    </tr>\n",
       "    <tr>\n",
       "      <th>55</th>\n",
       "      <td>15.6</td>\n",
       "      <td>4</td>\n",
       "      <td>2.40</td>\n",
       "      <td>1</td>\n",
       "      <td>0</td>\n",
       "      <td>0</td>\n",
       "      <td>0</td>\n",
       "      <td>0</td>\n",
       "      <td>0</td>\n",
       "      <td>0</td>\n",
       "      <td>...</td>\n",
       "      <td>0</td>\n",
       "      <td>0</td>\n",
       "      <td>0</td>\n",
       "      <td>0</td>\n",
       "      <td>0</td>\n",
       "      <td>0</td>\n",
       "      <td>1</td>\n",
       "      <td>0</td>\n",
       "      <td>0</td>\n",
       "      <td>0</td>\n",
       "    </tr>\n",
       "    <tr>\n",
       "      <th>1043</th>\n",
       "      <td>17.3</td>\n",
       "      <td>8</td>\n",
       "      <td>2.63</td>\n",
       "      <td>0</td>\n",
       "      <td>0</td>\n",
       "      <td>0</td>\n",
       "      <td>0</td>\n",
       "      <td>0</td>\n",
       "      <td>0</td>\n",
       "      <td>0</td>\n",
       "      <td>...</td>\n",
       "      <td>0</td>\n",
       "      <td>0</td>\n",
       "      <td>0</td>\n",
       "      <td>0</td>\n",
       "      <td>0</td>\n",
       "      <td>0</td>\n",
       "      <td>1</td>\n",
       "      <td>0</td>\n",
       "      <td>0</td>\n",
       "      <td>0</td>\n",
       "    </tr>\n",
       "  </tbody>\n",
       "</table>\n",
       "<p>5 rows × 790 columns</p>\n",
       "</div>"
      ],
      "text/plain": [
       "      inches  ram_gb  weight_kg  Company_Acer  Company_Apple  Company_Asus  \\\n",
       "112     14.0       8       1.58             0              0             0   \n",
       "13      15.4      16       1.83             0              1             0   \n",
       "1190    15.6       4       2.20             0              0             1   \n",
       "55      15.6       4       2.40             1              0             0   \n",
       "1043    17.3       8       2.63             0              0             0   \n",
       "\n",
       "      Company_Chuwi  Company_Dell  Company_Fujitsu  Company_Google  ...  \\\n",
       "112               0             0                0               0  ...   \n",
       "13                0             0                0               0  ...   \n",
       "1190              0             0                0               0  ...   \n",
       "55                0             0                0               0  ...   \n",
       "1043              0             0                0               0  ...   \n",
       "\n",
       "      Gpu_Nvidia Quadro M620M  OpSys_Android  OpSys_Chrome OS  OpSys_Linux  \\\n",
       "112                         0              0                0            0   \n",
       "13                          0              0                0            0   \n",
       "1190                        0              0                0            0   \n",
       "55                          0              0                0            0   \n",
       "1043                        0              0                0            0   \n",
       "\n",
       "      OpSys_Mac OS X  OpSys_No OS  OpSys_Windows 10  OpSys_Windows 10 S  \\\n",
       "112                0            0                 1                   0   \n",
       "13                 0            0                 0                   0   \n",
       "1190               0            0                 1                   0   \n",
       "55                 0            0                 1                   0   \n",
       "1043               0            0                 1                   0   \n",
       "\n",
       "      OpSys_Windows 7  OpSys_macOS  \n",
       "112                 0            0  \n",
       "13                  0            1  \n",
       "1190                0            0  \n",
       "55                  0            0  \n",
       "1043                0            0  \n",
       "\n",
       "[5 rows x 790 columns]"
      ]
     },
     "execution_count": 19,
     "metadata": {},
     "output_type": "execute_result"
    }
   ],
   "source": [
    "X_train.head()"
   ]
  },
  {
   "cell_type": "code",
   "execution_count": 20,
   "metadata": {},
   "outputs": [
    {
     "data": {
      "text/plain": [
       "112     1480.00\n",
       "13      2439.97\n",
       "1190     369.00\n",
       "55       384.00\n",
       "1043    1080.00\n",
       "Name: Price_in_euros, dtype: float64"
      ]
     },
     "execution_count": 20,
     "metadata": {},
     "output_type": "execute_result"
    }
   ],
   "source": [
    "y_train.head()"
   ]
  },
  {
   "cell_type": "code",
   "execution_count": 22,
   "metadata": {},
   "outputs": [],
   "source": [
    "X_train.columns = X_train.columns.str.replace(r'[\\[\\]<>]', '', regex=True)\n",
    "X_train.columns = X_train.columns.astype(str)\n",
    "\n",
    "X_test.columns = X_test.columns.str.replace(r'[\\[\\]<>]', '', regex=True)\n",
    "X_test.columns = X_test.columns.astype(str)"
   ]
  },
  {
   "cell_type": "markdown",
   "metadata": {},
   "source": [
    "### 3. Baseline de modelos\n"
   ]
  },
  {
   "cell_type": "code",
   "execution_count": 24,
   "metadata": {},
   "outputs": [
    {
     "name": "stdout",
     "output_type": "stream",
     "text": [
      "{'model': 'Random Forest', 'RSME': -314.9532537063681}\n",
      "{'model': 'XGBoost', 'RSME': -350.8637260952117}\n",
      "0:\tlearn: 550.1970969\ttotal: 144ms\tremaining: 14.3s\n",
      "99:\tlearn: 130.4228826\ttotal: 419ms\tremaining: 0us\n",
      "0:\tlearn: 521.1221334\ttotal: 2.94ms\tremaining: 291ms\n",
      "99:\tlearn: 111.8846711\ttotal: 264ms\tremaining: 0us\n",
      "0:\tlearn: 536.1835175\ttotal: 2.84ms\tremaining: 281ms\n",
      "99:\tlearn: 113.4532541\ttotal: 263ms\tremaining: 0us\n",
      "0:\tlearn: 527.1783150\ttotal: 3.42ms\tremaining: 338ms\n",
      "99:\tlearn: 128.1647995\ttotal: 265ms\tremaining: 0us\n",
      "0:\tlearn: 481.1724405\ttotal: 3.08ms\tremaining: 305ms\n",
      "99:\tlearn: 117.2768265\ttotal: 284ms\tremaining: 0us\n",
      "{'model': 'Catboost', 'RSME': -295.37658276751137}\n"
     ]
    },
    {
     "data": {
      "text/html": [
       "<div>\n",
       "<style scoped>\n",
       "    .dataframe tbody tr th:only-of-type {\n",
       "        vertical-align: middle;\n",
       "    }\n",
       "\n",
       "    .dataframe tbody tr th {\n",
       "        vertical-align: top;\n",
       "    }\n",
       "\n",
       "    .dataframe thead th {\n",
       "        text-align: right;\n",
       "    }\n",
       "</style>\n",
       "<table border=\"1\" class=\"dataframe\">\n",
       "  <thead>\n",
       "    <tr style=\"text-align: right;\">\n",
       "      <th></th>\n",
       "      <th>model</th>\n",
       "      <th>RSME</th>\n",
       "    </tr>\n",
       "  </thead>\n",
       "  <tbody>\n",
       "    <tr>\n",
       "      <th>2</th>\n",
       "      <td>Catboost</td>\n",
       "      <td>-295.376583</td>\n",
       "    </tr>\n",
       "    <tr>\n",
       "      <th>0</th>\n",
       "      <td>Random Forest</td>\n",
       "      <td>-314.953254</td>\n",
       "    </tr>\n",
       "    <tr>\n",
       "      <th>1</th>\n",
       "      <td>XGBoost</td>\n",
       "      <td>-350.863726</td>\n",
       "    </tr>\n",
       "  </tbody>\n",
       "</table>\n",
       "</div>"
      ],
      "text/plain": [
       "           model        RSME\n",
       "2       Catboost -295.376583\n",
       "0  Random Forest -314.953254\n",
       "1        XGBoost -350.863726"
      ]
     },
     "execution_count": 24,
     "metadata": {},
     "output_type": "execute_result"
    }
   ],
   "source": [
    "model_names = [\"Random Forest\", \"XGBoost\", \"Catboost\"]\n",
    "rf_reg = RandomForestRegressor(random_state = 42)\n",
    "xg_reg = XGBRFRegressor(random_state = 42)\n",
    "# lgb_reg = LGBMRegressor(random_state = 42, verbose = -100, n_jobs = -1)\n",
    "cat_reg = CatBoostRegressor(n_estimators = 100, depth = 5, learning_rate = 0.5, verbose = 100)\n",
    "models = [rf_reg, xg_reg, cat_reg]\n",
    "\n",
    "resultados = []\n",
    "\n",
    "for model_name, modelo in zip(model_names, models):\n",
    "    metrica = np.mean(cross_val_score(modelo, X_train, y_train, cv = 5, scoring  = \"neg_root_mean_squared_error\"))\n",
    "    data = {\n",
    "        \"model\": model_name,\n",
    "        \"RSME\": metrica\n",
    "    }\n",
    "    print(data)\n",
    "    resultados.append(data.copy())\n",
    "df_resultados = pd.DataFrame(resultados)\n",
    "df_resultados.sort_values(\"RSME\", ascending = False)"
   ]
  },
  {
   "cell_type": "code",
   "execution_count": 26,
   "metadata": {},
   "outputs": [
    {
     "name": "stdout",
     "output_type": "stream",
     "text": [
      "0:\tlearn: 520.7911442\ttotal: 4.78ms\tremaining: 474ms\n",
      "99:\tlearn: 124.6096351\ttotal: 299ms\tremaining: 0us\n"
     ]
    },
    {
     "data": {
      "text/plain": [
       "<catboost.core.CatBoostRegressor at 0x1da7b402850>"
      ]
     },
     "execution_count": 26,
     "metadata": {},
     "output_type": "execute_result"
    }
   ],
   "source": [
    "cat_reg.fit(X_train, y_train)"
   ]
  },
  {
   "cell_type": "code",
   "execution_count": 27,
   "metadata": {},
   "outputs": [],
   "source": [
    "y_pred = cat_reg.predict(X_test)"
   ]
  },
  {
   "cell_type": "code",
   "execution_count": null,
   "metadata": {},
   "outputs": [],
   "source": [
    "# y_pred = rfmodel.predict(X_test)"
   ]
  },
  {
   "cell_type": "markdown",
   "metadata": {},
   "source": [
    "### 4. Sacar métricas, valorar los modelos \n",
    "\n",
    "Recuerda que en la competición se va a evaluar con la métrica de ``RMSE``."
   ]
  },
  {
   "cell_type": "code",
   "execution_count": 28,
   "metadata": {},
   "outputs": [
    {
     "name": "stdout",
     "output_type": "stream",
     "text": [
      "293.4289969508399\n"
     ]
    }
   ],
   "source": [
    "print(np.sqrt(mean_squared_error(y_test, y_pred)))"
   ]
  },
  {
   "cell_type": "markdown",
   "metadata": {},
   "source": [
    "-----------------------------------------------------------------"
   ]
  },
  {
   "cell_type": "markdown",
   "metadata": {},
   "source": [
    "## Una vez listo el modelo, toca predecir ``test.csv``"
   ]
  },
  {
   "cell_type": "markdown",
   "metadata": {},
   "source": [
    "**RECUERDA: APLICAR LAS TRANSFORMACIONES QUE HAYAS REALIZADO EN `train.csv` a `test.csv`.**\n",
    "\n",
    "\n",
    "Véase:\n",
    "- Estandarización/Normalización\n",
    "- Eliminación de Outliers\n",
    "- Eliminación de columnas\n",
    "- Creación de columnas nuevas\n",
    "- Gestión de valores nulos\n",
    "- Y un largo etcétera de técnicas que como Data Scientist hayas considerado las mejores para tu dataset."
   ]
  },
  {
   "cell_type": "markdown",
   "metadata": {},
   "source": [
    "### 1. Carga los datos de `test.csv` para predecir.\n"
   ]
  },
  {
   "cell_type": "code",
   "execution_count": 29,
   "metadata": {},
   "outputs": [
    {
     "data": {
      "text/html": [
       "<div>\n",
       "<style scoped>\n",
       "    .dataframe tbody tr th:only-of-type {\n",
       "        vertical-align: middle;\n",
       "    }\n",
       "\n",
       "    .dataframe tbody tr th {\n",
       "        vertical-align: top;\n",
       "    }\n",
       "\n",
       "    .dataframe thead th {\n",
       "        text-align: right;\n",
       "    }\n",
       "</style>\n",
       "<table border=\"1\" class=\"dataframe\">\n",
       "  <thead>\n",
       "    <tr style=\"text-align: right;\">\n",
       "      <th></th>\n",
       "      <th>Company</th>\n",
       "      <th>Product</th>\n",
       "      <th>TypeName</th>\n",
       "      <th>Inches</th>\n",
       "      <th>ScreenResolution</th>\n",
       "      <th>Cpu</th>\n",
       "      <th>Ram</th>\n",
       "      <th>Memory</th>\n",
       "      <th>Gpu</th>\n",
       "      <th>OpSys</th>\n",
       "      <th>Weight</th>\n",
       "    </tr>\n",
       "  </thead>\n",
       "  <tbody>\n",
       "    <tr>\n",
       "      <th>209</th>\n",
       "      <td>Lenovo</td>\n",
       "      <td>Legion Y520-15IKBN</td>\n",
       "      <td>Gaming</td>\n",
       "      <td>15.6</td>\n",
       "      <td>Full HD 1920x1080</td>\n",
       "      <td>Intel Core i7 7700HQ 2.8GHz</td>\n",
       "      <td>16GB</td>\n",
       "      <td>512GB SSD</td>\n",
       "      <td>Nvidia GeForce GTX 1060</td>\n",
       "      <td>No OS</td>\n",
       "      <td>2.4kg</td>\n",
       "    </tr>\n",
       "    <tr>\n",
       "      <th>1281</th>\n",
       "      <td>Acer</td>\n",
       "      <td>Aspire ES1-531</td>\n",
       "      <td>Notebook</td>\n",
       "      <td>15.6</td>\n",
       "      <td>1366x768</td>\n",
       "      <td>Intel Celeron Dual Core N3060 1.6GHz</td>\n",
       "      <td>4GB</td>\n",
       "      <td>500GB HDD</td>\n",
       "      <td>Intel HD Graphics 400</td>\n",
       "      <td>Linux</td>\n",
       "      <td>2.4kg</td>\n",
       "    </tr>\n",
       "    <tr>\n",
       "      <th>1168</th>\n",
       "      <td>Lenovo</td>\n",
       "      <td>V110-15ISK (i3-6006U/4GB/1TB/No</td>\n",
       "      <td>Notebook</td>\n",
       "      <td>15.6</td>\n",
       "      <td>1366x768</td>\n",
       "      <td>Intel Core i3 6006U 2.0GHz</td>\n",
       "      <td>4GB</td>\n",
       "      <td>1TB HDD</td>\n",
       "      <td>Intel HD Graphics 520</td>\n",
       "      <td>No OS</td>\n",
       "      <td>1.9kg</td>\n",
       "    </tr>\n",
       "    <tr>\n",
       "      <th>1231</th>\n",
       "      <td>Dell</td>\n",
       "      <td>Inspiron 7579</td>\n",
       "      <td>2 in 1 Convertible</td>\n",
       "      <td>15.6</td>\n",
       "      <td>IPS Panel Full HD / Touchscreen 1920x1080</td>\n",
       "      <td>Intel Core i5 7200U 2.5GHz</td>\n",
       "      <td>8GB</td>\n",
       "      <td>256GB SSD</td>\n",
       "      <td>Intel HD Graphics 620</td>\n",
       "      <td>Windows 10</td>\n",
       "      <td>2.191kg</td>\n",
       "    </tr>\n",
       "    <tr>\n",
       "      <th>1020</th>\n",
       "      <td>HP</td>\n",
       "      <td>ProBook 640</td>\n",
       "      <td>Notebook</td>\n",
       "      <td>14.0</td>\n",
       "      <td>Full HD 1920x1080</td>\n",
       "      <td>Intel Core i5 7200U 2.5GHz</td>\n",
       "      <td>4GB</td>\n",
       "      <td>256GB SSD</td>\n",
       "      <td>Intel HD Graphics 620</td>\n",
       "      <td>Windows 10</td>\n",
       "      <td>1.95kg</td>\n",
       "    </tr>\n",
       "  </tbody>\n",
       "</table>\n",
       "</div>"
      ],
      "text/plain": [
       "     Company                          Product            TypeName  Inches  \\\n",
       "209   Lenovo               Legion Y520-15IKBN              Gaming    15.6   \n",
       "1281    Acer                   Aspire ES1-531            Notebook    15.6   \n",
       "1168  Lenovo  V110-15ISK (i3-6006U/4GB/1TB/No            Notebook    15.6   \n",
       "1231    Dell                    Inspiron 7579  2 in 1 Convertible    15.6   \n",
       "1020      HP                      ProBook 640            Notebook    14.0   \n",
       "\n",
       "                               ScreenResolution  \\\n",
       "209                           Full HD 1920x1080   \n",
       "1281                                   1366x768   \n",
       "1168                                   1366x768   \n",
       "1231  IPS Panel Full HD / Touchscreen 1920x1080   \n",
       "1020                          Full HD 1920x1080   \n",
       "\n",
       "                                       Cpu   Ram     Memory  \\\n",
       "209            Intel Core i7 7700HQ 2.8GHz  16GB  512GB SSD   \n",
       "1281  Intel Celeron Dual Core N3060 1.6GHz   4GB  500GB HDD   \n",
       "1168            Intel Core i3 6006U 2.0GHz   4GB    1TB HDD   \n",
       "1231            Intel Core i5 7200U 2.5GHz   8GB  256GB SSD   \n",
       "1020            Intel Core i5 7200U 2.5GHz   4GB  256GB SSD   \n",
       "\n",
       "                          Gpu       OpSys   Weight  \n",
       "209   Nvidia GeForce GTX 1060       No OS    2.4kg  \n",
       "1281    Intel HD Graphics 400       Linux    2.4kg  \n",
       "1168    Intel HD Graphics 520       No OS    1.9kg  \n",
       "1231    Intel HD Graphics 620  Windows 10  2.191kg  \n",
       "1020    Intel HD Graphics 620  Windows 10   1.95kg  "
      ]
     },
     "execution_count": 29,
     "metadata": {},
     "output_type": "execute_result"
    }
   ],
   "source": [
    "X_pred = pd.read_csv(\"data/test.csv\", index_col = 0)\n",
    "X_pred.index.name = None\n",
    "X_pred.head()"
   ]
  },
  {
   "cell_type": "code",
   "execution_count": 30,
   "metadata": {},
   "outputs": [
    {
     "data": {
      "text/html": [
       "<div>\n",
       "<style scoped>\n",
       "    .dataframe tbody tr th:only-of-type {\n",
       "        vertical-align: middle;\n",
       "    }\n",
       "\n",
       "    .dataframe tbody tr th {\n",
       "        vertical-align: top;\n",
       "    }\n",
       "\n",
       "    .dataframe thead th {\n",
       "        text-align: right;\n",
       "    }\n",
       "</style>\n",
       "<table border=\"1\" class=\"dataframe\">\n",
       "  <thead>\n",
       "    <tr style=\"text-align: right;\">\n",
       "      <th></th>\n",
       "      <th>Company</th>\n",
       "      <th>Product</th>\n",
       "      <th>TypeName</th>\n",
       "      <th>Inches</th>\n",
       "      <th>ScreenResolution</th>\n",
       "      <th>Cpu</th>\n",
       "      <th>Ram</th>\n",
       "      <th>Memory</th>\n",
       "      <th>Gpu</th>\n",
       "      <th>OpSys</th>\n",
       "      <th>Weight</th>\n",
       "    </tr>\n",
       "  </thead>\n",
       "  <tbody>\n",
       "    <tr>\n",
       "      <th>820</th>\n",
       "      <td>MSI</td>\n",
       "      <td>GE72MVR 7RG</td>\n",
       "      <td>Gaming</td>\n",
       "      <td>17.3</td>\n",
       "      <td>Full HD 1920x1080</td>\n",
       "      <td>Intel Core i7 7700HQ 2.8GHz</td>\n",
       "      <td>16GB</td>\n",
       "      <td>512GB SSD +  1TB HDD</td>\n",
       "      <td>Nvidia GeForce GTX 1070</td>\n",
       "      <td>Windows 10</td>\n",
       "      <td>2.9kg</td>\n",
       "    </tr>\n",
       "    <tr>\n",
       "      <th>948</th>\n",
       "      <td>Toshiba</td>\n",
       "      <td>Tecra Z40-C-12X</td>\n",
       "      <td>Notebook</td>\n",
       "      <td>14.0</td>\n",
       "      <td>IPS Panel Full HD 1920x1080</td>\n",
       "      <td>Intel Core i5 6200U 2.3GHz</td>\n",
       "      <td>4GB</td>\n",
       "      <td>128GB SSD</td>\n",
       "      <td>Intel HD Graphics 520</td>\n",
       "      <td>Windows 10</td>\n",
       "      <td>1.47kg</td>\n",
       "    </tr>\n",
       "    <tr>\n",
       "      <th>483</th>\n",
       "      <td>Dell</td>\n",
       "      <td>Precision M5520</td>\n",
       "      <td>Workstation</td>\n",
       "      <td>15.6</td>\n",
       "      <td>Full HD 1920x1080</td>\n",
       "      <td>Intel Core i7 7700HQ 2.8GHz</td>\n",
       "      <td>8GB</td>\n",
       "      <td>256GB SSD</td>\n",
       "      <td>Nvidia Quadro M1200</td>\n",
       "      <td>Windows 10</td>\n",
       "      <td>1.78kg</td>\n",
       "    </tr>\n",
       "    <tr>\n",
       "      <th>1017</th>\n",
       "      <td>HP</td>\n",
       "      <td>Probook 440</td>\n",
       "      <td>Notebook</td>\n",
       "      <td>14.0</td>\n",
       "      <td>1366x768</td>\n",
       "      <td>Intel Core i5 7200U 2.5GHz</td>\n",
       "      <td>4GB</td>\n",
       "      <td>500GB HDD</td>\n",
       "      <td>Intel HD Graphics 620</td>\n",
       "      <td>Windows 10</td>\n",
       "      <td>1.64kg</td>\n",
       "    </tr>\n",
       "    <tr>\n",
       "      <th>421</th>\n",
       "      <td>Asus</td>\n",
       "      <td>ZenBook Flip</td>\n",
       "      <td>2 in 1 Convertible</td>\n",
       "      <td>13.3</td>\n",
       "      <td>IPS Panel Full HD / Touchscreen 1920x1080</td>\n",
       "      <td>Intel Core i5 7200U 2.5GHz</td>\n",
       "      <td>8GB</td>\n",
       "      <td>256GB SSD</td>\n",
       "      <td>Intel HD Graphics 620</td>\n",
       "      <td>Windows 10</td>\n",
       "      <td>1.27kg</td>\n",
       "    </tr>\n",
       "  </tbody>\n",
       "</table>\n",
       "</div>"
      ],
      "text/plain": [
       "      Company          Product            TypeName  Inches  \\\n",
       "820       MSI      GE72MVR 7RG              Gaming    17.3   \n",
       "948   Toshiba  Tecra Z40-C-12X            Notebook    14.0   \n",
       "483      Dell  Precision M5520         Workstation    15.6   \n",
       "1017       HP      Probook 440            Notebook    14.0   \n",
       "421      Asus     ZenBook Flip  2 in 1 Convertible    13.3   \n",
       "\n",
       "                               ScreenResolution                          Cpu  \\\n",
       "820                           Full HD 1920x1080  Intel Core i7 7700HQ 2.8GHz   \n",
       "948                 IPS Panel Full HD 1920x1080   Intel Core i5 6200U 2.3GHz   \n",
       "483                           Full HD 1920x1080  Intel Core i7 7700HQ 2.8GHz   \n",
       "1017                                   1366x768   Intel Core i5 7200U 2.5GHz   \n",
       "421   IPS Panel Full HD / Touchscreen 1920x1080   Intel Core i5 7200U 2.5GHz   \n",
       "\n",
       "       Ram                Memory                      Gpu       OpSys  Weight  \n",
       "820   16GB  512GB SSD +  1TB HDD  Nvidia GeForce GTX 1070  Windows 10   2.9kg  \n",
       "948    4GB             128GB SSD    Intel HD Graphics 520  Windows 10  1.47kg  \n",
       "483    8GB             256GB SSD      Nvidia Quadro M1200  Windows 10  1.78kg  \n",
       "1017   4GB             500GB HDD    Intel HD Graphics 620  Windows 10  1.64kg  \n",
       "421    8GB             256GB SSD    Intel HD Graphics 620  Windows 10  1.27kg  "
      ]
     },
     "execution_count": 30,
     "metadata": {},
     "output_type": "execute_result"
    }
   ],
   "source": [
    "X_pred.tail()"
   ]
  },
  {
   "cell_type": "code",
   "execution_count": 31,
   "metadata": {},
   "outputs": [
    {
     "name": "stdout",
     "output_type": "stream",
     "text": [
      "<class 'pandas.core.frame.DataFrame'>\n",
      "Index: 391 entries, 209 to 421\n",
      "Data columns (total 11 columns):\n",
      " #   Column            Non-Null Count  Dtype  \n",
      "---  ------            --------------  -----  \n",
      " 0   Company           391 non-null    object \n",
      " 1   Product           391 non-null    object \n",
      " 2   TypeName          391 non-null    object \n",
      " 3   Inches            391 non-null    float64\n",
      " 4   ScreenResolution  391 non-null    object \n",
      " 5   Cpu               391 non-null    object \n",
      " 6   Ram               391 non-null    object \n",
      " 7   Memory            391 non-null    object \n",
      " 8   Gpu               391 non-null    object \n",
      " 9   OpSys             391 non-null    object \n",
      " 10  Weight            391 non-null    object \n",
      "dtypes: float64(1), object(10)\n",
      "memory usage: 36.7+ KB\n"
     ]
    }
   ],
   "source": [
    "X_pred.info()"
   ]
  },
  {
   "cell_type": "markdown",
   "metadata": {},
   "source": [
    " ## 2. Replicar el procesado para ``test.csv``"
   ]
  },
  {
   "cell_type": "code",
   "execution_count": 32,
   "metadata": {},
   "outputs": [],
   "source": [
    "X_pred[\"inches\"] = X_pred.Inches.astype(float)\n",
    "X_pred['ram_gb'] = X_pred['Ram'].str.replace('GB', '').astype(int)\n",
    "X_pred[\"weight_kg\"] = X_pred['Weight'].str.replace('kg', '').astype(float)\n",
    "X_pred.drop(columns = [\"Inches\", \"Ram\", \"Weight\"], inplace = True)"
   ]
  },
  {
   "cell_type": "code",
   "execution_count": 33,
   "metadata": {},
   "outputs": [
    {
     "name": "stdout",
     "output_type": "stream",
     "text": [
      "<class 'pandas.core.frame.DataFrame'>\n",
      "Index: 391 entries, 209 to 421\n",
      "Data columns (total 11 columns):\n",
      " #   Column            Non-Null Count  Dtype  \n",
      "---  ------            --------------  -----  \n",
      " 0   Company           391 non-null    object \n",
      " 1   Product           391 non-null    object \n",
      " 2   TypeName          391 non-null    object \n",
      " 3   ScreenResolution  391 non-null    object \n",
      " 4   Cpu               391 non-null    object \n",
      " 5   Memory            391 non-null    object \n",
      " 6   Gpu               391 non-null    object \n",
      " 7   OpSys             391 non-null    object \n",
      " 8   inches            391 non-null    float64\n",
      " 9   ram_gb            391 non-null    int32  \n",
      " 10  weight_kg         391 non-null    float64\n",
      "dtypes: float64(2), int32(1), object(8)\n",
      "memory usage: 35.1+ KB\n"
     ]
    }
   ],
   "source": [
    "X_pred.info()"
   ]
  },
  {
   "cell_type": "code",
   "execution_count": 34,
   "metadata": {},
   "outputs": [],
   "source": [
    "# # Ordenamos las features categóricas de menor precio de median a mayor precio para poder convertirlas en numéricas:\n",
    "# categories_company = df.groupby(df[\"Company\"])[\"Price_in_euros\"].median().sort_values().index.to_list()\n",
    "# # categories_typename = df.groupby(df[\"TypeName\"])[\"Price_in_euros\"].median().sort_values().index.to_list()\n",
    "# categories_resolution = df.groupby(df[\"ScreenResolution\"])[\"Price_in_euros\"].median().sort_values().index.to_list()\n",
    "# categories_cpu = df.groupby(df[\"Cpu\"])[\"Price_in_euros\"].median().sort_values().index.to_list()\n",
    "# categories_memory = df.groupby(df[\"Memory\"])[\"Price_in_euros\"].median().sort_values().index.to_list()\n",
    "# categories_gpu = df.groupby(df[\"Gpu\"])[\"Price_in_euros\"].median().sort_values().index.to_list()\n",
    "\n",
    "# total_cat = [categories_company, categories_resolution, categories_cpu, categories_memory, categories_gpu]\n",
    "# cols = [\"Company\", \"ScreenResolution\", \"Cpu\", \"Memory\", \"Gpu\"]\n",
    "\n",
    "# enc = OrdinalEncoder(categories = total_cat, dtype= int)\n",
    "# X_pred[cols] = enc.transform(X_pred[cols])\n",
    "\n",
    "# Con la ram, el sistema operativo y el typename, vamos a hacer un get_dummies:\n",
    "cols_dummies = X_train.columns\n",
    "X_pred = pd.get_dummies(X_pred, columns = feat_sel, dtype = int).reindex(columns = cols_dummies, fill_value=0)"
   ]
  },
  {
   "cell_type": "code",
   "execution_count": 35,
   "metadata": {},
   "outputs": [],
   "source": [
    "# X_pred.head()"
   ]
  },
  {
   "cell_type": "code",
   "execution_count": 36,
   "metadata": {},
   "outputs": [
    {
     "data": {
      "text/plain": [
       "array([1816.47361774,  287.07373551,  333.35199155, 1065.95133434,\n",
       "        960.03243   ,  454.84564174,  826.52365958,  979.84509702,\n",
       "       1354.36459254,  292.23069359, 2083.87699414, 1229.81917898,\n",
       "        623.55752165, 1902.43777218, 1050.92457368,  701.50760727,\n",
       "       2480.20630321, 1490.28635003, 1866.79407015,  626.41500724,\n",
       "       1775.80637191,  591.06612836,  797.15095983, 1236.22558104,\n",
       "        459.5877451 ,  655.35439647,  700.43800849,  838.00320835,\n",
       "       3314.21633636, 1017.9474444 , 2499.68221205,  410.00702994,\n",
       "        786.17064157, 3424.11823211, 2269.90302671, 1738.45124825,\n",
       "        582.58028579, 1570.92177447,  912.83785585, 1698.30666851,\n",
       "        687.85292037,  921.47605786,  502.41981222, 1381.03279945,\n",
       "       1035.0440999 , 1112.35498074, 1008.78660031,  551.53318117,\n",
       "        670.77077309,  541.11572696, 1617.26535091,  670.54785086,\n",
       "       1088.37229542,  523.77984371, 1713.57967082, 1654.60244534,\n",
       "        661.0649286 ,  683.62571637,  945.79023937,  566.05092822,\n",
       "       2497.00115452, 1502.41238965,  578.17767151, 2093.47780212,\n",
       "       1559.92431037, 1486.24746049,  909.10004689, 1473.97295266,\n",
       "       2132.85047819, 2036.87441924,  626.3602639 ,  650.41165004,\n",
       "       1011.74893914, 1803.8844243 , 1186.62677307, 1233.69120698,\n",
       "       1604.64054468, 1698.27711712, 2014.04874254, 1291.51675164,\n",
       "        876.48970995, 1495.48137611, 2255.40759973, 1463.44371629,\n",
       "       1299.28219481, 1683.56330439,  547.06639207,  937.73771392,\n",
       "        808.10635219,  721.68247077,  483.14815973, 1873.4787174 ,\n",
       "       1464.72532885, 2968.66325667, 3045.87584393, 1166.30025608,\n",
       "        754.19872151,  572.37062781, 1025.06230315,  904.84249903,\n",
       "       1840.8887826 ,  656.72906686, 1469.56320982,  912.45748904,\n",
       "        366.1400739 , 1739.49674525, 1810.9714657 ,  569.6627706 ,\n",
       "        353.57068103,  946.48291974, 1342.15391291,  804.92307771,\n",
       "        684.44468983,  698.99515567, 1208.11210009,  660.48389712,\n",
       "        516.80424583, 1427.2164648 , 1896.84343012, 1153.01212925,\n",
       "        939.17036354,  623.24348587, 1003.61323431, 1362.91164865,\n",
       "       1692.94608077,  436.71287364, 1615.97480613, 1143.41105771,\n",
       "        501.38373921,  954.92070842, 2179.89681323, 1477.62481123,\n",
       "       1231.41732753, 1944.34189329,  752.59020014, 2314.53970078,\n",
       "       1271.76147663, 1064.58555108, 1499.83021221,  574.4581225 ,\n",
       "       1399.35115682,  829.2922017 , 1275.46606103,  911.65958426,\n",
       "       2115.56351244, 1153.01212925, 1858.08547542,  729.72138675,\n",
       "       1499.30390227,  845.97472815,  715.63862061,  843.98935933,\n",
       "        541.82235585, 1191.12496375,  845.60607457,  893.85936413,\n",
       "       1232.44650146, 1033.9975412 ,  564.89193483,  401.23082656,\n",
       "        551.25321343, 1838.94060758, 1184.7549795 ,  664.48542139,\n",
       "       1184.21685976, 1067.6939432 , 1999.97571443,  334.09234281,\n",
       "        912.8676604 , 1266.10195572, 1362.81617676,  471.4695744 ,\n",
       "        398.38420897,  541.11572696, 2512.43960217,  597.82954406,\n",
       "       1230.63030879,  533.94952926, 1395.55363249, 1340.00442453,\n",
       "        703.12988666, 4824.32588237, 1136.87150702,  835.47907004,\n",
       "       1263.75853015, 1907.96351076,  644.54894852,  653.92897379,\n",
       "       1409.76959776,  941.50214314,  554.15924956, 1790.38881732,\n",
       "        425.75054299,  712.44854306,  561.53785389,  471.135627  ,\n",
       "       1611.10318389,  907.05275236,  858.01379571,  198.87956913,\n",
       "       1003.61323431, 2265.73408665, 1104.0631736 ,  645.4286172 ,\n",
       "        526.88793253,  416.45494576, 2009.83658191,  353.91616863,\n",
       "       1595.57989101,  374.12100473, 1162.69059588,  580.71977177,\n",
       "        615.377129  ,  999.70207246,  300.3500433 , 1383.01098708,\n",
       "       1091.12015728,  545.31926549,  593.96301392,  576.01774845,\n",
       "        584.86436845, 1151.94624292, 1106.54503014,  972.22951468,\n",
       "        618.53369662,  933.36208712,  275.31445346, 1258.67151539,\n",
       "        683.22492595, 1817.09036236,  625.44355778,  410.91914927,\n",
       "        874.76389309, 1458.40311032,  536.10812616,  729.72138675,\n",
       "       2970.83836008,  977.50743427,  968.50689302, 1845.90906197,\n",
       "       1535.2549365 ,  476.13654221, 1160.900868  ,  950.11025413,\n",
       "        819.1165198 , 1893.8131282 ,  897.50490352, 1028.75283499,\n",
       "        895.74817051, 1945.79513481, 1331.09636494,  623.88865874,\n",
       "       1670.46855683,  911.12795485, 1670.46855683, 3014.84256937,\n",
       "        704.01100911,  433.0651932 , 1681.4222347 , 1014.45467257,\n",
       "        437.93462273,  539.44461762, 1071.44612126,  477.8429957 ,\n",
       "       2200.26063194, 2397.51551499, 1318.95219773,  442.73310586,\n",
       "       2001.44842549, 1354.85840137,  429.62149052,  575.98821261,\n",
       "       1138.26099993, 1694.21985697, 1469.65649476,  652.46693265,\n",
       "        573.09853734,  968.34655708, 1005.64113623,  515.58647547,\n",
       "        531.0668053 ,  893.25340269, 1344.11226446,  606.53724601,\n",
       "        498.53712162, 1293.61094739, 1147.17620147, 3071.83914894,\n",
       "       3595.13575711,  503.19368139, 1121.62116013, 1206.9857883 ,\n",
       "       1343.08011986, 1251.23429239, 1081.59238767, 1357.38819136,\n",
       "       1244.19868518,  724.77227201, 3402.62108688, 1099.10720845,\n",
       "       1812.2792126 ,  412.71516623,  569.1146816 ,  472.94562469,\n",
       "        637.44318468, 1742.52141684, 1925.59333539,  849.47542731,\n",
       "       2228.32530064, 1332.21357986,  352.3674038 ,  748.44813169,\n",
       "        399.33052323,  458.04067232, 1001.71507474,  792.54052954,\n",
       "       2619.03786069, 1084.59660205, 1195.36549314,  661.56895479,\n",
       "       1455.45609615, 1484.43484667, 1258.67151539, 1183.2620336 ,\n",
       "       1227.04956019, 2027.67628483, 1974.80545932,  765.56730736,\n",
       "        409.73836628, 2173.87275165,  430.09609942,  907.0229478 ,\n",
       "       1891.68002997,  657.92955896,  388.59715286,  904.84249903,\n",
       "        480.44335343,  503.19368139, 1548.88568568, 1231.62354358,\n",
       "        621.27259562,  545.83736463, 2167.0091435 , 1326.37224092,\n",
       "       1535.2549365 ,  932.52777061,  426.61740038, 1086.75076149,\n",
       "        799.25627707,  680.29116783,  946.03028491,  987.39318471,\n",
       "        675.89142566,  557.97027212,  710.12445904,  317.43389919,\n",
       "       1735.22420749,  604.18015017, 1561.33669564, 1826.02751444,\n",
       "        479.21940371,  592.90640063,  848.60869414,  959.18134256,\n",
       "       1223.12680774, 1411.27840999, 1768.28310092, 3551.47697827,\n",
       "        631.98008047, 2012.77224474, 1716.57233572, 1730.22960524,\n",
       "        520.03557459, 1435.00565362, 1055.72002233, 1743.02841602,\n",
       "        531.0668053 ,  937.28447425,  707.87267011,  634.47408765,\n",
       "        396.90462287, 1002.1201469 , 1143.73283004,  360.40744597,\n",
       "       1435.95310161,  908.54749808, 2254.53354519,  785.38357146,\n",
       "       1823.94053067,  801.49011518, 1170.28938628])"
      ]
     },
     "execution_count": 36,
     "metadata": {},
     "output_type": "execute_result"
    }
   ],
   "source": [
    "predictions_submit = cat_reg.predict(X_pred)\n",
    "predictions_submit"
   ]
  },
  {
   "cell_type": "markdown",
   "metadata": {},
   "source": [
    "### 3. **¿Qué es lo que subirás a Kaggle?**"
   ]
  },
  {
   "cell_type": "markdown",
   "metadata": {},
   "source": [
    "**Para subir a Kaggle la predicción esta tendrá que tener una forma específica.**\n",
    "\n",
    "En este caso, la **MISMA** forma que `sample_submission.csv`. "
   ]
  },
  {
   "cell_type": "code",
   "execution_count": 37,
   "metadata": {},
   "outputs": [],
   "source": [
    "sample = pd.read_csv(\"data/sample_submission.csv\")"
   ]
  },
  {
   "cell_type": "code",
   "execution_count": 38,
   "metadata": {},
   "outputs": [
    {
     "data": {
      "text/html": [
       "<div>\n",
       "<style scoped>\n",
       "    .dataframe tbody tr th:only-of-type {\n",
       "        vertical-align: middle;\n",
       "    }\n",
       "\n",
       "    .dataframe tbody tr th {\n",
       "        vertical-align: top;\n",
       "    }\n",
       "\n",
       "    .dataframe thead th {\n",
       "        text-align: right;\n",
       "    }\n",
       "</style>\n",
       "<table border=\"1\" class=\"dataframe\">\n",
       "  <thead>\n",
       "    <tr style=\"text-align: right;\">\n",
       "      <th></th>\n",
       "      <th>laptop_ID</th>\n",
       "      <th>Price_in_euros</th>\n",
       "    </tr>\n",
       "  </thead>\n",
       "  <tbody>\n",
       "    <tr>\n",
       "      <th>0</th>\n",
       "      <td>209</td>\n",
       "      <td>1949.1</td>\n",
       "    </tr>\n",
       "    <tr>\n",
       "      <th>1</th>\n",
       "      <td>1281</td>\n",
       "      <td>805.0</td>\n",
       "    </tr>\n",
       "    <tr>\n",
       "      <th>2</th>\n",
       "      <td>1168</td>\n",
       "      <td>1101.0</td>\n",
       "    </tr>\n",
       "    <tr>\n",
       "      <th>3</th>\n",
       "      <td>1231</td>\n",
       "      <td>1293.8</td>\n",
       "    </tr>\n",
       "    <tr>\n",
       "      <th>4</th>\n",
       "      <td>1020</td>\n",
       "      <td>1832.6</td>\n",
       "    </tr>\n",
       "  </tbody>\n",
       "</table>\n",
       "</div>"
      ],
      "text/plain": [
       "   laptop_ID  Price_in_euros\n",
       "0        209          1949.1\n",
       "1       1281           805.0\n",
       "2       1168          1101.0\n",
       "3       1231          1293.8\n",
       "4       1020          1832.6"
      ]
     },
     "execution_count": 38,
     "metadata": {},
     "output_type": "execute_result"
    }
   ],
   "source": [
    "sample.head()"
   ]
  },
  {
   "cell_type": "code",
   "execution_count": 39,
   "metadata": {},
   "outputs": [
    {
     "data": {
      "text/plain": [
       "(391, 2)"
      ]
     },
     "execution_count": 39,
     "metadata": {},
     "output_type": "execute_result"
    }
   ],
   "source": [
    "sample.shape"
   ]
  },
  {
   "cell_type": "markdown",
   "metadata": {},
   "source": [
    "### 4. Mete tus predicciones en un dataframe llamado ``submission``."
   ]
  },
  {
   "cell_type": "code",
   "execution_count": 40,
   "metadata": {},
   "outputs": [],
   "source": [
    "#¿Cómo creamos la submission?\n",
    "submission = pd.DataFrame({\"laptop_ID\": X_pred.index,\n",
    "                        \"Price_in_euros\": predictions_submit})"
   ]
  },
  {
   "cell_type": "code",
   "execution_count": 41,
   "metadata": {},
   "outputs": [
    {
     "data": {
      "text/html": [
       "<div>\n",
       "<style scoped>\n",
       "    .dataframe tbody tr th:only-of-type {\n",
       "        vertical-align: middle;\n",
       "    }\n",
       "\n",
       "    .dataframe tbody tr th {\n",
       "        vertical-align: top;\n",
       "    }\n",
       "\n",
       "    .dataframe thead th {\n",
       "        text-align: right;\n",
       "    }\n",
       "</style>\n",
       "<table border=\"1\" class=\"dataframe\">\n",
       "  <thead>\n",
       "    <tr style=\"text-align: right;\">\n",
       "      <th></th>\n",
       "      <th>laptop_ID</th>\n",
       "      <th>Price_in_euros</th>\n",
       "    </tr>\n",
       "  </thead>\n",
       "  <tbody>\n",
       "    <tr>\n",
       "      <th>0</th>\n",
       "      <td>209</td>\n",
       "      <td>1816.473618</td>\n",
       "    </tr>\n",
       "    <tr>\n",
       "      <th>1</th>\n",
       "      <td>1281</td>\n",
       "      <td>287.073736</td>\n",
       "    </tr>\n",
       "    <tr>\n",
       "      <th>2</th>\n",
       "      <td>1168</td>\n",
       "      <td>333.351992</td>\n",
       "    </tr>\n",
       "    <tr>\n",
       "      <th>3</th>\n",
       "      <td>1231</td>\n",
       "      <td>1065.951334</td>\n",
       "    </tr>\n",
       "    <tr>\n",
       "      <th>4</th>\n",
       "      <td>1020</td>\n",
       "      <td>960.032430</td>\n",
       "    </tr>\n",
       "  </tbody>\n",
       "</table>\n",
       "</div>"
      ],
      "text/plain": [
       "   laptop_ID  Price_in_euros\n",
       "0        209     1816.473618\n",
       "1       1281      287.073736\n",
       "2       1168      333.351992\n",
       "3       1231     1065.951334\n",
       "4       1020      960.032430"
      ]
     },
     "execution_count": 41,
     "metadata": {},
     "output_type": "execute_result"
    }
   ],
   "source": [
    "submission.head()"
   ]
  },
  {
   "cell_type": "code",
   "execution_count": 42,
   "metadata": {},
   "outputs": [
    {
     "data": {
      "text/plain": [
       "(391, 2)"
      ]
     },
     "execution_count": 42,
     "metadata": {},
     "output_type": "execute_result"
    }
   ],
   "source": [
    "submission.shape"
   ]
  },
  {
   "cell_type": "markdown",
   "metadata": {},
   "source": [
    "### 5. Pásale el CHEQUEADOR para comprobar que efectivamente está listo para subir a Kaggle."
   ]
  },
  {
   "cell_type": "code",
   "execution_count": 43,
   "metadata": {},
   "outputs": [],
   "source": [
    "def chequeador(df_to_submit):\n",
    "    \"\"\"\n",
    "    Esta función se asegura de que tu submission tenga la forma requerida por Kaggle.\n",
    "    \n",
    "    Si es así, se guardará el dataframe en un `csv` y estará listo para subir a Kaggle.\n",
    "    \n",
    "    Si no, LEE EL MENSAJE Y HAZLE CASO.\n",
    "    \n",
    "    Si aún no:\n",
    "    - apaga tu ordenador, \n",
    "    - date una vuelta, \n",
    "    - enciendelo otra vez, \n",
    "    - abre este notebook y \n",
    "    - leelo todo de nuevo. \n",
    "    Todos nos merecemos una segunda oportunidad. También tú.\n",
    "    \"\"\"\n",
    "    if df_to_submit.shape == sample.shape:\n",
    "        if df_to_submit.columns.all() == sample.columns.all():\n",
    "            if df_to_submit.laptop_ID.all() == sample.laptop_ID.all():\n",
    "                print(\"You're ready to submit!\")\n",
    "                submission.to_csv(\"submission.csv\", index = False) #muy importante el index = False\n",
    "                urllib.request.urlretrieve(\"https://www.mihaileric.com/static/evaluation-meme-e0a350f278a36346e6d46b139b1d0da0-ed51e.jpg\", \"gfg.png\")     \n",
    "                img = Image.open(\"gfg.png\")\n",
    "                img.show()   \n",
    "            else:\n",
    "                print(\"Check the ids and try again\")\n",
    "        else:\n",
    "            print(\"Check the names of the columns and try again\")\n",
    "    else:\n",
    "        print(\"Check the number of rows and/or columns and try again\")\n",
    "        print(\"\\nMensaje secreto del TA: No me puedo creer que después de todo este notebook hayas hecho algún cambio en las filas de `test.csv`. Lloro.\")"
   ]
  },
  {
   "cell_type": "code",
   "execution_count": 44,
   "metadata": {},
   "outputs": [
    {
     "name": "stdout",
     "output_type": "stream",
     "text": [
      "You're ready to submit!\n"
     ]
    }
   ],
   "source": [
    "chequeador(submission)"
   ]
  },
  {
   "cell_type": "code",
   "execution_count": null,
   "metadata": {},
   "outputs": [],
   "source": []
  }
 ],
 "metadata": {
  "kernelspec": {
   "display_name": "Python 3",
   "language": "python",
   "name": "python3"
  },
  "language_info": {
   "codemirror_mode": {
    "name": "ipython",
    "version": 3
   },
   "file_extension": ".py",
   "mimetype": "text/x-python",
   "name": "python",
   "nbconvert_exporter": "python",
   "pygments_lexer": "ipython3",
   "version": "3.9.13"
  }
 },
 "nbformat": 4,
 "nbformat_minor": 4
}
