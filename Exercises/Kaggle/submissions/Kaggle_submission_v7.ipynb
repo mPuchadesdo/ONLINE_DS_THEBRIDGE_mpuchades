{
 "cells": [
  {
   "cell_type": "markdown",
   "metadata": {},
   "source": [
    "## Kaggle – DataTops®\n",
    "Luismi ha decidido cambiar de aires y, por eso, ha comprado una tienda de portátiles. Sin embargo, su única especialidad es Data Science, por lo que ha decidido crear un modelo de ML para establecer los mejores precios.\n",
    "\n",
    "¿Podrías ayudar a Luismi a mejorar ese modelo?"
   ]
  },
  {
   "cell_type": "markdown",
   "metadata": {},
   "source": [
    "## Métrica: \n",
    "Error de raíz cuadrada media (RMSE) es la desviación estándar de los valores residuales (errores de predicción). Los valores residuales son una medida de la distancia de los puntos de datos de la línea de regresión; RMSE es una medida de cuál es el nivel de dispersión de estos valores residuales. En otras palabras, le indica el nivel de concentración de los datos en la línea de mejor ajuste.\n",
    "\n",
    "\n",
    "$$ RMSE = \\sqrt{\\frac{1}{n}\\Sigma_{i=1}^{n}{\\Big(\\frac{d_i -f_i}{\\sigma_i}\\Big)^2}}$$\n"
   ]
  },
  {
   "cell_type": "markdown",
   "metadata": {},
   "source": [
    "## Librerías"
   ]
  },
  {
   "cell_type": "code",
   "execution_count": 18,
   "metadata": {},
   "outputs": [],
   "source": [
    "import numpy as np\n",
    "import pandas as pd\n",
    "import toolbox_ML as tb\n",
    "import bootcampviztools as bt\n",
    "\n",
    "from PIL import Image\n",
    "from sklearn.preprocessing import OrdinalEncoder, OneHotEncoder\n",
    "from sklearn.model_selection import train_test_split, cross_val_score, GridSearchCV, RandomizedSearchCV\n",
    "from sklearn.metrics import mean_squared_error\n",
    "from sklearn.ensemble import RandomForestRegressor\n",
    "from lightgbm import LGBMRegressor\n",
    "from xgboost import XGBRFRegressor\n",
    "from catboost import CatBoostRegressor\n",
    "import urllib.request"
   ]
  },
  {
   "cell_type": "markdown",
   "metadata": {},
   "source": [
    "## Datos"
   ]
  },
  {
   "cell_type": "code",
   "execution_count": 19,
   "metadata": {},
   "outputs": [],
   "source": [
    "# Para que funcione necesitas bajarte los archivos de datos de Kaggle \n",
    "df = pd.read_csv(\"./data/train.csv\", index_col = 0)\n",
    "df.index.name = None"
   ]
  },
  {
   "cell_type": "code",
   "execution_count": 20,
   "metadata": {},
   "outputs": [],
   "source": [
    "df_bck_up = df.copy()"
   ]
  },
  {
   "cell_type": "markdown",
   "metadata": {},
   "source": [
    "## Exploración de los datos"
   ]
  },
  {
   "cell_type": "code",
   "execution_count": 21,
   "metadata": {},
   "outputs": [
    {
     "name": "stdout",
     "output_type": "stream",
     "text": [
      "<class 'pandas.core.frame.DataFrame'>\n",
      "Index: 912 entries, 755 to 229\n",
      "Data columns (total 12 columns):\n",
      " #   Column            Non-Null Count  Dtype  \n",
      "---  ------            --------------  -----  \n",
      " 0   Company           912 non-null    object \n",
      " 1   Product           912 non-null    object \n",
      " 2   TypeName          912 non-null    object \n",
      " 3   Inches            912 non-null    float64\n",
      " 4   ScreenResolution  912 non-null    object \n",
      " 5   Cpu               912 non-null    object \n",
      " 6   Ram               912 non-null    object \n",
      " 7   Memory            912 non-null    object \n",
      " 8   Gpu               912 non-null    object \n",
      " 9   OpSys             912 non-null    object \n",
      " 10  Weight            912 non-null    object \n",
      " 11  Price_in_euros    912 non-null    float64\n",
      "dtypes: float64(2), object(10)\n",
      "memory usage: 92.6+ KB\n"
     ]
    }
   ],
   "source": [
    "df.info()"
   ]
  },
  {
   "cell_type": "code",
   "execution_count": 22,
   "metadata": {},
   "outputs": [
    {
     "data": {
      "text/plain": [
       "Company             0\n",
       "Product             0\n",
       "TypeName            0\n",
       "Inches              0\n",
       "ScreenResolution    0\n",
       "Cpu                 0\n",
       "Ram                 0\n",
       "Memory              0\n",
       "Gpu                 0\n",
       "OpSys               0\n",
       "Weight              0\n",
       "Price_in_euros      0\n",
       "dtype: int64"
      ]
     },
     "execution_count": 22,
     "metadata": {},
     "output_type": "execute_result"
    }
   ],
   "source": [
    "df.isna().sum()"
   ]
  },
  {
   "cell_type": "code",
   "execution_count": 23,
   "metadata": {},
   "outputs": [
    {
     "data": {
      "text/html": [
       "<div>\n",
       "<style scoped>\n",
       "    .dataframe tbody tr th:only-of-type {\n",
       "        vertical-align: middle;\n",
       "    }\n",
       "\n",
       "    .dataframe tbody tr th {\n",
       "        vertical-align: top;\n",
       "    }\n",
       "\n",
       "    .dataframe thead th {\n",
       "        text-align: right;\n",
       "    }\n",
       "</style>\n",
       "<table border=\"1\" class=\"dataframe\">\n",
       "  <thead>\n",
       "    <tr style=\"text-align: right;\">\n",
       "      <th></th>\n",
       "      <th>Company</th>\n",
       "      <th>Product</th>\n",
       "      <th>TypeName</th>\n",
       "      <th>Inches</th>\n",
       "      <th>ScreenResolution</th>\n",
       "      <th>Cpu</th>\n",
       "      <th>Ram</th>\n",
       "      <th>Memory</th>\n",
       "      <th>Gpu</th>\n",
       "      <th>OpSys</th>\n",
       "      <th>Weight</th>\n",
       "      <th>Price_in_euros</th>\n",
       "    </tr>\n",
       "  </thead>\n",
       "  <tbody>\n",
       "    <tr>\n",
       "      <th>755</th>\n",
       "      <td>HP</td>\n",
       "      <td>250 G6</td>\n",
       "      <td>Notebook</td>\n",
       "      <td>15.6</td>\n",
       "      <td>Full HD 1920x1080</td>\n",
       "      <td>Intel Core i3 6006U 2GHz</td>\n",
       "      <td>8GB</td>\n",
       "      <td>256GB SSD</td>\n",
       "      <td>Intel HD Graphics 520</td>\n",
       "      <td>Windows 10</td>\n",
       "      <td>1.86kg</td>\n",
       "      <td>539.00</td>\n",
       "    </tr>\n",
       "    <tr>\n",
       "      <th>618</th>\n",
       "      <td>Dell</td>\n",
       "      <td>Inspiron 7559</td>\n",
       "      <td>Gaming</td>\n",
       "      <td>15.6</td>\n",
       "      <td>Full HD 1920x1080</td>\n",
       "      <td>Intel Core i7 6700HQ 2.6GHz</td>\n",
       "      <td>16GB</td>\n",
       "      <td>1TB HDD</td>\n",
       "      <td>Nvidia GeForce GTX 960&lt;U+039C&gt;</td>\n",
       "      <td>Windows 10</td>\n",
       "      <td>2.59kg</td>\n",
       "      <td>879.01</td>\n",
       "    </tr>\n",
       "    <tr>\n",
       "      <th>909</th>\n",
       "      <td>HP</td>\n",
       "      <td>ProBook 450</td>\n",
       "      <td>Notebook</td>\n",
       "      <td>15.6</td>\n",
       "      <td>Full HD 1920x1080</td>\n",
       "      <td>Intel Core i7 7500U 2.7GHz</td>\n",
       "      <td>8GB</td>\n",
       "      <td>1TB HDD</td>\n",
       "      <td>Nvidia GeForce 930MX</td>\n",
       "      <td>Windows 10</td>\n",
       "      <td>2.04kg</td>\n",
       "      <td>900.00</td>\n",
       "    </tr>\n",
       "    <tr>\n",
       "      <th>2</th>\n",
       "      <td>Apple</td>\n",
       "      <td>Macbook Air</td>\n",
       "      <td>Ultrabook</td>\n",
       "      <td>13.3</td>\n",
       "      <td>1440x900</td>\n",
       "      <td>Intel Core i5 1.8GHz</td>\n",
       "      <td>8GB</td>\n",
       "      <td>128GB Flash Storage</td>\n",
       "      <td>Intel HD Graphics 6000</td>\n",
       "      <td>macOS</td>\n",
       "      <td>1.34kg</td>\n",
       "      <td>898.94</td>\n",
       "    </tr>\n",
       "    <tr>\n",
       "      <th>286</th>\n",
       "      <td>Dell</td>\n",
       "      <td>Inspiron 3567</td>\n",
       "      <td>Notebook</td>\n",
       "      <td>15.6</td>\n",
       "      <td>Full HD 1920x1080</td>\n",
       "      <td>Intel Core i3 6006U 2.0GHz</td>\n",
       "      <td>4GB</td>\n",
       "      <td>1TB HDD</td>\n",
       "      <td>AMD Radeon R5 M430</td>\n",
       "      <td>Linux</td>\n",
       "      <td>2.25kg</td>\n",
       "      <td>428.00</td>\n",
       "    </tr>\n",
       "  </tbody>\n",
       "</table>\n",
       "</div>"
      ],
      "text/plain": [
       "    Company        Product   TypeName  Inches   ScreenResolution  \\\n",
       "755      HP         250 G6   Notebook    15.6  Full HD 1920x1080   \n",
       "618    Dell  Inspiron 7559     Gaming    15.6  Full HD 1920x1080   \n",
       "909      HP    ProBook 450   Notebook    15.6  Full HD 1920x1080   \n",
       "2     Apple    Macbook Air  Ultrabook    13.3           1440x900   \n",
       "286    Dell  Inspiron 3567   Notebook    15.6  Full HD 1920x1080   \n",
       "\n",
       "                             Cpu   Ram               Memory  \\\n",
       "755     Intel Core i3 6006U 2GHz   8GB            256GB SSD   \n",
       "618  Intel Core i7 6700HQ 2.6GHz  16GB              1TB HDD   \n",
       "909   Intel Core i7 7500U 2.7GHz   8GB              1TB HDD   \n",
       "2           Intel Core i5 1.8GHz   8GB  128GB Flash Storage   \n",
       "286   Intel Core i3 6006U 2.0GHz   4GB              1TB HDD   \n",
       "\n",
       "                                Gpu       OpSys  Weight  Price_in_euros  \n",
       "755           Intel HD Graphics 520  Windows 10  1.86kg          539.00  \n",
       "618  Nvidia GeForce GTX 960<U+039C>  Windows 10  2.59kg          879.01  \n",
       "909            Nvidia GeForce 930MX  Windows 10  2.04kg          900.00  \n",
       "2            Intel HD Graphics 6000       macOS  1.34kg          898.94  \n",
       "286              AMD Radeon R5 M430       Linux  2.25kg          428.00  "
      ]
     },
     "execution_count": 23,
     "metadata": {},
     "output_type": "execute_result"
    }
   ],
   "source": [
    "df.head()"
   ]
  },
  {
   "cell_type": "code",
   "execution_count": 24,
   "metadata": {},
   "outputs": [
    {
     "data": {
      "text/html": [
       "<div>\n",
       "<style scoped>\n",
       "    .dataframe tbody tr th:only-of-type {\n",
       "        vertical-align: middle;\n",
       "    }\n",
       "\n",
       "    .dataframe tbody tr th {\n",
       "        vertical-align: top;\n",
       "    }\n",
       "\n",
       "    .dataframe thead th {\n",
       "        text-align: right;\n",
       "    }\n",
       "</style>\n",
       "<table border=\"1\" class=\"dataframe\">\n",
       "  <thead>\n",
       "    <tr style=\"text-align: right;\">\n",
       "      <th></th>\n",
       "      <th>Company</th>\n",
       "      <th>Product</th>\n",
       "      <th>TypeName</th>\n",
       "      <th>Inches</th>\n",
       "      <th>ScreenResolution</th>\n",
       "      <th>Cpu</th>\n",
       "      <th>Ram</th>\n",
       "      <th>Memory</th>\n",
       "      <th>Gpu</th>\n",
       "      <th>OpSys</th>\n",
       "      <th>Weight</th>\n",
       "      <th>Price_in_euros</th>\n",
       "    </tr>\n",
       "  </thead>\n",
       "  <tbody>\n",
       "    <tr>\n",
       "      <th>28</th>\n",
       "      <td>Dell</td>\n",
       "      <td>Inspiron 5570</td>\n",
       "      <td>Notebook</td>\n",
       "      <td>15.6</td>\n",
       "      <td>Full HD 1920x1080</td>\n",
       "      <td>Intel Core i5 8250U 1.6GHz</td>\n",
       "      <td>8GB</td>\n",
       "      <td>256GB SSD</td>\n",
       "      <td>AMD Radeon 530</td>\n",
       "      <td>Windows 10</td>\n",
       "      <td>2.2kg</td>\n",
       "      <td>800.00</td>\n",
       "    </tr>\n",
       "    <tr>\n",
       "      <th>1160</th>\n",
       "      <td>HP</td>\n",
       "      <td>Spectre Pro</td>\n",
       "      <td>2 in 1 Convertible</td>\n",
       "      <td>13.3</td>\n",
       "      <td>Full HD / Touchscreen 1920x1080</td>\n",
       "      <td>Intel Core i5 6300U 2.4GHz</td>\n",
       "      <td>8GB</td>\n",
       "      <td>256GB SSD</td>\n",
       "      <td>Intel HD Graphics 520</td>\n",
       "      <td>Windows 10</td>\n",
       "      <td>1.48kg</td>\n",
       "      <td>1629.00</td>\n",
       "    </tr>\n",
       "    <tr>\n",
       "      <th>78</th>\n",
       "      <td>Lenovo</td>\n",
       "      <td>IdeaPad 320-15IKBN</td>\n",
       "      <td>Notebook</td>\n",
       "      <td>15.6</td>\n",
       "      <td>Full HD 1920x1080</td>\n",
       "      <td>Intel Core i5 7200U 2.5GHz</td>\n",
       "      <td>8GB</td>\n",
       "      <td>2TB HDD</td>\n",
       "      <td>Intel HD Graphics 620</td>\n",
       "      <td>No OS</td>\n",
       "      <td>2.2kg</td>\n",
       "      <td>519.00</td>\n",
       "    </tr>\n",
       "    <tr>\n",
       "      <th>23</th>\n",
       "      <td>HP</td>\n",
       "      <td>255 G6</td>\n",
       "      <td>Notebook</td>\n",
       "      <td>15.6</td>\n",
       "      <td>1366x768</td>\n",
       "      <td>AMD E-Series E2-9000e 1.5GHz</td>\n",
       "      <td>4GB</td>\n",
       "      <td>500GB HDD</td>\n",
       "      <td>AMD Radeon R2</td>\n",
       "      <td>No OS</td>\n",
       "      <td>1.86kg</td>\n",
       "      <td>258.00</td>\n",
       "    </tr>\n",
       "    <tr>\n",
       "      <th>229</th>\n",
       "      <td>Dell</td>\n",
       "      <td>Alienware 17</td>\n",
       "      <td>Gaming</td>\n",
       "      <td>17.3</td>\n",
       "      <td>IPS Panel Full HD 1920x1080</td>\n",
       "      <td>Intel Core i7 7700HQ 2.8GHz</td>\n",
       "      <td>16GB</td>\n",
       "      <td>256GB SSD +  1TB HDD</td>\n",
       "      <td>Nvidia GeForce GTX 1060</td>\n",
       "      <td>Windows 10</td>\n",
       "      <td>4.42kg</td>\n",
       "      <td>2456.34</td>\n",
       "    </tr>\n",
       "  </tbody>\n",
       "</table>\n",
       "</div>"
      ],
      "text/plain": [
       "     Company             Product            TypeName  Inches  \\\n",
       "28      Dell       Inspiron 5570            Notebook    15.6   \n",
       "1160      HP         Spectre Pro  2 in 1 Convertible    13.3   \n",
       "78    Lenovo  IdeaPad 320-15IKBN            Notebook    15.6   \n",
       "23        HP              255 G6            Notebook    15.6   \n",
       "229     Dell        Alienware 17              Gaming    17.3   \n",
       "\n",
       "                     ScreenResolution                           Cpu   Ram  \\\n",
       "28                  Full HD 1920x1080    Intel Core i5 8250U 1.6GHz   8GB   \n",
       "1160  Full HD / Touchscreen 1920x1080    Intel Core i5 6300U 2.4GHz   8GB   \n",
       "78                  Full HD 1920x1080    Intel Core i5 7200U 2.5GHz   8GB   \n",
       "23                           1366x768  AMD E-Series E2-9000e 1.5GHz   4GB   \n",
       "229       IPS Panel Full HD 1920x1080   Intel Core i7 7700HQ 2.8GHz  16GB   \n",
       "\n",
       "                    Memory                      Gpu       OpSys  Weight  \\\n",
       "28               256GB SSD           AMD Radeon 530  Windows 10   2.2kg   \n",
       "1160             256GB SSD    Intel HD Graphics 520  Windows 10  1.48kg   \n",
       "78                 2TB HDD    Intel HD Graphics 620       No OS   2.2kg   \n",
       "23               500GB HDD            AMD Radeon R2       No OS  1.86kg   \n",
       "229   256GB SSD +  1TB HDD  Nvidia GeForce GTX 1060  Windows 10  4.42kg   \n",
       "\n",
       "      Price_in_euros  \n",
       "28            800.00  \n",
       "1160         1629.00  \n",
       "78            519.00  \n",
       "23            258.00  \n",
       "229          2456.34  "
      ]
     },
     "execution_count": 24,
     "metadata": {},
     "output_type": "execute_result"
    }
   ],
   "source": [
    "df.tail()"
   ]
  },
  {
   "cell_type": "code",
   "execution_count": 25,
   "metadata": {},
   "outputs": [
    {
     "data": {
      "text/html": [
       "<div>\n",
       "<style scoped>\n",
       "    .dataframe tbody tr th:only-of-type {\n",
       "        vertical-align: middle;\n",
       "    }\n",
       "\n",
       "    .dataframe tbody tr th {\n",
       "        vertical-align: top;\n",
       "    }\n",
       "\n",
       "    .dataframe thead th {\n",
       "        text-align: right;\n",
       "    }\n",
       "</style>\n",
       "<table border=\"1\" class=\"dataframe\">\n",
       "  <thead>\n",
       "    <tr style=\"text-align: right;\">\n",
       "      <th></th>\n",
       "      <th>DATA_TYPE</th>\n",
       "      <th>MISSINGS (%)</th>\n",
       "      <th>UNIQUE_VALUES</th>\n",
       "      <th>CARDIN (%)</th>\n",
       "    </tr>\n",
       "  </thead>\n",
       "  <tbody>\n",
       "    <tr>\n",
       "      <th>Company</th>\n",
       "      <td>object</td>\n",
       "      <td>0</td>\n",
       "      <td>19</td>\n",
       "      <td>2.08</td>\n",
       "    </tr>\n",
       "    <tr>\n",
       "      <th>Product</th>\n",
       "      <td>object</td>\n",
       "      <td>0</td>\n",
       "      <td>480</td>\n",
       "      <td>52.63</td>\n",
       "    </tr>\n",
       "    <tr>\n",
       "      <th>TypeName</th>\n",
       "      <td>object</td>\n",
       "      <td>0</td>\n",
       "      <td>6</td>\n",
       "      <td>0.66</td>\n",
       "    </tr>\n",
       "    <tr>\n",
       "      <th>Inches</th>\n",
       "      <td>float64</td>\n",
       "      <td>0</td>\n",
       "      <td>17</td>\n",
       "      <td>1.86</td>\n",
       "    </tr>\n",
       "    <tr>\n",
       "      <th>ScreenResolution</th>\n",
       "      <td>object</td>\n",
       "      <td>0</td>\n",
       "      <td>36</td>\n",
       "      <td>3.95</td>\n",
       "    </tr>\n",
       "    <tr>\n",
       "      <th>Cpu</th>\n",
       "      <td>object</td>\n",
       "      <td>0</td>\n",
       "      <td>107</td>\n",
       "      <td>11.73</td>\n",
       "    </tr>\n",
       "    <tr>\n",
       "      <th>Ram</th>\n",
       "      <td>object</td>\n",
       "      <td>0</td>\n",
       "      <td>9</td>\n",
       "      <td>0.99</td>\n",
       "    </tr>\n",
       "    <tr>\n",
       "      <th>Memory</th>\n",
       "      <td>object</td>\n",
       "      <td>0</td>\n",
       "      <td>37</td>\n",
       "      <td>4.06</td>\n",
       "    </tr>\n",
       "    <tr>\n",
       "      <th>Gpu</th>\n",
       "      <td>object</td>\n",
       "      <td>0</td>\n",
       "      <td>93</td>\n",
       "      <td>10.2</td>\n",
       "    </tr>\n",
       "    <tr>\n",
       "      <th>OpSys</th>\n",
       "      <td>object</td>\n",
       "      <td>0</td>\n",
       "      <td>9</td>\n",
       "      <td>0.99</td>\n",
       "    </tr>\n",
       "    <tr>\n",
       "      <th>Weight</th>\n",
       "      <td>object</td>\n",
       "      <td>0</td>\n",
       "      <td>165</td>\n",
       "      <td>18.09</td>\n",
       "    </tr>\n",
       "    <tr>\n",
       "      <th>Price_in_euros</th>\n",
       "      <td>float64</td>\n",
       "      <td>0</td>\n",
       "      <td>603</td>\n",
       "      <td>66.12</td>\n",
       "    </tr>\n",
       "  </tbody>\n",
       "</table>\n",
       "</div>"
      ],
      "text/plain": [
       "                 DATA_TYPE MISSINGS (%) UNIQUE_VALUES CARDIN (%)\n",
       "Company             object            0            19       2.08\n",
       "Product             object            0           480      52.63\n",
       "TypeName            object            0             6       0.66\n",
       "Inches             float64            0            17       1.86\n",
       "ScreenResolution    object            0            36       3.95\n",
       "Cpu                 object            0           107      11.73\n",
       "Ram                 object            0             9       0.99\n",
       "Memory              object            0            37       4.06\n",
       "Gpu                 object            0            93       10.2\n",
       "OpSys               object            0             9       0.99\n",
       "Weight              object            0           165      18.09\n",
       "Price_in_euros     float64            0           603      66.12"
      ]
     },
     "execution_count": 25,
     "metadata": {},
     "output_type": "execute_result"
    }
   ],
   "source": [
    "tb.describe_df(df)"
   ]
  },
  {
   "cell_type": "code",
   "execution_count": 26,
   "metadata": {},
   "outputs": [
    {
     "data": {
      "text/html": [
       "<div>\n",
       "<style scoped>\n",
       "    .dataframe tbody tr th:only-of-type {\n",
       "        vertical-align: middle;\n",
       "    }\n",
       "\n",
       "    .dataframe tbody tr th {\n",
       "        vertical-align: top;\n",
       "    }\n",
       "\n",
       "    .dataframe thead th {\n",
       "        text-align: right;\n",
       "    }\n",
       "</style>\n",
       "<table border=\"1\" class=\"dataframe\">\n",
       "  <thead>\n",
       "    <tr style=\"text-align: right;\">\n",
       "      <th></th>\n",
       "      <th>variable</th>\n",
       "      <th>tipo</th>\n",
       "    </tr>\n",
       "  </thead>\n",
       "  <tbody>\n",
       "    <tr>\n",
       "      <th>0</th>\n",
       "      <td>Company</td>\n",
       "      <td>Numérica Discreta</td>\n",
       "    </tr>\n",
       "    <tr>\n",
       "      <th>1</th>\n",
       "      <td>Product</td>\n",
       "      <td>Numérica Continua</td>\n",
       "    </tr>\n",
       "    <tr>\n",
       "      <th>2</th>\n",
       "      <td>TypeName</td>\n",
       "      <td>Categórica</td>\n",
       "    </tr>\n",
       "    <tr>\n",
       "      <th>3</th>\n",
       "      <td>Inches</td>\n",
       "      <td>Numérica Discreta</td>\n",
       "    </tr>\n",
       "    <tr>\n",
       "      <th>4</th>\n",
       "      <td>ScreenResolution</td>\n",
       "      <td>Numérica Discreta</td>\n",
       "    </tr>\n",
       "    <tr>\n",
       "      <th>5</th>\n",
       "      <td>Cpu</td>\n",
       "      <td>Numérica Discreta</td>\n",
       "    </tr>\n",
       "    <tr>\n",
       "      <th>6</th>\n",
       "      <td>Ram</td>\n",
       "      <td>Categórica</td>\n",
       "    </tr>\n",
       "    <tr>\n",
       "      <th>7</th>\n",
       "      <td>Memory</td>\n",
       "      <td>Numérica Discreta</td>\n",
       "    </tr>\n",
       "    <tr>\n",
       "      <th>8</th>\n",
       "      <td>Gpu</td>\n",
       "      <td>Numérica Discreta</td>\n",
       "    </tr>\n",
       "    <tr>\n",
       "      <th>9</th>\n",
       "      <td>OpSys</td>\n",
       "      <td>Categórica</td>\n",
       "    </tr>\n",
       "    <tr>\n",
       "      <th>10</th>\n",
       "      <td>Weight</td>\n",
       "      <td>Numérica Continua</td>\n",
       "    </tr>\n",
       "    <tr>\n",
       "      <th>11</th>\n",
       "      <td>Price_in_euros</td>\n",
       "      <td>Numérica Continua</td>\n",
       "    </tr>\n",
       "  </tbody>\n",
       "</table>\n",
       "</div>"
      ],
      "text/plain": [
       "            variable               tipo\n",
       "0            Company  Numérica Discreta\n",
       "1            Product  Numérica Continua\n",
       "2           TypeName         Categórica\n",
       "3             Inches  Numérica Discreta\n",
       "4   ScreenResolution  Numérica Discreta\n",
       "5                Cpu  Numérica Discreta\n",
       "6                Ram         Categórica\n",
       "7             Memory  Numérica Discreta\n",
       "8                Gpu  Numérica Discreta\n",
       "9              OpSys         Categórica\n",
       "10            Weight  Numérica Continua\n",
       "11    Price_in_euros  Numérica Continua"
      ]
     },
     "execution_count": 26,
     "metadata": {},
     "output_type": "execute_result"
    }
   ],
   "source": [
    "tb.tipifica_variables(df)"
   ]
  },
  {
   "cell_type": "markdown",
   "metadata": {},
   "source": [
    "## Procesado de datos"
   ]
  },
  {
   "cell_type": "code",
   "execution_count": 27,
   "metadata": {},
   "outputs": [],
   "source": [
    "target = \"Price_in_euros\""
   ]
  },
  {
   "cell_type": "code",
   "execution_count": 28,
   "metadata": {},
   "outputs": [],
   "source": [
    "df.drop_duplicates(keep = \"first\", inplace = True)"
   ]
  },
  {
   "cell_type": "code",
   "execution_count": 29,
   "metadata": {},
   "outputs": [],
   "source": [
    "df[\"inches\"] = df.Inches.astype(float)\n",
    "df['ram_gb'] = df['Ram'].str.replace('GB', '').astype(int)\n",
    "df[\"weight_kg\"] = df['Weight'].str.replace('kg', '').astype(float)\n",
    "df.drop(columns = [\"Inches\", \"Ram\", \"Weight\"], inplace = True)"
   ]
  },
  {
   "cell_type": "code",
   "execution_count": 30,
   "metadata": {},
   "outputs": [
    {
     "name": "stdout",
     "output_type": "stream",
     "text": [
      "['Company', 'Product', 'TypeName', 'ScreenResolution', 'Cpu', 'Memory', 'Gpu', 'OpSys']\n"
     ]
    }
   ],
   "source": [
    "feat_sel = tb.get_features_cat_regression(df, \"Price_in_euros\")\n",
    "print(feat_sel)"
   ]
  },
  {
   "cell_type": "code",
   "execution_count": 31,
   "metadata": {},
   "outputs": [
    {
     "data": {
      "text/plain": [
       "[]"
      ]
     },
     "execution_count": 31,
     "metadata": {},
     "output_type": "execute_result"
    }
   ],
   "source": [
    "tb.get_features_num_regression(df, \"Price_in_euros\", 0.6)"
   ]
  },
  {
   "cell_type": "code",
   "execution_count": 38,
   "metadata": {},
   "outputs": [],
   "source": [
    "columns = ['Company', 'Product', 'TypeName', 'Cpu', 'Memory', 'Gpu', 'inches', 'ram_gb']\n",
    "columns_dummies = ['Company', 'Product', 'TypeName', 'Cpu', 'Memory', 'Gpu']"
   ]
  },
  {
   "cell_type": "code",
   "execution_count": 37,
   "metadata": {},
   "outputs": [],
   "source": [
    "df2 = df[columns]"
   ]
  },
  {
   "cell_type": "code",
   "execution_count": 39,
   "metadata": {},
   "outputs": [],
   "source": [
    "df2 = pd.get_dummies(df2, columns = columns_dummies, dtype = int)"
   ]
  },
  {
   "cell_type": "code",
   "execution_count": 40,
   "metadata": {},
   "outputs": [
    {
     "name": "stdout",
     "output_type": "stream",
     "text": [
      "<class 'pandas.core.frame.DataFrame'>\n",
      "Index: 891 entries, 755 to 229\n",
      "Columns: 744 entries, inches to Gpu_Nvidia Quadro M620M\n",
      "dtypes: float64(1), int32(743)\n",
      "memory usage: 2.5 MB\n"
     ]
    }
   ],
   "source": [
    "df2.info()"
   ]
  },
  {
   "cell_type": "markdown",
   "metadata": {},
   "source": [
    "Nuestro target es la columna `Price_in_euros`"
   ]
  },
  {
   "cell_type": "markdown",
   "metadata": {},
   "source": [
    "-----------------------------------------------------------------------------------------------------------------"
   ]
  },
  {
   "cell_type": "markdown",
   "metadata": {},
   "source": [
    "## Modelado"
   ]
  },
  {
   "cell_type": "markdown",
   "metadata": {},
   "source": [
    "### 1. Definir X e y"
   ]
  },
  {
   "cell_type": "code",
   "execution_count": 41,
   "metadata": {},
   "outputs": [],
   "source": [
    "X = df2\n",
    "y = df[target]"
   ]
  },
  {
   "cell_type": "markdown",
   "metadata": {},
   "source": [
    "### 2. Dividir X_train, X_test, y_train, y_test"
   ]
  },
  {
   "cell_type": "code",
   "execution_count": 42,
   "metadata": {},
   "outputs": [],
   "source": [
    "X_train, X_test, y_train, y_test = train_test_split(X, y, test_size = 0.20, random_state = 42)"
   ]
  },
  {
   "cell_type": "code",
   "execution_count": 43,
   "metadata": {},
   "outputs": [
    {
     "data": {
      "text/html": [
       "<div>\n",
       "<style scoped>\n",
       "    .dataframe tbody tr th:only-of-type {\n",
       "        vertical-align: middle;\n",
       "    }\n",
       "\n",
       "    .dataframe tbody tr th {\n",
       "        vertical-align: top;\n",
       "    }\n",
       "\n",
       "    .dataframe thead th {\n",
       "        text-align: right;\n",
       "    }\n",
       "</style>\n",
       "<table border=\"1\" class=\"dataframe\">\n",
       "  <thead>\n",
       "    <tr style=\"text-align: right;\">\n",
       "      <th></th>\n",
       "      <th>inches</th>\n",
       "      <th>ram_gb</th>\n",
       "      <th>Company_Acer</th>\n",
       "      <th>Company_Apple</th>\n",
       "      <th>Company_Asus</th>\n",
       "      <th>Company_Chuwi</th>\n",
       "      <th>Company_Dell</th>\n",
       "      <th>Company_Fujitsu</th>\n",
       "      <th>Company_Google</th>\n",
       "      <th>Company_HP</th>\n",
       "      <th>...</th>\n",
       "      <th>Gpu_Nvidia GeForce MX130</th>\n",
       "      <th>Gpu_Nvidia GeForce MX150</th>\n",
       "      <th>Gpu_Nvidia Quadro M1000M</th>\n",
       "      <th>Gpu_Nvidia Quadro M1200</th>\n",
       "      <th>Gpu_Nvidia Quadro M2000M</th>\n",
       "      <th>Gpu_Nvidia Quadro M2200M</th>\n",
       "      <th>Gpu_Nvidia Quadro M3000M</th>\n",
       "      <th>Gpu_Nvidia Quadro M500M</th>\n",
       "      <th>Gpu_Nvidia Quadro M620</th>\n",
       "      <th>Gpu_Nvidia Quadro M620M</th>\n",
       "    </tr>\n",
       "  </thead>\n",
       "  <tbody>\n",
       "    <tr>\n",
       "      <th>112</th>\n",
       "      <td>14.0</td>\n",
       "      <td>8</td>\n",
       "      <td>0</td>\n",
       "      <td>0</td>\n",
       "      <td>0</td>\n",
       "      <td>0</td>\n",
       "      <td>0</td>\n",
       "      <td>0</td>\n",
       "      <td>0</td>\n",
       "      <td>0</td>\n",
       "      <td>...</td>\n",
       "      <td>0</td>\n",
       "      <td>0</td>\n",
       "      <td>0</td>\n",
       "      <td>0</td>\n",
       "      <td>0</td>\n",
       "      <td>0</td>\n",
       "      <td>0</td>\n",
       "      <td>0</td>\n",
       "      <td>0</td>\n",
       "      <td>0</td>\n",
       "    </tr>\n",
       "    <tr>\n",
       "      <th>13</th>\n",
       "      <td>15.4</td>\n",
       "      <td>16</td>\n",
       "      <td>0</td>\n",
       "      <td>1</td>\n",
       "      <td>0</td>\n",
       "      <td>0</td>\n",
       "      <td>0</td>\n",
       "      <td>0</td>\n",
       "      <td>0</td>\n",
       "      <td>0</td>\n",
       "      <td>...</td>\n",
       "      <td>0</td>\n",
       "      <td>0</td>\n",
       "      <td>0</td>\n",
       "      <td>0</td>\n",
       "      <td>0</td>\n",
       "      <td>0</td>\n",
       "      <td>0</td>\n",
       "      <td>0</td>\n",
       "      <td>0</td>\n",
       "      <td>0</td>\n",
       "    </tr>\n",
       "    <tr>\n",
       "      <th>1190</th>\n",
       "      <td>15.6</td>\n",
       "      <td>4</td>\n",
       "      <td>0</td>\n",
       "      <td>0</td>\n",
       "      <td>1</td>\n",
       "      <td>0</td>\n",
       "      <td>0</td>\n",
       "      <td>0</td>\n",
       "      <td>0</td>\n",
       "      <td>0</td>\n",
       "      <td>...</td>\n",
       "      <td>0</td>\n",
       "      <td>0</td>\n",
       "      <td>0</td>\n",
       "      <td>0</td>\n",
       "      <td>0</td>\n",
       "      <td>0</td>\n",
       "      <td>0</td>\n",
       "      <td>0</td>\n",
       "      <td>0</td>\n",
       "      <td>0</td>\n",
       "    </tr>\n",
       "    <tr>\n",
       "      <th>55</th>\n",
       "      <td>15.6</td>\n",
       "      <td>4</td>\n",
       "      <td>1</td>\n",
       "      <td>0</td>\n",
       "      <td>0</td>\n",
       "      <td>0</td>\n",
       "      <td>0</td>\n",
       "      <td>0</td>\n",
       "      <td>0</td>\n",
       "      <td>0</td>\n",
       "      <td>...</td>\n",
       "      <td>0</td>\n",
       "      <td>0</td>\n",
       "      <td>0</td>\n",
       "      <td>0</td>\n",
       "      <td>0</td>\n",
       "      <td>0</td>\n",
       "      <td>0</td>\n",
       "      <td>0</td>\n",
       "      <td>0</td>\n",
       "      <td>0</td>\n",
       "    </tr>\n",
       "    <tr>\n",
       "      <th>1043</th>\n",
       "      <td>17.3</td>\n",
       "      <td>8</td>\n",
       "      <td>0</td>\n",
       "      <td>0</td>\n",
       "      <td>0</td>\n",
       "      <td>0</td>\n",
       "      <td>0</td>\n",
       "      <td>0</td>\n",
       "      <td>0</td>\n",
       "      <td>1</td>\n",
       "      <td>...</td>\n",
       "      <td>0</td>\n",
       "      <td>0</td>\n",
       "      <td>0</td>\n",
       "      <td>0</td>\n",
       "      <td>0</td>\n",
       "      <td>0</td>\n",
       "      <td>0</td>\n",
       "      <td>0</td>\n",
       "      <td>0</td>\n",
       "      <td>0</td>\n",
       "    </tr>\n",
       "  </tbody>\n",
       "</table>\n",
       "<p>5 rows × 744 columns</p>\n",
       "</div>"
      ],
      "text/plain": [
       "      inches  ram_gb  Company_Acer  Company_Apple  Company_Asus  \\\n",
       "112     14.0       8             0              0             0   \n",
       "13      15.4      16             0              1             0   \n",
       "1190    15.6       4             0              0             1   \n",
       "55      15.6       4             1              0             0   \n",
       "1043    17.3       8             0              0             0   \n",
       "\n",
       "      Company_Chuwi  Company_Dell  Company_Fujitsu  Company_Google  \\\n",
       "112               0             0                0               0   \n",
       "13                0             0                0               0   \n",
       "1190              0             0                0               0   \n",
       "55                0             0                0               0   \n",
       "1043              0             0                0               0   \n",
       "\n",
       "      Company_HP  ...  Gpu_Nvidia GeForce MX130  Gpu_Nvidia GeForce MX150  \\\n",
       "112            0  ...                         0                         0   \n",
       "13             0  ...                         0                         0   \n",
       "1190           0  ...                         0                         0   \n",
       "55             0  ...                         0                         0   \n",
       "1043           1  ...                         0                         0   \n",
       "\n",
       "      Gpu_Nvidia Quadro M1000M  Gpu_Nvidia Quadro M1200  \\\n",
       "112                          0                        0   \n",
       "13                           0                        0   \n",
       "1190                         0                        0   \n",
       "55                           0                        0   \n",
       "1043                         0                        0   \n",
       "\n",
       "      Gpu_Nvidia Quadro M2000M  Gpu_Nvidia Quadro M2200M  \\\n",
       "112                          0                         0   \n",
       "13                           0                         0   \n",
       "1190                         0                         0   \n",
       "55                           0                         0   \n",
       "1043                         0                         0   \n",
       "\n",
       "      Gpu_Nvidia Quadro M3000M  Gpu_Nvidia Quadro M500M  \\\n",
       "112                          0                        0   \n",
       "13                           0                        0   \n",
       "1190                         0                        0   \n",
       "55                           0                        0   \n",
       "1043                         0                        0   \n",
       "\n",
       "      Gpu_Nvidia Quadro M620  Gpu_Nvidia Quadro M620M  \n",
       "112                        0                        0  \n",
       "13                         0                        0  \n",
       "1190                       0                        0  \n",
       "55                         0                        0  \n",
       "1043                       0                        0  \n",
       "\n",
       "[5 rows x 744 columns]"
      ]
     },
     "execution_count": 43,
     "metadata": {},
     "output_type": "execute_result"
    }
   ],
   "source": [
    "X_train.head()"
   ]
  },
  {
   "cell_type": "code",
   "execution_count": 44,
   "metadata": {},
   "outputs": [
    {
     "data": {
      "text/plain": [
       "112     1480.00\n",
       "13      2439.97\n",
       "1190     369.00\n",
       "55       384.00\n",
       "1043    1080.00\n",
       "Name: Price_in_euros, dtype: float64"
      ]
     },
     "execution_count": 44,
     "metadata": {},
     "output_type": "execute_result"
    }
   ],
   "source": [
    "y_train.head()"
   ]
  },
  {
   "cell_type": "code",
   "execution_count": 45,
   "metadata": {},
   "outputs": [],
   "source": [
    "X_train.columns = X_train.columns.str.replace(r'[\\[\\]<>]', '', regex=True)\n",
    "X_train.columns = X_train.columns.astype(str)\n",
    "\n",
    "X_test.columns = X_test.columns.str.replace(r'[\\[\\]<>]', '', regex=True)\n",
    "X_test.columns = X_test.columns.astype(str)"
   ]
  },
  {
   "cell_type": "markdown",
   "metadata": {},
   "source": [
    "### 3. Baseline de modelos\n"
   ]
  },
  {
   "cell_type": "code",
   "execution_count": 46,
   "metadata": {},
   "outputs": [
    {
     "name": "stdout",
     "output_type": "stream",
     "text": [
      "{'model': 'Random Forest', 'RSME': -306.3150718047414}\n",
      "{'model': 'XGBoost', 'RSME': -341.13395202128834}\n",
      "0:\tlearn: 545.3224516\ttotal: 151ms\tremaining: 14.9s\n",
      "99:\tlearn: 146.7681623\ttotal: 395ms\tremaining: 0us\n",
      "0:\tlearn: 495.2017750\ttotal: 2.8ms\tremaining: 277ms\n",
      "99:\tlearn: 137.8323770\ttotal: 251ms\tremaining: 0us\n",
      "0:\tlearn: 516.7795859\ttotal: 2.95ms\tremaining: 292ms\n",
      "99:\tlearn: 151.0118174\ttotal: 262ms\tremaining: 0us\n",
      "0:\tlearn: 536.2130587\ttotal: 3.48ms\tremaining: 345ms\n",
      "99:\tlearn: 149.6093390\ttotal: 267ms\tremaining: 0us\n",
      "0:\tlearn: 481.4967007\ttotal: 2.75ms\tremaining: 273ms\n",
      "99:\tlearn: 143.6477830\ttotal: 247ms\tremaining: 0us\n",
      "{'model': 'Catboost', 'RSME': -296.97530434141675}\n"
     ]
    },
    {
     "data": {
      "text/html": [
       "<div>\n",
       "<style scoped>\n",
       "    .dataframe tbody tr th:only-of-type {\n",
       "        vertical-align: middle;\n",
       "    }\n",
       "\n",
       "    .dataframe tbody tr th {\n",
       "        vertical-align: top;\n",
       "    }\n",
       "\n",
       "    .dataframe thead th {\n",
       "        text-align: right;\n",
       "    }\n",
       "</style>\n",
       "<table border=\"1\" class=\"dataframe\">\n",
       "  <thead>\n",
       "    <tr style=\"text-align: right;\">\n",
       "      <th></th>\n",
       "      <th>model</th>\n",
       "      <th>RSME</th>\n",
       "    </tr>\n",
       "  </thead>\n",
       "  <tbody>\n",
       "    <tr>\n",
       "      <th>2</th>\n",
       "      <td>Catboost</td>\n",
       "      <td>-296.975304</td>\n",
       "    </tr>\n",
       "    <tr>\n",
       "      <th>0</th>\n",
       "      <td>Random Forest</td>\n",
       "      <td>-306.315072</td>\n",
       "    </tr>\n",
       "    <tr>\n",
       "      <th>1</th>\n",
       "      <td>XGBoost</td>\n",
       "      <td>-341.133952</td>\n",
       "    </tr>\n",
       "  </tbody>\n",
       "</table>\n",
       "</div>"
      ],
      "text/plain": [
       "           model        RSME\n",
       "2       Catboost -296.975304\n",
       "0  Random Forest -306.315072\n",
       "1        XGBoost -341.133952"
      ]
     },
     "execution_count": 46,
     "metadata": {},
     "output_type": "execute_result"
    }
   ],
   "source": [
    "model_names = [\"Random Forest\", \"XGBoost\", \"Catboost\"]\n",
    "rf_reg = RandomForestRegressor(random_state = 42)\n",
    "xg_reg = XGBRFRegressor(random_state = 42)\n",
    "# lgb_reg = LGBMRegressor(random_state = 42, verbose = -100, n_jobs = -1)\n",
    "cat_reg = CatBoostRegressor(n_estimators = 100, depth = 5, learning_rate = 0.5, verbose = 100)\n",
    "models = [rf_reg, xg_reg, cat_reg]\n",
    "\n",
    "resultados = []\n",
    "\n",
    "for model_name, modelo in zip(model_names, models):\n",
    "    metrica = np.mean(cross_val_score(modelo, X_train, y_train, cv = 5, scoring  = \"neg_root_mean_squared_error\"))\n",
    "    data = {\n",
    "        \"model\": model_name,\n",
    "        \"RSME\": metrica\n",
    "    }\n",
    "    print(data)\n",
    "    resultados.append(data.copy())\n",
    "df_resultados = pd.DataFrame(resultados)\n",
    "df_resultados.sort_values(\"RSME\", ascending = False)"
   ]
  },
  {
   "cell_type": "code",
   "execution_count": 47,
   "metadata": {},
   "outputs": [
    {
     "name": "stdout",
     "output_type": "stream",
     "text": [
      "0:\tlearn: 520.7856286\ttotal: 3.57ms\tremaining: 353ms\n",
      "99:\tlearn: 143.4470276\ttotal: 288ms\tremaining: 0us\n"
     ]
    },
    {
     "data": {
      "text/plain": [
       "<catboost.core.CatBoostRegressor at 0x1cb05741c70>"
      ]
     },
     "execution_count": 47,
     "metadata": {},
     "output_type": "execute_result"
    }
   ],
   "source": [
    "cat_reg.fit(X_train, y_train)"
   ]
  },
  {
   "cell_type": "code",
   "execution_count": 48,
   "metadata": {},
   "outputs": [],
   "source": [
    "y_pred = cat_reg.predict(X_test)"
   ]
  },
  {
   "cell_type": "code",
   "execution_count": 50,
   "metadata": {},
   "outputs": [
    {
     "name": "stdout",
     "output_type": "stream",
     "text": [
      "0:\tlearn: 643.1898351\ttotal: 15.2ms\tremaining: 30.4s\n",
      "100:\tlearn: 234.4615205\ttotal: 1.6s\tremaining: 30.1s\n",
      "200:\tlearn: 175.6823152\ttotal: 3.12s\tremaining: 27.9s\n",
      "300:\tlearn: 148.1730599\ttotal: 4.58s\tremaining: 25.9s\n",
      "400:\tlearn: 128.4916494\ttotal: 5.96s\tremaining: 23.7s\n",
      "500:\tlearn: 114.2763055\ttotal: 7.06s\tremaining: 21.1s\n",
      "600:\tlearn: 103.2332028\ttotal: 8.09s\tremaining: 18.8s\n",
      "700:\tlearn: 94.7330445\ttotal: 9.2s\tremaining: 17s\n",
      "800:\tlearn: 87.2032003\ttotal: 10.3s\tremaining: 15.4s\n",
      "900:\tlearn: 80.5438072\ttotal: 11.3s\tremaining: 13.8s\n",
      "1000:\tlearn: 75.1983257\ttotal: 12.3s\tremaining: 12.3s\n",
      "1100:\tlearn: 70.5056681\ttotal: 13.5s\tremaining: 11s\n",
      "1200:\tlearn: 65.4831717\ttotal: 14.5s\tremaining: 9.67s\n",
      "1300:\tlearn: 62.0032818\ttotal: 15.5s\tremaining: 8.35s\n",
      "1400:\tlearn: 58.7900357\ttotal: 16.6s\tremaining: 7.09s\n",
      "1500:\tlearn: 56.2790459\ttotal: 17.6s\tremaining: 5.84s\n",
      "1600:\tlearn: 53.0928206\ttotal: 18.6s\tremaining: 4.64s\n",
      "1700:\tlearn: 50.4250087\ttotal: 19.7s\tremaining: 3.46s\n",
      "1800:\tlearn: 48.5554666\ttotal: 20.7s\tremaining: 2.29s\n",
      "1900:\tlearn: 46.6126838\ttotal: 21.8s\tremaining: 1.14s\n",
      "1999:\tlearn: 44.9133802\ttotal: 22.9s\tremaining: 0us\n",
      "-290.1451904768979\n"
     ]
    }
   ],
   "source": [
    "# cat_reg = CatBoostRegressor(n_estimators = 100, depth = 5, learning_rate = 0.5, verbose = 100)\n",
    "\n",
    "cat_reg = CatBoostRegressor(verbose = 100)\n",
    "\n",
    "param_grid = {\n",
    "    'iterations': [500, 1000, 2000],  # Cuántos árboles usar\n",
    "    'learning_rate': [0.01, 0.05, 0.1],  # Tasa de aprendizaje\n",
    "    'depth': [4, 8, 10],  # Profundidad de los árboles\n",
    "    'l2_leaf_reg': [1, 4, 10],  # Regularización L2\n",
    "    'colsample_bylevel': [0.8, 1]  # Porcentaje de features usadas por nivel del árbol\n",
    "}\n",
    "\n",
    "grid_model = RandomizedSearchCV(cat_reg, param_distributions = param_grid, n_iter = 20, scoring = \"neg_root_mean_squared_error\", cv = 4, n_jobs= -1, random_state = 42)\n",
    "\n",
    "grid_model.fit(X_train, y_train)\n",
    "\n",
    "print(grid_model.best_score_)\n",
    "best_model = grid_model.best_estimator_"
   ]
  },
  {
   "cell_type": "markdown",
   "metadata": {},
   "source": [
    "### 4. Sacar métricas, valorar los modelos \n",
    "\n",
    "Recuerda que en la competición se va a evaluar con la métrica de ``RMSE``."
   ]
  },
  {
   "cell_type": "code",
   "execution_count": 51,
   "metadata": {},
   "outputs": [],
   "source": [
    "y_pred = best_model.predict(X_test)"
   ]
  },
  {
   "cell_type": "code",
   "execution_count": 52,
   "metadata": {},
   "outputs": [
    {
     "name": "stdout",
     "output_type": "stream",
     "text": [
      "322.8170917449438\n"
     ]
    }
   ],
   "source": [
    "print(np.sqrt(mean_squared_error(y_test, y_pred)))"
   ]
  },
  {
   "cell_type": "markdown",
   "metadata": {},
   "source": [
    "-----------------------------------------------------------------"
   ]
  },
  {
   "cell_type": "markdown",
   "metadata": {},
   "source": [
    "## Una vez listo el modelo, toca predecir ``test.csv``"
   ]
  },
  {
   "cell_type": "markdown",
   "metadata": {},
   "source": [
    "**RECUERDA: APLICAR LAS TRANSFORMACIONES QUE HAYAS REALIZADO EN `train.csv` a `test.csv`.**\n",
    "\n",
    "\n",
    "Véase:\n",
    "- Estandarización/Normalización\n",
    "- Eliminación de Outliers\n",
    "- Eliminación de columnas\n",
    "- Creación de columnas nuevas\n",
    "- Gestión de valores nulos\n",
    "- Y un largo etcétera de técnicas que como Data Scientist hayas considerado las mejores para tu dataset."
   ]
  },
  {
   "cell_type": "markdown",
   "metadata": {},
   "source": [
    "### 1. Carga los datos de `test.csv` para predecir.\n"
   ]
  },
  {
   "cell_type": "code",
   "execution_count": 53,
   "metadata": {},
   "outputs": [
    {
     "data": {
      "text/html": [
       "<div>\n",
       "<style scoped>\n",
       "    .dataframe tbody tr th:only-of-type {\n",
       "        vertical-align: middle;\n",
       "    }\n",
       "\n",
       "    .dataframe tbody tr th {\n",
       "        vertical-align: top;\n",
       "    }\n",
       "\n",
       "    .dataframe thead th {\n",
       "        text-align: right;\n",
       "    }\n",
       "</style>\n",
       "<table border=\"1\" class=\"dataframe\">\n",
       "  <thead>\n",
       "    <tr style=\"text-align: right;\">\n",
       "      <th></th>\n",
       "      <th>Company</th>\n",
       "      <th>Product</th>\n",
       "      <th>TypeName</th>\n",
       "      <th>Inches</th>\n",
       "      <th>ScreenResolution</th>\n",
       "      <th>Cpu</th>\n",
       "      <th>Ram</th>\n",
       "      <th>Memory</th>\n",
       "      <th>Gpu</th>\n",
       "      <th>OpSys</th>\n",
       "      <th>Weight</th>\n",
       "    </tr>\n",
       "  </thead>\n",
       "  <tbody>\n",
       "    <tr>\n",
       "      <th>209</th>\n",
       "      <td>Lenovo</td>\n",
       "      <td>Legion Y520-15IKBN</td>\n",
       "      <td>Gaming</td>\n",
       "      <td>15.6</td>\n",
       "      <td>Full HD 1920x1080</td>\n",
       "      <td>Intel Core i7 7700HQ 2.8GHz</td>\n",
       "      <td>16GB</td>\n",
       "      <td>512GB SSD</td>\n",
       "      <td>Nvidia GeForce GTX 1060</td>\n",
       "      <td>No OS</td>\n",
       "      <td>2.4kg</td>\n",
       "    </tr>\n",
       "    <tr>\n",
       "      <th>1281</th>\n",
       "      <td>Acer</td>\n",
       "      <td>Aspire ES1-531</td>\n",
       "      <td>Notebook</td>\n",
       "      <td>15.6</td>\n",
       "      <td>1366x768</td>\n",
       "      <td>Intel Celeron Dual Core N3060 1.6GHz</td>\n",
       "      <td>4GB</td>\n",
       "      <td>500GB HDD</td>\n",
       "      <td>Intel HD Graphics 400</td>\n",
       "      <td>Linux</td>\n",
       "      <td>2.4kg</td>\n",
       "    </tr>\n",
       "    <tr>\n",
       "      <th>1168</th>\n",
       "      <td>Lenovo</td>\n",
       "      <td>V110-15ISK (i3-6006U/4GB/1TB/No</td>\n",
       "      <td>Notebook</td>\n",
       "      <td>15.6</td>\n",
       "      <td>1366x768</td>\n",
       "      <td>Intel Core i3 6006U 2.0GHz</td>\n",
       "      <td>4GB</td>\n",
       "      <td>1TB HDD</td>\n",
       "      <td>Intel HD Graphics 520</td>\n",
       "      <td>No OS</td>\n",
       "      <td>1.9kg</td>\n",
       "    </tr>\n",
       "    <tr>\n",
       "      <th>1231</th>\n",
       "      <td>Dell</td>\n",
       "      <td>Inspiron 7579</td>\n",
       "      <td>2 in 1 Convertible</td>\n",
       "      <td>15.6</td>\n",
       "      <td>IPS Panel Full HD / Touchscreen 1920x1080</td>\n",
       "      <td>Intel Core i5 7200U 2.5GHz</td>\n",
       "      <td>8GB</td>\n",
       "      <td>256GB SSD</td>\n",
       "      <td>Intel HD Graphics 620</td>\n",
       "      <td>Windows 10</td>\n",
       "      <td>2.191kg</td>\n",
       "    </tr>\n",
       "    <tr>\n",
       "      <th>1020</th>\n",
       "      <td>HP</td>\n",
       "      <td>ProBook 640</td>\n",
       "      <td>Notebook</td>\n",
       "      <td>14.0</td>\n",
       "      <td>Full HD 1920x1080</td>\n",
       "      <td>Intel Core i5 7200U 2.5GHz</td>\n",
       "      <td>4GB</td>\n",
       "      <td>256GB SSD</td>\n",
       "      <td>Intel HD Graphics 620</td>\n",
       "      <td>Windows 10</td>\n",
       "      <td>1.95kg</td>\n",
       "    </tr>\n",
       "  </tbody>\n",
       "</table>\n",
       "</div>"
      ],
      "text/plain": [
       "     Company                          Product            TypeName  Inches  \\\n",
       "209   Lenovo               Legion Y520-15IKBN              Gaming    15.6   \n",
       "1281    Acer                   Aspire ES1-531            Notebook    15.6   \n",
       "1168  Lenovo  V110-15ISK (i3-6006U/4GB/1TB/No            Notebook    15.6   \n",
       "1231    Dell                    Inspiron 7579  2 in 1 Convertible    15.6   \n",
       "1020      HP                      ProBook 640            Notebook    14.0   \n",
       "\n",
       "                               ScreenResolution  \\\n",
       "209                           Full HD 1920x1080   \n",
       "1281                                   1366x768   \n",
       "1168                                   1366x768   \n",
       "1231  IPS Panel Full HD / Touchscreen 1920x1080   \n",
       "1020                          Full HD 1920x1080   \n",
       "\n",
       "                                       Cpu   Ram     Memory  \\\n",
       "209            Intel Core i7 7700HQ 2.8GHz  16GB  512GB SSD   \n",
       "1281  Intel Celeron Dual Core N3060 1.6GHz   4GB  500GB HDD   \n",
       "1168            Intel Core i3 6006U 2.0GHz   4GB    1TB HDD   \n",
       "1231            Intel Core i5 7200U 2.5GHz   8GB  256GB SSD   \n",
       "1020            Intel Core i5 7200U 2.5GHz   4GB  256GB SSD   \n",
       "\n",
       "                          Gpu       OpSys   Weight  \n",
       "209   Nvidia GeForce GTX 1060       No OS    2.4kg  \n",
       "1281    Intel HD Graphics 400       Linux    2.4kg  \n",
       "1168    Intel HD Graphics 520       No OS    1.9kg  \n",
       "1231    Intel HD Graphics 620  Windows 10  2.191kg  \n",
       "1020    Intel HD Graphics 620  Windows 10   1.95kg  "
      ]
     },
     "execution_count": 53,
     "metadata": {},
     "output_type": "execute_result"
    }
   ],
   "source": [
    "X_pred = pd.read_csv(\"data/test.csv\", index_col = 0)\n",
    "X_pred.index.name = None\n",
    "X_pred.head()"
   ]
  },
  {
   "cell_type": "code",
   "execution_count": 54,
   "metadata": {},
   "outputs": [
    {
     "data": {
      "text/html": [
       "<div>\n",
       "<style scoped>\n",
       "    .dataframe tbody tr th:only-of-type {\n",
       "        vertical-align: middle;\n",
       "    }\n",
       "\n",
       "    .dataframe tbody tr th {\n",
       "        vertical-align: top;\n",
       "    }\n",
       "\n",
       "    .dataframe thead th {\n",
       "        text-align: right;\n",
       "    }\n",
       "</style>\n",
       "<table border=\"1\" class=\"dataframe\">\n",
       "  <thead>\n",
       "    <tr style=\"text-align: right;\">\n",
       "      <th></th>\n",
       "      <th>Company</th>\n",
       "      <th>Product</th>\n",
       "      <th>TypeName</th>\n",
       "      <th>Inches</th>\n",
       "      <th>ScreenResolution</th>\n",
       "      <th>Cpu</th>\n",
       "      <th>Ram</th>\n",
       "      <th>Memory</th>\n",
       "      <th>Gpu</th>\n",
       "      <th>OpSys</th>\n",
       "      <th>Weight</th>\n",
       "    </tr>\n",
       "  </thead>\n",
       "  <tbody>\n",
       "    <tr>\n",
       "      <th>820</th>\n",
       "      <td>MSI</td>\n",
       "      <td>GE72MVR 7RG</td>\n",
       "      <td>Gaming</td>\n",
       "      <td>17.3</td>\n",
       "      <td>Full HD 1920x1080</td>\n",
       "      <td>Intel Core i7 7700HQ 2.8GHz</td>\n",
       "      <td>16GB</td>\n",
       "      <td>512GB SSD +  1TB HDD</td>\n",
       "      <td>Nvidia GeForce GTX 1070</td>\n",
       "      <td>Windows 10</td>\n",
       "      <td>2.9kg</td>\n",
       "    </tr>\n",
       "    <tr>\n",
       "      <th>948</th>\n",
       "      <td>Toshiba</td>\n",
       "      <td>Tecra Z40-C-12X</td>\n",
       "      <td>Notebook</td>\n",
       "      <td>14.0</td>\n",
       "      <td>IPS Panel Full HD 1920x1080</td>\n",
       "      <td>Intel Core i5 6200U 2.3GHz</td>\n",
       "      <td>4GB</td>\n",
       "      <td>128GB SSD</td>\n",
       "      <td>Intel HD Graphics 520</td>\n",
       "      <td>Windows 10</td>\n",
       "      <td>1.47kg</td>\n",
       "    </tr>\n",
       "    <tr>\n",
       "      <th>483</th>\n",
       "      <td>Dell</td>\n",
       "      <td>Precision M5520</td>\n",
       "      <td>Workstation</td>\n",
       "      <td>15.6</td>\n",
       "      <td>Full HD 1920x1080</td>\n",
       "      <td>Intel Core i7 7700HQ 2.8GHz</td>\n",
       "      <td>8GB</td>\n",
       "      <td>256GB SSD</td>\n",
       "      <td>Nvidia Quadro M1200</td>\n",
       "      <td>Windows 10</td>\n",
       "      <td>1.78kg</td>\n",
       "    </tr>\n",
       "    <tr>\n",
       "      <th>1017</th>\n",
       "      <td>HP</td>\n",
       "      <td>Probook 440</td>\n",
       "      <td>Notebook</td>\n",
       "      <td>14.0</td>\n",
       "      <td>1366x768</td>\n",
       "      <td>Intel Core i5 7200U 2.5GHz</td>\n",
       "      <td>4GB</td>\n",
       "      <td>500GB HDD</td>\n",
       "      <td>Intel HD Graphics 620</td>\n",
       "      <td>Windows 10</td>\n",
       "      <td>1.64kg</td>\n",
       "    </tr>\n",
       "    <tr>\n",
       "      <th>421</th>\n",
       "      <td>Asus</td>\n",
       "      <td>ZenBook Flip</td>\n",
       "      <td>2 in 1 Convertible</td>\n",
       "      <td>13.3</td>\n",
       "      <td>IPS Panel Full HD / Touchscreen 1920x1080</td>\n",
       "      <td>Intel Core i5 7200U 2.5GHz</td>\n",
       "      <td>8GB</td>\n",
       "      <td>256GB SSD</td>\n",
       "      <td>Intel HD Graphics 620</td>\n",
       "      <td>Windows 10</td>\n",
       "      <td>1.27kg</td>\n",
       "    </tr>\n",
       "  </tbody>\n",
       "</table>\n",
       "</div>"
      ],
      "text/plain": [
       "      Company          Product            TypeName  Inches  \\\n",
       "820       MSI      GE72MVR 7RG              Gaming    17.3   \n",
       "948   Toshiba  Tecra Z40-C-12X            Notebook    14.0   \n",
       "483      Dell  Precision M5520         Workstation    15.6   \n",
       "1017       HP      Probook 440            Notebook    14.0   \n",
       "421      Asus     ZenBook Flip  2 in 1 Convertible    13.3   \n",
       "\n",
       "                               ScreenResolution                          Cpu  \\\n",
       "820                           Full HD 1920x1080  Intel Core i7 7700HQ 2.8GHz   \n",
       "948                 IPS Panel Full HD 1920x1080   Intel Core i5 6200U 2.3GHz   \n",
       "483                           Full HD 1920x1080  Intel Core i7 7700HQ 2.8GHz   \n",
       "1017                                   1366x768   Intel Core i5 7200U 2.5GHz   \n",
       "421   IPS Panel Full HD / Touchscreen 1920x1080   Intel Core i5 7200U 2.5GHz   \n",
       "\n",
       "       Ram                Memory                      Gpu       OpSys  Weight  \n",
       "820   16GB  512GB SSD +  1TB HDD  Nvidia GeForce GTX 1070  Windows 10   2.9kg  \n",
       "948    4GB             128GB SSD    Intel HD Graphics 520  Windows 10  1.47kg  \n",
       "483    8GB             256GB SSD      Nvidia Quadro M1200  Windows 10  1.78kg  \n",
       "1017   4GB             500GB HDD    Intel HD Graphics 620  Windows 10  1.64kg  \n",
       "421    8GB             256GB SSD    Intel HD Graphics 620  Windows 10  1.27kg  "
      ]
     },
     "execution_count": 54,
     "metadata": {},
     "output_type": "execute_result"
    }
   ],
   "source": [
    "X_pred.tail()"
   ]
  },
  {
   "cell_type": "code",
   "execution_count": 55,
   "metadata": {},
   "outputs": [
    {
     "name": "stdout",
     "output_type": "stream",
     "text": [
      "<class 'pandas.core.frame.DataFrame'>\n",
      "Index: 391 entries, 209 to 421\n",
      "Data columns (total 11 columns):\n",
      " #   Column            Non-Null Count  Dtype  \n",
      "---  ------            --------------  -----  \n",
      " 0   Company           391 non-null    object \n",
      " 1   Product           391 non-null    object \n",
      " 2   TypeName          391 non-null    object \n",
      " 3   Inches            391 non-null    float64\n",
      " 4   ScreenResolution  391 non-null    object \n",
      " 5   Cpu               391 non-null    object \n",
      " 6   Ram               391 non-null    object \n",
      " 7   Memory            391 non-null    object \n",
      " 8   Gpu               391 non-null    object \n",
      " 9   OpSys             391 non-null    object \n",
      " 10  Weight            391 non-null    object \n",
      "dtypes: float64(1), object(10)\n",
      "memory usage: 36.7+ KB\n"
     ]
    }
   ],
   "source": [
    "X_pred.info()"
   ]
  },
  {
   "cell_type": "markdown",
   "metadata": {},
   "source": [
    " ## 2. Replicar el procesado para ``test.csv``"
   ]
  },
  {
   "cell_type": "code",
   "execution_count": 56,
   "metadata": {},
   "outputs": [],
   "source": [
    "X_pred[\"inches\"] = X_pred.Inches.astype(float)\n",
    "X_pred['ram_gb'] = X_pred['Ram'].str.replace('GB', '').astype(int)\n",
    "X_pred[\"weight_kg\"] = X_pred['Weight'].str.replace('kg', '').astype(float)\n",
    "X_pred.drop(columns = [\"Inches\", \"Ram\", \"Weight\"], inplace = True)"
   ]
  },
  {
   "cell_type": "code",
   "execution_count": 57,
   "metadata": {},
   "outputs": [
    {
     "name": "stdout",
     "output_type": "stream",
     "text": [
      "<class 'pandas.core.frame.DataFrame'>\n",
      "Index: 391 entries, 209 to 421\n",
      "Data columns (total 11 columns):\n",
      " #   Column            Non-Null Count  Dtype  \n",
      "---  ------            --------------  -----  \n",
      " 0   Company           391 non-null    object \n",
      " 1   Product           391 non-null    object \n",
      " 2   TypeName          391 non-null    object \n",
      " 3   ScreenResolution  391 non-null    object \n",
      " 4   Cpu               391 non-null    object \n",
      " 5   Memory            391 non-null    object \n",
      " 6   Gpu               391 non-null    object \n",
      " 7   OpSys             391 non-null    object \n",
      " 8   inches            391 non-null    float64\n",
      " 9   ram_gb            391 non-null    int32  \n",
      " 10  weight_kg         391 non-null    float64\n",
      "dtypes: float64(2), int32(1), object(8)\n",
      "memory usage: 35.1+ KB\n"
     ]
    }
   ],
   "source": [
    "X_pred.info()"
   ]
  },
  {
   "cell_type": "code",
   "execution_count": 58,
   "metadata": {},
   "outputs": [],
   "source": [
    "X_pred2 = X_pred[columns]"
   ]
  },
  {
   "cell_type": "code",
   "execution_count": 35,
   "metadata": {},
   "outputs": [],
   "source": [
    "# # Ordenamos las features categóricas de menor precio de median a mayor precio para poder convertirlas en numéricas:\n",
    "# categories_company = df.groupby(df[\"Company\"])[\"Price_in_euros\"].median().sort_values().index.to_list()\n",
    "# # categories_typename = df.groupby(df[\"TypeName\"])[\"Price_in_euros\"].median().sort_values().index.to_list()\n",
    "# categories_resolution = df.groupby(df[\"ScreenResolution\"])[\"Price_in_euros\"].median().sort_values().index.to_list()\n",
    "# categories_cpu = df.groupby(df[\"Cpu\"])[\"Price_in_euros\"].median().sort_values().index.to_list()\n",
    "# categories_memory = df.groupby(df[\"Memory\"])[\"Price_in_euros\"].median().sort_values().index.to_list()\n",
    "# categories_gpu = df.groupby(df[\"Gpu\"])[\"Price_in_euros\"].median().sort_values().index.to_list()\n",
    "\n",
    "# total_cat = [categories_company, categories_resolution, categories_cpu, categories_memory, categories_gpu]\n",
    "# cols = [\"Company\", \"ScreenResolution\", \"Cpu\", \"Memory\", \"Gpu\"]\n",
    "\n",
    "# enc = OrdinalEncoder(categories = total_cat, dtype= int)\n",
    "# X_pred[cols] = enc.transform(X_pred[cols])\n",
    "\n",
    "# Con la ram, el sistema operativo y el typename, vamos a hacer un get_dummies:\n",
    "cols_dummies = X_train.columns\n",
    "X_pred = pd.get_dummies(X_pred, columns = feat_sel, dtype = int).reindex(columns = cols_dummies, fill_value=0)"
   ]
  },
  {
   "cell_type": "code",
   "execution_count": 59,
   "metadata": {},
   "outputs": [],
   "source": [
    "cols_dummies = X_train.columns\n",
    "X_pred2 = pd.get_dummies(X_pred2, columns = columns_dummies, dtype = int).reindex(columns = cols_dummies, fill_value=0)"
   ]
  },
  {
   "cell_type": "code",
   "execution_count": 36,
   "metadata": {},
   "outputs": [],
   "source": [
    "# X_pred.head()"
   ]
  },
  {
   "cell_type": "code",
   "execution_count": 60,
   "metadata": {},
   "outputs": [
    {
     "data": {
      "text/plain": [
       "array([1711.40177395,  313.89583584,  402.80957049, 1119.82158322,\n",
       "        943.04563331,  431.15896791,  784.70050447,  925.82326248,\n",
       "       1254.73367156,  273.89074152, 2030.03985466, 1557.55599849,\n",
       "        468.21982051, 1652.6665809 , 1137.27645972,  553.89146764,\n",
       "       2133.21340425, 1282.55546808, 1735.81119215,  576.06061856,\n",
       "       1735.40879161,  431.75253281,  822.58426836, 1352.69972788,\n",
       "        439.70094727,  666.44552977,  530.91474156,  740.88811121,\n",
       "       3140.36624757,  931.90709721, 2251.42754214,  390.18895107,\n",
       "        942.7378272 , 3486.43578946, 2408.34802616, 1562.65465933,\n",
       "        629.55456264, 1584.74088836,  884.86512557, 1854.8030987 ,\n",
       "        700.81263687,  766.99168846,  579.27590387, 1116.16780367,\n",
       "       1090.19229737, 1069.39591922, 1070.02682125,  659.48716538,\n",
       "        671.59583425,  424.84262073, 1673.92322933,  710.45761376,\n",
       "       1035.59256314,  699.89922756, 1808.99272689, 1853.3149925 ,\n",
       "        590.65166298,  813.92008767,  951.88621749,  597.45784618,\n",
       "       2390.19545705, 1609.29016761,  515.27415507, 2079.88837811,\n",
       "       1757.95610363, 1461.37659669,  907.7769141 , 1254.73367156,\n",
       "       2388.8290452 , 2144.76726108,  795.8527885 ,  360.8706762 ,\n",
       "       1229.52073914, 1992.48883056, 1095.59689236, 1175.71437578,\n",
       "       1752.40529797, 1708.39055886, 1991.47680022, 1285.20594984,\n",
       "        803.63794158, 1563.39308591, 2567.02151673, 1460.38390543,\n",
       "       1297.66192175, 1749.48946266,  568.3899117 ,  843.9536044 ,\n",
       "        701.23014391,  927.9448488 ,  609.5966656 , 1927.50040467,\n",
       "       1311.2536824 , 3157.47132184, 3001.00567139, 1165.48177283,\n",
       "        883.95707461,  613.68077333,  955.65972533,  947.01118358,\n",
       "       2051.29401719,  789.01511508, 1514.63759544, 1089.78321487,\n",
       "        305.39439994, 1540.48710039, 1936.8368833 ,  626.9547489 ,\n",
       "        334.80453094, 1070.17790346, 1733.11221088,  893.6701734 ,\n",
       "        747.92946883,  636.96946986, 1297.16729477,  475.08004628,\n",
       "        559.39340497, 1614.67703574, 1933.17210679, 1384.17574499,\n",
       "        888.02651252,  741.5747838 , 1087.38414019, 1356.97323306,\n",
       "       1896.61152088,  573.74372167, 1811.91586512, 1000.70660376,\n",
       "        458.52475125, 1076.21590613, 2445.39838691, 1186.26385812,\n",
       "       1115.28931431, 1850.84488238,  829.6693887 , 2095.64492537,\n",
       "       1253.45765085, 1019.68425697, 1318.44049836,  443.23855634,\n",
       "       1450.74978862,  707.52225551, 1191.67893274, 1411.1328185 ,\n",
       "       2118.77466695, 1384.17574499, 1808.81950538,  882.93865966,\n",
       "       1422.02298735,  619.98660801,  679.94454123,  760.06328533,\n",
       "        658.32050957, 1055.57296618,  738.43722425,  882.67003578,\n",
       "       1196.4126328 ,  975.94541171,  691.65252718,  351.18048156,\n",
       "        396.46599522, 2065.15467415, 1293.42023429,  659.48716538,\n",
       "       1115.54175547, 1098.10854704, 1618.92087588,  238.65290226,\n",
       "        800.52147978, 1410.92849479, 1344.85896253,  344.09088954,\n",
       "        305.39439994,  346.98046918, 2246.21549921,  667.58671118,\n",
       "       1137.27645972,  459.56902383, 1282.36925351, 1165.30065901,\n",
       "        864.86228877, 4802.19773766, 1205.7855619 ,  856.25129079,\n",
       "       1162.74538586, 2018.42776099,  416.34712698,  492.12749692,\n",
       "       1318.85686903,  801.49877279,  597.20675149, 1735.65840018,\n",
       "        529.08630064,  732.75798783,  603.31741646,  258.37050282,\n",
       "       1677.69641442,  851.50179123,  686.83849545,  264.11514162,\n",
       "       1087.38414019, 2001.06884307, 1031.56045322,  563.16176528,\n",
       "        560.51627486,  407.65325542, 1610.60340162,  247.77187612,\n",
       "       1640.79142779,  396.46599522, 1234.98836292,  871.1128931 ,\n",
       "        695.26157362,  986.29449836,  468.46660681, 1545.93202549,\n",
       "       1214.17154446,  688.75778198,  607.75531629,  536.3872124 ,\n",
       "        522.84307846, 1244.63499949,  970.07525813, 1435.71773573,\n",
       "        880.22776747, 1171.42675334,  310.85000436, 1167.35074178,\n",
       "        567.41311417, 1890.10479542,  551.25910713,  458.99707182,\n",
       "        948.90674178, 1475.42349326,  450.74416614,  878.60621348,\n",
       "       2940.90246743, 1009.59060449, 1042.69949181, 1909.2360811 ,\n",
       "       1579.94306913,  546.33460361, 1460.84092778, 1214.98128003,\n",
       "        831.70892383, 1676.5010357 , 1221.68514718,  924.27554176,\n",
       "        805.00979999, 1835.40296197, 1170.13578627,  470.55947705,\n",
       "       1589.48811723,  815.26865081, 1589.48811723, 2906.61585355,\n",
       "        582.37695771,  466.23531602, 1674.55359489, 1075.3854496 ,\n",
       "        429.5254214 ,  519.89366719,  980.73028186,  467.11065191,\n",
       "       1962.97747231, 1983.62044874, 1165.72584658,  330.17233092,\n",
       "       2377.66771265, 1479.81648288,  213.22441207,  522.59004057,\n",
       "       1209.89563898, 1459.31973495, 1584.08284525,  604.77121611,\n",
       "        444.37316983,  906.72639542,  985.99549302,  544.09744469,\n",
       "        562.74345759,  943.74754599, 1184.85673987,  563.00494012,\n",
       "        305.39439994, 1191.04977701, 1393.1926488 , 2405.96197269,\n",
       "       3559.61332095,  437.33380376, 1081.99810154, 1285.20594984,\n",
       "       1390.08812779, 1354.34418972,  966.89771151, 1116.25649094,\n",
       "       1152.51248347,  939.47256712, 3418.52866491,  671.47408858,\n",
       "       1861.57353515,  560.29423765,  300.33436244,  435.70749126,\n",
       "        695.95679192, 1429.51125107, 1960.89226521,  700.98758086,\n",
       "       2567.02151673, 1550.21778017,  449.07394265,  909.10991158,\n",
       "        510.96344338,  439.70094727,  920.45022636,  876.57133828,\n",
       "       2606.08911109, 1043.71242386,  994.8955738 ,  778.03298155,\n",
       "       1560.821729  , 1682.1387004 , 1167.35074178, 1153.59581519,\n",
       "       1001.02689965, 2271.22702033, 2260.19973059,  787.79103209,\n",
       "        579.34970193, 1709.27216458,  445.91211542,  887.60806934,\n",
       "       1574.58761764,  586.0561768 ,  492.08098762,  855.86463967,\n",
       "        499.08012265,  437.33380376, 1340.71675884, 1151.10146109,\n",
       "        506.18565562,  492.39238424, 2007.45982121, 1411.1328185 ,\n",
       "       1579.94306913,  893.64815352,  365.33801703, 1135.13963322,\n",
       "        785.82308208,  629.55456264,  851.84317545, 1045.17648225,\n",
       "        664.94883811,  401.88622253,  776.65147392,  380.16628109,\n",
       "       1584.44202146,  735.38586858, 1655.26583635, 1903.02739447,\n",
       "        489.58312082,  720.82759557,  940.73353677, 1102.74668941,\n",
       "       1139.12730736, 1248.57410403, 1843.67591617, 3608.18983031,\n",
       "        756.92222336, 2169.77801078, 1946.7733719 , 1585.8387988 ,\n",
       "        534.70782288, 1387.76526483, 1016.86782471, 1749.48946266,\n",
       "        562.74345759,  933.73035894,  799.18327197,  571.08601704,\n",
       "        473.83611918, 1045.17648225, 1297.95011734,  306.05657399,\n",
       "       1589.97041611,  822.15945913, 2245.28944181,  955.56011016,\n",
       "       1936.8368833 ,  926.23201283, 1308.79340986])"
      ]
     },
     "execution_count": 60,
     "metadata": {},
     "output_type": "execute_result"
    }
   ],
   "source": [
    "predictions_submit = best_model.predict(X_pred2)\n",
    "predictions_submit"
   ]
  },
  {
   "cell_type": "markdown",
   "metadata": {},
   "source": [
    "### 3. **¿Qué es lo que subirás a Kaggle?**"
   ]
  },
  {
   "cell_type": "markdown",
   "metadata": {},
   "source": [
    "**Para subir a Kaggle la predicción esta tendrá que tener una forma específica.**\n",
    "\n",
    "En este caso, la **MISMA** forma que `sample_submission.csv`. "
   ]
  },
  {
   "cell_type": "code",
   "execution_count": 61,
   "metadata": {},
   "outputs": [],
   "source": [
    "sample = pd.read_csv(\"data/sample_submission.csv\")"
   ]
  },
  {
   "cell_type": "code",
   "execution_count": 62,
   "metadata": {},
   "outputs": [
    {
     "data": {
      "text/html": [
       "<div>\n",
       "<style scoped>\n",
       "    .dataframe tbody tr th:only-of-type {\n",
       "        vertical-align: middle;\n",
       "    }\n",
       "\n",
       "    .dataframe tbody tr th {\n",
       "        vertical-align: top;\n",
       "    }\n",
       "\n",
       "    .dataframe thead th {\n",
       "        text-align: right;\n",
       "    }\n",
       "</style>\n",
       "<table border=\"1\" class=\"dataframe\">\n",
       "  <thead>\n",
       "    <tr style=\"text-align: right;\">\n",
       "      <th></th>\n",
       "      <th>laptop_ID</th>\n",
       "      <th>Price_in_euros</th>\n",
       "    </tr>\n",
       "  </thead>\n",
       "  <tbody>\n",
       "    <tr>\n",
       "      <th>0</th>\n",
       "      <td>209</td>\n",
       "      <td>1949.1</td>\n",
       "    </tr>\n",
       "    <tr>\n",
       "      <th>1</th>\n",
       "      <td>1281</td>\n",
       "      <td>805.0</td>\n",
       "    </tr>\n",
       "    <tr>\n",
       "      <th>2</th>\n",
       "      <td>1168</td>\n",
       "      <td>1101.0</td>\n",
       "    </tr>\n",
       "    <tr>\n",
       "      <th>3</th>\n",
       "      <td>1231</td>\n",
       "      <td>1293.8</td>\n",
       "    </tr>\n",
       "    <tr>\n",
       "      <th>4</th>\n",
       "      <td>1020</td>\n",
       "      <td>1832.6</td>\n",
       "    </tr>\n",
       "  </tbody>\n",
       "</table>\n",
       "</div>"
      ],
      "text/plain": [
       "   laptop_ID  Price_in_euros\n",
       "0        209          1949.1\n",
       "1       1281           805.0\n",
       "2       1168          1101.0\n",
       "3       1231          1293.8\n",
       "4       1020          1832.6"
      ]
     },
     "execution_count": 62,
     "metadata": {},
     "output_type": "execute_result"
    }
   ],
   "source": [
    "sample.head()"
   ]
  },
  {
   "cell_type": "code",
   "execution_count": 63,
   "metadata": {},
   "outputs": [
    {
     "data": {
      "text/plain": [
       "(391, 2)"
      ]
     },
     "execution_count": 63,
     "metadata": {},
     "output_type": "execute_result"
    }
   ],
   "source": [
    "sample.shape"
   ]
  },
  {
   "cell_type": "markdown",
   "metadata": {},
   "source": [
    "### 4. Mete tus predicciones en un dataframe llamado ``submission``."
   ]
  },
  {
   "cell_type": "code",
   "execution_count": 64,
   "metadata": {},
   "outputs": [],
   "source": [
    "#¿Cómo creamos la submission?\n",
    "submission = pd.DataFrame({\"laptop_ID\": X_pred.index,\n",
    "                        \"Price_in_euros\": predictions_submit})"
   ]
  },
  {
   "cell_type": "code",
   "execution_count": 65,
   "metadata": {},
   "outputs": [
    {
     "data": {
      "text/html": [
       "<div>\n",
       "<style scoped>\n",
       "    .dataframe tbody tr th:only-of-type {\n",
       "        vertical-align: middle;\n",
       "    }\n",
       "\n",
       "    .dataframe tbody tr th {\n",
       "        vertical-align: top;\n",
       "    }\n",
       "\n",
       "    .dataframe thead th {\n",
       "        text-align: right;\n",
       "    }\n",
       "</style>\n",
       "<table border=\"1\" class=\"dataframe\">\n",
       "  <thead>\n",
       "    <tr style=\"text-align: right;\">\n",
       "      <th></th>\n",
       "      <th>laptop_ID</th>\n",
       "      <th>Price_in_euros</th>\n",
       "    </tr>\n",
       "  </thead>\n",
       "  <tbody>\n",
       "    <tr>\n",
       "      <th>0</th>\n",
       "      <td>209</td>\n",
       "      <td>1711.401774</td>\n",
       "    </tr>\n",
       "    <tr>\n",
       "      <th>1</th>\n",
       "      <td>1281</td>\n",
       "      <td>313.895836</td>\n",
       "    </tr>\n",
       "    <tr>\n",
       "      <th>2</th>\n",
       "      <td>1168</td>\n",
       "      <td>402.809570</td>\n",
       "    </tr>\n",
       "    <tr>\n",
       "      <th>3</th>\n",
       "      <td>1231</td>\n",
       "      <td>1119.821583</td>\n",
       "    </tr>\n",
       "    <tr>\n",
       "      <th>4</th>\n",
       "      <td>1020</td>\n",
       "      <td>943.045633</td>\n",
       "    </tr>\n",
       "  </tbody>\n",
       "</table>\n",
       "</div>"
      ],
      "text/plain": [
       "   laptop_ID  Price_in_euros\n",
       "0        209     1711.401774\n",
       "1       1281      313.895836\n",
       "2       1168      402.809570\n",
       "3       1231     1119.821583\n",
       "4       1020      943.045633"
      ]
     },
     "execution_count": 65,
     "metadata": {},
     "output_type": "execute_result"
    }
   ],
   "source": [
    "submission.head()"
   ]
  },
  {
   "cell_type": "code",
   "execution_count": 66,
   "metadata": {},
   "outputs": [
    {
     "data": {
      "text/plain": [
       "(391, 2)"
      ]
     },
     "execution_count": 66,
     "metadata": {},
     "output_type": "execute_result"
    }
   ],
   "source": [
    "submission.shape"
   ]
  },
  {
   "cell_type": "markdown",
   "metadata": {},
   "source": [
    "### 5. Pásale el CHEQUEADOR para comprobar que efectivamente está listo para subir a Kaggle."
   ]
  },
  {
   "cell_type": "code",
   "execution_count": 67,
   "metadata": {},
   "outputs": [],
   "source": [
    "def chequeador(df_to_submit):\n",
    "    \"\"\"\n",
    "    Esta función se asegura de que tu submission tenga la forma requerida por Kaggle.\n",
    "    \n",
    "    Si es así, se guardará el dataframe en un `csv` y estará listo para subir a Kaggle.\n",
    "    \n",
    "    Si no, LEE EL MENSAJE Y HAZLE CASO.\n",
    "    \n",
    "    Si aún no:\n",
    "    - apaga tu ordenador, \n",
    "    - date una vuelta, \n",
    "    - enciendelo otra vez, \n",
    "    - abre este notebook y \n",
    "    - leelo todo de nuevo. \n",
    "    Todos nos merecemos una segunda oportunidad. También tú.\n",
    "    \"\"\"\n",
    "    if df_to_submit.shape == sample.shape:\n",
    "        if df_to_submit.columns.all() == sample.columns.all():\n",
    "            if df_to_submit.laptop_ID.all() == sample.laptop_ID.all():\n",
    "                print(\"You're ready to submit!\")\n",
    "                submission.to_csv(\"submission.csv\", index = False) #muy importante el index = False\n",
    "                urllib.request.urlretrieve(\"https://www.mihaileric.com/static/evaluation-meme-e0a350f278a36346e6d46b139b1d0da0-ed51e.jpg\", \"gfg.png\")     \n",
    "                img = Image.open(\"gfg.png\")\n",
    "                img.show()   \n",
    "            else:\n",
    "                print(\"Check the ids and try again\")\n",
    "        else:\n",
    "            print(\"Check the names of the columns and try again\")\n",
    "    else:\n",
    "        print(\"Check the number of rows and/or columns and try again\")\n",
    "        print(\"\\nMensaje secreto del TA: No me puedo creer que después de todo este notebook hayas hecho algún cambio en las filas de `test.csv`. Lloro.\")"
   ]
  },
  {
   "cell_type": "code",
   "execution_count": 68,
   "metadata": {},
   "outputs": [
    {
     "name": "stdout",
     "output_type": "stream",
     "text": [
      "You're ready to submit!\n"
     ]
    }
   ],
   "source": [
    "chequeador(submission)"
   ]
  },
  {
   "cell_type": "code",
   "execution_count": null,
   "metadata": {},
   "outputs": [],
   "source": []
  }
 ],
 "metadata": {
  "kernelspec": {
   "display_name": "Python 3",
   "language": "python",
   "name": "python3"
  },
  "language_info": {
   "codemirror_mode": {
    "name": "ipython",
    "version": 3
   },
   "file_extension": ".py",
   "mimetype": "text/x-python",
   "name": "python",
   "nbconvert_exporter": "python",
   "pygments_lexer": "ipython3",
   "version": "3.9.13"
  }
 },
 "nbformat": 4,
 "nbformat_minor": 4
}
