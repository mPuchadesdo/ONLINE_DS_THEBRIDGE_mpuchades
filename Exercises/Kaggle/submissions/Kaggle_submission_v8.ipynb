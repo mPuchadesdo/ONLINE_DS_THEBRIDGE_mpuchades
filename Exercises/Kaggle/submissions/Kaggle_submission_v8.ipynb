{
 "cells": [
  {
   "cell_type": "markdown",
   "metadata": {},
   "source": [
    "## Kaggle – DataTops®\n",
    "Luismi ha decidido cambiar de aires y, por eso, ha comprado una tienda de portátiles. Sin embargo, su única especialidad es Data Science, por lo que ha decidido crear un modelo de ML para establecer los mejores precios.\n",
    "\n",
    "¿Podrías ayudar a Luismi a mejorar ese modelo?"
   ]
  },
  {
   "cell_type": "markdown",
   "metadata": {},
   "source": [
    "## Métrica: \n",
    "Error de raíz cuadrada media (RMSE) es la desviación estándar de los valores residuales (errores de predicción). Los valores residuales son una medida de la distancia de los puntos de datos de la línea de regresión; RMSE es una medida de cuál es el nivel de dispersión de estos valores residuales. En otras palabras, le indica el nivel de concentración de los datos en la línea de mejor ajuste.\n",
    "\n",
    "\n",
    "$$ RMSE = \\sqrt{\\frac{1}{n}\\Sigma_{i=1}^{n}{\\Big(\\frac{d_i -f_i}{\\sigma_i}\\Big)^2}}$$\n"
   ]
  },
  {
   "cell_type": "markdown",
   "metadata": {},
   "source": [
    "## Librerías"
   ]
  },
  {
   "cell_type": "code",
   "execution_count": 17,
   "metadata": {},
   "outputs": [],
   "source": [
    "import numpy as np\n",
    "import pandas as pd\n",
    "import toolbox_ML as tb\n",
    "import bootcampviztools as bt\n",
    "\n",
    "from PIL import Image\n",
    "from sklearn.preprocessing import OrdinalEncoder, OneHotEncoder\n",
    "from sklearn.model_selection import train_test_split, cross_val_score, GridSearchCV, RandomizedSearchCV\n",
    "from sklearn.metrics import mean_squared_error\n",
    "from sklearn.ensemble import RandomForestRegressor\n",
    "from lightgbm import LGBMRegressor\n",
    "from xgboost import XGBRFRegressor\n",
    "from catboost import CatBoostRegressor\n",
    "import urllib.request"
   ]
  },
  {
   "cell_type": "markdown",
   "metadata": {},
   "source": [
    "## Datos"
   ]
  },
  {
   "cell_type": "code",
   "execution_count": 18,
   "metadata": {},
   "outputs": [],
   "source": [
    "# Para que funcione necesitas bajarte los archivos de datos de Kaggle \n",
    "df = pd.read_csv(\"./data/train.csv\", index_col = 0)\n",
    "df.index.name = None"
   ]
  },
  {
   "cell_type": "code",
   "execution_count": 19,
   "metadata": {},
   "outputs": [],
   "source": [
    "df_bck_up = df.copy()"
   ]
  },
  {
   "cell_type": "markdown",
   "metadata": {},
   "source": [
    "## Exploración de los datos"
   ]
  },
  {
   "cell_type": "code",
   "execution_count": 20,
   "metadata": {},
   "outputs": [
    {
     "name": "stdout",
     "output_type": "stream",
     "text": [
      "<class 'pandas.core.frame.DataFrame'>\n",
      "Index: 912 entries, 755 to 229\n",
      "Data columns (total 12 columns):\n",
      " #   Column            Non-Null Count  Dtype  \n",
      "---  ------            --------------  -----  \n",
      " 0   Company           912 non-null    object \n",
      " 1   Product           912 non-null    object \n",
      " 2   TypeName          912 non-null    object \n",
      " 3   Inches            912 non-null    float64\n",
      " 4   ScreenResolution  912 non-null    object \n",
      " 5   Cpu               912 non-null    object \n",
      " 6   Ram               912 non-null    object \n",
      " 7   Memory            912 non-null    object \n",
      " 8   Gpu               912 non-null    object \n",
      " 9   OpSys             912 non-null    object \n",
      " 10  Weight            912 non-null    object \n",
      " 11  Price_in_euros    912 non-null    float64\n",
      "dtypes: float64(2), object(10)\n",
      "memory usage: 92.6+ KB\n"
     ]
    }
   ],
   "source": [
    "df.info()"
   ]
  },
  {
   "cell_type": "code",
   "execution_count": 21,
   "metadata": {},
   "outputs": [
    {
     "data": {
      "text/plain": [
       "Company             0\n",
       "Product             0\n",
       "TypeName            0\n",
       "Inches              0\n",
       "ScreenResolution    0\n",
       "Cpu                 0\n",
       "Ram                 0\n",
       "Memory              0\n",
       "Gpu                 0\n",
       "OpSys               0\n",
       "Weight              0\n",
       "Price_in_euros      0\n",
       "dtype: int64"
      ]
     },
     "execution_count": 21,
     "metadata": {},
     "output_type": "execute_result"
    }
   ],
   "source": [
    "df.isna().sum()"
   ]
  },
  {
   "cell_type": "code",
   "execution_count": 22,
   "metadata": {},
   "outputs": [
    {
     "data": {
      "text/html": [
       "<div>\n",
       "<style scoped>\n",
       "    .dataframe tbody tr th:only-of-type {\n",
       "        vertical-align: middle;\n",
       "    }\n",
       "\n",
       "    .dataframe tbody tr th {\n",
       "        vertical-align: top;\n",
       "    }\n",
       "\n",
       "    .dataframe thead th {\n",
       "        text-align: right;\n",
       "    }\n",
       "</style>\n",
       "<table border=\"1\" class=\"dataframe\">\n",
       "  <thead>\n",
       "    <tr style=\"text-align: right;\">\n",
       "      <th></th>\n",
       "      <th>Company</th>\n",
       "      <th>Product</th>\n",
       "      <th>TypeName</th>\n",
       "      <th>Inches</th>\n",
       "      <th>ScreenResolution</th>\n",
       "      <th>Cpu</th>\n",
       "      <th>Ram</th>\n",
       "      <th>Memory</th>\n",
       "      <th>Gpu</th>\n",
       "      <th>OpSys</th>\n",
       "      <th>Weight</th>\n",
       "      <th>Price_in_euros</th>\n",
       "    </tr>\n",
       "  </thead>\n",
       "  <tbody>\n",
       "    <tr>\n",
       "      <th>755</th>\n",
       "      <td>HP</td>\n",
       "      <td>250 G6</td>\n",
       "      <td>Notebook</td>\n",
       "      <td>15.6</td>\n",
       "      <td>Full HD 1920x1080</td>\n",
       "      <td>Intel Core i3 6006U 2GHz</td>\n",
       "      <td>8GB</td>\n",
       "      <td>256GB SSD</td>\n",
       "      <td>Intel HD Graphics 520</td>\n",
       "      <td>Windows 10</td>\n",
       "      <td>1.86kg</td>\n",
       "      <td>539.00</td>\n",
       "    </tr>\n",
       "    <tr>\n",
       "      <th>618</th>\n",
       "      <td>Dell</td>\n",
       "      <td>Inspiron 7559</td>\n",
       "      <td>Gaming</td>\n",
       "      <td>15.6</td>\n",
       "      <td>Full HD 1920x1080</td>\n",
       "      <td>Intel Core i7 6700HQ 2.6GHz</td>\n",
       "      <td>16GB</td>\n",
       "      <td>1TB HDD</td>\n",
       "      <td>Nvidia GeForce GTX 960&lt;U+039C&gt;</td>\n",
       "      <td>Windows 10</td>\n",
       "      <td>2.59kg</td>\n",
       "      <td>879.01</td>\n",
       "    </tr>\n",
       "    <tr>\n",
       "      <th>909</th>\n",
       "      <td>HP</td>\n",
       "      <td>ProBook 450</td>\n",
       "      <td>Notebook</td>\n",
       "      <td>15.6</td>\n",
       "      <td>Full HD 1920x1080</td>\n",
       "      <td>Intel Core i7 7500U 2.7GHz</td>\n",
       "      <td>8GB</td>\n",
       "      <td>1TB HDD</td>\n",
       "      <td>Nvidia GeForce 930MX</td>\n",
       "      <td>Windows 10</td>\n",
       "      <td>2.04kg</td>\n",
       "      <td>900.00</td>\n",
       "    </tr>\n",
       "    <tr>\n",
       "      <th>2</th>\n",
       "      <td>Apple</td>\n",
       "      <td>Macbook Air</td>\n",
       "      <td>Ultrabook</td>\n",
       "      <td>13.3</td>\n",
       "      <td>1440x900</td>\n",
       "      <td>Intel Core i5 1.8GHz</td>\n",
       "      <td>8GB</td>\n",
       "      <td>128GB Flash Storage</td>\n",
       "      <td>Intel HD Graphics 6000</td>\n",
       "      <td>macOS</td>\n",
       "      <td>1.34kg</td>\n",
       "      <td>898.94</td>\n",
       "    </tr>\n",
       "    <tr>\n",
       "      <th>286</th>\n",
       "      <td>Dell</td>\n",
       "      <td>Inspiron 3567</td>\n",
       "      <td>Notebook</td>\n",
       "      <td>15.6</td>\n",
       "      <td>Full HD 1920x1080</td>\n",
       "      <td>Intel Core i3 6006U 2.0GHz</td>\n",
       "      <td>4GB</td>\n",
       "      <td>1TB HDD</td>\n",
       "      <td>AMD Radeon R5 M430</td>\n",
       "      <td>Linux</td>\n",
       "      <td>2.25kg</td>\n",
       "      <td>428.00</td>\n",
       "    </tr>\n",
       "  </tbody>\n",
       "</table>\n",
       "</div>"
      ],
      "text/plain": [
       "    Company        Product   TypeName  Inches   ScreenResolution  \\\n",
       "755      HP         250 G6   Notebook    15.6  Full HD 1920x1080   \n",
       "618    Dell  Inspiron 7559     Gaming    15.6  Full HD 1920x1080   \n",
       "909      HP    ProBook 450   Notebook    15.6  Full HD 1920x1080   \n",
       "2     Apple    Macbook Air  Ultrabook    13.3           1440x900   \n",
       "286    Dell  Inspiron 3567   Notebook    15.6  Full HD 1920x1080   \n",
       "\n",
       "                             Cpu   Ram               Memory  \\\n",
       "755     Intel Core i3 6006U 2GHz   8GB            256GB SSD   \n",
       "618  Intel Core i7 6700HQ 2.6GHz  16GB              1TB HDD   \n",
       "909   Intel Core i7 7500U 2.7GHz   8GB              1TB HDD   \n",
       "2           Intel Core i5 1.8GHz   8GB  128GB Flash Storage   \n",
       "286   Intel Core i3 6006U 2.0GHz   4GB              1TB HDD   \n",
       "\n",
       "                                Gpu       OpSys  Weight  Price_in_euros  \n",
       "755           Intel HD Graphics 520  Windows 10  1.86kg          539.00  \n",
       "618  Nvidia GeForce GTX 960<U+039C>  Windows 10  2.59kg          879.01  \n",
       "909            Nvidia GeForce 930MX  Windows 10  2.04kg          900.00  \n",
       "2            Intel HD Graphics 6000       macOS  1.34kg          898.94  \n",
       "286              AMD Radeon R5 M430       Linux  2.25kg          428.00  "
      ]
     },
     "execution_count": 22,
     "metadata": {},
     "output_type": "execute_result"
    }
   ],
   "source": [
    "df.head()"
   ]
  },
  {
   "cell_type": "code",
   "execution_count": 23,
   "metadata": {},
   "outputs": [
    {
     "data": {
      "text/html": [
       "<div>\n",
       "<style scoped>\n",
       "    .dataframe tbody tr th:only-of-type {\n",
       "        vertical-align: middle;\n",
       "    }\n",
       "\n",
       "    .dataframe tbody tr th {\n",
       "        vertical-align: top;\n",
       "    }\n",
       "\n",
       "    .dataframe thead th {\n",
       "        text-align: right;\n",
       "    }\n",
       "</style>\n",
       "<table border=\"1\" class=\"dataframe\">\n",
       "  <thead>\n",
       "    <tr style=\"text-align: right;\">\n",
       "      <th></th>\n",
       "      <th>Company</th>\n",
       "      <th>Product</th>\n",
       "      <th>TypeName</th>\n",
       "      <th>Inches</th>\n",
       "      <th>ScreenResolution</th>\n",
       "      <th>Cpu</th>\n",
       "      <th>Ram</th>\n",
       "      <th>Memory</th>\n",
       "      <th>Gpu</th>\n",
       "      <th>OpSys</th>\n",
       "      <th>Weight</th>\n",
       "      <th>Price_in_euros</th>\n",
       "    </tr>\n",
       "  </thead>\n",
       "  <tbody>\n",
       "    <tr>\n",
       "      <th>28</th>\n",
       "      <td>Dell</td>\n",
       "      <td>Inspiron 5570</td>\n",
       "      <td>Notebook</td>\n",
       "      <td>15.6</td>\n",
       "      <td>Full HD 1920x1080</td>\n",
       "      <td>Intel Core i5 8250U 1.6GHz</td>\n",
       "      <td>8GB</td>\n",
       "      <td>256GB SSD</td>\n",
       "      <td>AMD Radeon 530</td>\n",
       "      <td>Windows 10</td>\n",
       "      <td>2.2kg</td>\n",
       "      <td>800.00</td>\n",
       "    </tr>\n",
       "    <tr>\n",
       "      <th>1160</th>\n",
       "      <td>HP</td>\n",
       "      <td>Spectre Pro</td>\n",
       "      <td>2 in 1 Convertible</td>\n",
       "      <td>13.3</td>\n",
       "      <td>Full HD / Touchscreen 1920x1080</td>\n",
       "      <td>Intel Core i5 6300U 2.4GHz</td>\n",
       "      <td>8GB</td>\n",
       "      <td>256GB SSD</td>\n",
       "      <td>Intel HD Graphics 520</td>\n",
       "      <td>Windows 10</td>\n",
       "      <td>1.48kg</td>\n",
       "      <td>1629.00</td>\n",
       "    </tr>\n",
       "    <tr>\n",
       "      <th>78</th>\n",
       "      <td>Lenovo</td>\n",
       "      <td>IdeaPad 320-15IKBN</td>\n",
       "      <td>Notebook</td>\n",
       "      <td>15.6</td>\n",
       "      <td>Full HD 1920x1080</td>\n",
       "      <td>Intel Core i5 7200U 2.5GHz</td>\n",
       "      <td>8GB</td>\n",
       "      <td>2TB HDD</td>\n",
       "      <td>Intel HD Graphics 620</td>\n",
       "      <td>No OS</td>\n",
       "      <td>2.2kg</td>\n",
       "      <td>519.00</td>\n",
       "    </tr>\n",
       "    <tr>\n",
       "      <th>23</th>\n",
       "      <td>HP</td>\n",
       "      <td>255 G6</td>\n",
       "      <td>Notebook</td>\n",
       "      <td>15.6</td>\n",
       "      <td>1366x768</td>\n",
       "      <td>AMD E-Series E2-9000e 1.5GHz</td>\n",
       "      <td>4GB</td>\n",
       "      <td>500GB HDD</td>\n",
       "      <td>AMD Radeon R2</td>\n",
       "      <td>No OS</td>\n",
       "      <td>1.86kg</td>\n",
       "      <td>258.00</td>\n",
       "    </tr>\n",
       "    <tr>\n",
       "      <th>229</th>\n",
       "      <td>Dell</td>\n",
       "      <td>Alienware 17</td>\n",
       "      <td>Gaming</td>\n",
       "      <td>17.3</td>\n",
       "      <td>IPS Panel Full HD 1920x1080</td>\n",
       "      <td>Intel Core i7 7700HQ 2.8GHz</td>\n",
       "      <td>16GB</td>\n",
       "      <td>256GB SSD +  1TB HDD</td>\n",
       "      <td>Nvidia GeForce GTX 1060</td>\n",
       "      <td>Windows 10</td>\n",
       "      <td>4.42kg</td>\n",
       "      <td>2456.34</td>\n",
       "    </tr>\n",
       "  </tbody>\n",
       "</table>\n",
       "</div>"
      ],
      "text/plain": [
       "     Company             Product            TypeName  Inches  \\\n",
       "28      Dell       Inspiron 5570            Notebook    15.6   \n",
       "1160      HP         Spectre Pro  2 in 1 Convertible    13.3   \n",
       "78    Lenovo  IdeaPad 320-15IKBN            Notebook    15.6   \n",
       "23        HP              255 G6            Notebook    15.6   \n",
       "229     Dell        Alienware 17              Gaming    17.3   \n",
       "\n",
       "                     ScreenResolution                           Cpu   Ram  \\\n",
       "28                  Full HD 1920x1080    Intel Core i5 8250U 1.6GHz   8GB   \n",
       "1160  Full HD / Touchscreen 1920x1080    Intel Core i5 6300U 2.4GHz   8GB   \n",
       "78                  Full HD 1920x1080    Intel Core i5 7200U 2.5GHz   8GB   \n",
       "23                           1366x768  AMD E-Series E2-9000e 1.5GHz   4GB   \n",
       "229       IPS Panel Full HD 1920x1080   Intel Core i7 7700HQ 2.8GHz  16GB   \n",
       "\n",
       "                    Memory                      Gpu       OpSys  Weight  \\\n",
       "28               256GB SSD           AMD Radeon 530  Windows 10   2.2kg   \n",
       "1160             256GB SSD    Intel HD Graphics 520  Windows 10  1.48kg   \n",
       "78                 2TB HDD    Intel HD Graphics 620       No OS   2.2kg   \n",
       "23               500GB HDD            AMD Radeon R2       No OS  1.86kg   \n",
       "229   256GB SSD +  1TB HDD  Nvidia GeForce GTX 1060  Windows 10  4.42kg   \n",
       "\n",
       "      Price_in_euros  \n",
       "28            800.00  \n",
       "1160         1629.00  \n",
       "78            519.00  \n",
       "23            258.00  \n",
       "229          2456.34  "
      ]
     },
     "execution_count": 23,
     "metadata": {},
     "output_type": "execute_result"
    }
   ],
   "source": [
    "df.tail()"
   ]
  },
  {
   "cell_type": "code",
   "execution_count": 24,
   "metadata": {},
   "outputs": [
    {
     "data": {
      "text/html": [
       "<div>\n",
       "<style scoped>\n",
       "    .dataframe tbody tr th:only-of-type {\n",
       "        vertical-align: middle;\n",
       "    }\n",
       "\n",
       "    .dataframe tbody tr th {\n",
       "        vertical-align: top;\n",
       "    }\n",
       "\n",
       "    .dataframe thead th {\n",
       "        text-align: right;\n",
       "    }\n",
       "</style>\n",
       "<table border=\"1\" class=\"dataframe\">\n",
       "  <thead>\n",
       "    <tr style=\"text-align: right;\">\n",
       "      <th></th>\n",
       "      <th>DATA_TYPE</th>\n",
       "      <th>MISSINGS (%)</th>\n",
       "      <th>UNIQUE_VALUES</th>\n",
       "      <th>CARDIN (%)</th>\n",
       "    </tr>\n",
       "  </thead>\n",
       "  <tbody>\n",
       "    <tr>\n",
       "      <th>Company</th>\n",
       "      <td>object</td>\n",
       "      <td>0</td>\n",
       "      <td>19</td>\n",
       "      <td>2.08</td>\n",
       "    </tr>\n",
       "    <tr>\n",
       "      <th>Product</th>\n",
       "      <td>object</td>\n",
       "      <td>0</td>\n",
       "      <td>480</td>\n",
       "      <td>52.63</td>\n",
       "    </tr>\n",
       "    <tr>\n",
       "      <th>TypeName</th>\n",
       "      <td>object</td>\n",
       "      <td>0</td>\n",
       "      <td>6</td>\n",
       "      <td>0.66</td>\n",
       "    </tr>\n",
       "    <tr>\n",
       "      <th>Inches</th>\n",
       "      <td>float64</td>\n",
       "      <td>0</td>\n",
       "      <td>17</td>\n",
       "      <td>1.86</td>\n",
       "    </tr>\n",
       "    <tr>\n",
       "      <th>ScreenResolution</th>\n",
       "      <td>object</td>\n",
       "      <td>0</td>\n",
       "      <td>36</td>\n",
       "      <td>3.95</td>\n",
       "    </tr>\n",
       "    <tr>\n",
       "      <th>Cpu</th>\n",
       "      <td>object</td>\n",
       "      <td>0</td>\n",
       "      <td>107</td>\n",
       "      <td>11.73</td>\n",
       "    </tr>\n",
       "    <tr>\n",
       "      <th>Ram</th>\n",
       "      <td>object</td>\n",
       "      <td>0</td>\n",
       "      <td>9</td>\n",
       "      <td>0.99</td>\n",
       "    </tr>\n",
       "    <tr>\n",
       "      <th>Memory</th>\n",
       "      <td>object</td>\n",
       "      <td>0</td>\n",
       "      <td>37</td>\n",
       "      <td>4.06</td>\n",
       "    </tr>\n",
       "    <tr>\n",
       "      <th>Gpu</th>\n",
       "      <td>object</td>\n",
       "      <td>0</td>\n",
       "      <td>93</td>\n",
       "      <td>10.2</td>\n",
       "    </tr>\n",
       "    <tr>\n",
       "      <th>OpSys</th>\n",
       "      <td>object</td>\n",
       "      <td>0</td>\n",
       "      <td>9</td>\n",
       "      <td>0.99</td>\n",
       "    </tr>\n",
       "    <tr>\n",
       "      <th>Weight</th>\n",
       "      <td>object</td>\n",
       "      <td>0</td>\n",
       "      <td>165</td>\n",
       "      <td>18.09</td>\n",
       "    </tr>\n",
       "    <tr>\n",
       "      <th>Price_in_euros</th>\n",
       "      <td>float64</td>\n",
       "      <td>0</td>\n",
       "      <td>603</td>\n",
       "      <td>66.12</td>\n",
       "    </tr>\n",
       "  </tbody>\n",
       "</table>\n",
       "</div>"
      ],
      "text/plain": [
       "                 DATA_TYPE MISSINGS (%) UNIQUE_VALUES CARDIN (%)\n",
       "Company             object            0            19       2.08\n",
       "Product             object            0           480      52.63\n",
       "TypeName            object            0             6       0.66\n",
       "Inches             float64            0            17       1.86\n",
       "ScreenResolution    object            0            36       3.95\n",
       "Cpu                 object            0           107      11.73\n",
       "Ram                 object            0             9       0.99\n",
       "Memory              object            0            37       4.06\n",
       "Gpu                 object            0            93       10.2\n",
       "OpSys               object            0             9       0.99\n",
       "Weight              object            0           165      18.09\n",
       "Price_in_euros     float64            0           603      66.12"
      ]
     },
     "execution_count": 24,
     "metadata": {},
     "output_type": "execute_result"
    }
   ],
   "source": [
    "tb.describe_df(df)"
   ]
  },
  {
   "cell_type": "code",
   "execution_count": 25,
   "metadata": {},
   "outputs": [
    {
     "data": {
      "text/html": [
       "<div>\n",
       "<style scoped>\n",
       "    .dataframe tbody tr th:only-of-type {\n",
       "        vertical-align: middle;\n",
       "    }\n",
       "\n",
       "    .dataframe tbody tr th {\n",
       "        vertical-align: top;\n",
       "    }\n",
       "\n",
       "    .dataframe thead th {\n",
       "        text-align: right;\n",
       "    }\n",
       "</style>\n",
       "<table border=\"1\" class=\"dataframe\">\n",
       "  <thead>\n",
       "    <tr style=\"text-align: right;\">\n",
       "      <th></th>\n",
       "      <th>variable</th>\n",
       "      <th>tipo</th>\n",
       "    </tr>\n",
       "  </thead>\n",
       "  <tbody>\n",
       "    <tr>\n",
       "      <th>0</th>\n",
       "      <td>Company</td>\n",
       "      <td>Numérica Discreta</td>\n",
       "    </tr>\n",
       "    <tr>\n",
       "      <th>1</th>\n",
       "      <td>Product</td>\n",
       "      <td>Numérica Continua</td>\n",
       "    </tr>\n",
       "    <tr>\n",
       "      <th>2</th>\n",
       "      <td>TypeName</td>\n",
       "      <td>Categórica</td>\n",
       "    </tr>\n",
       "    <tr>\n",
       "      <th>3</th>\n",
       "      <td>Inches</td>\n",
       "      <td>Numérica Discreta</td>\n",
       "    </tr>\n",
       "    <tr>\n",
       "      <th>4</th>\n",
       "      <td>ScreenResolution</td>\n",
       "      <td>Numérica Discreta</td>\n",
       "    </tr>\n",
       "    <tr>\n",
       "      <th>5</th>\n",
       "      <td>Cpu</td>\n",
       "      <td>Numérica Discreta</td>\n",
       "    </tr>\n",
       "    <tr>\n",
       "      <th>6</th>\n",
       "      <td>Ram</td>\n",
       "      <td>Categórica</td>\n",
       "    </tr>\n",
       "    <tr>\n",
       "      <th>7</th>\n",
       "      <td>Memory</td>\n",
       "      <td>Numérica Discreta</td>\n",
       "    </tr>\n",
       "    <tr>\n",
       "      <th>8</th>\n",
       "      <td>Gpu</td>\n",
       "      <td>Numérica Discreta</td>\n",
       "    </tr>\n",
       "    <tr>\n",
       "      <th>9</th>\n",
       "      <td>OpSys</td>\n",
       "      <td>Categórica</td>\n",
       "    </tr>\n",
       "    <tr>\n",
       "      <th>10</th>\n",
       "      <td>Weight</td>\n",
       "      <td>Numérica Continua</td>\n",
       "    </tr>\n",
       "    <tr>\n",
       "      <th>11</th>\n",
       "      <td>Price_in_euros</td>\n",
       "      <td>Numérica Continua</td>\n",
       "    </tr>\n",
       "  </tbody>\n",
       "</table>\n",
       "</div>"
      ],
      "text/plain": [
       "            variable               tipo\n",
       "0            Company  Numérica Discreta\n",
       "1            Product  Numérica Continua\n",
       "2           TypeName         Categórica\n",
       "3             Inches  Numérica Discreta\n",
       "4   ScreenResolution  Numérica Discreta\n",
       "5                Cpu  Numérica Discreta\n",
       "6                Ram         Categórica\n",
       "7             Memory  Numérica Discreta\n",
       "8                Gpu  Numérica Discreta\n",
       "9              OpSys         Categórica\n",
       "10            Weight  Numérica Continua\n",
       "11    Price_in_euros  Numérica Continua"
      ]
     },
     "execution_count": 25,
     "metadata": {},
     "output_type": "execute_result"
    }
   ],
   "source": [
    "tb.tipifica_variables(df)"
   ]
  },
  {
   "cell_type": "markdown",
   "metadata": {},
   "source": [
    "## Procesado de datos"
   ]
  },
  {
   "cell_type": "markdown",
   "metadata": {},
   "source": [
    "Nuestro target es la columna `Price_in_euros`"
   ]
  },
  {
   "cell_type": "code",
   "execution_count": 26,
   "metadata": {},
   "outputs": [],
   "source": [
    "target = \"Price_in_euros\""
   ]
  },
  {
   "cell_type": "code",
   "execution_count": 27,
   "metadata": {},
   "outputs": [],
   "source": [
    "df.drop_duplicates(keep = \"first\", inplace = True)"
   ]
  },
  {
   "cell_type": "code",
   "execution_count": 28,
   "metadata": {},
   "outputs": [],
   "source": [
    "df[\"inches\"] = df.Inches.astype(float)\n",
    "df['ram_gb'] = df['Ram'].str.replace('GB', '').astype(int)\n",
    "df[\"weight_kg\"] = df['Weight'].str.replace('kg', '').astype(float)\n",
    "df.drop(columns = [\"Inches\", \"Ram\", \"Weight\"], inplace = True)"
   ]
  },
  {
   "cell_type": "code",
   "execution_count": 29,
   "metadata": {},
   "outputs": [
    {
     "data": {
      "text/plain": [
       "Cpu\n",
       "Intel Core i5 7200U 2.5GHz              124\n",
       "Intel Core i7 7700HQ 2.8GHz             105\n",
       "Intel Core i7 7500U 2.7GHz               95\n",
       "Intel Core i5 8250U 1.6GHz               52\n",
       "Intel Core i7 8550U 1.8GHz               47\n",
       "                                       ... \n",
       "Intel Core M 1.1GHz                       1\n",
       "AMD E-Series 9000e 1.5GHz                 1\n",
       "Intel Core i7 6560U 2.2GHz                1\n",
       "Intel Core i5 6440HQ 2.6GHz               1\n",
       "Intel Pentium Dual Core N4200 1.1GHz      1\n",
       "Name: count, Length: 107, dtype: int64"
      ]
     },
     "execution_count": 29,
     "metadata": {},
     "output_type": "execute_result"
    }
   ],
   "source": [
    "# Vemos los valores de Cpu para ver si podemos tratar esta columna:\n",
    "df.Cpu.value_counts()"
   ]
  },
  {
   "cell_type": "code",
   "execution_count": 30,
   "metadata": {},
   "outputs": [
    {
     "data": {
      "text/plain": [
       "cpu_brand\n",
       "Intel    850\n",
       "AMD       41\n",
       "Name: count, dtype: int64"
      ]
     },
     "execution_count": 30,
     "metadata": {},
     "output_type": "execute_result"
    }
   ],
   "source": [
    "# Tratamiento de la columna Cpu:\n",
    "df[\"cpu_brand\"] = df[\"Cpu\"].apply(lambda x: x.split()[0])\n",
    "df[\"cpu_speed\"] = df[\"Cpu\"].apply(lambda x: float(x.split()[-1].replace(\"GHz\", \"\")))\n",
    "df.drop(columns = [\"Cpu\"], inplace = True)\n",
    "df.cpu_brand.value_counts()"
   ]
  },
  {
   "cell_type": "code",
   "execution_count": 31,
   "metadata": {},
   "outputs": [],
   "source": [
    "# Hacemos un One Hot Encoding para estas cuatro variables categóricas que tienen pocas categorías:\n",
    "columns_dummies = [\"Company\", \"TypeName\", \"OpSys\", \"cpu_brand\"]\n",
    "\n",
    "df = pd.get_dummies(df, columns = columns_dummies, dtype = int)"
   ]
  },
  {
   "cell_type": "code",
   "execution_count": null,
   "metadata": {},
   "outputs": [],
   "source": [
    "# def process_memory(mem):\n",
    "#     mem = mem.lower().replace(\"tb\", \"000\").replace(\"gb\", \"\")\n",
    "#     parts = mem.split(\"+\")\n",
    "#     ssd, hdd, flash, hybrid = 0, 0, 0, 0\n",
    "#     for part in parts:\n",
    "#         if \"ssd\" in part:\n",
    "#             ssd += int(part.strip().replace(\"ssd\", \"\"))\n",
    "#         elif \"hdd\" in part:\n",
    "#             hdd += int(part.strip().replace(\"hdd\", \"\"))\n",
    "#         elif \"flash\" in part:\n",
    "#             flash += int(part.strip().replace(\"flash\", \"\"))\n",
    "#         elif \"hybrid\" in part:\n",
    "#             hybrid += int(part.strip().replace(\"hybrid\", \"\"))\n",
    "#     return pd.Series([ssd, hdd, flash, hybrid])\n",
    "\n",
    "# df[[\"SSD\", \"HDD\", \"Flash\", \"Hybrid\"]] = df[\"Memory\"].apply(process_memory)\n",
    "# df.drop(columns=[\"Memory\"], inplace=True)\n"
   ]
  },
  {
   "cell_type": "code",
   "execution_count": 32,
   "metadata": {},
   "outputs": [
    {
     "name": "stdout",
     "output_type": "stream",
     "text": [
      "<class 'pandas.core.frame.DataFrame'>\n",
      "Index: 891 entries, 755 to 229\n",
      "Data columns (total 45 columns):\n",
      " #   Column                       Non-Null Count  Dtype  \n",
      "---  ------                       --------------  -----  \n",
      " 0   Product                      891 non-null    object \n",
      " 1   ScreenResolution             891 non-null    object \n",
      " 2   Memory                       891 non-null    object \n",
      " 3   Gpu                          891 non-null    object \n",
      " 4   Price_in_euros               891 non-null    float64\n",
      " 5   inches                       891 non-null    float64\n",
      " 6   ram_gb                       891 non-null    int32  \n",
      " 7   weight_kg                    891 non-null    float64\n",
      " 8   cpu_speed                    891 non-null    float64\n",
      " 9   Company_Acer                 891 non-null    int32  \n",
      " 10  Company_Apple                891 non-null    int32  \n",
      " 11  Company_Asus                 891 non-null    int32  \n",
      " 12  Company_Chuwi                891 non-null    int32  \n",
      " 13  Company_Dell                 891 non-null    int32  \n",
      " 14  Company_Fujitsu              891 non-null    int32  \n",
      " 15  Company_Google               891 non-null    int32  \n",
      " 16  Company_HP                   891 non-null    int32  \n",
      " 17  Company_Huawei               891 non-null    int32  \n",
      " 18  Company_LG                   891 non-null    int32  \n",
      " 19  Company_Lenovo               891 non-null    int32  \n",
      " 20  Company_MSI                  891 non-null    int32  \n",
      " 21  Company_Mediacom             891 non-null    int32  \n",
      " 22  Company_Microsoft            891 non-null    int32  \n",
      " 23  Company_Razer                891 non-null    int32  \n",
      " 24  Company_Samsung              891 non-null    int32  \n",
      " 25  Company_Toshiba              891 non-null    int32  \n",
      " 26  Company_Vero                 891 non-null    int32  \n",
      " 27  Company_Xiaomi               891 non-null    int32  \n",
      " 28  TypeName_2 in 1 Convertible  891 non-null    int32  \n",
      " 29  TypeName_Gaming              891 non-null    int32  \n",
      " 30  TypeName_Netbook             891 non-null    int32  \n",
      " 31  TypeName_Notebook            891 non-null    int32  \n",
      " 32  TypeName_Ultrabook           891 non-null    int32  \n",
      " 33  TypeName_Workstation         891 non-null    int32  \n",
      " 34  OpSys_Android                891 non-null    int32  \n",
      " 35  OpSys_Chrome OS              891 non-null    int32  \n",
      " 36  OpSys_Linux                  891 non-null    int32  \n",
      " 37  OpSys_Mac OS X               891 non-null    int32  \n",
      " 38  OpSys_No OS                  891 non-null    int32  \n",
      " 39  OpSys_Windows 10             891 non-null    int32  \n",
      " 40  OpSys_Windows 10 S           891 non-null    int32  \n",
      " 41  OpSys_Windows 7              891 non-null    int32  \n",
      " 42  OpSys_macOS                  891 non-null    int32  \n",
      " 43  cpu_brand_AMD                891 non-null    int32  \n",
      " 44  cpu_brand_Intel              891 non-null    int32  \n",
      "dtypes: float64(4), int32(37), object(4)\n",
      "memory usage: 191.4+ KB\n"
     ]
    }
   ],
   "source": [
    "df.info()"
   ]
  },
  {
   "cell_type": "code",
   "execution_count": 34,
   "metadata": {},
   "outputs": [
    {
     "data": {
      "image/png": "[encoded data removed]",
      "text/plain": [
       "<Figure size 640x480 with 4 Axes>"
      ]
     },
     "metadata": {},
     "output_type": "display_data"
    }
   ],
   "source": [
    "num_feat = [\"inches\", \"ram_gb\", \"weight_kg\", \"cpu_speed\"]\n",
    "df[num_feat].hist();"
   ]
  },
  {
   "cell_type": "code",
   "execution_count": 35,
   "metadata": {},
   "outputs": [
    {
     "data": {
      "text/plain": [
       "<Axes: >"
      ]
     },
     "execution_count": 35,
     "metadata": {},
     "output_type": "execute_result"
    },
    {
     "data": {
      "image/png": "[encoded data removed]",
      "text/plain": [
       "<Figure size 640x480 with 1 Axes>"
      ]
     },
     "metadata": {},
     "output_type": "display_data"
    }
   ],
   "source": [
    "# Podemos intentar normalizar un poco más la columna de ram_gb utilizando un logaritmo:\n",
    "np.log(df[\"ram_gb\"]).hist()"
   ]
  },
  {
   "cell_type": "code",
   "execution_count": 36,
   "metadata": {},
   "outputs": [],
   "source": [
    "df[\"ram_gb\"] = np.log(df[\"ram_gb\"])"
   ]
  },
  {
   "cell_type": "code",
   "execution_count": 39,
   "metadata": {},
   "outputs": [
    {
     "data": {
      "text/plain": [
       "['inches',\n",
       " 'ram_gb',\n",
       " 'weight_kg',\n",
       " 'cpu_speed',\n",
       " 'Company_Acer',\n",
       " 'Company_Apple',\n",
       " 'Company_Asus',\n",
       " 'Company_Chuwi',\n",
       " 'Company_Dell',\n",
       " 'Company_Fujitsu',\n",
       " 'Company_Google',\n",
       " 'Company_HP',\n",
       " 'Company_Huawei',\n",
       " 'Company_LG',\n",
       " 'Company_Lenovo',\n",
       " 'Company_MSI',\n",
       " 'Company_Mediacom',\n",
       " 'Company_Microsoft',\n",
       " 'Company_Razer',\n",
       " 'Company_Samsung',\n",
       " 'Company_Toshiba',\n",
       " 'Company_Vero',\n",
       " 'Company_Xiaomi',\n",
       " 'TypeName_2 in 1 Convertible',\n",
       " 'TypeName_Gaming',\n",
       " 'TypeName_Netbook',\n",
       " 'TypeName_Notebook',\n",
       " 'TypeName_Ultrabook',\n",
       " 'TypeName_Workstation',\n",
       " 'OpSys_Android',\n",
       " 'OpSys_Chrome OS',\n",
       " 'OpSys_Linux',\n",
       " 'OpSys_Mac OS X',\n",
       " 'OpSys_No OS',\n",
       " 'OpSys_Windows 10',\n",
       " 'OpSys_Windows 10 S',\n",
       " 'OpSys_Windows 7',\n",
       " 'OpSys_macOS',\n",
       " 'cpu_brand_AMD',\n",
       " 'cpu_brand_Intel']"
      ]
     },
     "execution_count": 39,
     "metadata": {},
     "output_type": "execute_result"
    }
   ],
   "source": [
    "feat_sel = list(df.columns)\n",
    "feat_sel.remove(\"Product\")\n",
    "feat_sel.remove(\"Price_in_euros\")\n",
    "feat_sel.remove(\"ScreenResolution\")\n",
    "feat_sel.remove(\"Gpu\")\n",
    "feat_sel.remove(\"Memory\")\n",
    "feat_sel"
   ]
  },
  {
   "cell_type": "markdown",
   "metadata": {},
   "source": [
    "-----------------------------------------------------------------------------------------------------------------"
   ]
  },
  {
   "cell_type": "markdown",
   "metadata": {},
   "source": [
    "## Modelado"
   ]
  },
  {
   "cell_type": "markdown",
   "metadata": {},
   "source": [
    "### 1. Definir X e y"
   ]
  },
  {
   "cell_type": "code",
   "execution_count": 40,
   "metadata": {},
   "outputs": [],
   "source": [
    "X = df[feat_sel]\n",
    "y = df[target]"
   ]
  },
  {
   "cell_type": "markdown",
   "metadata": {},
   "source": [
    "### 2. Dividir X_train, X_test, y_train, y_test"
   ]
  },
  {
   "cell_type": "code",
   "execution_count": 41,
   "metadata": {},
   "outputs": [],
   "source": [
    "X_train, X_test, y_train, y_test = train_test_split(X, y, test_size = 0.20, random_state = 42)"
   ]
  },
  {
   "cell_type": "code",
   "execution_count": 42,
   "metadata": {},
   "outputs": [
    {
     "data": {
      "text/html": [
       "<div>\n",
       "<style scoped>\n",
       "    .dataframe tbody tr th:only-of-type {\n",
       "        vertical-align: middle;\n",
       "    }\n",
       "\n",
       "    .dataframe tbody tr th {\n",
       "        vertical-align: top;\n",
       "    }\n",
       "\n",
       "    .dataframe thead th {\n",
       "        text-align: right;\n",
       "    }\n",
       "</style>\n",
       "<table border=\"1\" class=\"dataframe\">\n",
       "  <thead>\n",
       "    <tr style=\"text-align: right;\">\n",
       "      <th></th>\n",
       "      <th>inches</th>\n",
       "      <th>ram_gb</th>\n",
       "      <th>weight_kg</th>\n",
       "      <th>cpu_speed</th>\n",
       "      <th>Company_Acer</th>\n",
       "      <th>Company_Apple</th>\n",
       "      <th>Company_Asus</th>\n",
       "      <th>Company_Chuwi</th>\n",
       "      <th>Company_Dell</th>\n",
       "      <th>Company_Fujitsu</th>\n",
       "      <th>...</th>\n",
       "      <th>OpSys_Chrome OS</th>\n",
       "      <th>OpSys_Linux</th>\n",
       "      <th>OpSys_Mac OS X</th>\n",
       "      <th>OpSys_No OS</th>\n",
       "      <th>OpSys_Windows 10</th>\n",
       "      <th>OpSys_Windows 10 S</th>\n",
       "      <th>OpSys_Windows 7</th>\n",
       "      <th>OpSys_macOS</th>\n",
       "      <th>cpu_brand_AMD</th>\n",
       "      <th>cpu_brand_Intel</th>\n",
       "    </tr>\n",
       "  </thead>\n",
       "  <tbody>\n",
       "    <tr>\n",
       "      <th>112</th>\n",
       "      <td>14.0</td>\n",
       "      <td>2.079442</td>\n",
       "      <td>1.58</td>\n",
       "      <td>2.7</td>\n",
       "      <td>0</td>\n",
       "      <td>0</td>\n",
       "      <td>0</td>\n",
       "      <td>0</td>\n",
       "      <td>0</td>\n",
       "      <td>0</td>\n",
       "      <td>...</td>\n",
       "      <td>0</td>\n",
       "      <td>0</td>\n",
       "      <td>0</td>\n",
       "      <td>0</td>\n",
       "      <td>1</td>\n",
       "      <td>0</td>\n",
       "      <td>0</td>\n",
       "      <td>0</td>\n",
       "      <td>0</td>\n",
       "      <td>1</td>\n",
       "    </tr>\n",
       "    <tr>\n",
       "      <th>13</th>\n",
       "      <td>15.4</td>\n",
       "      <td>2.772589</td>\n",
       "      <td>1.83</td>\n",
       "      <td>2.8</td>\n",
       "      <td>0</td>\n",
       "      <td>1</td>\n",
       "      <td>0</td>\n",
       "      <td>0</td>\n",
       "      <td>0</td>\n",
       "      <td>0</td>\n",
       "      <td>...</td>\n",
       "      <td>0</td>\n",
       "      <td>0</td>\n",
       "      <td>0</td>\n",
       "      <td>0</td>\n",
       "      <td>0</td>\n",
       "      <td>0</td>\n",
       "      <td>0</td>\n",
       "      <td>1</td>\n",
       "      <td>0</td>\n",
       "      <td>1</td>\n",
       "    </tr>\n",
       "    <tr>\n",
       "      <th>1190</th>\n",
       "      <td>15.6</td>\n",
       "      <td>1.386294</td>\n",
       "      <td>2.20</td>\n",
       "      <td>1.6</td>\n",
       "      <td>0</td>\n",
       "      <td>0</td>\n",
       "      <td>1</td>\n",
       "      <td>0</td>\n",
       "      <td>0</td>\n",
       "      <td>0</td>\n",
       "      <td>...</td>\n",
       "      <td>0</td>\n",
       "      <td>0</td>\n",
       "      <td>0</td>\n",
       "      <td>0</td>\n",
       "      <td>1</td>\n",
       "      <td>0</td>\n",
       "      <td>0</td>\n",
       "      <td>0</td>\n",
       "      <td>0</td>\n",
       "      <td>1</td>\n",
       "    </tr>\n",
       "    <tr>\n",
       "      <th>55</th>\n",
       "      <td>15.6</td>\n",
       "      <td>1.386294</td>\n",
       "      <td>2.40</td>\n",
       "      <td>2.4</td>\n",
       "      <td>1</td>\n",
       "      <td>0</td>\n",
       "      <td>0</td>\n",
       "      <td>0</td>\n",
       "      <td>0</td>\n",
       "      <td>0</td>\n",
       "      <td>...</td>\n",
       "      <td>0</td>\n",
       "      <td>0</td>\n",
       "      <td>0</td>\n",
       "      <td>0</td>\n",
       "      <td>1</td>\n",
       "      <td>0</td>\n",
       "      <td>0</td>\n",
       "      <td>0</td>\n",
       "      <td>0</td>\n",
       "      <td>1</td>\n",
       "    </tr>\n",
       "    <tr>\n",
       "      <th>1043</th>\n",
       "      <td>17.3</td>\n",
       "      <td>2.079442</td>\n",
       "      <td>2.63</td>\n",
       "      <td>2.5</td>\n",
       "      <td>0</td>\n",
       "      <td>0</td>\n",
       "      <td>0</td>\n",
       "      <td>0</td>\n",
       "      <td>0</td>\n",
       "      <td>0</td>\n",
       "      <td>...</td>\n",
       "      <td>0</td>\n",
       "      <td>0</td>\n",
       "      <td>0</td>\n",
       "      <td>0</td>\n",
       "      <td>1</td>\n",
       "      <td>0</td>\n",
       "      <td>0</td>\n",
       "      <td>0</td>\n",
       "      <td>0</td>\n",
       "      <td>1</td>\n",
       "    </tr>\n",
       "  </tbody>\n",
       "</table>\n",
       "<p>5 rows × 40 columns</p>\n",
       "</div>"
      ],
      "text/plain": [
       "      inches    ram_gb  weight_kg  cpu_speed  Company_Acer  Company_Apple  \\\n",
       "112     14.0  2.079442       1.58        2.7             0              0   \n",
       "13      15.4  2.772589       1.83        2.8             0              1   \n",
       "1190    15.6  1.386294       2.20        1.6             0              0   \n",
       "55      15.6  1.386294       2.40        2.4             1              0   \n",
       "1043    17.3  2.079442       2.63        2.5             0              0   \n",
       "\n",
       "      Company_Asus  Company_Chuwi  Company_Dell  Company_Fujitsu  ...  \\\n",
       "112              0              0             0                0  ...   \n",
       "13               0              0             0                0  ...   \n",
       "1190             1              0             0                0  ...   \n",
       "55               0              0             0                0  ...   \n",
       "1043             0              0             0                0  ...   \n",
       "\n",
       "      OpSys_Chrome OS  OpSys_Linux  OpSys_Mac OS X  OpSys_No OS  \\\n",
       "112                 0            0               0            0   \n",
       "13                  0            0               0            0   \n",
       "1190                0            0               0            0   \n",
       "55                  0            0               0            0   \n",
       "1043                0            0               0            0   \n",
       "\n",
       "      OpSys_Windows 10  OpSys_Windows 10 S  OpSys_Windows 7  OpSys_macOS  \\\n",
       "112                  1                   0                0            0   \n",
       "13                   0                   0                0            1   \n",
       "1190                 1                   0                0            0   \n",
       "55                   1                   0                0            0   \n",
       "1043                 1                   0                0            0   \n",
       "\n",
       "      cpu_brand_AMD  cpu_brand_Intel  \n",
       "112               0                1  \n",
       "13                0                1  \n",
       "1190              0                1  \n",
       "55                0                1  \n",
       "1043              0                1  \n",
       "\n",
       "[5 rows x 40 columns]"
      ]
     },
     "execution_count": 42,
     "metadata": {},
     "output_type": "execute_result"
    }
   ],
   "source": [
    "X_train.head()"
   ]
  },
  {
   "cell_type": "code",
   "execution_count": 43,
   "metadata": {},
   "outputs": [
    {
     "data": {
      "text/plain": [
       "112     1480.00\n",
       "13      2439.97\n",
       "1190     369.00\n",
       "55       384.00\n",
       "1043    1080.00\n",
       "Name: Price_in_euros, dtype: float64"
      ]
     },
     "execution_count": 43,
     "metadata": {},
     "output_type": "execute_result"
    }
   ],
   "source": [
    "y_train.head()"
   ]
  },
  {
   "cell_type": "code",
   "execution_count": null,
   "metadata": {},
   "outputs": [],
   "source": [
    "# X_train.columns = X_train.columns.str.replace(r'[\\[\\]<>]', '', regex=True)\n",
    "# X_train.columns = X_train.columns.astype(str)\n",
    "\n",
    "# X_test.columns = X_test.columns.str.replace(r'[\\[\\]<>]', '', regex=True)\n",
    "# X_test.columns = X_test.columns.astype(str)"
   ]
  },
  {
   "cell_type": "markdown",
   "metadata": {},
   "source": [
    "### 3. Baseline de modelos\n"
   ]
  },
  {
   "cell_type": "code",
   "execution_count": 45,
   "metadata": {},
   "outputs": [
    {
     "name": "stdout",
     "output_type": "stream",
     "text": [
      "{'model': 'Random Forest', 'RSME': -336.82996225615284}\n",
      "{'model': 'XGBoost', 'RSME': -344.3719075990124}\n",
      "{'model': 'LightGBM', 'RSME': -337.18055954961125}\n",
      "0:\tlearn: 520.2999672\ttotal: 1.12ms\tremaining: 111ms\n",
      "99:\tlearn: 140.1151879\ttotal: 91.9ms\tremaining: 0us\n",
      "0:\tlearn: 520.2929160\ttotal: 1.09ms\tremaining: 108ms\n",
      "99:\tlearn: 138.1340782\ttotal: 92.3ms\tremaining: 0us\n",
      "0:\tlearn: 507.9295463\ttotal: 1.5ms\tremaining: 149ms\n",
      "99:\tlearn: 137.7447873\ttotal: 86.7ms\tremaining: 0us\n",
      "0:\tlearn: 553.6757355\ttotal: 1.01ms\tremaining: 100ms\n",
      "99:\tlearn: 133.5678990\ttotal: 85.2ms\tremaining: 0us\n",
      "0:\tlearn: 481.1378409\ttotal: 995us\tremaining: 98.5ms\n",
      "99:\tlearn: 138.7547078\ttotal: 97.6ms\tremaining: 0us\n",
      "{'model': 'Catboost', 'RSME': -320.7067760585381}\n"
     ]
    },
    {
     "data": {
      "text/html": [
       "<div>\n",
       "<style scoped>\n",
       "    .dataframe tbody tr th:only-of-type {\n",
       "        vertical-align: middle;\n",
       "    }\n",
       "\n",
       "    .dataframe tbody tr th {\n",
       "        vertical-align: top;\n",
       "    }\n",
       "\n",
       "    .dataframe thead th {\n",
       "        text-align: right;\n",
       "    }\n",
       "</style>\n",
       "<table border=\"1\" class=\"dataframe\">\n",
       "  <thead>\n",
       "    <tr style=\"text-align: right;\">\n",
       "      <th></th>\n",
       "      <th>model</th>\n",
       "      <th>RSME</th>\n",
       "    </tr>\n",
       "  </thead>\n",
       "  <tbody>\n",
       "    <tr>\n",
       "      <th>3</th>\n",
       "      <td>Catboost</td>\n",
       "      <td>-320.706776</td>\n",
       "    </tr>\n",
       "    <tr>\n",
       "      <th>0</th>\n",
       "      <td>Random Forest</td>\n",
       "      <td>-336.829962</td>\n",
       "    </tr>\n",
       "    <tr>\n",
       "      <th>2</th>\n",
       "      <td>LightGBM</td>\n",
       "      <td>-337.180560</td>\n",
       "    </tr>\n",
       "    <tr>\n",
       "      <th>1</th>\n",
       "      <td>XGBoost</td>\n",
       "      <td>-344.371908</td>\n",
       "    </tr>\n",
       "  </tbody>\n",
       "</table>\n",
       "</div>"
      ],
      "text/plain": [
       "           model        RSME\n",
       "3       Catboost -320.706776\n",
       "0  Random Forest -336.829962\n",
       "2       LightGBM -337.180560\n",
       "1        XGBoost -344.371908"
      ]
     },
     "execution_count": 45,
     "metadata": {},
     "output_type": "execute_result"
    }
   ],
   "source": [
    "model_names = [\"Random Forest\", \"XGBoost\", \"LightGBM\", \"Catboost\"]\n",
    "rf_reg = RandomForestRegressor(random_state = 42)\n",
    "xg_reg = XGBRFRegressor(random_state = 42)\n",
    "lgb_reg = LGBMRegressor(random_state = 42, verbose = -100, n_jobs = -1)\n",
    "cat_reg = CatBoostRegressor(n_estimators = 100, depth = 5, learning_rate = 0.5, verbose = 100)\n",
    "models = [rf_reg, xg_reg, lgb_reg, cat_reg]\n",
    "\n",
    "resultados = []\n",
    "\n",
    "for model_name, modelo in zip(model_names, models):\n",
    "    metrica = np.mean(cross_val_score(modelo, X_train, y_train, cv = 5, scoring  = \"neg_root_mean_squared_error\"))\n",
    "    data = {\n",
    "        \"model\": model_name,\n",
    "        \"RSME\": metrica\n",
    "    }\n",
    "    print(data)\n",
    "    resultados.append(data.copy())\n",
    "df_resultados = pd.DataFrame(resultados)\n",
    "df_resultados.sort_values(\"RSME\", ascending = False)"
   ]
  },
  {
   "cell_type": "code",
   "execution_count": 46,
   "metadata": {},
   "outputs": [
    {
     "name": "stdout",
     "output_type": "stream",
     "text": [
      "0:\tlearn: 520.8081256\ttotal: 1.44ms\tremaining: 142ms\n",
      "99:\tlearn: 145.9078405\ttotal: 86.5ms\tremaining: 0us\n"
     ]
    },
    {
     "data": {
      "text/plain": [
       "<catboost.core.CatBoostRegressor at 0x1faf39528e0>"
      ]
     },
     "execution_count": 46,
     "metadata": {},
     "output_type": "execute_result"
    }
   ],
   "source": [
    "cat_reg.fit(X_train, y_train)"
   ]
  },
  {
   "cell_type": "code",
   "execution_count": 47,
   "metadata": {},
   "outputs": [],
   "source": [
    "y_pred = cat_reg.predict(X_test)"
   ]
  },
  {
   "cell_type": "code",
   "execution_count": 50,
   "metadata": {},
   "outputs": [
    {
     "name": "stdout",
     "output_type": "stream",
     "text": [
      "0:\tlearn: 643.1898351\ttotal: 15.2ms\tremaining: 30.4s\n",
      "100:\tlearn: 234.4615205\ttotal: 1.6s\tremaining: 30.1s\n",
      "200:\tlearn: 175.6823152\ttotal: 3.12s\tremaining: 27.9s\n",
      "300:\tlearn: 148.1730599\ttotal: 4.58s\tremaining: 25.9s\n",
      "400:\tlearn: 128.4916494\ttotal: 5.96s\tremaining: 23.7s\n",
      "500:\tlearn: 114.2763055\ttotal: 7.06s\tremaining: 21.1s\n",
      "600:\tlearn: 103.2332028\ttotal: 8.09s\tremaining: 18.8s\n",
      "700:\tlearn: 94.7330445\ttotal: 9.2s\tremaining: 17s\n",
      "800:\tlearn: 87.2032003\ttotal: 10.3s\tremaining: 15.4s\n",
      "900:\tlearn: 80.5438072\ttotal: 11.3s\tremaining: 13.8s\n",
      "1000:\tlearn: 75.1983257\ttotal: 12.3s\tremaining: 12.3s\n",
      "1100:\tlearn: 70.5056681\ttotal: 13.5s\tremaining: 11s\n",
      "1200:\tlearn: 65.4831717\ttotal: 14.5s\tremaining: 9.67s\n",
      "1300:\tlearn: 62.0032818\ttotal: 15.5s\tremaining: 8.35s\n",
      "1400:\tlearn: 58.7900357\ttotal: 16.6s\tremaining: 7.09s\n",
      "1500:\tlearn: 56.2790459\ttotal: 17.6s\tremaining: 5.84s\n",
      "1600:\tlearn: 53.0928206\ttotal: 18.6s\tremaining: 4.64s\n",
      "1700:\tlearn: 50.4250087\ttotal: 19.7s\tremaining: 3.46s\n",
      "1800:\tlearn: 48.5554666\ttotal: 20.7s\tremaining: 2.29s\n",
      "1900:\tlearn: 46.6126838\ttotal: 21.8s\tremaining: 1.14s\n",
      "1999:\tlearn: 44.9133802\ttotal: 22.9s\tremaining: 0us\n",
      "-290.1451904768979\n"
     ]
    }
   ],
   "source": [
    "# cat_reg = CatBoostRegressor(n_estimators = 100, depth = 5, learning_rate = 0.5, verbose = 100)\n",
    "\n",
    "cat_reg = CatBoostRegressor(verbose = 100)\n",
    "\n",
    "param_grid = {\n",
    "    'iterations': [500, 1000, 2000],  # Cuántos árboles usar\n",
    "    'learning_rate': [0.01, 0.05, 0.1],  # Tasa de aprendizaje\n",
    "    'depth': [4, 8, 10],  # Profundidad de los árboles\n",
    "    'l2_leaf_reg': [1, 4, 10],  # Regularización L2\n",
    "    'colsample_bylevel': [0.8, 1]  # Porcentaje de features usadas por nivel del árbol\n",
    "}\n",
    "\n",
    "grid_model = RandomizedSearchCV(cat_reg, param_distributions = param_grid, n_iter = 20, scoring = \"neg_root_mean_squared_error\", cv = 4, n_jobs= -1, random_state = 42)\n",
    "\n",
    "grid_model.fit(X_train, y_train)\n",
    "\n",
    "print(grid_model.best_score_)\n",
    "best_model = grid_model.best_estimator_"
   ]
  },
  {
   "cell_type": "markdown",
   "metadata": {},
   "source": [
    "### 4. Sacar métricas, valorar los modelos \n",
    "\n",
    "Recuerda que en la competición se va a evaluar con la métrica de ``RMSE``."
   ]
  },
  {
   "cell_type": "code",
   "execution_count": 51,
   "metadata": {},
   "outputs": [],
   "source": [
    "y_pred = best_model.predict(X_test)"
   ]
  },
  {
   "cell_type": "code",
   "execution_count": 48,
   "metadata": {},
   "outputs": [
    {
     "name": "stdout",
     "output_type": "stream",
     "text": [
      "344.1415745379337\n"
     ]
    }
   ],
   "source": [
    "print(np.sqrt(mean_squared_error(y_test, y_pred)))"
   ]
  },
  {
   "cell_type": "markdown",
   "metadata": {},
   "source": [
    "-----------------------------------------------------------------"
   ]
  },
  {
   "cell_type": "markdown",
   "metadata": {},
   "source": [
    "## Una vez listo el modelo, toca predecir ``test.csv``"
   ]
  },
  {
   "cell_type": "markdown",
   "metadata": {},
   "source": [
    "**RECUERDA: APLICAR LAS TRANSFORMACIONES QUE HAYAS REALIZADO EN `train.csv` a `test.csv`.**\n",
    "\n",
    "\n",
    "Véase:\n",
    "- Estandarización/Normalización\n",
    "- Eliminación de Outliers\n",
    "- Eliminación de columnas\n",
    "- Creación de columnas nuevas\n",
    "- Gestión de valores nulos\n",
    "- Y un largo etcétera de técnicas que como Data Scientist hayas considerado las mejores para tu dataset."
   ]
  },
  {
   "cell_type": "markdown",
   "metadata": {},
   "source": [
    "### 1. Carga los datos de `test.csv` para predecir.\n"
   ]
  },
  {
   "cell_type": "code",
   "execution_count": 49,
   "metadata": {},
   "outputs": [
    {
     "data": {
      "text/html": [
       "<div>\n",
       "<style scoped>\n",
       "    .dataframe tbody tr th:only-of-type {\n",
       "        vertical-align: middle;\n",
       "    }\n",
       "\n",
       "    .dataframe tbody tr th {\n",
       "        vertical-align: top;\n",
       "    }\n",
       "\n",
       "    .dataframe thead th {\n",
       "        text-align: right;\n",
       "    }\n",
       "</style>\n",
       "<table border=\"1\" class=\"dataframe\">\n",
       "  <thead>\n",
       "    <tr style=\"text-align: right;\">\n",
       "      <th></th>\n",
       "      <th>Company</th>\n",
       "      <th>Product</th>\n",
       "      <th>TypeName</th>\n",
       "      <th>Inches</th>\n",
       "      <th>ScreenResolution</th>\n",
       "      <th>Cpu</th>\n",
       "      <th>Ram</th>\n",
       "      <th>Memory</th>\n",
       "      <th>Gpu</th>\n",
       "      <th>OpSys</th>\n",
       "      <th>Weight</th>\n",
       "    </tr>\n",
       "  </thead>\n",
       "  <tbody>\n",
       "    <tr>\n",
       "      <th>209</th>\n",
       "      <td>Lenovo</td>\n",
       "      <td>Legion Y520-15IKBN</td>\n",
       "      <td>Gaming</td>\n",
       "      <td>15.6</td>\n",
       "      <td>Full HD 1920x1080</td>\n",
       "      <td>Intel Core i7 7700HQ 2.8GHz</td>\n",
       "      <td>16GB</td>\n",
       "      <td>512GB SSD</td>\n",
       "      <td>Nvidia GeForce GTX 1060</td>\n",
       "      <td>No OS</td>\n",
       "      <td>2.4kg</td>\n",
       "    </tr>\n",
       "    <tr>\n",
       "      <th>1281</th>\n",
       "      <td>Acer</td>\n",
       "      <td>Aspire ES1-531</td>\n",
       "      <td>Notebook</td>\n",
       "      <td>15.6</td>\n",
       "      <td>1366x768</td>\n",
       "      <td>Intel Celeron Dual Core N3060 1.6GHz</td>\n",
       "      <td>4GB</td>\n",
       "      <td>500GB HDD</td>\n",
       "      <td>Intel HD Graphics 400</td>\n",
       "      <td>Linux</td>\n",
       "      <td>2.4kg</td>\n",
       "    </tr>\n",
       "    <tr>\n",
       "      <th>1168</th>\n",
       "      <td>Lenovo</td>\n",
       "      <td>V110-15ISK (i3-6006U/4GB/1TB/No</td>\n",
       "      <td>Notebook</td>\n",
       "      <td>15.6</td>\n",
       "      <td>1366x768</td>\n",
       "      <td>Intel Core i3 6006U 2.0GHz</td>\n",
       "      <td>4GB</td>\n",
       "      <td>1TB HDD</td>\n",
       "      <td>Intel HD Graphics 520</td>\n",
       "      <td>No OS</td>\n",
       "      <td>1.9kg</td>\n",
       "    </tr>\n",
       "    <tr>\n",
       "      <th>1231</th>\n",
       "      <td>Dell</td>\n",
       "      <td>Inspiron 7579</td>\n",
       "      <td>2 in 1 Convertible</td>\n",
       "      <td>15.6</td>\n",
       "      <td>IPS Panel Full HD / Touchscreen 1920x1080</td>\n",
       "      <td>Intel Core i5 7200U 2.5GHz</td>\n",
       "      <td>8GB</td>\n",
       "      <td>256GB SSD</td>\n",
       "      <td>Intel HD Graphics 620</td>\n",
       "      <td>Windows 10</td>\n",
       "      <td>2.191kg</td>\n",
       "    </tr>\n",
       "    <tr>\n",
       "      <th>1020</th>\n",
       "      <td>HP</td>\n",
       "      <td>ProBook 640</td>\n",
       "      <td>Notebook</td>\n",
       "      <td>14.0</td>\n",
       "      <td>Full HD 1920x1080</td>\n",
       "      <td>Intel Core i5 7200U 2.5GHz</td>\n",
       "      <td>4GB</td>\n",
       "      <td>256GB SSD</td>\n",
       "      <td>Intel HD Graphics 620</td>\n",
       "      <td>Windows 10</td>\n",
       "      <td>1.95kg</td>\n",
       "    </tr>\n",
       "  </tbody>\n",
       "</table>\n",
       "</div>"
      ],
      "text/plain": [
       "     Company                          Product            TypeName  Inches  \\\n",
       "209   Lenovo               Legion Y520-15IKBN              Gaming    15.6   \n",
       "1281    Acer                   Aspire ES1-531            Notebook    15.6   \n",
       "1168  Lenovo  V110-15ISK (i3-6006U/4GB/1TB/No            Notebook    15.6   \n",
       "1231    Dell                    Inspiron 7579  2 in 1 Convertible    15.6   \n",
       "1020      HP                      ProBook 640            Notebook    14.0   \n",
       "\n",
       "                               ScreenResolution  \\\n",
       "209                           Full HD 1920x1080   \n",
       "1281                                   1366x768   \n",
       "1168                                   1366x768   \n",
       "1231  IPS Panel Full HD / Touchscreen 1920x1080   \n",
       "1020                          Full HD 1920x1080   \n",
       "\n",
       "                                       Cpu   Ram     Memory  \\\n",
       "209            Intel Core i7 7700HQ 2.8GHz  16GB  512GB SSD   \n",
       "1281  Intel Celeron Dual Core N3060 1.6GHz   4GB  500GB HDD   \n",
       "1168            Intel Core i3 6006U 2.0GHz   4GB    1TB HDD   \n",
       "1231            Intel Core i5 7200U 2.5GHz   8GB  256GB SSD   \n",
       "1020            Intel Core i5 7200U 2.5GHz   4GB  256GB SSD   \n",
       "\n",
       "                          Gpu       OpSys   Weight  \n",
       "209   Nvidia GeForce GTX 1060       No OS    2.4kg  \n",
       "1281    Intel HD Graphics 400       Linux    2.4kg  \n",
       "1168    Intel HD Graphics 520       No OS    1.9kg  \n",
       "1231    Intel HD Graphics 620  Windows 10  2.191kg  \n",
       "1020    Intel HD Graphics 620  Windows 10   1.95kg  "
      ]
     },
     "execution_count": 49,
     "metadata": {},
     "output_type": "execute_result"
    }
   ],
   "source": [
    "X_pred = pd.read_csv(\"data/test.csv\", index_col = 0)\n",
    "X_pred.index.name = None\n",
    "X_pred.head()"
   ]
  },
  {
   "cell_type": "code",
   "execution_count": 50,
   "metadata": {},
   "outputs": [
    {
     "data": {
      "text/html": [
       "<div>\n",
       "<style scoped>\n",
       "    .dataframe tbody tr th:only-of-type {\n",
       "        vertical-align: middle;\n",
       "    }\n",
       "\n",
       "    .dataframe tbody tr th {\n",
       "        vertical-align: top;\n",
       "    }\n",
       "\n",
       "    .dataframe thead th {\n",
       "        text-align: right;\n",
       "    }\n",
       "</style>\n",
       "<table border=\"1\" class=\"dataframe\">\n",
       "  <thead>\n",
       "    <tr style=\"text-align: right;\">\n",
       "      <th></th>\n",
       "      <th>Company</th>\n",
       "      <th>Product</th>\n",
       "      <th>TypeName</th>\n",
       "      <th>Inches</th>\n",
       "      <th>ScreenResolution</th>\n",
       "      <th>Cpu</th>\n",
       "      <th>Ram</th>\n",
       "      <th>Memory</th>\n",
       "      <th>Gpu</th>\n",
       "      <th>OpSys</th>\n",
       "      <th>Weight</th>\n",
       "    </tr>\n",
       "  </thead>\n",
       "  <tbody>\n",
       "    <tr>\n",
       "      <th>820</th>\n",
       "      <td>MSI</td>\n",
       "      <td>GE72MVR 7RG</td>\n",
       "      <td>Gaming</td>\n",
       "      <td>17.3</td>\n",
       "      <td>Full HD 1920x1080</td>\n",
       "      <td>Intel Core i7 7700HQ 2.8GHz</td>\n",
       "      <td>16GB</td>\n",
       "      <td>512GB SSD +  1TB HDD</td>\n",
       "      <td>Nvidia GeForce GTX 1070</td>\n",
       "      <td>Windows 10</td>\n",
       "      <td>2.9kg</td>\n",
       "    </tr>\n",
       "    <tr>\n",
       "      <th>948</th>\n",
       "      <td>Toshiba</td>\n",
       "      <td>Tecra Z40-C-12X</td>\n",
       "      <td>Notebook</td>\n",
       "      <td>14.0</td>\n",
       "      <td>IPS Panel Full HD 1920x1080</td>\n",
       "      <td>Intel Core i5 6200U 2.3GHz</td>\n",
       "      <td>4GB</td>\n",
       "      <td>128GB SSD</td>\n",
       "      <td>Intel HD Graphics 520</td>\n",
       "      <td>Windows 10</td>\n",
       "      <td>1.47kg</td>\n",
       "    </tr>\n",
       "    <tr>\n",
       "      <th>483</th>\n",
       "      <td>Dell</td>\n",
       "      <td>Precision M5520</td>\n",
       "      <td>Workstation</td>\n",
       "      <td>15.6</td>\n",
       "      <td>Full HD 1920x1080</td>\n",
       "      <td>Intel Core i7 7700HQ 2.8GHz</td>\n",
       "      <td>8GB</td>\n",
       "      <td>256GB SSD</td>\n",
       "      <td>Nvidia Quadro M1200</td>\n",
       "      <td>Windows 10</td>\n",
       "      <td>1.78kg</td>\n",
       "    </tr>\n",
       "    <tr>\n",
       "      <th>1017</th>\n",
       "      <td>HP</td>\n",
       "      <td>Probook 440</td>\n",
       "      <td>Notebook</td>\n",
       "      <td>14.0</td>\n",
       "      <td>1366x768</td>\n",
       "      <td>Intel Core i5 7200U 2.5GHz</td>\n",
       "      <td>4GB</td>\n",
       "      <td>500GB HDD</td>\n",
       "      <td>Intel HD Graphics 620</td>\n",
       "      <td>Windows 10</td>\n",
       "      <td>1.64kg</td>\n",
       "    </tr>\n",
       "    <tr>\n",
       "      <th>421</th>\n",
       "      <td>Asus</td>\n",
       "      <td>ZenBook Flip</td>\n",
       "      <td>2 in 1 Convertible</td>\n",
       "      <td>13.3</td>\n",
       "      <td>IPS Panel Full HD / Touchscreen 1920x1080</td>\n",
       "      <td>Intel Core i5 7200U 2.5GHz</td>\n",
       "      <td>8GB</td>\n",
       "      <td>256GB SSD</td>\n",
       "      <td>Intel HD Graphics 620</td>\n",
       "      <td>Windows 10</td>\n",
       "      <td>1.27kg</td>\n",
       "    </tr>\n",
       "  </tbody>\n",
       "</table>\n",
       "</div>"
      ],
      "text/plain": [
       "      Company          Product            TypeName  Inches  \\\n",
       "820       MSI      GE72MVR 7RG              Gaming    17.3   \n",
       "948   Toshiba  Tecra Z40-C-12X            Notebook    14.0   \n",
       "483      Dell  Precision M5520         Workstation    15.6   \n",
       "1017       HP      Probook 440            Notebook    14.0   \n",
       "421      Asus     ZenBook Flip  2 in 1 Convertible    13.3   \n",
       "\n",
       "                               ScreenResolution                          Cpu  \\\n",
       "820                           Full HD 1920x1080  Intel Core i7 7700HQ 2.8GHz   \n",
       "948                 IPS Panel Full HD 1920x1080   Intel Core i5 6200U 2.3GHz   \n",
       "483                           Full HD 1920x1080  Intel Core i7 7700HQ 2.8GHz   \n",
       "1017                                   1366x768   Intel Core i5 7200U 2.5GHz   \n",
       "421   IPS Panel Full HD / Touchscreen 1920x1080   Intel Core i5 7200U 2.5GHz   \n",
       "\n",
       "       Ram                Memory                      Gpu       OpSys  Weight  \n",
       "820   16GB  512GB SSD +  1TB HDD  Nvidia GeForce GTX 1070  Windows 10   2.9kg  \n",
       "948    4GB             128GB SSD    Intel HD Graphics 520  Windows 10  1.47kg  \n",
       "483    8GB             256GB SSD      Nvidia Quadro M1200  Windows 10  1.78kg  \n",
       "1017   4GB             500GB HDD    Intel HD Graphics 620  Windows 10  1.64kg  \n",
       "421    8GB             256GB SSD    Intel HD Graphics 620  Windows 10  1.27kg  "
      ]
     },
     "execution_count": 50,
     "metadata": {},
     "output_type": "execute_result"
    }
   ],
   "source": [
    "X_pred.tail()"
   ]
  },
  {
   "cell_type": "code",
   "execution_count": 51,
   "metadata": {},
   "outputs": [
    {
     "name": "stdout",
     "output_type": "stream",
     "text": [
      "<class 'pandas.core.frame.DataFrame'>\n",
      "Index: 391 entries, 209 to 421\n",
      "Data columns (total 11 columns):\n",
      " #   Column            Non-Null Count  Dtype  \n",
      "---  ------            --------------  -----  \n",
      " 0   Company           391 non-null    object \n",
      " 1   Product           391 non-null    object \n",
      " 2   TypeName          391 non-null    object \n",
      " 3   Inches            391 non-null    float64\n",
      " 4   ScreenResolution  391 non-null    object \n",
      " 5   Cpu               391 non-null    object \n",
      " 6   Ram               391 non-null    object \n",
      " 7   Memory            391 non-null    object \n",
      " 8   Gpu               391 non-null    object \n",
      " 9   OpSys             391 non-null    object \n",
      " 10  Weight            391 non-null    object \n",
      "dtypes: float64(1), object(10)\n",
      "memory usage: 36.7+ KB\n"
     ]
    }
   ],
   "source": [
    "X_pred.info()"
   ]
  },
  {
   "cell_type": "markdown",
   "metadata": {},
   "source": [
    " ## 2. Replicar el procesado para ``test.csv``"
   ]
  },
  {
   "cell_type": "code",
   "execution_count": 52,
   "metadata": {},
   "outputs": [],
   "source": [
    "X_pred[\"inches\"] = X_pred.Inches.astype(float)\n",
    "X_pred['ram_gb'] = X_pred['Ram'].str.replace('GB', '').astype(int)\n",
    "X_pred[\"weight_kg\"] = X_pred['Weight'].str.replace('kg', '').astype(float)\n",
    "X_pred.drop(columns = [\"Inches\", \"Ram\", \"Weight\"], inplace = True)"
   ]
  },
  {
   "cell_type": "code",
   "execution_count": 53,
   "metadata": {},
   "outputs": [],
   "source": [
    "# Tratamiento de la columna Cpu:\n",
    "X_pred[\"cpu_brand\"] = X_pred[\"Cpu\"].apply(lambda x: x.split()[0])\n",
    "X_pred[\"cpu_speed\"] = X_pred[\"Cpu\"].apply(lambda x: float(x.split()[-1].replace(\"GHz\", \"\")))\n",
    "X_pred.drop(columns = [\"Cpu\"], inplace = True)\n",
    "\n",
    "# Hacemos un One Hot Encoding para estas cuatro variables categóricas que tienen pocas categorías:\n",
    "train_columns_dummies = X_train.columns\n",
    "X_pred = pd.get_dummies(X_pred, columns = columns_dummies, dtype = int).reindex(columns = train_columns_dummies, fill_value=0)"
   ]
  },
  {
   "cell_type": "code",
   "execution_count": 55,
   "metadata": {},
   "outputs": [],
   "source": [
    "X_pred[\"ram_gb\"] = np.log(X_pred[\"ram_gb\"])"
   ]
  },
  {
   "cell_type": "code",
   "execution_count": 56,
   "metadata": {},
   "outputs": [
    {
     "name": "stdout",
     "output_type": "stream",
     "text": [
      "<class 'pandas.core.frame.DataFrame'>\n",
      "Index: 391 entries, 209 to 421\n",
      "Data columns (total 40 columns):\n",
      " #   Column                       Non-Null Count  Dtype  \n",
      "---  ------                       --------------  -----  \n",
      " 0   inches                       391 non-null    float64\n",
      " 1   ram_gb                       391 non-null    float64\n",
      " 2   weight_kg                    391 non-null    float64\n",
      " 3   cpu_speed                    391 non-null    float64\n",
      " 4   Company_Acer                 391 non-null    int32  \n",
      " 5   Company_Apple                391 non-null    int32  \n",
      " 6   Company_Asus                 391 non-null    int32  \n",
      " 7   Company_Chuwi                391 non-null    int32  \n",
      " 8   Company_Dell                 391 non-null    int32  \n",
      " 9   Company_Fujitsu              391 non-null    int32  \n",
      " 10  Company_Google               391 non-null    int32  \n",
      " 11  Company_HP                   391 non-null    int32  \n",
      " 12  Company_Huawei               391 non-null    int64  \n",
      " 13  Company_LG                   391 non-null    int32  \n",
      " 14  Company_Lenovo               391 non-null    int32  \n",
      " 15  Company_MSI                  391 non-null    int32  \n",
      " 16  Company_Mediacom             391 non-null    int32  \n",
      " 17  Company_Microsoft            391 non-null    int32  \n",
      " 18  Company_Razer                391 non-null    int32  \n",
      " 19  Company_Samsung              391 non-null    int32  \n",
      " 20  Company_Toshiba              391 non-null    int32  \n",
      " 21  Company_Vero                 391 non-null    int32  \n",
      " 22  Company_Xiaomi               391 non-null    int32  \n",
      " 23  TypeName_2 in 1 Convertible  391 non-null    int32  \n",
      " 24  TypeName_Gaming              391 non-null    int32  \n",
      " 25  TypeName_Netbook             391 non-null    int32  \n",
      " 26  TypeName_Notebook            391 non-null    int32  \n",
      " 27  TypeName_Ultrabook           391 non-null    int32  \n",
      " 28  TypeName_Workstation         391 non-null    int32  \n",
      " 29  OpSys_Android                391 non-null    int64  \n",
      " 30  OpSys_Chrome OS              391 non-null    int32  \n",
      " 31  OpSys_Linux                  391 non-null    int32  \n",
      " 32  OpSys_Mac OS X               391 non-null    int32  \n",
      " 33  OpSys_No OS                  391 non-null    int32  \n",
      " 34  OpSys_Windows 10             391 non-null    int32  \n",
      " 35  OpSys_Windows 10 S           391 non-null    int32  \n",
      " 36  OpSys_Windows 7              391 non-null    int32  \n",
      " 37  OpSys_macOS                  391 non-null    int32  \n",
      " 38  cpu_brand_AMD                391 non-null    int32  \n",
      " 39  cpu_brand_Intel              391 non-null    int32  \n",
      "dtypes: float64(4), int32(34), int64(2)\n",
      "memory usage: 73.3 KB\n"
     ]
    }
   ],
   "source": [
    "X_pred.info()"
   ]
  },
  {
   "cell_type": "code",
   "execution_count": 57,
   "metadata": {},
   "outputs": [
    {
     "data": {
      "text/plain": [
       "array([1712.01506561,  372.98372337,  437.10005552,  879.11674244,\n",
       "       1052.12874398,  471.45807401,  752.26159688,  930.51401331,\n",
       "       1267.00104179,  390.41298298, 2327.61481677, 1639.48006778,\n",
       "        462.1284435 , 1405.15882862, 1101.43364688,  821.59910091,\n",
       "       2237.88404131, 1243.56525686, 2057.35635066,  574.69800377,\n",
       "       1184.12435951,  452.84082002,  980.29546956, 1141.40895333,\n",
       "        540.64449738,  791.40052367,  847.9281832 ,  818.3111728 ,\n",
       "       2246.14537228,  942.41738037, 2150.74783568,  453.38618038,\n",
       "        989.73626854, 3154.4166922 , 2642.26712674, 1941.70617674,\n",
       "        649.96548314,  783.25828714,  799.03231057, 1782.40469538,\n",
       "        823.41684439,  816.05663966,  644.5616779 , 1241.96678237,\n",
       "       1367.47683317, 1064.15382505, 1014.86083412,  691.26138458,\n",
       "        555.05289445,  392.22162367, 2088.27414057,  817.83590615,\n",
       "       1115.76028738,  684.53103203, 1747.27567581, 1904.81115017,\n",
       "        628.3581624 ,  949.26516511, 1007.6002133 ,  562.77850313,\n",
       "       2988.50422144, 1859.92280882,  413.53110446, 2017.67752629,\n",
       "       1598.1224104 , 1694.13270404, 1018.54250739, 1407.86986343,\n",
       "       1798.7646392 , 2214.93102451,  797.94276077,  693.66208638,\n",
       "       1067.67653846, 1685.14588984,  893.75001442, 1105.65550845,\n",
       "       1461.64949317, 1884.01937398, 1731.55187709, 1264.60102953,\n",
       "        983.91315222, 1238.19273408, 3101.19965658, 1551.4660079 ,\n",
       "       1750.35062514, 1981.13876468,  524.49781093,  866.72714755,\n",
       "        961.55839815,  895.82671009,  569.69136144, 2020.32978791,\n",
       "       1239.11029403, 3960.96699924, 2649.4085411 , 1128.28793279,\n",
       "        920.60573105,  587.77585397,  960.17109634,  829.7837494 ,\n",
       "       1989.91696922,  729.92311799, 1429.684983  , 1151.00487504,\n",
       "        238.0008579 , 1852.8892758 , 2231.32235072,  771.18112363,\n",
       "        433.04850566, 1128.28793279, 1739.97824746,  795.57607028,\n",
       "        889.30947752,  555.05289445,  925.86730457,  539.52940729,\n",
       "        397.21191604, 1315.9874877 , 2098.6175322 , 1258.05184649,\n",
       "        821.05883976,  743.17204862, 1070.00700734, 1541.0304634 ,\n",
       "       1816.45092205,  531.34342361, 1771.31698884,  893.75001442,\n",
       "        539.06724961, 1184.05874174, 2023.9285932 , 1748.78871981,\n",
       "       1526.03317654, 3644.30394658,  733.21968223, 3030.51131577,\n",
       "       1397.60356392,  871.8786622 , 1706.4582187 ,  574.69800377,\n",
       "       1262.83585826,  610.42715037, 1222.67361324, 1051.53799827,\n",
       "       1706.56405958, 1258.05184649, 1772.26966285,  720.98174911,\n",
       "       1631.84257513,  790.81949634,  685.85496743,  825.1557096 ,\n",
       "        586.06162503, 1306.8733365 ,  850.64774411,  830.36477673,\n",
       "       1243.03985987,  805.88167964,  668.16124092,  449.22979461,\n",
       "        439.69850114, 2122.9602582 , 1099.42701726,  698.5858787 ,\n",
       "        815.22206202, 1035.96276634, 2226.09935104,  284.25873652,\n",
       "        809.62222039, 1495.6470952 , 1286.58511357,  439.69850114,\n",
       "        330.66422038,  637.94415654, 2552.36108101,  606.86089328,\n",
       "       1101.43364688,  478.239073  , 1396.85560354, 1241.96678237,\n",
       "        579.8351347 , 5951.60611564, 1184.62523694, 1065.88260839,\n",
       "       1186.95781765, 2062.51207806,  479.28059399,  741.67354799,\n",
       "       1321.21239815,  766.41212491,  733.33802852, 1733.35640279,\n",
       "        494.06654578,  799.17446716,  605.37028896,  428.19515628,\n",
       "       1548.65762279,  951.77234974,  861.13788221,  271.04779122,\n",
       "       1070.00700734, 2197.89917046, 1326.47026566,  751.61265746,\n",
       "        574.69800377,  556.62223449, 2177.336142  ,  449.22979461,\n",
       "       1256.39782237,  294.31953543,  970.21355695, 1249.59754766,\n",
       "        688.90598493, 1021.31464288,  555.05289445, 1580.97052517,\n",
       "       1344.22424666,  594.07738066,  753.89410752,  664.1995963 ,\n",
       "        386.95373312, 1361.22354613, 1461.64949317, 1638.27581003,\n",
       "        551.53855634,  811.94493488,  318.23152175, 1188.0321615 ,\n",
       "        607.87573161, 2098.6175322 ,  344.34592687,  366.02592576,\n",
       "        805.88167964, 1452.49107799,  278.96043999,  720.98174911,\n",
       "       2693.88250318, 1213.94020271, 1256.01698495, 1199.81039277,\n",
       "       1946.18316124,  542.21683159, 1227.27848446, 1435.34773247,\n",
       "        787.8838875 , 2228.74517319, 1061.95499116,  843.56097606,\n",
       "        766.41212491, 2181.58438289, 1360.96864443,  502.16114188,\n",
       "       1766.32952969,  888.23036673, 1766.32952969, 2540.449694  ,\n",
       "        637.3367395 ,  758.51004943, 1534.11934252, 1383.10470033,\n",
       "        489.55678108,  558.5669725 , 1105.24066713,  555.65994671,\n",
       "       2214.86857187, 1803.63798374, 1237.91543303,  361.13253035,\n",
       "       2513.18944834, 1496.90433727,  298.35451148,  448.39663646,\n",
       "        896.39242267, 1437.01115078, 1212.36574971,  698.64090047,\n",
       "        470.82247716,  956.90897002,  942.41738037,  552.73125402,\n",
       "        718.27918818, 1059.45372123, 1402.14973701,  489.4691777 ,\n",
       "        330.66422038, 1023.07499076, 1239.11029403, 2325.11196465,\n",
       "       3481.24202307,  529.21099189,  983.91315222, 1264.60102953,\n",
       "       1521.01962625, 1115.45032655,  912.01042855, 1431.52811599,\n",
       "       1157.54749351, 1151.00487504, 3770.58776904,  887.62734093,\n",
       "       1841.59752434,  461.51984078,  420.62810637,  555.65994671,\n",
       "        714.84261105, 1813.59144689, 1894.9462705 ,  873.56895427,\n",
       "       2218.10125661, 1806.60374746,  366.02592576,  825.14621073,\n",
       "        614.79911752,  540.64449738,  817.60192573,  873.04287077,\n",
       "       2583.87225089,  872.90363246, 1007.6002133 , 1030.41194991,\n",
       "       1563.22549015,  897.64697408, 1287.05227224,  889.06598044,\n",
       "       1262.11249584, 2038.6592582 , 2476.4585679 , 1014.49289978,\n",
       "        428.24573065, 2199.92412868,  417.65222524,  990.73660279,\n",
       "       1797.45290671,  767.94005016,  608.14268008,  829.7837494 ,\n",
       "        439.69850114,  529.21099189, 1378.44728669,  887.09391779,\n",
       "        368.01025676,  502.16114188, 2062.16540807, 1334.60125628,\n",
       "       1946.18316124,  770.80431496,  529.3076914 , 1105.65550845,\n",
       "        896.39242267,  649.96548314,  862.11655482,  970.59768026,\n",
       "        869.94382296,  650.32515232,  644.72325742,  260.97378077,\n",
       "       1714.00166836,  763.88346588,  879.08430409, 1860.29674386,\n",
       "        535.9943822 ,  616.75476881,  883.40741732,  851.13587338,\n",
       "       1089.59064063, 1437.89591243, 1704.81475501, 3773.52208273,\n",
       "        914.57339578, 1998.14266944, 2012.01929792, 1169.92043816,\n",
       "        647.11198197, 1033.43202529, 1102.48328241, 2091.20568472,\n",
       "        718.27918818, 1184.78214012,  587.52296587,  552.30985255,\n",
       "        431.85530088, 1031.04275428, 1316.30617773,  453.38618038,\n",
       "       1842.01264149,  964.70253927, 2076.40900414,  780.67481744,\n",
       "       2231.32235072,  927.14975784, 1395.73893186])"
      ]
     },
     "execution_count": 57,
     "metadata": {},
     "output_type": "execute_result"
    }
   ],
   "source": [
    "predictions_submit = cat_reg.predict(X_pred)\n",
    "predictions_submit"
   ]
  },
  {
   "cell_type": "markdown",
   "metadata": {},
   "source": [
    "### 3. **¿Qué es lo que subirás a Kaggle?**"
   ]
  },
  {
   "cell_type": "markdown",
   "metadata": {},
   "source": [
    "**Para subir a Kaggle la predicción esta tendrá que tener una forma específica.**\n",
    "\n",
    "En este caso, la **MISMA** forma que `sample_submission.csv`. "
   ]
  },
  {
   "cell_type": "code",
   "execution_count": 58,
   "metadata": {},
   "outputs": [],
   "source": [
    "sample = pd.read_csv(\"data/sample_submission.csv\")"
   ]
  },
  {
   "cell_type": "code",
   "execution_count": 59,
   "metadata": {},
   "outputs": [
    {
     "data": {
      "text/html": [
       "<div>\n",
       "<style scoped>\n",
       "    .dataframe tbody tr th:only-of-type {\n",
       "        vertical-align: middle;\n",
       "    }\n",
       "\n",
       "    .dataframe tbody tr th {\n",
       "        vertical-align: top;\n",
       "    }\n",
       "\n",
       "    .dataframe thead th {\n",
       "        text-align: right;\n",
       "    }\n",
       "</style>\n",
       "<table border=\"1\" class=\"dataframe\">\n",
       "  <thead>\n",
       "    <tr style=\"text-align: right;\">\n",
       "      <th></th>\n",
       "      <th>laptop_ID</th>\n",
       "      <th>Price_in_euros</th>\n",
       "    </tr>\n",
       "  </thead>\n",
       "  <tbody>\n",
       "    <tr>\n",
       "      <th>0</th>\n",
       "      <td>209</td>\n",
       "      <td>1949.1</td>\n",
       "    </tr>\n",
       "    <tr>\n",
       "      <th>1</th>\n",
       "      <td>1281</td>\n",
       "      <td>805.0</td>\n",
       "    </tr>\n",
       "    <tr>\n",
       "      <th>2</th>\n",
       "      <td>1168</td>\n",
       "      <td>1101.0</td>\n",
       "    </tr>\n",
       "    <tr>\n",
       "      <th>3</th>\n",
       "      <td>1231</td>\n",
       "      <td>1293.8</td>\n",
       "    </tr>\n",
       "    <tr>\n",
       "      <th>4</th>\n",
       "      <td>1020</td>\n",
       "      <td>1832.6</td>\n",
       "    </tr>\n",
       "  </tbody>\n",
       "</table>\n",
       "</div>"
      ],
      "text/plain": [
       "   laptop_ID  Price_in_euros\n",
       "0        209          1949.1\n",
       "1       1281           805.0\n",
       "2       1168          1101.0\n",
       "3       1231          1293.8\n",
       "4       1020          1832.6"
      ]
     },
     "execution_count": 59,
     "metadata": {},
     "output_type": "execute_result"
    }
   ],
   "source": [
    "sample.head()"
   ]
  },
  {
   "cell_type": "code",
   "execution_count": 60,
   "metadata": {},
   "outputs": [
    {
     "data": {
      "text/plain": [
       "(391, 2)"
      ]
     },
     "execution_count": 60,
     "metadata": {},
     "output_type": "execute_result"
    }
   ],
   "source": [
    "sample.shape"
   ]
  },
  {
   "cell_type": "markdown",
   "metadata": {},
   "source": [
    "### 4. Mete tus predicciones en un dataframe llamado ``submission``."
   ]
  },
  {
   "cell_type": "code",
   "execution_count": 61,
   "metadata": {},
   "outputs": [],
   "source": [
    "#¿Cómo creamos la submission?\n",
    "submission = pd.DataFrame({\"laptop_ID\": X_pred.index,\n",
    "                        \"Price_in_euros\": predictions_submit})"
   ]
  },
  {
   "cell_type": "code",
   "execution_count": 62,
   "metadata": {},
   "outputs": [
    {
     "data": {
      "text/html": [
       "<div>\n",
       "<style scoped>\n",
       "    .dataframe tbody tr th:only-of-type {\n",
       "        vertical-align: middle;\n",
       "    }\n",
       "\n",
       "    .dataframe tbody tr th {\n",
       "        vertical-align: top;\n",
       "    }\n",
       "\n",
       "    .dataframe thead th {\n",
       "        text-align: right;\n",
       "    }\n",
       "</style>\n",
       "<table border=\"1\" class=\"dataframe\">\n",
       "  <thead>\n",
       "    <tr style=\"text-align: right;\">\n",
       "      <th></th>\n",
       "      <th>laptop_ID</th>\n",
       "      <th>Price_in_euros</th>\n",
       "    </tr>\n",
       "  </thead>\n",
       "  <tbody>\n",
       "    <tr>\n",
       "      <th>0</th>\n",
       "      <td>209</td>\n",
       "      <td>1712.015066</td>\n",
       "    </tr>\n",
       "    <tr>\n",
       "      <th>1</th>\n",
       "      <td>1281</td>\n",
       "      <td>372.983723</td>\n",
       "    </tr>\n",
       "    <tr>\n",
       "      <th>2</th>\n",
       "      <td>1168</td>\n",
       "      <td>437.100056</td>\n",
       "    </tr>\n",
       "    <tr>\n",
       "      <th>3</th>\n",
       "      <td>1231</td>\n",
       "      <td>879.116742</td>\n",
       "    </tr>\n",
       "    <tr>\n",
       "      <th>4</th>\n",
       "      <td>1020</td>\n",
       "      <td>1052.128744</td>\n",
       "    </tr>\n",
       "  </tbody>\n",
       "</table>\n",
       "</div>"
      ],
      "text/plain": [
       "   laptop_ID  Price_in_euros\n",
       "0        209     1712.015066\n",
       "1       1281      372.983723\n",
       "2       1168      437.100056\n",
       "3       1231      879.116742\n",
       "4       1020     1052.128744"
      ]
     },
     "execution_count": 62,
     "metadata": {},
     "output_type": "execute_result"
    }
   ],
   "source": [
    "submission.head()"
   ]
  },
  {
   "cell_type": "code",
   "execution_count": 63,
   "metadata": {},
   "outputs": [
    {
     "data": {
      "text/plain": [
       "(391, 2)"
      ]
     },
     "execution_count": 63,
     "metadata": {},
     "output_type": "execute_result"
    }
   ],
   "source": [
    "submission.shape"
   ]
  },
  {
   "cell_type": "markdown",
   "metadata": {},
   "source": [
    "### 5. Pásale el CHEQUEADOR para comprobar que efectivamente está listo para subir a Kaggle."
   ]
  },
  {
   "cell_type": "code",
   "execution_count": 64,
   "metadata": {},
   "outputs": [],
   "source": [
    "def chequeador(df_to_submit):\n",
    "    \"\"\"\n",
    "    Esta función se asegura de que tu submission tenga la forma requerida por Kaggle.\n",
    "    \n",
    "    Si es así, se guardará el dataframe en un `csv` y estará listo para subir a Kaggle.\n",
    "    \n",
    "    Si no, LEE EL MENSAJE Y HAZLE CASO.\n",
    "    \n",
    "    Si aún no:\n",
    "    - apaga tu ordenador, \n",
    "    - date una vuelta, \n",
    "    - enciendelo otra vez, \n",
    "    - abre este notebook y \n",
    "    - leelo todo de nuevo. \n",
    "    Todos nos merecemos una segunda oportunidad. También tú.\n",
    "    \"\"\"\n",
    "    if df_to_submit.shape == sample.shape:\n",
    "        if df_to_submit.columns.all() == sample.columns.all():\n",
    "            if df_to_submit.laptop_ID.all() == sample.laptop_ID.all():\n",
    "                print(\"You're ready to submit!\")\n",
    "                submission.to_csv(\"submission.csv\", index = False) #muy importante el index = False\n",
    "                urllib.request.urlretrieve(\"https://www.mihaileric.com/static/evaluation-meme-e0a350f278a36346e6d46b139b1d0da0-ed51e.jpg\", \"gfg.png\")     \n",
    "                img = Image.open(\"gfg.png\")\n",
    "                img.show()   \n",
    "            else:\n",
    "                print(\"Check the ids and try again\")\n",
    "        else:\n",
    "            print(\"Check the names of the columns and try again\")\n",
    "    else:\n",
    "        print(\"Check the number of rows and/or columns and try again\")\n",
    "        print(\"\\nMensaje secreto del TA: No me puedo creer que después de todo este notebook hayas hecho algún cambio en las filas de `test.csv`. Lloro.\")"
   ]
  },
  {
   "cell_type": "code",
   "execution_count": 65,
   "metadata": {},
   "outputs": [
    {
     "name": "stdout",
     "output_type": "stream",
     "text": [
      "You're ready to submit!\n"
     ]
    }
   ],
   "source": [
    "chequeador(submission)"
   ]
  },
  {
   "cell_type": "code",
   "execution_count": null,
   "metadata": {},
   "outputs": [],
   "source": []
  }
 ],
 "metadata": {
  "kernelspec": {
   "display_name": "Python 3",
   "language": "python",
   "name": "python3"
  },
  "language_info": {
   "codemirror_mode": {
    "name": "ipython",
    "version": 3
   },
   "file_extension": ".py",
   "mimetype": "text/x-python",
   "name": "python",
   "nbconvert_exporter": "python",
   "pygments_lexer": "ipython3",
   "version": "3.9.13"
  }
 },
 "nbformat": 4,
 "nbformat_minor": 4
}
