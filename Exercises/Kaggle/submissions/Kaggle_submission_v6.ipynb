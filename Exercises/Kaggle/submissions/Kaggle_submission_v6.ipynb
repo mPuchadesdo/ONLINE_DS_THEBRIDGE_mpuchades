{
 "cells": [
  {
   "cell_type": "markdown",
   "metadata": {},
   "source": [
    "## Kaggle – DataTops®\n",
    "Luismi ha decidido cambiar de aires y, por eso, ha comprado una tienda de portátiles. Sin embargo, su única especialidad es Data Science, por lo que ha decidido crear un modelo de ML para establecer los mejores precios.\n",
    "\n",
    "¿Podrías ayudar a Luismi a mejorar ese modelo?"
   ]
  },
  {
   "cell_type": "markdown",
   "metadata": {},
   "source": [
    "## Métrica: \n",
    "Error de raíz cuadrada media (RMSE) es la desviación estándar de los valores residuales (errores de predicción). Los valores residuales son una medida de la distancia de los puntos de datos de la línea de regresión; RMSE es una medida de cuál es el nivel de dispersión de estos valores residuales. En otras palabras, le indica el nivel de concentración de los datos en la línea de mejor ajuste.\n",
    "\n",
    "\n",
    "$$ RMSE = \\sqrt{\\frac{1}{n}\\Sigma_{i=1}^{n}{\\Big(\\frac{d_i -f_i}{\\sigma_i}\\Big)^2}}$$\n"
   ]
  },
  {
   "cell_type": "markdown",
   "metadata": {},
   "source": [
    "## Librerías"
   ]
  },
  {
   "cell_type": "code",
   "execution_count": 2,
   "metadata": {},
   "outputs": [],
   "source": [
    "import numpy as np\n",
    "import pandas as pd\n",
    "import toolbox_ML as tb\n",
    "import bootcampviztools as bt\n",
    "\n",
    "from PIL import Image\n",
    "from sklearn.preprocessing import OrdinalEncoder, OneHotEncoder\n",
    "from sklearn.model_selection import train_test_split, cross_val_score, GridSearchCV, RandomizedSearchCV\n",
    "from sklearn.metrics import mean_squared_error\n",
    "from sklearn.ensemble import RandomForestRegressor\n",
    "from lightgbm import LGBMRegressor\n",
    "from xgboost import XGBRFRegressor\n",
    "from catboost import CatBoostRegressor\n",
    "import urllib.request"
   ]
  },
  {
   "cell_type": "markdown",
   "metadata": {},
   "source": [
    "## Datos"
   ]
  },
  {
   "cell_type": "code",
   "execution_count": 3,
   "metadata": {},
   "outputs": [],
   "source": [
    "# Para que funcione necesitas bajarte los archivos de datos de Kaggle \n",
    "df = pd.read_csv(\"./data/train.csv\", index_col = 0)\n",
    "df.index.name = None"
   ]
  },
  {
   "cell_type": "code",
   "execution_count": 4,
   "metadata": {},
   "outputs": [],
   "source": [
    "df_bck_up = df.copy()"
   ]
  },
  {
   "cell_type": "markdown",
   "metadata": {},
   "source": [
    "## Exploración de los datos"
   ]
  },
  {
   "cell_type": "code",
   "execution_count": 5,
   "metadata": {},
   "outputs": [
    {
     "name": "stdout",
     "output_type": "stream",
     "text": [
      "<class 'pandas.core.frame.DataFrame'>\n",
      "Index: 912 entries, 755 to 229\n",
      "Data columns (total 12 columns):\n",
      " #   Column            Non-Null Count  Dtype  \n",
      "---  ------            --------------  -----  \n",
      " 0   Company           912 non-null    object \n",
      " 1   Product           912 non-null    object \n",
      " 2   TypeName          912 non-null    object \n",
      " 3   Inches            912 non-null    float64\n",
      " 4   ScreenResolution  912 non-null    object \n",
      " 5   Cpu               912 non-null    object \n",
      " 6   Ram               912 non-null    object \n",
      " 7   Memory            912 non-null    object \n",
      " 8   Gpu               912 non-null    object \n",
      " 9   OpSys             912 non-null    object \n",
      " 10  Weight            912 non-null    object \n",
      " 11  Price_in_euros    912 non-null    float64\n",
      "dtypes: float64(2), object(10)\n",
      "memory usage: 92.6+ KB\n"
     ]
    }
   ],
   "source": [
    "df.info()"
   ]
  },
  {
   "cell_type": "code",
   "execution_count": 6,
   "metadata": {},
   "outputs": [
    {
     "data": {
      "text/plain": [
       "Company             0\n",
       "Product             0\n",
       "TypeName            0\n",
       "Inches              0\n",
       "ScreenResolution    0\n",
       "Cpu                 0\n",
       "Ram                 0\n",
       "Memory              0\n",
       "Gpu                 0\n",
       "OpSys               0\n",
       "Weight              0\n",
       "Price_in_euros      0\n",
       "dtype: int64"
      ]
     },
     "execution_count": 6,
     "metadata": {},
     "output_type": "execute_result"
    }
   ],
   "source": [
    "df.isna().sum()"
   ]
  },
  {
   "cell_type": "code",
   "execution_count": 7,
   "metadata": {},
   "outputs": [
    {
     "data": {
      "text/html": [
       "<div>\n",
       "<style scoped>\n",
       "    .dataframe tbody tr th:only-of-type {\n",
       "        vertical-align: middle;\n",
       "    }\n",
       "\n",
       "    .dataframe tbody tr th {\n",
       "        vertical-align: top;\n",
       "    }\n",
       "\n",
       "    .dataframe thead th {\n",
       "        text-align: right;\n",
       "    }\n",
       "</style>\n",
       "<table border=\"1\" class=\"dataframe\">\n",
       "  <thead>\n",
       "    <tr style=\"text-align: right;\">\n",
       "      <th></th>\n",
       "      <th>Company</th>\n",
       "      <th>Product</th>\n",
       "      <th>TypeName</th>\n",
       "      <th>Inches</th>\n",
       "      <th>ScreenResolution</th>\n",
       "      <th>Cpu</th>\n",
       "      <th>Ram</th>\n",
       "      <th>Memory</th>\n",
       "      <th>Gpu</th>\n",
       "      <th>OpSys</th>\n",
       "      <th>Weight</th>\n",
       "      <th>Price_in_euros</th>\n",
       "    </tr>\n",
       "  </thead>\n",
       "  <tbody>\n",
       "    <tr>\n",
       "      <th>755</th>\n",
       "      <td>HP</td>\n",
       "      <td>250 G6</td>\n",
       "      <td>Notebook</td>\n",
       "      <td>15.6</td>\n",
       "      <td>Full HD 1920x1080</td>\n",
       "      <td>Intel Core i3 6006U 2GHz</td>\n",
       "      <td>8GB</td>\n",
       "      <td>256GB SSD</td>\n",
       "      <td>Intel HD Graphics 520</td>\n",
       "      <td>Windows 10</td>\n",
       "      <td>1.86kg</td>\n",
       "      <td>539.00</td>\n",
       "    </tr>\n",
       "    <tr>\n",
       "      <th>618</th>\n",
       "      <td>Dell</td>\n",
       "      <td>Inspiron 7559</td>\n",
       "      <td>Gaming</td>\n",
       "      <td>15.6</td>\n",
       "      <td>Full HD 1920x1080</td>\n",
       "      <td>Intel Core i7 6700HQ 2.6GHz</td>\n",
       "      <td>16GB</td>\n",
       "      <td>1TB HDD</td>\n",
       "      <td>Nvidia GeForce GTX 960&lt;U+039C&gt;</td>\n",
       "      <td>Windows 10</td>\n",
       "      <td>2.59kg</td>\n",
       "      <td>879.01</td>\n",
       "    </tr>\n",
       "    <tr>\n",
       "      <th>909</th>\n",
       "      <td>HP</td>\n",
       "      <td>ProBook 450</td>\n",
       "      <td>Notebook</td>\n",
       "      <td>15.6</td>\n",
       "      <td>Full HD 1920x1080</td>\n",
       "      <td>Intel Core i7 7500U 2.7GHz</td>\n",
       "      <td>8GB</td>\n",
       "      <td>1TB HDD</td>\n",
       "      <td>Nvidia GeForce 930MX</td>\n",
       "      <td>Windows 10</td>\n",
       "      <td>2.04kg</td>\n",
       "      <td>900.00</td>\n",
       "    </tr>\n",
       "    <tr>\n",
       "      <th>2</th>\n",
       "      <td>Apple</td>\n",
       "      <td>Macbook Air</td>\n",
       "      <td>Ultrabook</td>\n",
       "      <td>13.3</td>\n",
       "      <td>1440x900</td>\n",
       "      <td>Intel Core i5 1.8GHz</td>\n",
       "      <td>8GB</td>\n",
       "      <td>128GB Flash Storage</td>\n",
       "      <td>Intel HD Graphics 6000</td>\n",
       "      <td>macOS</td>\n",
       "      <td>1.34kg</td>\n",
       "      <td>898.94</td>\n",
       "    </tr>\n",
       "    <tr>\n",
       "      <th>286</th>\n",
       "      <td>Dell</td>\n",
       "      <td>Inspiron 3567</td>\n",
       "      <td>Notebook</td>\n",
       "      <td>15.6</td>\n",
       "      <td>Full HD 1920x1080</td>\n",
       "      <td>Intel Core i3 6006U 2.0GHz</td>\n",
       "      <td>4GB</td>\n",
       "      <td>1TB HDD</td>\n",
       "      <td>AMD Radeon R5 M430</td>\n",
       "      <td>Linux</td>\n",
       "      <td>2.25kg</td>\n",
       "      <td>428.00</td>\n",
       "    </tr>\n",
       "  </tbody>\n",
       "</table>\n",
       "</div>"
      ],
      "text/plain": [
       "    Company        Product   TypeName  Inches   ScreenResolution  \\\n",
       "755      HP         250 G6   Notebook    15.6  Full HD 1920x1080   \n",
       "618    Dell  Inspiron 7559     Gaming    15.6  Full HD 1920x1080   \n",
       "909      HP    ProBook 450   Notebook    15.6  Full HD 1920x1080   \n",
       "2     Apple    Macbook Air  Ultrabook    13.3           1440x900   \n",
       "286    Dell  Inspiron 3567   Notebook    15.6  Full HD 1920x1080   \n",
       "\n",
       "                             Cpu   Ram               Memory  \\\n",
       "755     Intel Core i3 6006U 2GHz   8GB            256GB SSD   \n",
       "618  Intel Core i7 6700HQ 2.6GHz  16GB              1TB HDD   \n",
       "909   Intel Core i7 7500U 2.7GHz   8GB              1TB HDD   \n",
       "2           Intel Core i5 1.8GHz   8GB  128GB Flash Storage   \n",
       "286   Intel Core i3 6006U 2.0GHz   4GB              1TB HDD   \n",
       "\n",
       "                                Gpu       OpSys  Weight  Price_in_euros  \n",
       "755           Intel HD Graphics 520  Windows 10  1.86kg          539.00  \n",
       "618  Nvidia GeForce GTX 960<U+039C>  Windows 10  2.59kg          879.01  \n",
       "909            Nvidia GeForce 930MX  Windows 10  2.04kg          900.00  \n",
       "2            Intel HD Graphics 6000       macOS  1.34kg          898.94  \n",
       "286              AMD Radeon R5 M430       Linux  2.25kg          428.00  "
      ]
     },
     "execution_count": 7,
     "metadata": {},
     "output_type": "execute_result"
    }
   ],
   "source": [
    "df.head()"
   ]
  },
  {
   "cell_type": "code",
   "execution_count": 8,
   "metadata": {},
   "outputs": [
    {
     "data": {
      "text/html": [
       "<div>\n",
       "<style scoped>\n",
       "    .dataframe tbody tr th:only-of-type {\n",
       "        vertical-align: middle;\n",
       "    }\n",
       "\n",
       "    .dataframe tbody tr th {\n",
       "        vertical-align: top;\n",
       "    }\n",
       "\n",
       "    .dataframe thead th {\n",
       "        text-align: right;\n",
       "    }\n",
       "</style>\n",
       "<table border=\"1\" class=\"dataframe\">\n",
       "  <thead>\n",
       "    <tr style=\"text-align: right;\">\n",
       "      <th></th>\n",
       "      <th>Company</th>\n",
       "      <th>Product</th>\n",
       "      <th>TypeName</th>\n",
       "      <th>Inches</th>\n",
       "      <th>ScreenResolution</th>\n",
       "      <th>Cpu</th>\n",
       "      <th>Ram</th>\n",
       "      <th>Memory</th>\n",
       "      <th>Gpu</th>\n",
       "      <th>OpSys</th>\n",
       "      <th>Weight</th>\n",
       "      <th>Price_in_euros</th>\n",
       "    </tr>\n",
       "  </thead>\n",
       "  <tbody>\n",
       "    <tr>\n",
       "      <th>28</th>\n",
       "      <td>Dell</td>\n",
       "      <td>Inspiron 5570</td>\n",
       "      <td>Notebook</td>\n",
       "      <td>15.6</td>\n",
       "      <td>Full HD 1920x1080</td>\n",
       "      <td>Intel Core i5 8250U 1.6GHz</td>\n",
       "      <td>8GB</td>\n",
       "      <td>256GB SSD</td>\n",
       "      <td>AMD Radeon 530</td>\n",
       "      <td>Windows 10</td>\n",
       "      <td>2.2kg</td>\n",
       "      <td>800.00</td>\n",
       "    </tr>\n",
       "    <tr>\n",
       "      <th>1160</th>\n",
       "      <td>HP</td>\n",
       "      <td>Spectre Pro</td>\n",
       "      <td>2 in 1 Convertible</td>\n",
       "      <td>13.3</td>\n",
       "      <td>Full HD / Touchscreen 1920x1080</td>\n",
       "      <td>Intel Core i5 6300U 2.4GHz</td>\n",
       "      <td>8GB</td>\n",
       "      <td>256GB SSD</td>\n",
       "      <td>Intel HD Graphics 520</td>\n",
       "      <td>Windows 10</td>\n",
       "      <td>1.48kg</td>\n",
       "      <td>1629.00</td>\n",
       "    </tr>\n",
       "    <tr>\n",
       "      <th>78</th>\n",
       "      <td>Lenovo</td>\n",
       "      <td>IdeaPad 320-15IKBN</td>\n",
       "      <td>Notebook</td>\n",
       "      <td>15.6</td>\n",
       "      <td>Full HD 1920x1080</td>\n",
       "      <td>Intel Core i5 7200U 2.5GHz</td>\n",
       "      <td>8GB</td>\n",
       "      <td>2TB HDD</td>\n",
       "      <td>Intel HD Graphics 620</td>\n",
       "      <td>No OS</td>\n",
       "      <td>2.2kg</td>\n",
       "      <td>519.00</td>\n",
       "    </tr>\n",
       "    <tr>\n",
       "      <th>23</th>\n",
       "      <td>HP</td>\n",
       "      <td>255 G6</td>\n",
       "      <td>Notebook</td>\n",
       "      <td>15.6</td>\n",
       "      <td>1366x768</td>\n",
       "      <td>AMD E-Series E2-9000e 1.5GHz</td>\n",
       "      <td>4GB</td>\n",
       "      <td>500GB HDD</td>\n",
       "      <td>AMD Radeon R2</td>\n",
       "      <td>No OS</td>\n",
       "      <td>1.86kg</td>\n",
       "      <td>258.00</td>\n",
       "    </tr>\n",
       "    <tr>\n",
       "      <th>229</th>\n",
       "      <td>Dell</td>\n",
       "      <td>Alienware 17</td>\n",
       "      <td>Gaming</td>\n",
       "      <td>17.3</td>\n",
       "      <td>IPS Panel Full HD 1920x1080</td>\n",
       "      <td>Intel Core i7 7700HQ 2.8GHz</td>\n",
       "      <td>16GB</td>\n",
       "      <td>256GB SSD +  1TB HDD</td>\n",
       "      <td>Nvidia GeForce GTX 1060</td>\n",
       "      <td>Windows 10</td>\n",
       "      <td>4.42kg</td>\n",
       "      <td>2456.34</td>\n",
       "    </tr>\n",
       "  </tbody>\n",
       "</table>\n",
       "</div>"
      ],
      "text/plain": [
       "     Company             Product            TypeName  Inches  \\\n",
       "28      Dell       Inspiron 5570            Notebook    15.6   \n",
       "1160      HP         Spectre Pro  2 in 1 Convertible    13.3   \n",
       "78    Lenovo  IdeaPad 320-15IKBN            Notebook    15.6   \n",
       "23        HP              255 G6            Notebook    15.6   \n",
       "229     Dell        Alienware 17              Gaming    17.3   \n",
       "\n",
       "                     ScreenResolution                           Cpu   Ram  \\\n",
       "28                  Full HD 1920x1080    Intel Core i5 8250U 1.6GHz   8GB   \n",
       "1160  Full HD / Touchscreen 1920x1080    Intel Core i5 6300U 2.4GHz   8GB   \n",
       "78                  Full HD 1920x1080    Intel Core i5 7200U 2.5GHz   8GB   \n",
       "23                           1366x768  AMD E-Series E2-9000e 1.5GHz   4GB   \n",
       "229       IPS Panel Full HD 1920x1080   Intel Core i7 7700HQ 2.8GHz  16GB   \n",
       "\n",
       "                    Memory                      Gpu       OpSys  Weight  \\\n",
       "28               256GB SSD           AMD Radeon 530  Windows 10   2.2kg   \n",
       "1160             256GB SSD    Intel HD Graphics 520  Windows 10  1.48kg   \n",
       "78                 2TB HDD    Intel HD Graphics 620       No OS   2.2kg   \n",
       "23               500GB HDD            AMD Radeon R2       No OS  1.86kg   \n",
       "229   256GB SSD +  1TB HDD  Nvidia GeForce GTX 1060  Windows 10  4.42kg   \n",
       "\n",
       "      Price_in_euros  \n",
       "28            800.00  \n",
       "1160         1629.00  \n",
       "78            519.00  \n",
       "23            258.00  \n",
       "229          2456.34  "
      ]
     },
     "execution_count": 8,
     "metadata": {},
     "output_type": "execute_result"
    }
   ],
   "source": [
    "df.tail()"
   ]
  },
  {
   "cell_type": "code",
   "execution_count": 9,
   "metadata": {},
   "outputs": [
    {
     "data": {
      "text/html": [
       "<div>\n",
       "<style scoped>\n",
       "    .dataframe tbody tr th:only-of-type {\n",
       "        vertical-align: middle;\n",
       "    }\n",
       "\n",
       "    .dataframe tbody tr th {\n",
       "        vertical-align: top;\n",
       "    }\n",
       "\n",
       "    .dataframe thead th {\n",
       "        text-align: right;\n",
       "    }\n",
       "</style>\n",
       "<table border=\"1\" class=\"dataframe\">\n",
       "  <thead>\n",
       "    <tr style=\"text-align: right;\">\n",
       "      <th></th>\n",
       "      <th>DATA_TYPE</th>\n",
       "      <th>MISSINGS (%)</th>\n",
       "      <th>UNIQUE_VALUES</th>\n",
       "      <th>CARDIN (%)</th>\n",
       "    </tr>\n",
       "  </thead>\n",
       "  <tbody>\n",
       "    <tr>\n",
       "      <th>Company</th>\n",
       "      <td>object</td>\n",
       "      <td>0</td>\n",
       "      <td>19</td>\n",
       "      <td>2.08</td>\n",
       "    </tr>\n",
       "    <tr>\n",
       "      <th>Product</th>\n",
       "      <td>object</td>\n",
       "      <td>0</td>\n",
       "      <td>480</td>\n",
       "      <td>52.63</td>\n",
       "    </tr>\n",
       "    <tr>\n",
       "      <th>TypeName</th>\n",
       "      <td>object</td>\n",
       "      <td>0</td>\n",
       "      <td>6</td>\n",
       "      <td>0.66</td>\n",
       "    </tr>\n",
       "    <tr>\n",
       "      <th>Inches</th>\n",
       "      <td>float64</td>\n",
       "      <td>0</td>\n",
       "      <td>17</td>\n",
       "      <td>1.86</td>\n",
       "    </tr>\n",
       "    <tr>\n",
       "      <th>ScreenResolution</th>\n",
       "      <td>object</td>\n",
       "      <td>0</td>\n",
       "      <td>36</td>\n",
       "      <td>3.95</td>\n",
       "    </tr>\n",
       "    <tr>\n",
       "      <th>Cpu</th>\n",
       "      <td>object</td>\n",
       "      <td>0</td>\n",
       "      <td>107</td>\n",
       "      <td>11.73</td>\n",
       "    </tr>\n",
       "    <tr>\n",
       "      <th>Ram</th>\n",
       "      <td>object</td>\n",
       "      <td>0</td>\n",
       "      <td>9</td>\n",
       "      <td>0.99</td>\n",
       "    </tr>\n",
       "    <tr>\n",
       "      <th>Memory</th>\n",
       "      <td>object</td>\n",
       "      <td>0</td>\n",
       "      <td>37</td>\n",
       "      <td>4.06</td>\n",
       "    </tr>\n",
       "    <tr>\n",
       "      <th>Gpu</th>\n",
       "      <td>object</td>\n",
       "      <td>0</td>\n",
       "      <td>93</td>\n",
       "      <td>10.2</td>\n",
       "    </tr>\n",
       "    <tr>\n",
       "      <th>OpSys</th>\n",
       "      <td>object</td>\n",
       "      <td>0</td>\n",
       "      <td>9</td>\n",
       "      <td>0.99</td>\n",
       "    </tr>\n",
       "    <tr>\n",
       "      <th>Weight</th>\n",
       "      <td>object</td>\n",
       "      <td>0</td>\n",
       "      <td>165</td>\n",
       "      <td>18.09</td>\n",
       "    </tr>\n",
       "    <tr>\n",
       "      <th>Price_in_euros</th>\n",
       "      <td>float64</td>\n",
       "      <td>0</td>\n",
       "      <td>603</td>\n",
       "      <td>66.12</td>\n",
       "    </tr>\n",
       "  </tbody>\n",
       "</table>\n",
       "</div>"
      ],
      "text/plain": [
       "                 DATA_TYPE MISSINGS (%) UNIQUE_VALUES CARDIN (%)\n",
       "Company             object            0            19       2.08\n",
       "Product             object            0           480      52.63\n",
       "TypeName            object            0             6       0.66\n",
       "Inches             float64            0            17       1.86\n",
       "ScreenResolution    object            0            36       3.95\n",
       "Cpu                 object            0           107      11.73\n",
       "Ram                 object            0             9       0.99\n",
       "Memory              object            0            37       4.06\n",
       "Gpu                 object            0            93       10.2\n",
       "OpSys               object            0             9       0.99\n",
       "Weight              object            0           165      18.09\n",
       "Price_in_euros     float64            0           603      66.12"
      ]
     },
     "execution_count": 9,
     "metadata": {},
     "output_type": "execute_result"
    }
   ],
   "source": [
    "tb.describe_df(df)"
   ]
  },
  {
   "cell_type": "code",
   "execution_count": 10,
   "metadata": {},
   "outputs": [
    {
     "data": {
      "text/html": [
       "<div>\n",
       "<style scoped>\n",
       "    .dataframe tbody tr th:only-of-type {\n",
       "        vertical-align: middle;\n",
       "    }\n",
       "\n",
       "    .dataframe tbody tr th {\n",
       "        vertical-align: top;\n",
       "    }\n",
       "\n",
       "    .dataframe thead th {\n",
       "        text-align: right;\n",
       "    }\n",
       "</style>\n",
       "<table border=\"1\" class=\"dataframe\">\n",
       "  <thead>\n",
       "    <tr style=\"text-align: right;\">\n",
       "      <th></th>\n",
       "      <th>variable</th>\n",
       "      <th>tipo</th>\n",
       "    </tr>\n",
       "  </thead>\n",
       "  <tbody>\n",
       "    <tr>\n",
       "      <th>0</th>\n",
       "      <td>Company</td>\n",
       "      <td>Numérica Discreta</td>\n",
       "    </tr>\n",
       "    <tr>\n",
       "      <th>1</th>\n",
       "      <td>Product</td>\n",
       "      <td>Numérica Continua</td>\n",
       "    </tr>\n",
       "    <tr>\n",
       "      <th>2</th>\n",
       "      <td>TypeName</td>\n",
       "      <td>Categórica</td>\n",
       "    </tr>\n",
       "    <tr>\n",
       "      <th>3</th>\n",
       "      <td>Inches</td>\n",
       "      <td>Numérica Discreta</td>\n",
       "    </tr>\n",
       "    <tr>\n",
       "      <th>4</th>\n",
       "      <td>ScreenResolution</td>\n",
       "      <td>Numérica Discreta</td>\n",
       "    </tr>\n",
       "    <tr>\n",
       "      <th>5</th>\n",
       "      <td>Cpu</td>\n",
       "      <td>Numérica Discreta</td>\n",
       "    </tr>\n",
       "    <tr>\n",
       "      <th>6</th>\n",
       "      <td>Ram</td>\n",
       "      <td>Categórica</td>\n",
       "    </tr>\n",
       "    <tr>\n",
       "      <th>7</th>\n",
       "      <td>Memory</td>\n",
       "      <td>Numérica Discreta</td>\n",
       "    </tr>\n",
       "    <tr>\n",
       "      <th>8</th>\n",
       "      <td>Gpu</td>\n",
       "      <td>Numérica Discreta</td>\n",
       "    </tr>\n",
       "    <tr>\n",
       "      <th>9</th>\n",
       "      <td>OpSys</td>\n",
       "      <td>Categórica</td>\n",
       "    </tr>\n",
       "    <tr>\n",
       "      <th>10</th>\n",
       "      <td>Weight</td>\n",
       "      <td>Numérica Continua</td>\n",
       "    </tr>\n",
       "    <tr>\n",
       "      <th>11</th>\n",
       "      <td>Price_in_euros</td>\n",
       "      <td>Numérica Continua</td>\n",
       "    </tr>\n",
       "  </tbody>\n",
       "</table>\n",
       "</div>"
      ],
      "text/plain": [
       "            variable               tipo\n",
       "0            Company  Numérica Discreta\n",
       "1            Product  Numérica Continua\n",
       "2           TypeName         Categórica\n",
       "3             Inches  Numérica Discreta\n",
       "4   ScreenResolution  Numérica Discreta\n",
       "5                Cpu  Numérica Discreta\n",
       "6                Ram         Categórica\n",
       "7             Memory  Numérica Discreta\n",
       "8                Gpu  Numérica Discreta\n",
       "9              OpSys         Categórica\n",
       "10            Weight  Numérica Continua\n",
       "11    Price_in_euros  Numérica Continua"
      ]
     },
     "execution_count": 10,
     "metadata": {},
     "output_type": "execute_result"
    }
   ],
   "source": [
    "tb.tipifica_variables(df)"
   ]
  },
  {
   "cell_type": "markdown",
   "metadata": {},
   "source": [
    "## Procesado de datos"
   ]
  },
  {
   "cell_type": "code",
   "execution_count": 11,
   "metadata": {},
   "outputs": [],
   "source": [
    "target = \"Price_in_euros\""
   ]
  },
  {
   "cell_type": "code",
   "execution_count": 12,
   "metadata": {},
   "outputs": [],
   "source": [
    "df.drop_duplicates(keep = \"first\", inplace = True)"
   ]
  },
  {
   "cell_type": "code",
   "execution_count": 13,
   "metadata": {},
   "outputs": [],
   "source": [
    "df[\"inches\"] = df.Inches.astype(float)\n",
    "df['ram_gb'] = df['Ram'].str.replace('GB', '').astype(int)\n",
    "df[\"weight_kg\"] = df['Weight'].str.replace('kg', '').astype(float)\n",
    "df.drop(columns = [\"Inches\", \"Ram\", \"Weight\"], inplace = True)"
   ]
  },
  {
   "cell_type": "code",
   "execution_count": 14,
   "metadata": {},
   "outputs": [
    {
     "name": "stdout",
     "output_type": "stream",
     "text": [
      "['Company', 'Product', 'TypeName', 'ScreenResolution', 'Cpu', 'Memory', 'Gpu', 'OpSys']\n"
     ]
    }
   ],
   "source": [
    "feat_sel = tb.get_features_cat_regression(df, \"Price_in_euros\")\n",
    "print(feat_sel)"
   ]
  },
  {
   "cell_type": "code",
   "execution_count": 15,
   "metadata": {},
   "outputs": [
    {
     "data": {
      "text/plain": [
       "[]"
      ]
     },
     "execution_count": 15,
     "metadata": {},
     "output_type": "execute_result"
    }
   ],
   "source": [
    "tb.get_features_num_regression(df, \"Price_in_euros\", 0.6)"
   ]
  },
  {
   "cell_type": "code",
   "execution_count": 16,
   "metadata": {},
   "outputs": [],
   "source": [
    "df = pd.get_dummies(df, columns = feat_sel, dtype = int)"
   ]
  },
  {
   "cell_type": "code",
   "execution_count": 17,
   "metadata": {},
   "outputs": [
    {
     "name": "stdout",
     "output_type": "stream",
     "text": [
      "<class 'pandas.core.frame.DataFrame'>\n",
      "Index: 891 entries, 755 to 229\n",
      "Columns: 791 entries, Price_in_euros to OpSys_macOS\n",
      "dtypes: float64(3), int32(788)\n",
      "memory usage: 2.7 MB\n"
     ]
    }
   ],
   "source": [
    "df.info()"
   ]
  },
  {
   "cell_type": "markdown",
   "metadata": {},
   "source": [
    "Nuestro target es la columna `Price_in_euros`"
   ]
  },
  {
   "cell_type": "markdown",
   "metadata": {},
   "source": [
    "-----------------------------------------------------------------------------------------------------------------"
   ]
  },
  {
   "cell_type": "markdown",
   "metadata": {},
   "source": [
    "## Modelado"
   ]
  },
  {
   "cell_type": "markdown",
   "metadata": {},
   "source": [
    "### 1. Definir X e y"
   ]
  },
  {
   "cell_type": "code",
   "execution_count": 18,
   "metadata": {},
   "outputs": [],
   "source": [
    "X = df.drop(columns = [target])\n",
    "y = df[target]"
   ]
  },
  {
   "cell_type": "markdown",
   "metadata": {},
   "source": [
    "### 2. Dividir X_train, X_test, y_train, y_test"
   ]
  },
  {
   "cell_type": "code",
   "execution_count": 19,
   "metadata": {},
   "outputs": [],
   "source": [
    "X_train, X_test, y_train, y_test = train_test_split(X, y, test_size = 0.20, random_state = 42)"
   ]
  },
  {
   "cell_type": "code",
   "execution_count": 20,
   "metadata": {},
   "outputs": [
    {
     "data": {
      "text/html": [
       "<div>\n",
       "<style scoped>\n",
       "    .dataframe tbody tr th:only-of-type {\n",
       "        vertical-align: middle;\n",
       "    }\n",
       "\n",
       "    .dataframe tbody tr th {\n",
       "        vertical-align: top;\n",
       "    }\n",
       "\n",
       "    .dataframe thead th {\n",
       "        text-align: right;\n",
       "    }\n",
       "</style>\n",
       "<table border=\"1\" class=\"dataframe\">\n",
       "  <thead>\n",
       "    <tr style=\"text-align: right;\">\n",
       "      <th></th>\n",
       "      <th>inches</th>\n",
       "      <th>ram_gb</th>\n",
       "      <th>weight_kg</th>\n",
       "      <th>Company_Acer</th>\n",
       "      <th>Company_Apple</th>\n",
       "      <th>Company_Asus</th>\n",
       "      <th>Company_Chuwi</th>\n",
       "      <th>Company_Dell</th>\n",
       "      <th>Company_Fujitsu</th>\n",
       "      <th>Company_Google</th>\n",
       "      <th>...</th>\n",
       "      <th>Gpu_Nvidia Quadro M620M</th>\n",
       "      <th>OpSys_Android</th>\n",
       "      <th>OpSys_Chrome OS</th>\n",
       "      <th>OpSys_Linux</th>\n",
       "      <th>OpSys_Mac OS X</th>\n",
       "      <th>OpSys_No OS</th>\n",
       "      <th>OpSys_Windows 10</th>\n",
       "      <th>OpSys_Windows 10 S</th>\n",
       "      <th>OpSys_Windows 7</th>\n",
       "      <th>OpSys_macOS</th>\n",
       "    </tr>\n",
       "  </thead>\n",
       "  <tbody>\n",
       "    <tr>\n",
       "      <th>112</th>\n",
       "      <td>14.0</td>\n",
       "      <td>8</td>\n",
       "      <td>1.58</td>\n",
       "      <td>0</td>\n",
       "      <td>0</td>\n",
       "      <td>0</td>\n",
       "      <td>0</td>\n",
       "      <td>0</td>\n",
       "      <td>0</td>\n",
       "      <td>0</td>\n",
       "      <td>...</td>\n",
       "      <td>0</td>\n",
       "      <td>0</td>\n",
       "      <td>0</td>\n",
       "      <td>0</td>\n",
       "      <td>0</td>\n",
       "      <td>0</td>\n",
       "      <td>1</td>\n",
       "      <td>0</td>\n",
       "      <td>0</td>\n",
       "      <td>0</td>\n",
       "    </tr>\n",
       "    <tr>\n",
       "      <th>13</th>\n",
       "      <td>15.4</td>\n",
       "      <td>16</td>\n",
       "      <td>1.83</td>\n",
       "      <td>0</td>\n",
       "      <td>1</td>\n",
       "      <td>0</td>\n",
       "      <td>0</td>\n",
       "      <td>0</td>\n",
       "      <td>0</td>\n",
       "      <td>0</td>\n",
       "      <td>...</td>\n",
       "      <td>0</td>\n",
       "      <td>0</td>\n",
       "      <td>0</td>\n",
       "      <td>0</td>\n",
       "      <td>0</td>\n",
       "      <td>0</td>\n",
       "      <td>0</td>\n",
       "      <td>0</td>\n",
       "      <td>0</td>\n",
       "      <td>1</td>\n",
       "    </tr>\n",
       "    <tr>\n",
       "      <th>1190</th>\n",
       "      <td>15.6</td>\n",
       "      <td>4</td>\n",
       "      <td>2.20</td>\n",
       "      <td>0</td>\n",
       "      <td>0</td>\n",
       "      <td>1</td>\n",
       "      <td>0</td>\n",
       "      <td>0</td>\n",
       "      <td>0</td>\n",
       "      <td>0</td>\n",
       "      <td>...</td>\n",
       "      <td>0</td>\n",
       "      <td>0</td>\n",
       "      <td>0</td>\n",
       "      <td>0</td>\n",
       "      <td>0</td>\n",
       "      <td>0</td>\n",
       "      <td>1</td>\n",
       "      <td>0</td>\n",
       "      <td>0</td>\n",
       "      <td>0</td>\n",
       "    </tr>\n",
       "    <tr>\n",
       "      <th>55</th>\n",
       "      <td>15.6</td>\n",
       "      <td>4</td>\n",
       "      <td>2.40</td>\n",
       "      <td>1</td>\n",
       "      <td>0</td>\n",
       "      <td>0</td>\n",
       "      <td>0</td>\n",
       "      <td>0</td>\n",
       "      <td>0</td>\n",
       "      <td>0</td>\n",
       "      <td>...</td>\n",
       "      <td>0</td>\n",
       "      <td>0</td>\n",
       "      <td>0</td>\n",
       "      <td>0</td>\n",
       "      <td>0</td>\n",
       "      <td>0</td>\n",
       "      <td>1</td>\n",
       "      <td>0</td>\n",
       "      <td>0</td>\n",
       "      <td>0</td>\n",
       "    </tr>\n",
       "    <tr>\n",
       "      <th>1043</th>\n",
       "      <td>17.3</td>\n",
       "      <td>8</td>\n",
       "      <td>2.63</td>\n",
       "      <td>0</td>\n",
       "      <td>0</td>\n",
       "      <td>0</td>\n",
       "      <td>0</td>\n",
       "      <td>0</td>\n",
       "      <td>0</td>\n",
       "      <td>0</td>\n",
       "      <td>...</td>\n",
       "      <td>0</td>\n",
       "      <td>0</td>\n",
       "      <td>0</td>\n",
       "      <td>0</td>\n",
       "      <td>0</td>\n",
       "      <td>0</td>\n",
       "      <td>1</td>\n",
       "      <td>0</td>\n",
       "      <td>0</td>\n",
       "      <td>0</td>\n",
       "    </tr>\n",
       "  </tbody>\n",
       "</table>\n",
       "<p>5 rows × 790 columns</p>\n",
       "</div>"
      ],
      "text/plain": [
       "      inches  ram_gb  weight_kg  Company_Acer  Company_Apple  Company_Asus  \\\n",
       "112     14.0       8       1.58             0              0             0   \n",
       "13      15.4      16       1.83             0              1             0   \n",
       "1190    15.6       4       2.20             0              0             1   \n",
       "55      15.6       4       2.40             1              0             0   \n",
       "1043    17.3       8       2.63             0              0             0   \n",
       "\n",
       "      Company_Chuwi  Company_Dell  Company_Fujitsu  Company_Google  ...  \\\n",
       "112               0             0                0               0  ...   \n",
       "13                0             0                0               0  ...   \n",
       "1190              0             0                0               0  ...   \n",
       "55                0             0                0               0  ...   \n",
       "1043              0             0                0               0  ...   \n",
       "\n",
       "      Gpu_Nvidia Quadro M620M  OpSys_Android  OpSys_Chrome OS  OpSys_Linux  \\\n",
       "112                         0              0                0            0   \n",
       "13                          0              0                0            0   \n",
       "1190                        0              0                0            0   \n",
       "55                          0              0                0            0   \n",
       "1043                        0              0                0            0   \n",
       "\n",
       "      OpSys_Mac OS X  OpSys_No OS  OpSys_Windows 10  OpSys_Windows 10 S  \\\n",
       "112                0            0                 1                   0   \n",
       "13                 0            0                 0                   0   \n",
       "1190               0            0                 1                   0   \n",
       "55                 0            0                 1                   0   \n",
       "1043               0            0                 1                   0   \n",
       "\n",
       "      OpSys_Windows 7  OpSys_macOS  \n",
       "112                 0            0  \n",
       "13                  0            1  \n",
       "1190                0            0  \n",
       "55                  0            0  \n",
       "1043                0            0  \n",
       "\n",
       "[5 rows x 790 columns]"
      ]
     },
     "execution_count": 20,
     "metadata": {},
     "output_type": "execute_result"
    }
   ],
   "source": [
    "X_train.head()"
   ]
  },
  {
   "cell_type": "code",
   "execution_count": 21,
   "metadata": {},
   "outputs": [
    {
     "data": {
      "text/plain": [
       "112     1480.00\n",
       "13      2439.97\n",
       "1190     369.00\n",
       "55       384.00\n",
       "1043    1080.00\n",
       "Name: Price_in_euros, dtype: float64"
      ]
     },
     "execution_count": 21,
     "metadata": {},
     "output_type": "execute_result"
    }
   ],
   "source": [
    "y_train.head()"
   ]
  },
  {
   "cell_type": "code",
   "execution_count": 22,
   "metadata": {},
   "outputs": [],
   "source": [
    "X_train.columns = X_train.columns.str.replace(r'[\\[\\]<>]', '', regex=True)\n",
    "X_train.columns = X_train.columns.astype(str)\n",
    "\n",
    "X_test.columns = X_test.columns.str.replace(r'[\\[\\]<>]', '', regex=True)\n",
    "X_test.columns = X_test.columns.astype(str)"
   ]
  },
  {
   "cell_type": "markdown",
   "metadata": {},
   "source": [
    "### 3. Baseline de modelos\n"
   ]
  },
  {
   "cell_type": "code",
   "execution_count": 23,
   "metadata": {},
   "outputs": [
    {
     "name": "stdout",
     "output_type": "stream",
     "text": [
      "{'model': 'Random Forest', 'RSME': -314.9532537063681}\n",
      "{'model': 'XGBoost', 'RSME': -350.8637260952117}\n",
      "0:\tlearn: 550.1970969\ttotal: 157ms\tremaining: 15.5s\n",
      "99:\tlearn: 130.4228826\ttotal: 433ms\tremaining: 0us\n",
      "0:\tlearn: 521.1221334\ttotal: 3.3ms\tremaining: 327ms\n",
      "99:\tlearn: 111.8846711\ttotal: 242ms\tremaining: 0us\n",
      "0:\tlearn: 536.1835175\ttotal: 3.03ms\tremaining: 300ms\n",
      "99:\tlearn: 113.4532541\ttotal: 258ms\tremaining: 0us\n",
      "0:\tlearn: 527.1783150\ttotal: 3.32ms\tremaining: 328ms\n",
      "99:\tlearn: 128.1647995\ttotal: 268ms\tremaining: 0us\n",
      "0:\tlearn: 481.1724405\ttotal: 2.99ms\tremaining: 296ms\n",
      "99:\tlearn: 117.2768265\ttotal: 364ms\tremaining: 0us\n",
      "{'model': 'Catboost', 'RSME': -295.37658276751137}\n"
     ]
    },
    {
     "data": {
      "text/html": [
       "<div>\n",
       "<style scoped>\n",
       "    .dataframe tbody tr th:only-of-type {\n",
       "        vertical-align: middle;\n",
       "    }\n",
       "\n",
       "    .dataframe tbody tr th {\n",
       "        vertical-align: top;\n",
       "    }\n",
       "\n",
       "    .dataframe thead th {\n",
       "        text-align: right;\n",
       "    }\n",
       "</style>\n",
       "<table border=\"1\" class=\"dataframe\">\n",
       "  <thead>\n",
       "    <tr style=\"text-align: right;\">\n",
       "      <th></th>\n",
       "      <th>model</th>\n",
       "      <th>RSME</th>\n",
       "    </tr>\n",
       "  </thead>\n",
       "  <tbody>\n",
       "    <tr>\n",
       "      <th>2</th>\n",
       "      <td>Catboost</td>\n",
       "      <td>-295.376583</td>\n",
       "    </tr>\n",
       "    <tr>\n",
       "      <th>0</th>\n",
       "      <td>Random Forest</td>\n",
       "      <td>-314.953254</td>\n",
       "    </tr>\n",
       "    <tr>\n",
       "      <th>1</th>\n",
       "      <td>XGBoost</td>\n",
       "      <td>-350.863726</td>\n",
       "    </tr>\n",
       "  </tbody>\n",
       "</table>\n",
       "</div>"
      ],
      "text/plain": [
       "           model        RSME\n",
       "2       Catboost -295.376583\n",
       "0  Random Forest -314.953254\n",
       "1        XGBoost -350.863726"
      ]
     },
     "execution_count": 23,
     "metadata": {},
     "output_type": "execute_result"
    }
   ],
   "source": [
    "model_names = [\"Random Forest\", \"XGBoost\", \"Catboost\"]\n",
    "rf_reg = RandomForestRegressor(random_state = 42)\n",
    "xg_reg = XGBRFRegressor(random_state = 42)\n",
    "# lgb_reg = LGBMRegressor(random_state = 42, verbose = -100, n_jobs = -1)\n",
    "cat_reg = CatBoostRegressor(n_estimators = 100, depth = 5, learning_rate = 0.5, verbose = 100)\n",
    "models = [rf_reg, xg_reg, cat_reg]\n",
    "\n",
    "resultados = []\n",
    "\n",
    "for model_name, modelo in zip(model_names, models):\n",
    "    metrica = np.mean(cross_val_score(modelo, X_train, y_train, cv = 5, scoring  = \"neg_root_mean_squared_error\"))\n",
    "    data = {\n",
    "        \"model\": model_name,\n",
    "        \"RSME\": metrica\n",
    "    }\n",
    "    print(data)\n",
    "    resultados.append(data.copy())\n",
    "df_resultados = pd.DataFrame(resultados)\n",
    "df_resultados.sort_values(\"RSME\", ascending = False)"
   ]
  },
  {
   "cell_type": "code",
   "execution_count": 24,
   "metadata": {},
   "outputs": [
    {
     "name": "stdout",
     "output_type": "stream",
     "text": [
      "0:\tlearn: 520.7911442\ttotal: 3.89ms\tremaining: 385ms\n",
      "99:\tlearn: 124.6096351\ttotal: 397ms\tremaining: 0us\n"
     ]
    },
    {
     "data": {
      "text/plain": [
       "<catboost.core.CatBoostRegressor at 0x1743b8914f0>"
      ]
     },
     "execution_count": 24,
     "metadata": {},
     "output_type": "execute_result"
    }
   ],
   "source": [
    "cat_reg.fit(X_train, y_train)"
   ]
  },
  {
   "cell_type": "code",
   "execution_count": 25,
   "metadata": {},
   "outputs": [],
   "source": [
    "y_pred = cat_reg.predict(X_test)"
   ]
  },
  {
   "cell_type": "code",
   "execution_count": 27,
   "metadata": {},
   "outputs": [
    {
     "name": "stderr",
     "output_type": "stream",
     "text": [
      "C:\\Users\\mpuch\\AppData\\Local\\Packages\\PythonSoftwareFoundation.Python.3.9_qbz5n2kfra8p0\\LocalCache\\local-packages\\Python39\\site-packages\\sklearn\\model_selection\\_search.py:307: UserWarning: The total space of parameters 162 is smaller than n_iter=500. Running 162 iterations. For exhaustive searches, use GridSearchCV.\n",
      "  warnings.warn(\n"
     ]
    },
    {
     "name": "stdout",
     "output_type": "stream",
     "text": [
      "0:\tlearn: 657.4170676\ttotal: 10.8ms\tremaining: 21.7s\n",
      "100:\tlearn: 234.8585070\ttotal: 978ms\tremaining: 18.4s\n",
      "200:\tlearn: 176.8311985\ttotal: 1.92s\tremaining: 17.2s\n",
      "300:\tlearn: 142.6919858\ttotal: 2.85s\tremaining: 16.1s\n",
      "400:\tlearn: 119.3876707\ttotal: 3.74s\tremaining: 14.9s\n",
      "500:\tlearn: 100.7988584\ttotal: 4.65s\tremaining: 13.9s\n",
      "600:\tlearn: 87.1968359\ttotal: 5.54s\tremaining: 12.9s\n",
      "700:\tlearn: 75.8546116\ttotal: 6.44s\tremaining: 11.9s\n",
      "800:\tlearn: 66.0021384\ttotal: 7.35s\tremaining: 11s\n",
      "900:\tlearn: 58.1097465\ttotal: 8.37s\tremaining: 10.2s\n",
      "1000:\tlearn: 52.3872020\ttotal: 9.36s\tremaining: 9.34s\n",
      "1100:\tlearn: 47.5897859\ttotal: 10.4s\tremaining: 8.48s\n",
      "1200:\tlearn: 43.2987459\ttotal: 11.6s\tremaining: 7.73s\n",
      "1300:\tlearn: 39.3751494\ttotal: 12.9s\tremaining: 6.93s\n",
      "1400:\tlearn: 35.7148460\ttotal: 14.1s\tremaining: 6.05s\n",
      "1500:\tlearn: 32.6837320\ttotal: 15.4s\tremaining: 5.12s\n",
      "1600:\tlearn: 30.3372658\ttotal: 16.5s\tremaining: 4.11s\n",
      "1700:\tlearn: 28.1569864\ttotal: 17.7s\tremaining: 3.11s\n",
      "1800:\tlearn: 26.0906298\ttotal: 18.8s\tremaining: 2.08s\n",
      "1900:\tlearn: 24.2426484\ttotal: 20s\tremaining: 1.04s\n",
      "1999:\tlearn: 22.6439463\ttotal: 21.3s\tremaining: 0us\n",
      "-276.0467995185028\n"
     ]
    }
   ],
   "source": [
    "# cat_reg = CatBoostRegressor(n_estimators = 100, depth = 5, learning_rate = 0.5, verbose = 100)\n",
    "\n",
    "cat_reg = CatBoostRegressor(verbose = 100)\n",
    "\n",
    "param_grid = {\n",
    "    'iterations': [500, 1000, 2000],  # Cuántos árboles usar\n",
    "    'learning_rate': [0.01, 0.05, 0.1],  # Tasa de aprendizaje\n",
    "    'depth': [4, 8, 10],  # Profundidad de los árboles\n",
    "    'l2_leaf_reg': [1, 4, 10],  # Regularización L2\n",
    "    'colsample_bylevel': [0.8, 1]  # Porcentaje de features usadas por nivel del árbol\n",
    "}\n",
    "\n",
    "grid_model = RandomizedSearchCV(cat_reg, param_distributions = param_grid, n_iter = 500, scoring = \"neg_root_mean_squared_error\", cv = 4, n_jobs= -1, random_state = 42)\n",
    "\n",
    "grid_model.fit(X_train, y_train)\n",
    "\n",
    "print(grid_model.best_score_)\n",
    "best_model = grid_model.best_estimator_"
   ]
  },
  {
   "cell_type": "markdown",
   "metadata": {},
   "source": [
    "### 4. Sacar métricas, valorar los modelos \n",
    "\n",
    "Recuerda que en la competición se va a evaluar con la métrica de ``RMSE``."
   ]
  },
  {
   "cell_type": "code",
   "execution_count": 28,
   "metadata": {},
   "outputs": [],
   "source": [
    "y_pred = best_model.predict(X_test)"
   ]
  },
  {
   "cell_type": "code",
   "execution_count": 29,
   "metadata": {},
   "outputs": [
    {
     "name": "stdout",
     "output_type": "stream",
     "text": [
      "280.30932332290416\n"
     ]
    }
   ],
   "source": [
    "print(np.sqrt(mean_squared_error(y_test, y_pred)))"
   ]
  },
  {
   "cell_type": "markdown",
   "metadata": {},
   "source": [
    "-----------------------------------------------------------------"
   ]
  },
  {
   "cell_type": "markdown",
   "metadata": {},
   "source": [
    "## Una vez listo el modelo, toca predecir ``test.csv``"
   ]
  },
  {
   "cell_type": "markdown",
   "metadata": {},
   "source": [
    "**RECUERDA: APLICAR LAS TRANSFORMACIONES QUE HAYAS REALIZADO EN `train.csv` a `test.csv`.**\n",
    "\n",
    "\n",
    "Véase:\n",
    "- Estandarización/Normalización\n",
    "- Eliminación de Outliers\n",
    "- Eliminación de columnas\n",
    "- Creación de columnas nuevas\n",
    "- Gestión de valores nulos\n",
    "- Y un largo etcétera de técnicas que como Data Scientist hayas considerado las mejores para tu dataset."
   ]
  },
  {
   "cell_type": "markdown",
   "metadata": {},
   "source": [
    "### 1. Carga los datos de `test.csv` para predecir.\n"
   ]
  },
  {
   "cell_type": "code",
   "execution_count": 30,
   "metadata": {},
   "outputs": [
    {
     "data": {
      "text/html": [
       "<div>\n",
       "<style scoped>\n",
       "    .dataframe tbody tr th:only-of-type {\n",
       "        vertical-align: middle;\n",
       "    }\n",
       "\n",
       "    .dataframe tbody tr th {\n",
       "        vertical-align: top;\n",
       "    }\n",
       "\n",
       "    .dataframe thead th {\n",
       "        text-align: right;\n",
       "    }\n",
       "</style>\n",
       "<table border=\"1\" class=\"dataframe\">\n",
       "  <thead>\n",
       "    <tr style=\"text-align: right;\">\n",
       "      <th></th>\n",
       "      <th>Company</th>\n",
       "      <th>Product</th>\n",
       "      <th>TypeName</th>\n",
       "      <th>Inches</th>\n",
       "      <th>ScreenResolution</th>\n",
       "      <th>Cpu</th>\n",
       "      <th>Ram</th>\n",
       "      <th>Memory</th>\n",
       "      <th>Gpu</th>\n",
       "      <th>OpSys</th>\n",
       "      <th>Weight</th>\n",
       "    </tr>\n",
       "  </thead>\n",
       "  <tbody>\n",
       "    <tr>\n",
       "      <th>209</th>\n",
       "      <td>Lenovo</td>\n",
       "      <td>Legion Y520-15IKBN</td>\n",
       "      <td>Gaming</td>\n",
       "      <td>15.6</td>\n",
       "      <td>Full HD 1920x1080</td>\n",
       "      <td>Intel Core i7 7700HQ 2.8GHz</td>\n",
       "      <td>16GB</td>\n",
       "      <td>512GB SSD</td>\n",
       "      <td>Nvidia GeForce GTX 1060</td>\n",
       "      <td>No OS</td>\n",
       "      <td>2.4kg</td>\n",
       "    </tr>\n",
       "    <tr>\n",
       "      <th>1281</th>\n",
       "      <td>Acer</td>\n",
       "      <td>Aspire ES1-531</td>\n",
       "      <td>Notebook</td>\n",
       "      <td>15.6</td>\n",
       "      <td>1366x768</td>\n",
       "      <td>Intel Celeron Dual Core N3060 1.6GHz</td>\n",
       "      <td>4GB</td>\n",
       "      <td>500GB HDD</td>\n",
       "      <td>Intel HD Graphics 400</td>\n",
       "      <td>Linux</td>\n",
       "      <td>2.4kg</td>\n",
       "    </tr>\n",
       "    <tr>\n",
       "      <th>1168</th>\n",
       "      <td>Lenovo</td>\n",
       "      <td>V110-15ISK (i3-6006U/4GB/1TB/No</td>\n",
       "      <td>Notebook</td>\n",
       "      <td>15.6</td>\n",
       "      <td>1366x768</td>\n",
       "      <td>Intel Core i3 6006U 2.0GHz</td>\n",
       "      <td>4GB</td>\n",
       "      <td>1TB HDD</td>\n",
       "      <td>Intel HD Graphics 520</td>\n",
       "      <td>No OS</td>\n",
       "      <td>1.9kg</td>\n",
       "    </tr>\n",
       "    <tr>\n",
       "      <th>1231</th>\n",
       "      <td>Dell</td>\n",
       "      <td>Inspiron 7579</td>\n",
       "      <td>2 in 1 Convertible</td>\n",
       "      <td>15.6</td>\n",
       "      <td>IPS Panel Full HD / Touchscreen 1920x1080</td>\n",
       "      <td>Intel Core i5 7200U 2.5GHz</td>\n",
       "      <td>8GB</td>\n",
       "      <td>256GB SSD</td>\n",
       "      <td>Intel HD Graphics 620</td>\n",
       "      <td>Windows 10</td>\n",
       "      <td>2.191kg</td>\n",
       "    </tr>\n",
       "    <tr>\n",
       "      <th>1020</th>\n",
       "      <td>HP</td>\n",
       "      <td>ProBook 640</td>\n",
       "      <td>Notebook</td>\n",
       "      <td>14.0</td>\n",
       "      <td>Full HD 1920x1080</td>\n",
       "      <td>Intel Core i5 7200U 2.5GHz</td>\n",
       "      <td>4GB</td>\n",
       "      <td>256GB SSD</td>\n",
       "      <td>Intel HD Graphics 620</td>\n",
       "      <td>Windows 10</td>\n",
       "      <td>1.95kg</td>\n",
       "    </tr>\n",
       "  </tbody>\n",
       "</table>\n",
       "</div>"
      ],
      "text/plain": [
       "     Company                          Product            TypeName  Inches  \\\n",
       "209   Lenovo               Legion Y520-15IKBN              Gaming    15.6   \n",
       "1281    Acer                   Aspire ES1-531            Notebook    15.6   \n",
       "1168  Lenovo  V110-15ISK (i3-6006U/4GB/1TB/No            Notebook    15.6   \n",
       "1231    Dell                    Inspiron 7579  2 in 1 Convertible    15.6   \n",
       "1020      HP                      ProBook 640            Notebook    14.0   \n",
       "\n",
       "                               ScreenResolution  \\\n",
       "209                           Full HD 1920x1080   \n",
       "1281                                   1366x768   \n",
       "1168                                   1366x768   \n",
       "1231  IPS Panel Full HD / Touchscreen 1920x1080   \n",
       "1020                          Full HD 1920x1080   \n",
       "\n",
       "                                       Cpu   Ram     Memory  \\\n",
       "209            Intel Core i7 7700HQ 2.8GHz  16GB  512GB SSD   \n",
       "1281  Intel Celeron Dual Core N3060 1.6GHz   4GB  500GB HDD   \n",
       "1168            Intel Core i3 6006U 2.0GHz   4GB    1TB HDD   \n",
       "1231            Intel Core i5 7200U 2.5GHz   8GB  256GB SSD   \n",
       "1020            Intel Core i5 7200U 2.5GHz   4GB  256GB SSD   \n",
       "\n",
       "                          Gpu       OpSys   Weight  \n",
       "209   Nvidia GeForce GTX 1060       No OS    2.4kg  \n",
       "1281    Intel HD Graphics 400       Linux    2.4kg  \n",
       "1168    Intel HD Graphics 520       No OS    1.9kg  \n",
       "1231    Intel HD Graphics 620  Windows 10  2.191kg  \n",
       "1020    Intel HD Graphics 620  Windows 10   1.95kg  "
      ]
     },
     "execution_count": 30,
     "metadata": {},
     "output_type": "execute_result"
    }
   ],
   "source": [
    "X_pred = pd.read_csv(\"data/test.csv\", index_col = 0)\n",
    "X_pred.index.name = None\n",
    "X_pred.head()"
   ]
  },
  {
   "cell_type": "code",
   "execution_count": 31,
   "metadata": {},
   "outputs": [
    {
     "data": {
      "text/html": [
       "<div>\n",
       "<style scoped>\n",
       "    .dataframe tbody tr th:only-of-type {\n",
       "        vertical-align: middle;\n",
       "    }\n",
       "\n",
       "    .dataframe tbody tr th {\n",
       "        vertical-align: top;\n",
       "    }\n",
       "\n",
       "    .dataframe thead th {\n",
       "        text-align: right;\n",
       "    }\n",
       "</style>\n",
       "<table border=\"1\" class=\"dataframe\">\n",
       "  <thead>\n",
       "    <tr style=\"text-align: right;\">\n",
       "      <th></th>\n",
       "      <th>Company</th>\n",
       "      <th>Product</th>\n",
       "      <th>TypeName</th>\n",
       "      <th>Inches</th>\n",
       "      <th>ScreenResolution</th>\n",
       "      <th>Cpu</th>\n",
       "      <th>Ram</th>\n",
       "      <th>Memory</th>\n",
       "      <th>Gpu</th>\n",
       "      <th>OpSys</th>\n",
       "      <th>Weight</th>\n",
       "    </tr>\n",
       "  </thead>\n",
       "  <tbody>\n",
       "    <tr>\n",
       "      <th>820</th>\n",
       "      <td>MSI</td>\n",
       "      <td>GE72MVR 7RG</td>\n",
       "      <td>Gaming</td>\n",
       "      <td>17.3</td>\n",
       "      <td>Full HD 1920x1080</td>\n",
       "      <td>Intel Core i7 7700HQ 2.8GHz</td>\n",
       "      <td>16GB</td>\n",
       "      <td>512GB SSD +  1TB HDD</td>\n",
       "      <td>Nvidia GeForce GTX 1070</td>\n",
       "      <td>Windows 10</td>\n",
       "      <td>2.9kg</td>\n",
       "    </tr>\n",
       "    <tr>\n",
       "      <th>948</th>\n",
       "      <td>Toshiba</td>\n",
       "      <td>Tecra Z40-C-12X</td>\n",
       "      <td>Notebook</td>\n",
       "      <td>14.0</td>\n",
       "      <td>IPS Panel Full HD 1920x1080</td>\n",
       "      <td>Intel Core i5 6200U 2.3GHz</td>\n",
       "      <td>4GB</td>\n",
       "      <td>128GB SSD</td>\n",
       "      <td>Intel HD Graphics 520</td>\n",
       "      <td>Windows 10</td>\n",
       "      <td>1.47kg</td>\n",
       "    </tr>\n",
       "    <tr>\n",
       "      <th>483</th>\n",
       "      <td>Dell</td>\n",
       "      <td>Precision M5520</td>\n",
       "      <td>Workstation</td>\n",
       "      <td>15.6</td>\n",
       "      <td>Full HD 1920x1080</td>\n",
       "      <td>Intel Core i7 7700HQ 2.8GHz</td>\n",
       "      <td>8GB</td>\n",
       "      <td>256GB SSD</td>\n",
       "      <td>Nvidia Quadro M1200</td>\n",
       "      <td>Windows 10</td>\n",
       "      <td>1.78kg</td>\n",
       "    </tr>\n",
       "    <tr>\n",
       "      <th>1017</th>\n",
       "      <td>HP</td>\n",
       "      <td>Probook 440</td>\n",
       "      <td>Notebook</td>\n",
       "      <td>14.0</td>\n",
       "      <td>1366x768</td>\n",
       "      <td>Intel Core i5 7200U 2.5GHz</td>\n",
       "      <td>4GB</td>\n",
       "      <td>500GB HDD</td>\n",
       "      <td>Intel HD Graphics 620</td>\n",
       "      <td>Windows 10</td>\n",
       "      <td>1.64kg</td>\n",
       "    </tr>\n",
       "    <tr>\n",
       "      <th>421</th>\n",
       "      <td>Asus</td>\n",
       "      <td>ZenBook Flip</td>\n",
       "      <td>2 in 1 Convertible</td>\n",
       "      <td>13.3</td>\n",
       "      <td>IPS Panel Full HD / Touchscreen 1920x1080</td>\n",
       "      <td>Intel Core i5 7200U 2.5GHz</td>\n",
       "      <td>8GB</td>\n",
       "      <td>256GB SSD</td>\n",
       "      <td>Intel HD Graphics 620</td>\n",
       "      <td>Windows 10</td>\n",
       "      <td>1.27kg</td>\n",
       "    </tr>\n",
       "  </tbody>\n",
       "</table>\n",
       "</div>"
      ],
      "text/plain": [
       "      Company          Product            TypeName  Inches  \\\n",
       "820       MSI      GE72MVR 7RG              Gaming    17.3   \n",
       "948   Toshiba  Tecra Z40-C-12X            Notebook    14.0   \n",
       "483      Dell  Precision M5520         Workstation    15.6   \n",
       "1017       HP      Probook 440            Notebook    14.0   \n",
       "421      Asus     ZenBook Flip  2 in 1 Convertible    13.3   \n",
       "\n",
       "                               ScreenResolution                          Cpu  \\\n",
       "820                           Full HD 1920x1080  Intel Core i7 7700HQ 2.8GHz   \n",
       "948                 IPS Panel Full HD 1920x1080   Intel Core i5 6200U 2.3GHz   \n",
       "483                           Full HD 1920x1080  Intel Core i7 7700HQ 2.8GHz   \n",
       "1017                                   1366x768   Intel Core i5 7200U 2.5GHz   \n",
       "421   IPS Panel Full HD / Touchscreen 1920x1080   Intel Core i5 7200U 2.5GHz   \n",
       "\n",
       "       Ram                Memory                      Gpu       OpSys  Weight  \n",
       "820   16GB  512GB SSD +  1TB HDD  Nvidia GeForce GTX 1070  Windows 10   2.9kg  \n",
       "948    4GB             128GB SSD    Intel HD Graphics 520  Windows 10  1.47kg  \n",
       "483    8GB             256GB SSD      Nvidia Quadro M1200  Windows 10  1.78kg  \n",
       "1017   4GB             500GB HDD    Intel HD Graphics 620  Windows 10  1.64kg  \n",
       "421    8GB             256GB SSD    Intel HD Graphics 620  Windows 10  1.27kg  "
      ]
     },
     "execution_count": 31,
     "metadata": {},
     "output_type": "execute_result"
    }
   ],
   "source": [
    "X_pred.tail()"
   ]
  },
  {
   "cell_type": "code",
   "execution_count": 32,
   "metadata": {},
   "outputs": [
    {
     "name": "stdout",
     "output_type": "stream",
     "text": [
      "<class 'pandas.core.frame.DataFrame'>\n",
      "Index: 391 entries, 209 to 421\n",
      "Data columns (total 11 columns):\n",
      " #   Column            Non-Null Count  Dtype  \n",
      "---  ------            --------------  -----  \n",
      " 0   Company           391 non-null    object \n",
      " 1   Product           391 non-null    object \n",
      " 2   TypeName          391 non-null    object \n",
      " 3   Inches            391 non-null    float64\n",
      " 4   ScreenResolution  391 non-null    object \n",
      " 5   Cpu               391 non-null    object \n",
      " 6   Ram               391 non-null    object \n",
      " 7   Memory            391 non-null    object \n",
      " 8   Gpu               391 non-null    object \n",
      " 9   OpSys             391 non-null    object \n",
      " 10  Weight            391 non-null    object \n",
      "dtypes: float64(1), object(10)\n",
      "memory usage: 36.7+ KB\n"
     ]
    }
   ],
   "source": [
    "X_pred.info()"
   ]
  },
  {
   "cell_type": "markdown",
   "metadata": {},
   "source": [
    " ## 2. Replicar el procesado para ``test.csv``"
   ]
  },
  {
   "cell_type": "code",
   "execution_count": 33,
   "metadata": {},
   "outputs": [],
   "source": [
    "X_pred[\"inches\"] = X_pred.Inches.astype(float)\n",
    "X_pred['ram_gb'] = X_pred['Ram'].str.replace('GB', '').astype(int)\n",
    "X_pred[\"weight_kg\"] = X_pred['Weight'].str.replace('kg', '').astype(float)\n",
    "X_pred.drop(columns = [\"Inches\", \"Ram\", \"Weight\"], inplace = True)"
   ]
  },
  {
   "cell_type": "code",
   "execution_count": 34,
   "metadata": {},
   "outputs": [
    {
     "name": "stdout",
     "output_type": "stream",
     "text": [
      "<class 'pandas.core.frame.DataFrame'>\n",
      "Index: 391 entries, 209 to 421\n",
      "Data columns (total 11 columns):\n",
      " #   Column            Non-Null Count  Dtype  \n",
      "---  ------            --------------  -----  \n",
      " 0   Company           391 non-null    object \n",
      " 1   Product           391 non-null    object \n",
      " 2   TypeName          391 non-null    object \n",
      " 3   ScreenResolution  391 non-null    object \n",
      " 4   Cpu               391 non-null    object \n",
      " 5   Memory            391 non-null    object \n",
      " 6   Gpu               391 non-null    object \n",
      " 7   OpSys             391 non-null    object \n",
      " 8   inches            391 non-null    float64\n",
      " 9   ram_gb            391 non-null    int32  \n",
      " 10  weight_kg         391 non-null    float64\n",
      "dtypes: float64(2), int32(1), object(8)\n",
      "memory usage: 35.1+ KB\n"
     ]
    }
   ],
   "source": [
    "X_pred.info()"
   ]
  },
  {
   "cell_type": "code",
   "execution_count": 35,
   "metadata": {},
   "outputs": [],
   "source": [
    "# # Ordenamos las features categóricas de menor precio de median a mayor precio para poder convertirlas en numéricas:\n",
    "# categories_company = df.groupby(df[\"Company\"])[\"Price_in_euros\"].median().sort_values().index.to_list()\n",
    "# # categories_typename = df.groupby(df[\"TypeName\"])[\"Price_in_euros\"].median().sort_values().index.to_list()\n",
    "# categories_resolution = df.groupby(df[\"ScreenResolution\"])[\"Price_in_euros\"].median().sort_values().index.to_list()\n",
    "# categories_cpu = df.groupby(df[\"Cpu\"])[\"Price_in_euros\"].median().sort_values().index.to_list()\n",
    "# categories_memory = df.groupby(df[\"Memory\"])[\"Price_in_euros\"].median().sort_values().index.to_list()\n",
    "# categories_gpu = df.groupby(df[\"Gpu\"])[\"Price_in_euros\"].median().sort_values().index.to_list()\n",
    "\n",
    "# total_cat = [categories_company, categories_resolution, categories_cpu, categories_memory, categories_gpu]\n",
    "# cols = [\"Company\", \"ScreenResolution\", \"Cpu\", \"Memory\", \"Gpu\"]\n",
    "\n",
    "# enc = OrdinalEncoder(categories = total_cat, dtype= int)\n",
    "# X_pred[cols] = enc.transform(X_pred[cols])\n",
    "\n",
    "# Con la ram, el sistema operativo y el typename, vamos a hacer un get_dummies:\n",
    "cols_dummies = X_train.columns\n",
    "X_pred = pd.get_dummies(X_pred, columns = feat_sel, dtype = int).reindex(columns = cols_dummies, fill_value=0)"
   ]
  },
  {
   "cell_type": "code",
   "execution_count": 36,
   "metadata": {},
   "outputs": [],
   "source": [
    "# X_pred.head()"
   ]
  },
  {
   "cell_type": "code",
   "execution_count": 37,
   "metadata": {},
   "outputs": [
    {
     "data": {
      "text/plain": [
       "array([1538.99031154,  294.55344633,  402.09442316,  985.79045706,\n",
       "       1002.16217233,  408.67540807,  815.57131975,  946.403694  ,\n",
       "       1249.5116024 ,  425.54424337, 2095.92178081, 1367.83091791,\n",
       "        516.6036801 , 1810.55089039,  990.88004058,  618.11077556,\n",
       "       2591.03106097, 1452.38090119, 1945.93566187,  598.39809147,\n",
       "       1637.35833476,  562.56364378,  756.80228811, 1243.7008924 ,\n",
       "        368.58266144,  707.54138313,  536.26389224,  606.33637625,\n",
       "       2846.75748369, 1023.8037481 , 2555.90165097,  421.25075852,\n",
       "        825.36382771, 3308.53016819, 2298.08674446, 1552.50277991,\n",
       "        635.66958495, 1481.08091201,  855.30340727, 1778.3924538 ,\n",
       "        778.0046956 ,  753.50083454,  541.41523075, 1357.0851977 ,\n",
       "       1198.75000446, 1087.70989735, 1047.41179493,  639.59392719,\n",
       "        644.10073603,  406.5155162 , 1691.41233774,  715.100556  ,\n",
       "       1057.74514457,  591.58665902, 1791.46642624, 1683.40014467,\n",
       "        653.00075379,  856.94890958, 1055.82191518,  676.76340992,\n",
       "       2515.21888656, 1517.74056926,  474.15856497, 2104.50268616,\n",
       "       1782.54693641, 1377.11671294,  897.03404452, 1235.12788288,\n",
       "       2405.04581342, 2071.04555278,  718.3974049 ,  467.1117748 ,\n",
       "        987.8503216 , 1911.35935491, 1127.24203311, 1149.37719883,\n",
       "       1542.53200433, 1691.29587647, 2095.82620999, 1336.89697846,\n",
       "        845.42881585, 1419.4265518 , 2429.45580901, 1338.83085978,\n",
       "       1291.04633024, 1639.44057683,  608.60110891,  889.55510069,\n",
       "        749.74347409,  836.03253368,  704.781932  , 1852.08021542,\n",
       "       1415.30967425, 3054.03303185, 2974.28791051, 1121.78602767,\n",
       "        816.96411446,  603.84197847,  988.90008419,  989.79600314,\n",
       "       1832.69462417,  793.56585322, 1408.76286389, 1020.73134516,\n",
       "        247.35190758, 1478.53386118, 2027.74656524,  594.16224048,\n",
       "        369.99159914, 1094.45704844, 1489.83062534,  803.36656526,\n",
       "        655.90909086,  583.28306477, 1157.67643148,  549.56395157,\n",
       "        556.66122394, 1715.10705648, 1867.43021725, 1204.05328013,\n",
       "        882.67457693,  740.10572296, 1090.66345377, 1482.29928031,\n",
       "       1947.81259666,  451.39706256, 1572.4010095 , 1091.57618565,\n",
       "        525.27344593, 1000.80506814, 2149.66760319, 1353.70494019,\n",
       "       1211.56054886, 1666.33543822,  874.98266054, 2130.83414932,\n",
       "       1226.93756988, 1026.30252688, 1427.2602675 ,  481.63305346,\n",
       "       1390.941481  ,  675.72207926, 1208.260934  , 1011.91996636,\n",
       "       1988.57922943, 1204.05328013, 1809.2594635 ,  812.34774833,\n",
       "       1511.89510733,  740.57716462,  777.06715584,  837.1624728 ,\n",
       "        540.92259098, 1168.72810897,  847.94837991,  883.43458638,\n",
       "       1206.39560177,  981.84582639,  553.10542242,  377.22699613,\n",
       "        441.30581813, 1978.50849239, 1302.74021321,  729.53293636,\n",
       "       1182.34988492, 1134.24125602, 2122.97282277,  233.36573449,\n",
       "        782.29956036, 1266.79320861, 1340.02388726,  402.29186914,\n",
       "        308.20474055,  566.28067624, 2474.5962106 ,  662.5927632 ,\n",
       "       1193.84053177,  446.07898377, 1492.83488382, 1370.07165519,\n",
       "        626.35469214, 4817.992173  , 1138.33601472,  852.02355617,\n",
       "       1148.69766752, 1946.58346745,  444.60368003,  740.51598174,\n",
       "       1351.97043506,  847.7464193 ,  691.72072579, 1634.21989677,\n",
       "        435.48597337,  700.91163745,  569.58055928,  434.03547852,\n",
       "       1366.03479297,  901.68796505,  762.82444207,  245.84812566,\n",
       "       1090.66345377, 2184.07122049, 1172.52326552,  695.44170681,\n",
       "        511.79962688,  511.82575672, 2171.72313172,  316.21849424,\n",
       "       1605.30995467,  347.19307872, 1203.18642268,  805.17693075,\n",
       "        756.41638801,  987.03545003,  422.79636092, 1463.16877732,\n",
       "       1120.20070292,  664.67964946,  643.08558519,  629.0414203 ,\n",
       "        422.60565006, 1238.56623224, 1058.70664737, 1204.93442412,\n",
       "        723.45264384, 1067.49839713,  297.0790547 , 1176.01599525,\n",
       "        602.48932205, 1652.8211869 ,  528.8692965 ,  406.37106997,\n",
       "        968.27664139, 1545.04287919,  431.73774812,  819.2377967 ,\n",
       "       2928.51771634, 1069.95698948, 1078.65380892, 1929.63547842,\n",
       "       1642.29596898,  493.61103675, 1263.51967437, 1024.30341577,\n",
       "        731.07679673, 1867.25471576,  953.56418384,  951.08470984,\n",
       "        823.43281422, 1786.51280281, 1177.58574368,  491.49116404,\n",
       "       1620.57194981,  867.0312842 , 1620.57194981, 2983.79947369,\n",
       "        668.76481136,  452.87258448, 1750.87981344, 1080.64272615,\n",
       "        427.37876954,  515.10789958, 1042.01248044,  475.05404251,\n",
       "       2220.83655162, 1949.24130808, 1146.8663653 ,  343.53312782,\n",
       "       1898.07358887, 1424.16276948,  335.98132237,  486.17483817,\n",
       "       1161.79908037, 1747.34496568, 1580.89080606,  764.5477395 ,\n",
       "        522.93927026,  879.11014023, 1002.13462394,  586.18319177,\n",
       "        511.26151517,  993.71023159, 1267.12080459,  547.57631363,\n",
       "        394.61021675, 1199.84894044, 1197.09698109, 2568.87240985,\n",
       "       3520.53990132,  496.0055686 , 1066.0536447 , 1516.31132773,\n",
       "       1468.23825584, 1387.00415436,  941.32286869, 1292.89658456,\n",
       "       1208.61717447,  909.09595297, 2884.08517213,  860.02786639,\n",
       "       2105.12380799,  458.30782807,  395.01216024,  456.23948942,\n",
       "        740.30762741, 1692.77838508, 2028.52737867,  813.19588951,\n",
       "       2242.48650122, 1600.47318569,  361.20604378,  818.78601145,\n",
       "        501.4644634 ,  465.87767301,  946.76547614,  884.06622375,\n",
       "       2671.23916849,  973.91484687, 1058.86390659,  699.15206627,\n",
       "       1560.45768391, 1512.00007691, 1144.87113443, 1022.8516913 ,\n",
       "       1248.65665032, 2166.04365327, 2085.94010269,  659.61324559,\n",
       "        478.60421329, 1732.39302428,  412.46508553,  899.02741345,\n",
       "       1806.61583162,  674.79897148,  422.1926742 ,  899.3231886 ,\n",
       "        516.84912842,  496.0055686 , 1526.06355178,  997.3671267 ,\n",
       "        564.65107837,  492.86431945, 1947.00785092, 1428.82251103,\n",
       "       1642.29596898,  861.32350731,  436.27661263, 1189.66151582,\n",
       "        687.93540336,  697.20196749,  876.5730044 , 1024.49876777,\n",
       "        751.52389179,  532.04570161,  734.88428339,  311.8190221 ,\n",
       "       1730.96508107,  653.88890137, 1740.18310216, 1927.24795393,\n",
       "        558.44840253,  717.2273834 ,  799.41298529, 1023.07966731,\n",
       "       1188.91919692, 1411.64722409, 1871.00953909, 3382.72627335,\n",
       "        713.12813273, 2036.32272426, 1800.45362912, 1558.60932053,\n",
       "        510.64760696, 1534.12990342, 1069.88578417, 1920.23486703,\n",
       "        511.26151517,  974.70625976,  690.98060772,  625.17287761,\n",
       "        441.90870473, 1037.88982773, 1205.79936671,  344.32050781,\n",
       "       1594.70096944,  881.42737526, 2169.75599875,  849.81534393,\n",
       "       1908.89669617,  846.98794292, 1214.88229818])"
      ]
     },
     "execution_count": 37,
     "metadata": {},
     "output_type": "execute_result"
    }
   ],
   "source": [
    "predictions_submit = best_model.predict(X_pred)\n",
    "predictions_submit"
   ]
  },
  {
   "cell_type": "markdown",
   "metadata": {},
   "source": [
    "### 3. **¿Qué es lo que subirás a Kaggle?**"
   ]
  },
  {
   "cell_type": "markdown",
   "metadata": {},
   "source": [
    "**Para subir a Kaggle la predicción esta tendrá que tener una forma específica.**\n",
    "\n",
    "En este caso, la **MISMA** forma que `sample_submission.csv`. "
   ]
  },
  {
   "cell_type": "code",
   "execution_count": 38,
   "metadata": {},
   "outputs": [],
   "source": [
    "sample = pd.read_csv(\"data/sample_submission.csv\")"
   ]
  },
  {
   "cell_type": "code",
   "execution_count": 39,
   "metadata": {},
   "outputs": [
    {
     "data": {
      "text/html": [
       "<div>\n",
       "<style scoped>\n",
       "    .dataframe tbody tr th:only-of-type {\n",
       "        vertical-align: middle;\n",
       "    }\n",
       "\n",
       "    .dataframe tbody tr th {\n",
       "        vertical-align: top;\n",
       "    }\n",
       "\n",
       "    .dataframe thead th {\n",
       "        text-align: right;\n",
       "    }\n",
       "</style>\n",
       "<table border=\"1\" class=\"dataframe\">\n",
       "  <thead>\n",
       "    <tr style=\"text-align: right;\">\n",
       "      <th></th>\n",
       "      <th>laptop_ID</th>\n",
       "      <th>Price_in_euros</th>\n",
       "    </tr>\n",
       "  </thead>\n",
       "  <tbody>\n",
       "    <tr>\n",
       "      <th>0</th>\n",
       "      <td>209</td>\n",
       "      <td>1949.1</td>\n",
       "    </tr>\n",
       "    <tr>\n",
       "      <th>1</th>\n",
       "      <td>1281</td>\n",
       "      <td>805.0</td>\n",
       "    </tr>\n",
       "    <tr>\n",
       "      <th>2</th>\n",
       "      <td>1168</td>\n",
       "      <td>1101.0</td>\n",
       "    </tr>\n",
       "    <tr>\n",
       "      <th>3</th>\n",
       "      <td>1231</td>\n",
       "      <td>1293.8</td>\n",
       "    </tr>\n",
       "    <tr>\n",
       "      <th>4</th>\n",
       "      <td>1020</td>\n",
       "      <td>1832.6</td>\n",
       "    </tr>\n",
       "  </tbody>\n",
       "</table>\n",
       "</div>"
      ],
      "text/plain": [
       "   laptop_ID  Price_in_euros\n",
       "0        209          1949.1\n",
       "1       1281           805.0\n",
       "2       1168          1101.0\n",
       "3       1231          1293.8\n",
       "4       1020          1832.6"
      ]
     },
     "execution_count": 39,
     "metadata": {},
     "output_type": "execute_result"
    }
   ],
   "source": [
    "sample.head()"
   ]
  },
  {
   "cell_type": "code",
   "execution_count": 40,
   "metadata": {},
   "outputs": [
    {
     "data": {
      "text/plain": [
       "(391, 2)"
      ]
     },
     "execution_count": 40,
     "metadata": {},
     "output_type": "execute_result"
    }
   ],
   "source": [
    "sample.shape"
   ]
  },
  {
   "cell_type": "markdown",
   "metadata": {},
   "source": [
    "### 4. Mete tus predicciones en un dataframe llamado ``submission``."
   ]
  },
  {
   "cell_type": "code",
   "execution_count": 41,
   "metadata": {},
   "outputs": [],
   "source": [
    "#¿Cómo creamos la submission?\n",
    "submission = pd.DataFrame({\"laptop_ID\": X_pred.index,\n",
    "                        \"Price_in_euros\": predictions_submit})"
   ]
  },
  {
   "cell_type": "code",
   "execution_count": 42,
   "metadata": {},
   "outputs": [
    {
     "data": {
      "text/html": [
       "<div>\n",
       "<style scoped>\n",
       "    .dataframe tbody tr th:only-of-type {\n",
       "        vertical-align: middle;\n",
       "    }\n",
       "\n",
       "    .dataframe tbody tr th {\n",
       "        vertical-align: top;\n",
       "    }\n",
       "\n",
       "    .dataframe thead th {\n",
       "        text-align: right;\n",
       "    }\n",
       "</style>\n",
       "<table border=\"1\" class=\"dataframe\">\n",
       "  <thead>\n",
       "    <tr style=\"text-align: right;\">\n",
       "      <th></th>\n",
       "      <th>laptop_ID</th>\n",
       "      <th>Price_in_euros</th>\n",
       "    </tr>\n",
       "  </thead>\n",
       "  <tbody>\n",
       "    <tr>\n",
       "      <th>0</th>\n",
       "      <td>209</td>\n",
       "      <td>1538.990312</td>\n",
       "    </tr>\n",
       "    <tr>\n",
       "      <th>1</th>\n",
       "      <td>1281</td>\n",
       "      <td>294.553446</td>\n",
       "    </tr>\n",
       "    <tr>\n",
       "      <th>2</th>\n",
       "      <td>1168</td>\n",
       "      <td>402.094423</td>\n",
       "    </tr>\n",
       "    <tr>\n",
       "      <th>3</th>\n",
       "      <td>1231</td>\n",
       "      <td>985.790457</td>\n",
       "    </tr>\n",
       "    <tr>\n",
       "      <th>4</th>\n",
       "      <td>1020</td>\n",
       "      <td>1002.162172</td>\n",
       "    </tr>\n",
       "  </tbody>\n",
       "</table>\n",
       "</div>"
      ],
      "text/plain": [
       "   laptop_ID  Price_in_euros\n",
       "0        209     1538.990312\n",
       "1       1281      294.553446\n",
       "2       1168      402.094423\n",
       "3       1231      985.790457\n",
       "4       1020     1002.162172"
      ]
     },
     "execution_count": 42,
     "metadata": {},
     "output_type": "execute_result"
    }
   ],
   "source": [
    "submission.head()"
   ]
  },
  {
   "cell_type": "code",
   "execution_count": 43,
   "metadata": {},
   "outputs": [
    {
     "data": {
      "text/plain": [
       "(391, 2)"
      ]
     },
     "execution_count": 43,
     "metadata": {},
     "output_type": "execute_result"
    }
   ],
   "source": [
    "submission.shape"
   ]
  },
  {
   "cell_type": "markdown",
   "metadata": {},
   "source": [
    "### 5. Pásale el CHEQUEADOR para comprobar que efectivamente está listo para subir a Kaggle."
   ]
  },
  {
   "cell_type": "code",
   "execution_count": 44,
   "metadata": {},
   "outputs": [],
   "source": [
    "def chequeador(df_to_submit):\n",
    "    \"\"\"\n",
    "    Esta función se asegura de que tu submission tenga la forma requerida por Kaggle.\n",
    "    \n",
    "    Si es así, se guardará el dataframe en un `csv` y estará listo para subir a Kaggle.\n",
    "    \n",
    "    Si no, LEE EL MENSAJE Y HAZLE CASO.\n",
    "    \n",
    "    Si aún no:\n",
    "    - apaga tu ordenador, \n",
    "    - date una vuelta, \n",
    "    - enciendelo otra vez, \n",
    "    - abre este notebook y \n",
    "    - leelo todo de nuevo. \n",
    "    Todos nos merecemos una segunda oportunidad. También tú.\n",
    "    \"\"\"\n",
    "    if df_to_submit.shape == sample.shape:\n",
    "        if df_to_submit.columns.all() == sample.columns.all():\n",
    "            if df_to_submit.laptop_ID.all() == sample.laptop_ID.all():\n",
    "                print(\"You're ready to submit!\")\n",
    "                submission.to_csv(\"submission.csv\", index = False) #muy importante el index = False\n",
    "                urllib.request.urlretrieve(\"https://www.mihaileric.com/static/evaluation-meme-e0a350f278a36346e6d46b139b1d0da0-ed51e.jpg\", \"gfg.png\")     \n",
    "                img = Image.open(\"gfg.png\")\n",
    "                img.show()   \n",
    "            else:\n",
    "                print(\"Check the ids and try again\")\n",
    "        else:\n",
    "            print(\"Check the names of the columns and try again\")\n",
    "    else:\n",
    "        print(\"Check the number of rows and/or columns and try again\")\n",
    "        print(\"\\nMensaje secreto del TA: No me puedo creer que después de todo este notebook hayas hecho algún cambio en las filas de `test.csv`. Lloro.\")"
   ]
  },
  {
   "cell_type": "code",
   "execution_count": 45,
   "metadata": {},
   "outputs": [
    {
     "name": "stdout",
     "output_type": "stream",
     "text": [
      "You're ready to submit!\n"
     ]
    }
   ],
   "source": [
    "chequeador(submission)"
   ]
  },
  {
   "cell_type": "code",
   "execution_count": null,
   "metadata": {},
   "outputs": [],
   "source": []
  }
 ],
 "metadata": {
  "kernelspec": {
   "display_name": "Python 3",
   "language": "python",
   "name": "python3"
  },
  "language_info": {
   "codemirror_mode": {
    "name": "ipython",
    "version": 3
   },
   "file_extension": ".py",
   "mimetype": "text/x-python",
   "name": "python",
   "nbconvert_exporter": "python",
   "pygments_lexer": "ipython3",
   "version": "3.9.13"
  }
 },
 "nbformat": 4,
 "nbformat_minor": 4
}
