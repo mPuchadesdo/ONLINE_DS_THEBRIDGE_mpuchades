{
 "cells": [
  {
   "cell_type": "markdown",
   "metadata": {},
   "source": [
    "## Kaggle – DataTops®\n",
    "Luismi ha decidido cambiar de aires y, por eso, ha comprado una tienda de portátiles. Sin embargo, su única especialidad es Data Science, por lo que ha decidido crear un modelo de ML para establecer los mejores precios.\n",
    "\n",
    "¿Podrías ayudar a Luismi a mejorar ese modelo?"
   ]
  },
  {
   "cell_type": "markdown",
   "metadata": {},
   "source": [
    "## Métrica: \n",
    "Error de raíz cuadrada media (RMSE) es la desviación estándar de los valores residuales (errores de predicción). Los valores residuales son una medida de la distancia de los puntos de datos de la línea de regresión; RMSE es una medida de cuál es el nivel de dispersión de estos valores residuales. En otras palabras, le indica el nivel de concentración de los datos en la línea de mejor ajuste.\n",
    "\n",
    "\n",
    "$$ RMSE = \\sqrt{\\frac{1}{n}\\Sigma_{i=1}^{n}{\\Big(\\frac{d_i -f_i}{\\sigma_i}\\Big)^2}}$$\n"
   ]
  },
  {
   "cell_type": "markdown",
   "metadata": {},
   "source": [
    "## Librerías"
   ]
  },
  {
   "cell_type": "code",
   "execution_count": 29,
   "metadata": {},
   "outputs": [],
   "source": [
    "import numpy as np\n",
    "import pandas as pd\n",
    "import toolbox_ML as tb\n",
    "import bootcampviztools as bt\n",
    "\n",
    "from PIL import Image\n",
    "from sklearn.preprocessing import OrdinalEncoder, OneHotEncoder\n",
    "from sklearn.model_selection import train_test_split, cross_val_score, GridSearchCV\n",
    "from sklearn.metrics import mean_squared_error\n",
    "from sklearn.ensemble import RandomForestRegressor\n",
    "from lightgbm import LGBMRegressor\n",
    "from xgboost import XGBRFRegressor\n",
    "from catboost import CatBoostRegressor\n",
    "import urllib.request"
   ]
  },
  {
   "cell_type": "markdown",
   "metadata": {},
   "source": [
    "## Datos"
   ]
  },
  {
   "cell_type": "code",
   "execution_count": 30,
   "metadata": {},
   "outputs": [],
   "source": [
    "# Para que funcione necesitas bajarte los archivos de datos de Kaggle \n",
    "df = pd.read_csv(\"./data/train.csv\", index_col = 0)\n",
    "df.index.name = None"
   ]
  },
  {
   "cell_type": "code",
   "execution_count": 31,
   "metadata": {},
   "outputs": [],
   "source": [
    "train_bck_up = df.copy()"
   ]
  },
  {
   "cell_type": "markdown",
   "metadata": {},
   "source": [
    "## Exploración de los datos"
   ]
  },
  {
   "cell_type": "code",
   "execution_count": 32,
   "metadata": {},
   "outputs": [
    {
     "name": "stdout",
     "output_type": "stream",
     "text": [
      "<class 'pandas.core.frame.DataFrame'>\n",
      "Index: 912 entries, 755 to 229\n",
      "Data columns (total 12 columns):\n",
      " #   Column            Non-Null Count  Dtype  \n",
      "---  ------            --------------  -----  \n",
      " 0   Company           912 non-null    object \n",
      " 1   Product           912 non-null    object \n",
      " 2   TypeName          912 non-null    object \n",
      " 3   Inches            912 non-null    float64\n",
      " 4   ScreenResolution  912 non-null    object \n",
      " 5   Cpu               912 non-null    object \n",
      " 6   Ram               912 non-null    object \n",
      " 7   Memory            912 non-null    object \n",
      " 8   Gpu               912 non-null    object \n",
      " 9   OpSys             912 non-null    object \n",
      " 10  Weight            912 non-null    object \n",
      " 11  Price_in_euros    912 non-null    float64\n",
      "dtypes: float64(2), object(10)\n",
      "memory usage: 92.6+ KB\n"
     ]
    }
   ],
   "source": [
    "df.info()"
   ]
  },
  {
   "cell_type": "code",
   "execution_count": 33,
   "metadata": {},
   "outputs": [
    {
     "data": {
      "text/plain": [
       "Company             0\n",
       "Product             0\n",
       "TypeName            0\n",
       "Inches              0\n",
       "ScreenResolution    0\n",
       "Cpu                 0\n",
       "Ram                 0\n",
       "Memory              0\n",
       "Gpu                 0\n",
       "OpSys               0\n",
       "Weight              0\n",
       "Price_in_euros      0\n",
       "dtype: int64"
      ]
     },
     "execution_count": 33,
     "metadata": {},
     "output_type": "execute_result"
    }
   ],
   "source": [
    "df.isna().sum()"
   ]
  },
  {
   "cell_type": "code",
   "execution_count": 34,
   "metadata": {},
   "outputs": [
    {
     "data": {
      "text/html": [
       "<div>\n",
       "<style scoped>\n",
       "    .dataframe tbody tr th:only-of-type {\n",
       "        vertical-align: middle;\n",
       "    }\n",
       "\n",
       "    .dataframe tbody tr th {\n",
       "        vertical-align: top;\n",
       "    }\n",
       "\n",
       "    .dataframe thead th {\n",
       "        text-align: right;\n",
       "    }\n",
       "</style>\n",
       "<table border=\"1\" class=\"dataframe\">\n",
       "  <thead>\n",
       "    <tr style=\"text-align: right;\">\n",
       "      <th></th>\n",
       "      <th>Company</th>\n",
       "      <th>Product</th>\n",
       "      <th>TypeName</th>\n",
       "      <th>Inches</th>\n",
       "      <th>ScreenResolution</th>\n",
       "      <th>Cpu</th>\n",
       "      <th>Ram</th>\n",
       "      <th>Memory</th>\n",
       "      <th>Gpu</th>\n",
       "      <th>OpSys</th>\n",
       "      <th>Weight</th>\n",
       "      <th>Price_in_euros</th>\n",
       "    </tr>\n",
       "  </thead>\n",
       "  <tbody>\n",
       "    <tr>\n",
       "      <th>755</th>\n",
       "      <td>HP</td>\n",
       "      <td>250 G6</td>\n",
       "      <td>Notebook</td>\n",
       "      <td>15.6</td>\n",
       "      <td>Full HD 1920x1080</td>\n",
       "      <td>Intel Core i3 6006U 2GHz</td>\n",
       "      <td>8GB</td>\n",
       "      <td>256GB SSD</td>\n",
       "      <td>Intel HD Graphics 520</td>\n",
       "      <td>Windows 10</td>\n",
       "      <td>1.86kg</td>\n",
       "      <td>539.00</td>\n",
       "    </tr>\n",
       "    <tr>\n",
       "      <th>618</th>\n",
       "      <td>Dell</td>\n",
       "      <td>Inspiron 7559</td>\n",
       "      <td>Gaming</td>\n",
       "      <td>15.6</td>\n",
       "      <td>Full HD 1920x1080</td>\n",
       "      <td>Intel Core i7 6700HQ 2.6GHz</td>\n",
       "      <td>16GB</td>\n",
       "      <td>1TB HDD</td>\n",
       "      <td>Nvidia GeForce GTX 960&lt;U+039C&gt;</td>\n",
       "      <td>Windows 10</td>\n",
       "      <td>2.59kg</td>\n",
       "      <td>879.01</td>\n",
       "    </tr>\n",
       "    <tr>\n",
       "      <th>909</th>\n",
       "      <td>HP</td>\n",
       "      <td>ProBook 450</td>\n",
       "      <td>Notebook</td>\n",
       "      <td>15.6</td>\n",
       "      <td>Full HD 1920x1080</td>\n",
       "      <td>Intel Core i7 7500U 2.7GHz</td>\n",
       "      <td>8GB</td>\n",
       "      <td>1TB HDD</td>\n",
       "      <td>Nvidia GeForce 930MX</td>\n",
       "      <td>Windows 10</td>\n",
       "      <td>2.04kg</td>\n",
       "      <td>900.00</td>\n",
       "    </tr>\n",
       "    <tr>\n",
       "      <th>2</th>\n",
       "      <td>Apple</td>\n",
       "      <td>Macbook Air</td>\n",
       "      <td>Ultrabook</td>\n",
       "      <td>13.3</td>\n",
       "      <td>1440x900</td>\n",
       "      <td>Intel Core i5 1.8GHz</td>\n",
       "      <td>8GB</td>\n",
       "      <td>128GB Flash Storage</td>\n",
       "      <td>Intel HD Graphics 6000</td>\n",
       "      <td>macOS</td>\n",
       "      <td>1.34kg</td>\n",
       "      <td>898.94</td>\n",
       "    </tr>\n",
       "    <tr>\n",
       "      <th>286</th>\n",
       "      <td>Dell</td>\n",
       "      <td>Inspiron 3567</td>\n",
       "      <td>Notebook</td>\n",
       "      <td>15.6</td>\n",
       "      <td>Full HD 1920x1080</td>\n",
       "      <td>Intel Core i3 6006U 2.0GHz</td>\n",
       "      <td>4GB</td>\n",
       "      <td>1TB HDD</td>\n",
       "      <td>AMD Radeon R5 M430</td>\n",
       "      <td>Linux</td>\n",
       "      <td>2.25kg</td>\n",
       "      <td>428.00</td>\n",
       "    </tr>\n",
       "  </tbody>\n",
       "</table>\n",
       "</div>"
      ],
      "text/plain": [
       "    Company        Product   TypeName  Inches   ScreenResolution  \\\n",
       "755      HP         250 G6   Notebook    15.6  Full HD 1920x1080   \n",
       "618    Dell  Inspiron 7559     Gaming    15.6  Full HD 1920x1080   \n",
       "909      HP    ProBook 450   Notebook    15.6  Full HD 1920x1080   \n",
       "2     Apple    Macbook Air  Ultrabook    13.3           1440x900   \n",
       "286    Dell  Inspiron 3567   Notebook    15.6  Full HD 1920x1080   \n",
       "\n",
       "                             Cpu   Ram               Memory  \\\n",
       "755     Intel Core i3 6006U 2GHz   8GB            256GB SSD   \n",
       "618  Intel Core i7 6700HQ 2.6GHz  16GB              1TB HDD   \n",
       "909   Intel Core i7 7500U 2.7GHz   8GB              1TB HDD   \n",
       "2           Intel Core i5 1.8GHz   8GB  128GB Flash Storage   \n",
       "286   Intel Core i3 6006U 2.0GHz   4GB              1TB HDD   \n",
       "\n",
       "                                Gpu       OpSys  Weight  Price_in_euros  \n",
       "755           Intel HD Graphics 520  Windows 10  1.86kg          539.00  \n",
       "618  Nvidia GeForce GTX 960<U+039C>  Windows 10  2.59kg          879.01  \n",
       "909            Nvidia GeForce 930MX  Windows 10  2.04kg          900.00  \n",
       "2            Intel HD Graphics 6000       macOS  1.34kg          898.94  \n",
       "286              AMD Radeon R5 M430       Linux  2.25kg          428.00  "
      ]
     },
     "execution_count": 34,
     "metadata": {},
     "output_type": "execute_result"
    }
   ],
   "source": [
    "df.head()"
   ]
  },
  {
   "cell_type": "code",
   "execution_count": 35,
   "metadata": {},
   "outputs": [
    {
     "data": {
      "text/html": [
       "<div>\n",
       "<style scoped>\n",
       "    .dataframe tbody tr th:only-of-type {\n",
       "        vertical-align: middle;\n",
       "    }\n",
       "\n",
       "    .dataframe tbody tr th {\n",
       "        vertical-align: top;\n",
       "    }\n",
       "\n",
       "    .dataframe thead th {\n",
       "        text-align: right;\n",
       "    }\n",
       "</style>\n",
       "<table border=\"1\" class=\"dataframe\">\n",
       "  <thead>\n",
       "    <tr style=\"text-align: right;\">\n",
       "      <th></th>\n",
       "      <th>Company</th>\n",
       "      <th>Product</th>\n",
       "      <th>TypeName</th>\n",
       "      <th>Inches</th>\n",
       "      <th>ScreenResolution</th>\n",
       "      <th>Cpu</th>\n",
       "      <th>Ram</th>\n",
       "      <th>Memory</th>\n",
       "      <th>Gpu</th>\n",
       "      <th>OpSys</th>\n",
       "      <th>Weight</th>\n",
       "      <th>Price_in_euros</th>\n",
       "    </tr>\n",
       "  </thead>\n",
       "  <tbody>\n",
       "    <tr>\n",
       "      <th>28</th>\n",
       "      <td>Dell</td>\n",
       "      <td>Inspiron 5570</td>\n",
       "      <td>Notebook</td>\n",
       "      <td>15.6</td>\n",
       "      <td>Full HD 1920x1080</td>\n",
       "      <td>Intel Core i5 8250U 1.6GHz</td>\n",
       "      <td>8GB</td>\n",
       "      <td>256GB SSD</td>\n",
       "      <td>AMD Radeon 530</td>\n",
       "      <td>Windows 10</td>\n",
       "      <td>2.2kg</td>\n",
       "      <td>800.00</td>\n",
       "    </tr>\n",
       "    <tr>\n",
       "      <th>1160</th>\n",
       "      <td>HP</td>\n",
       "      <td>Spectre Pro</td>\n",
       "      <td>2 in 1 Convertible</td>\n",
       "      <td>13.3</td>\n",
       "      <td>Full HD / Touchscreen 1920x1080</td>\n",
       "      <td>Intel Core i5 6300U 2.4GHz</td>\n",
       "      <td>8GB</td>\n",
       "      <td>256GB SSD</td>\n",
       "      <td>Intel HD Graphics 520</td>\n",
       "      <td>Windows 10</td>\n",
       "      <td>1.48kg</td>\n",
       "      <td>1629.00</td>\n",
       "    </tr>\n",
       "    <tr>\n",
       "      <th>78</th>\n",
       "      <td>Lenovo</td>\n",
       "      <td>IdeaPad 320-15IKBN</td>\n",
       "      <td>Notebook</td>\n",
       "      <td>15.6</td>\n",
       "      <td>Full HD 1920x1080</td>\n",
       "      <td>Intel Core i5 7200U 2.5GHz</td>\n",
       "      <td>8GB</td>\n",
       "      <td>2TB HDD</td>\n",
       "      <td>Intel HD Graphics 620</td>\n",
       "      <td>No OS</td>\n",
       "      <td>2.2kg</td>\n",
       "      <td>519.00</td>\n",
       "    </tr>\n",
       "    <tr>\n",
       "      <th>23</th>\n",
       "      <td>HP</td>\n",
       "      <td>255 G6</td>\n",
       "      <td>Notebook</td>\n",
       "      <td>15.6</td>\n",
       "      <td>1366x768</td>\n",
       "      <td>AMD E-Series E2-9000e 1.5GHz</td>\n",
       "      <td>4GB</td>\n",
       "      <td>500GB HDD</td>\n",
       "      <td>AMD Radeon R2</td>\n",
       "      <td>No OS</td>\n",
       "      <td>1.86kg</td>\n",
       "      <td>258.00</td>\n",
       "    </tr>\n",
       "    <tr>\n",
       "      <th>229</th>\n",
       "      <td>Dell</td>\n",
       "      <td>Alienware 17</td>\n",
       "      <td>Gaming</td>\n",
       "      <td>17.3</td>\n",
       "      <td>IPS Panel Full HD 1920x1080</td>\n",
       "      <td>Intel Core i7 7700HQ 2.8GHz</td>\n",
       "      <td>16GB</td>\n",
       "      <td>256GB SSD +  1TB HDD</td>\n",
       "      <td>Nvidia GeForce GTX 1060</td>\n",
       "      <td>Windows 10</td>\n",
       "      <td>4.42kg</td>\n",
       "      <td>2456.34</td>\n",
       "    </tr>\n",
       "  </tbody>\n",
       "</table>\n",
       "</div>"
      ],
      "text/plain": [
       "     Company             Product            TypeName  Inches  \\\n",
       "28      Dell       Inspiron 5570            Notebook    15.6   \n",
       "1160      HP         Spectre Pro  2 in 1 Convertible    13.3   \n",
       "78    Lenovo  IdeaPad 320-15IKBN            Notebook    15.6   \n",
       "23        HP              255 G6            Notebook    15.6   \n",
       "229     Dell        Alienware 17              Gaming    17.3   \n",
       "\n",
       "                     ScreenResolution                           Cpu   Ram  \\\n",
       "28                  Full HD 1920x1080    Intel Core i5 8250U 1.6GHz   8GB   \n",
       "1160  Full HD / Touchscreen 1920x1080    Intel Core i5 6300U 2.4GHz   8GB   \n",
       "78                  Full HD 1920x1080    Intel Core i5 7200U 2.5GHz   8GB   \n",
       "23                           1366x768  AMD E-Series E2-9000e 1.5GHz   4GB   \n",
       "229       IPS Panel Full HD 1920x1080   Intel Core i7 7700HQ 2.8GHz  16GB   \n",
       "\n",
       "                    Memory                      Gpu       OpSys  Weight  \\\n",
       "28               256GB SSD           AMD Radeon 530  Windows 10   2.2kg   \n",
       "1160             256GB SSD    Intel HD Graphics 520  Windows 10  1.48kg   \n",
       "78                 2TB HDD    Intel HD Graphics 620       No OS   2.2kg   \n",
       "23               500GB HDD            AMD Radeon R2       No OS  1.86kg   \n",
       "229   256GB SSD +  1TB HDD  Nvidia GeForce GTX 1060  Windows 10  4.42kg   \n",
       "\n",
       "      Price_in_euros  \n",
       "28            800.00  \n",
       "1160         1629.00  \n",
       "78            519.00  \n",
       "23            258.00  \n",
       "229          2456.34  "
      ]
     },
     "execution_count": 35,
     "metadata": {},
     "output_type": "execute_result"
    }
   ],
   "source": [
    "df.tail()"
   ]
  },
  {
   "cell_type": "code",
   "execution_count": 36,
   "metadata": {},
   "outputs": [
    {
     "data": {
      "text/html": [
       "<div>\n",
       "<style scoped>\n",
       "    .dataframe tbody tr th:only-of-type {\n",
       "        vertical-align: middle;\n",
       "    }\n",
       "\n",
       "    .dataframe tbody tr th {\n",
       "        vertical-align: top;\n",
       "    }\n",
       "\n",
       "    .dataframe thead th {\n",
       "        text-align: right;\n",
       "    }\n",
       "</style>\n",
       "<table border=\"1\" class=\"dataframe\">\n",
       "  <thead>\n",
       "    <tr style=\"text-align: right;\">\n",
       "      <th></th>\n",
       "      <th>DATA_TYPE</th>\n",
       "      <th>MISSINGS (%)</th>\n",
       "      <th>UNIQUE_VALUES</th>\n",
       "      <th>CARDIN (%)</th>\n",
       "    </tr>\n",
       "  </thead>\n",
       "  <tbody>\n",
       "    <tr>\n",
       "      <th>Company</th>\n",
       "      <td>object</td>\n",
       "      <td>0</td>\n",
       "      <td>19</td>\n",
       "      <td>2.08</td>\n",
       "    </tr>\n",
       "    <tr>\n",
       "      <th>Product</th>\n",
       "      <td>object</td>\n",
       "      <td>0</td>\n",
       "      <td>480</td>\n",
       "      <td>52.63</td>\n",
       "    </tr>\n",
       "    <tr>\n",
       "      <th>TypeName</th>\n",
       "      <td>object</td>\n",
       "      <td>0</td>\n",
       "      <td>6</td>\n",
       "      <td>0.66</td>\n",
       "    </tr>\n",
       "    <tr>\n",
       "      <th>Inches</th>\n",
       "      <td>float64</td>\n",
       "      <td>0</td>\n",
       "      <td>17</td>\n",
       "      <td>1.86</td>\n",
       "    </tr>\n",
       "    <tr>\n",
       "      <th>ScreenResolution</th>\n",
       "      <td>object</td>\n",
       "      <td>0</td>\n",
       "      <td>36</td>\n",
       "      <td>3.95</td>\n",
       "    </tr>\n",
       "    <tr>\n",
       "      <th>Cpu</th>\n",
       "      <td>object</td>\n",
       "      <td>0</td>\n",
       "      <td>107</td>\n",
       "      <td>11.73</td>\n",
       "    </tr>\n",
       "    <tr>\n",
       "      <th>Ram</th>\n",
       "      <td>object</td>\n",
       "      <td>0</td>\n",
       "      <td>9</td>\n",
       "      <td>0.99</td>\n",
       "    </tr>\n",
       "    <tr>\n",
       "      <th>Memory</th>\n",
       "      <td>object</td>\n",
       "      <td>0</td>\n",
       "      <td>37</td>\n",
       "      <td>4.06</td>\n",
       "    </tr>\n",
       "    <tr>\n",
       "      <th>Gpu</th>\n",
       "      <td>object</td>\n",
       "      <td>0</td>\n",
       "      <td>93</td>\n",
       "      <td>10.2</td>\n",
       "    </tr>\n",
       "    <tr>\n",
       "      <th>OpSys</th>\n",
       "      <td>object</td>\n",
       "      <td>0</td>\n",
       "      <td>9</td>\n",
       "      <td>0.99</td>\n",
       "    </tr>\n",
       "    <tr>\n",
       "      <th>Weight</th>\n",
       "      <td>object</td>\n",
       "      <td>0</td>\n",
       "      <td>165</td>\n",
       "      <td>18.09</td>\n",
       "    </tr>\n",
       "    <tr>\n",
       "      <th>Price_in_euros</th>\n",
       "      <td>float64</td>\n",
       "      <td>0</td>\n",
       "      <td>603</td>\n",
       "      <td>66.12</td>\n",
       "    </tr>\n",
       "  </tbody>\n",
       "</table>\n",
       "</div>"
      ],
      "text/plain": [
       "                 DATA_TYPE MISSINGS (%) UNIQUE_VALUES CARDIN (%)\n",
       "Company             object            0            19       2.08\n",
       "Product             object            0           480      52.63\n",
       "TypeName            object            0             6       0.66\n",
       "Inches             float64            0            17       1.86\n",
       "ScreenResolution    object            0            36       3.95\n",
       "Cpu                 object            0           107      11.73\n",
       "Ram                 object            0             9       0.99\n",
       "Memory              object            0            37       4.06\n",
       "Gpu                 object            0            93       10.2\n",
       "OpSys               object            0             9       0.99\n",
       "Weight              object            0           165      18.09\n",
       "Price_in_euros     float64            0           603      66.12"
      ]
     },
     "execution_count": 36,
     "metadata": {},
     "output_type": "execute_result"
    }
   ],
   "source": [
    "tb.describe_df(df)"
   ]
  },
  {
   "cell_type": "code",
   "execution_count": 37,
   "metadata": {},
   "outputs": [
    {
     "data": {
      "text/html": [
       "<div>\n",
       "<style scoped>\n",
       "    .dataframe tbody tr th:only-of-type {\n",
       "        vertical-align: middle;\n",
       "    }\n",
       "\n",
       "    .dataframe tbody tr th {\n",
       "        vertical-align: top;\n",
       "    }\n",
       "\n",
       "    .dataframe thead th {\n",
       "        text-align: right;\n",
       "    }\n",
       "</style>\n",
       "<table border=\"1\" class=\"dataframe\">\n",
       "  <thead>\n",
       "    <tr style=\"text-align: right;\">\n",
       "      <th></th>\n",
       "      <th>variable</th>\n",
       "      <th>tipo</th>\n",
       "    </tr>\n",
       "  </thead>\n",
       "  <tbody>\n",
       "    <tr>\n",
       "      <th>0</th>\n",
       "      <td>Company</td>\n",
       "      <td>Numérica Discreta</td>\n",
       "    </tr>\n",
       "    <tr>\n",
       "      <th>1</th>\n",
       "      <td>Product</td>\n",
       "      <td>Numérica Continua</td>\n",
       "    </tr>\n",
       "    <tr>\n",
       "      <th>2</th>\n",
       "      <td>TypeName</td>\n",
       "      <td>Categórica</td>\n",
       "    </tr>\n",
       "    <tr>\n",
       "      <th>3</th>\n",
       "      <td>Inches</td>\n",
       "      <td>Numérica Discreta</td>\n",
       "    </tr>\n",
       "    <tr>\n",
       "      <th>4</th>\n",
       "      <td>ScreenResolution</td>\n",
       "      <td>Numérica Discreta</td>\n",
       "    </tr>\n",
       "    <tr>\n",
       "      <th>5</th>\n",
       "      <td>Cpu</td>\n",
       "      <td>Numérica Discreta</td>\n",
       "    </tr>\n",
       "    <tr>\n",
       "      <th>6</th>\n",
       "      <td>Ram</td>\n",
       "      <td>Categórica</td>\n",
       "    </tr>\n",
       "    <tr>\n",
       "      <th>7</th>\n",
       "      <td>Memory</td>\n",
       "      <td>Numérica Discreta</td>\n",
       "    </tr>\n",
       "    <tr>\n",
       "      <th>8</th>\n",
       "      <td>Gpu</td>\n",
       "      <td>Numérica Discreta</td>\n",
       "    </tr>\n",
       "    <tr>\n",
       "      <th>9</th>\n",
       "      <td>OpSys</td>\n",
       "      <td>Categórica</td>\n",
       "    </tr>\n",
       "    <tr>\n",
       "      <th>10</th>\n",
       "      <td>Weight</td>\n",
       "      <td>Numérica Continua</td>\n",
       "    </tr>\n",
       "    <tr>\n",
       "      <th>11</th>\n",
       "      <td>Price_in_euros</td>\n",
       "      <td>Numérica Continua</td>\n",
       "    </tr>\n",
       "  </tbody>\n",
       "</table>\n",
       "</div>"
      ],
      "text/plain": [
       "            variable               tipo\n",
       "0            Company  Numérica Discreta\n",
       "1            Product  Numérica Continua\n",
       "2           TypeName         Categórica\n",
       "3             Inches  Numérica Discreta\n",
       "4   ScreenResolution  Numérica Discreta\n",
       "5                Cpu  Numérica Discreta\n",
       "6                Ram         Categórica\n",
       "7             Memory  Numérica Discreta\n",
       "8                Gpu  Numérica Discreta\n",
       "9              OpSys         Categórica\n",
       "10            Weight  Numérica Continua\n",
       "11    Price_in_euros  Numérica Continua"
      ]
     },
     "execution_count": 37,
     "metadata": {},
     "output_type": "execute_result"
    }
   ],
   "source": [
    "tb.tipifica_variables(df)"
   ]
  },
  {
   "cell_type": "markdown",
   "metadata": {},
   "source": [
    "## Procesado de datos"
   ]
  },
  {
   "cell_type": "code",
   "execution_count": 38,
   "metadata": {},
   "outputs": [],
   "source": [
    "target = \"Price_in_euros\""
   ]
  },
  {
   "cell_type": "code",
   "execution_count": 39,
   "metadata": {},
   "outputs": [],
   "source": [
    "df.drop_duplicates(keep = \"first\", inplace = True)"
   ]
  },
  {
   "cell_type": "code",
   "execution_count": 40,
   "metadata": {},
   "outputs": [],
   "source": [
    "df[\"inches\"] = df.Inches.astype(float)\n",
    "df['ram_gb'] = df['Ram'].str.replace('GB', '').astype(int)\n",
    "df[\"weight_kg\"] = df['Weight'].str.replace('kg', '').astype(float)\n",
    "df.drop(columns = [\"Inches\", \"Ram\", \"Weight\"], inplace = True)"
   ]
  },
  {
   "cell_type": "code",
   "execution_count": 41,
   "metadata": {},
   "outputs": [],
   "source": [
    "# Ordenamos las features categóricas de menor precio de median a mayor precio para poder convertirlas en numéricas:\n",
    "# categories_company = df.groupby(df[\"Company\"])[\"Price_in_euros\"].median().sort_values().index.to_list()\n",
    "# categories_typename = df.groupby(df[\"TypeName\"])[\"Price_in_euros\"].median().sort_values().index.to_list()\n",
    "# categories_resolution = df.groupby(df[\"ScreenResolution\"])[\"Price_in_euros\"].median().sort_values().index.to_list()\n",
    "# categories_cpu = df.groupby(df[\"Cpu\"])[\"Price_in_euros\"].median().sort_values().index.to_list()\n",
    "# categories_memory = df.groupby(df[\"Memory\"])[\"Price_in_euros\"].median().sort_values().index.to_list()\n",
    "# categories_gpu = df.groupby(df[\"Gpu\"])[\"Price_in_euros\"].median().sort_values().index.to_list()\n",
    "\n",
    "# total_cat = [categories_company, categories_resolution, categories_cpu, categories_memory, categories_gpu]\n",
    "# cols = [\"Company\", \"ScreenResolution\", \"Cpu\", \"Memory\", \"Gpu\"]\n",
    "\n",
    "# enc = OrdinalEncoder(categories = total_cat, dtype= int, handle_unknown = \"use_encoded_value\", unknown_value = -1)\n",
    "# df[cols] = enc.fit_transform(df[cols])\n",
    "# df.head()"
   ]
  },
  {
   "cell_type": "code",
   "execution_count": 42,
   "metadata": {},
   "outputs": [
    {
     "data": {
      "text/plain": [
       "['Company',\n",
       " 'Product',\n",
       " 'TypeName',\n",
       " 'ScreenResolution',\n",
       " 'Cpu',\n",
       " 'Memory',\n",
       " 'Gpu',\n",
       " 'OpSys']"
      ]
     },
     "execution_count": 42,
     "metadata": {},
     "output_type": "execute_result"
    }
   ],
   "source": [
    "tb.get_features_cat_regression(df, \"Price_in_euros\")"
   ]
  },
  {
   "cell_type": "code",
   "execution_count": 43,
   "metadata": {},
   "outputs": [
    {
     "data": {
      "text/plain": [
       "[]"
      ]
     },
     "execution_count": 43,
     "metadata": {},
     "output_type": "execute_result"
    }
   ],
   "source": [
    "tb.get_features_num_regression(df, \"Price_in_euros\", 0.6)"
   ]
  },
  {
   "cell_type": "code",
   "execution_count": 44,
   "metadata": {},
   "outputs": [],
   "source": [
    "feature_sel = [\"ram_gb\", \"encoded_opsys\", \"encoded_type\", \"encoded_company\"]"
   ]
  },
  {
   "cell_type": "code",
   "execution_count": 45,
   "metadata": {},
   "outputs": [
    {
     "data": {
      "image/png": "[encoded data removed]",
      "text/plain": [
       "<Figure size 1000x600 with 1 Axes>"
      ]
     },
     "metadata": {},
     "output_type": "display_data"
    },
    {
     "data": {
      "image/png": "[encoded data removed]",
      "text/plain": [
       "<Figure size 1000x600 with 1 Axes>"
      ]
     },
     "metadata": {},
     "output_type": "display_data"
    }
   ],
   "source": [
    "bt.plot_categorical_numerical_relationship(df, categorical_col = \"ram_gb\", numerical_col = target)"
   ]
  },
  {
   "cell_type": "code",
   "execution_count": 46,
   "metadata": {},
   "outputs": [
    {
     "data": {
      "image/png": "[encoded data removed]",
      "text/plain": [
       "<Figure size 1000x600 with 1 Axes>"
      ]
     },
     "metadata": {},
     "output_type": "display_data"
    },
    {
     "data": {
      "image/png": "[encoded data removed]",
      "text/plain": [
       "<Figure size 1000x600 with 1 Axes>"
      ]
     },
     "metadata": {},
     "output_type": "display_data"
    }
   ],
   "source": [
    "bt.plot_categorical_numerical_relationship(df, categorical_col = \"OpSys\", numerical_col = target)"
   ]
  },
  {
   "cell_type": "code",
   "execution_count": 47,
   "metadata": {},
   "outputs": [
    {
     "data": {
      "image/png": "[encoded data removed]",
      "text/plain": [
       "<Figure size 1000x600 with 1 Axes>"
      ]
     },
     "metadata": {},
     "output_type": "display_data"
    },
    {
     "data": {
      "image/png": "[encoded data removed]",
      "text/plain": [
       "<Figure size 1000x600 with 1 Axes>"
      ]
     },
     "metadata": {},
     "output_type": "display_data"
    }
   ],
   "source": [
    "bt.plot_categorical_numerical_relationship(df, categorical_col= \"TypeName\", numerical_col= target)"
   ]
  },
  {
   "cell_type": "code",
   "execution_count": 48,
   "metadata": {},
   "outputs": [
    {
     "data": {
      "image/png": "[encoded data removed]",
      "text/plain": [
       "<Figure size 1000x600 with 1 Axes>"
      ]
     },
     "metadata": {},
     "output_type": "display_data"
    },
    {
     "data": {
      "image/png": "[encoded data removed]",
      "text/plain": [
       "<Figure size 1000x600 with 1 Axes>"
      ]
     },
     "metadata": {},
     "output_type": "display_data"
    },
    {
     "data": {
      "image/png": "[encoded data removed]",
      "text/plain": [
       "<Figure size 1000x600 with 1 Axes>"
      ]
     },
     "metadata": {},
     "output_type": "display_data"
    },
    {
     "data": {
      "image/png": "[encoded data removed]",
      "text/plain": [
       "<Figure size 1000x600 with 1 Axes>"
      ]
     },
     "metadata": {},
     "output_type": "display_data"
    }
   ],
   "source": [
    "bt.plot_categorical_numerical_relationship(df, categorical_col = \"Company\", numerical_col = target)"
   ]
  },
  {
   "cell_type": "code",
   "execution_count": 49,
   "metadata": {},
   "outputs": [],
   "source": [
    "categories_company = df.groupby(df[\"Company\"])[\"Price_in_euros\"].median().sort_values().index.to_list()\n",
    "categories_typename = df.groupby(df[\"TypeName\"])[\"Price_in_euros\"].median().sort_values().index.to_list()\n",
    "categories_opsys = df.groupby(df[\"OpSys\"])[\"Price_in_euros\"].median().sort_values().index.to_list()\n",
    "\n",
    "total_cat = [categories_typename, categories_opsys, categories_company]\n",
    "cols = [\"TypeName\", \"OpSys\", \"Company\"]\n",
    "\n",
    "enc = OrdinalEncoder(categories = total_cat, dtype= int, handle_unknown = \"use_encoded_value\", unknown_value = -1)\n",
    "df[cols] = enc.fit_transform(df[cols])"
   ]
  },
  {
   "cell_type": "code",
   "execution_count": 50,
   "metadata": {},
   "outputs": [],
   "source": [
    "# # Codificamos el tipo de ordenador siguiendo su orden de precio medio:\n",
    "# categories_typename = [\"Netbook\", \"Notebook\", \"2 in 1 Convertible\", \"Ultrabook\", \"Gaming\", \"Workstation\"]\n",
    "\n",
    "# enc = OrdinalEncoder(categories = [categories_typename], dtype= int, handle_unknown = \"use_encoded_value\", unknown_value = -1)\n",
    "# df[\"encoded_type\"] = enc.fit_transform(df[[\"TypeName\"]])"
   ]
  },
  {
   "cell_type": "code",
   "execution_count": 51,
   "metadata": {},
   "outputs": [],
   "source": [
    "# # Codificamos el sistema operativo siguiendo su orden de precio medio:\n",
    "# categories_opsys = [\"macOS\", \"Windows 7\", \"Windows 10 S\", \"Mac OS X\", \"Windows 10\", \"Linux\", \"No OS\", \"Chrome OS\", \"Android\" ]\n",
    "\n",
    "# enc = OrdinalEncoder(categories = [categories_opsys], dtype= int, handle_unknown = \"use_encoded_value\", unknown_value = -1)\n",
    "# df[\"encoded_opsys\"] = enc.fit_transform(df[[\"OpSys\"]])"
   ]
  },
  {
   "cell_type": "code",
   "execution_count": 52,
   "metadata": {},
   "outputs": [],
   "source": [
    "# # Codificamos las compañías siguiendo su orden de precio medio:\n",
    "# categories_company = df.groupby(df[\"Company\"])[\"Price_in_euros\"].median().sort_values().index.to_list()\n",
    "\n",
    "# enc = OrdinalEncoder(categories = [categories_company], dtype= int, handle_unknown = \"use_encoded_value\", unknown_value = -1)\n",
    "# df[\"encoded_company\"] = enc.fit_transform(df[[\"Company\"]])"
   ]
  },
  {
   "cell_type": "code",
   "execution_count": 53,
   "metadata": {},
   "outputs": [],
   "source": [
    "dummies_cols = [\"ScreenResolution\", \"Cpu\", \"Memory\", \"Gpu\"]"
   ]
  },
  {
   "cell_type": "code",
   "execution_count": 54,
   "metadata": {},
   "outputs": [],
   "source": [
    "df = pd.get_dummies(df, columns = dummies_cols, dtype = int)"
   ]
  },
  {
   "cell_type": "code",
   "execution_count": 55,
   "metadata": {},
   "outputs": [],
   "source": [
    "# # Probar target encoding:\n",
    "# df[\"columna_categorica_encoded\"] = df.groupby(\"columna_categorica\")[target].transform(\"mean\")"
   ]
  },
  {
   "cell_type": "code",
   "execution_count": 56,
   "metadata": {},
   "outputs": [
    {
     "name": "stdout",
     "output_type": "stream",
     "text": [
      "<class 'pandas.core.frame.DataFrame'>\n",
      "Index: 891 entries, 755 to 229\n",
      "Columns: 281 entries, Company to Gpu_Nvidia Quadro M620M\n",
      "dtypes: float64(3), int32(277), object(1)\n",
      "memory usage: 998.9+ KB\n"
     ]
    }
   ],
   "source": [
    "df.info()"
   ]
  },
  {
   "cell_type": "code",
   "execution_count": 57,
   "metadata": {},
   "outputs": [
    {
     "data": {
      "text/plain": [
       "['Company',\n",
       " 'TypeName',\n",
       " 'OpSys',\n",
       " 'Price_in_euros',\n",
       " 'ram_gb',\n",
       " 'ScreenResolution_1366x768',\n",
       " 'ScreenResolution_1440x900',\n",
       " 'ScreenResolution_1600x900',\n",
       " 'ScreenResolution_1920x1080',\n",
       " 'ScreenResolution_2560x1440',\n",
       " 'ScreenResolution_4K Ultra HD / Touchscreen 3840x2160',\n",
       " 'ScreenResolution_4K Ultra HD 3840x2160',\n",
       " 'ScreenResolution_Full HD / Touchscreen 1920x1080',\n",
       " 'ScreenResolution_Full HD 1920x1080',\n",
       " 'ScreenResolution_IPS Panel 1366x768',\n",
       " 'ScreenResolution_IPS Panel 2560x1440',\n",
       " 'ScreenResolution_IPS Panel 4K Ultra HD / Touchscreen 3840x2160',\n",
       " 'ScreenResolution_IPS Panel 4K Ultra HD 3840x2160',\n",
       " 'ScreenResolution_IPS Panel Full HD / Touchscreen 1920x1080',\n",
       " 'ScreenResolution_IPS Panel Full HD 1920x1080',\n",
       " 'ScreenResolution_IPS Panel Full HD 1920x1200',\n",
       " 'ScreenResolution_IPS Panel Full HD 2160x1440',\n",
       " 'ScreenResolution_IPS Panel Full HD 2560x1440',\n",
       " 'ScreenResolution_IPS Panel Quad HD+ / Touchscreen 3200x1800',\n",
       " 'ScreenResolution_IPS Panel Quad HD+ 2560x1440',\n",
       " 'ScreenResolution_IPS Panel Quad HD+ 3200x1800',\n",
       " 'ScreenResolution_IPS Panel Retina Display 2304x1440',\n",
       " 'ScreenResolution_IPS Panel Retina Display 2560x1600',\n",
       " 'ScreenResolution_IPS Panel Retina Display 2880x1800',\n",
       " 'ScreenResolution_IPS Panel Touchscreen 1366x768',\n",
       " 'ScreenResolution_IPS Panel Touchscreen 1920x1200',\n",
       " 'ScreenResolution_IPS Panel Touchscreen 2560x1440',\n",
       " 'ScreenResolution_Quad HD+ / Touchscreen 3200x1800',\n",
       " 'ScreenResolution_Quad HD+ 3200x1800',\n",
       " 'ScreenResolution_Touchscreen / 4K Ultra HD 3840x2160',\n",
       " 'ScreenResolution_Touchscreen / Full HD 1920x1080',\n",
       " 'ScreenResolution_Touchscreen / Quad HD+ 3200x1800',\n",
       " 'ScreenResolution_Touchscreen 1366x768',\n",
       " 'ScreenResolution_Touchscreen 2256x1504',\n",
       " 'ScreenResolution_Touchscreen 2400x1600',\n",
       " 'ScreenResolution_Touchscreen 2560x1440',\n",
       " 'Cpu_AMD A10-Series 9600P 2.4GHz',\n",
       " 'Cpu_AMD A10-Series 9620P 2.5GHz',\n",
       " 'Cpu_AMD A10-Series A10-9620P 2.5GHz',\n",
       " 'Cpu_AMD A12-Series 9720P 2.7GHz',\n",
       " 'Cpu_AMD A12-Series 9720P 3.6GHz',\n",
       " 'Cpu_AMD A6-Series 7310 2GHz',\n",
       " 'Cpu_AMD A6-Series 9220 2.5GHz',\n",
       " 'Cpu_AMD A6-Series 9220 2.9GHz',\n",
       " 'Cpu_AMD A6-Series A6-9220 2.5GHz',\n",
       " 'Cpu_AMD A8-Series 7410 2.2GHz',\n",
       " 'Cpu_AMD A9-Series 9410 2.9GHz',\n",
       " 'Cpu_AMD A9-Series 9420 2.9GHz',\n",
       " 'Cpu_AMD A9-Series 9420 3GHz',\n",
       " 'Cpu_AMD A9-Series A9-9420 3GHz',\n",
       " 'Cpu_AMD E-Series 6110 1.5GHz',\n",
       " 'Cpu_AMD E-Series 7110 1.8GHz',\n",
       " 'Cpu_AMD E-Series 9000e 1.5GHz',\n",
       " 'Cpu_AMD E-Series E2-6110 1.5GHz',\n",
       " 'Cpu_AMD E-Series E2-9000 2.2GHz',\n",
       " 'Cpu_AMD E-Series E2-9000e 1.5GHz',\n",
       " 'Cpu_AMD FX 9830P 3GHz',\n",
       " 'Cpu_AMD Ryzen 1600 3.2GHz',\n",
       " 'Cpu_AMD Ryzen 1700 3GHz',\n",
       " 'Cpu_Intel Atom X5-Z8350 1.44GHz',\n",
       " 'Cpu_Intel Atom Z8350 1.92GHz',\n",
       " 'Cpu_Intel Atom x5-Z8300 1.44GHz',\n",
       " 'Cpu_Intel Atom x5-Z8350 1.44GHz',\n",
       " 'Cpu_Intel Atom x5-Z8550 1.44GHz',\n",
       " 'Cpu_Intel Celeron Dual Core 3205U 1.5GHz',\n",
       " 'Cpu_Intel Celeron Dual Core 3855U 1.6GHz',\n",
       " 'Cpu_Intel Celeron Dual Core N3050 1.6GHz',\n",
       " 'Cpu_Intel Celeron Dual Core N3060 1.6GHz',\n",
       " 'Cpu_Intel Celeron Dual Core N3350 1.1GHz',\n",
       " 'Cpu_Intel Celeron Dual Core N3350 2.0GHz',\n",
       " 'Cpu_Intel Celeron Dual Core N3350 2GHz',\n",
       " 'Cpu_Intel Celeron Quad Core N3160 1.6GHz',\n",
       " 'Cpu_Intel Celeron Quad Core N3450 1.1GHz',\n",
       " 'Cpu_Intel Celeron Quad Core N3710 1.6GHz',\n",
       " 'Cpu_Intel Core M 1.1GHz',\n",
       " 'Cpu_Intel Core M 1.2GHz',\n",
       " 'Cpu_Intel Core M 6Y30 0.9GHz',\n",
       " 'Cpu_Intel Core M 6Y54 1.1GHz',\n",
       " 'Cpu_Intel Core M 6Y75 1.2GHz',\n",
       " 'Cpu_Intel Core M 7Y30 1.0GHz',\n",
       " 'Cpu_Intel Core M M3-6Y30 0.9GHz',\n",
       " 'Cpu_Intel Core M M7-6Y75 1.2GHz',\n",
       " 'Cpu_Intel Core M m3 1.2GHz',\n",
       " 'Cpu_Intel Core M m3-7Y30 2.2GHz',\n",
       " 'Cpu_Intel Core M m7-6Y75 1.2GHz',\n",
       " 'Cpu_Intel Core i3 6006U 2.0GHz',\n",
       " 'Cpu_Intel Core i3 6006U 2.2GHz',\n",
       " 'Cpu_Intel Core i3 6006U 2GHz',\n",
       " 'Cpu_Intel Core i3 6100U 2.1GHz',\n",
       " 'Cpu_Intel Core i3 6100U 2.3GHz',\n",
       " 'Cpu_Intel Core i3 7100U 2.4GHz',\n",
       " 'Cpu_Intel Core i3 7130U 2.7GHz',\n",
       " 'Cpu_Intel Core i5 1.3GHz',\n",
       " 'Cpu_Intel Core i5 1.6GHz',\n",
       " 'Cpu_Intel Core i5 1.8GHz',\n",
       " 'Cpu_Intel Core i5 2.0GHz',\n",
       " 'Cpu_Intel Core i5 2.3GHz',\n",
       " 'Cpu_Intel Core i5 2.9GHz',\n",
       " 'Cpu_Intel Core i5 3.1GHz',\n",
       " 'Cpu_Intel Core i5 6200U 2.3GHz',\n",
       " 'Cpu_Intel Core i5 6260U 1.8GHz',\n",
       " 'Cpu_Intel Core i5 6300HQ 2.3GHz',\n",
       " 'Cpu_Intel Core i5 6300U 2.4GHz',\n",
       " 'Cpu_Intel Core i5 6440HQ 2.6GHz',\n",
       " 'Cpu_Intel Core i5 7200U 2.50GHz',\n",
       " 'Cpu_Intel Core i5 7200U 2.5GHz',\n",
       " 'Cpu_Intel Core i5 7300HQ 2.5GHz',\n",
       " 'Cpu_Intel Core i5 7300U 2.6GHz',\n",
       " 'Cpu_Intel Core i5 7440HQ 2.8GHz',\n",
       " 'Cpu_Intel Core i5 7500U 2.7GHz',\n",
       " 'Cpu_Intel Core i5 7Y54 1.2GHz',\n",
       " 'Cpu_Intel Core i5 7Y57 1.2GHz',\n",
       " 'Cpu_Intel Core i5 8250U 1.6GHz',\n",
       " 'Cpu_Intel Core i7 2.2GHz',\n",
       " 'Cpu_Intel Core i7 2.7GHz',\n",
       " 'Cpu_Intel Core i7 2.8GHz',\n",
       " 'Cpu_Intel Core i7 6500U 2.5GHz',\n",
       " 'Cpu_Intel Core i7 6560U 2.2GHz',\n",
       " 'Cpu_Intel Core i7 6600U 2.6GHz',\n",
       " 'Cpu_Intel Core i7 6700HQ 2.6GHz',\n",
       " 'Cpu_Intel Core i7 6820HK 2.7GHz',\n",
       " 'Cpu_Intel Core i7 6820HQ 2.7GHz',\n",
       " 'Cpu_Intel Core i7 6920HQ 2.9GHz',\n",
       " 'Cpu_Intel Core i7 7500U 2.5GHz',\n",
       " 'Cpu_Intel Core i7 7500U 2.7GHz',\n",
       " 'Cpu_Intel Core i7 7560U 2.4GHz',\n",
       " 'Cpu_Intel Core i7 7600U 2.8GHz',\n",
       " 'Cpu_Intel Core i7 7660U 2.5GHz',\n",
       " 'Cpu_Intel Core i7 7700HQ 2.7GHz',\n",
       " 'Cpu_Intel Core i7 7700HQ 2.8GHz',\n",
       " 'Cpu_Intel Core i7 7820HK 2.9GHz',\n",
       " 'Cpu_Intel Core i7 7820HQ 2.9GHz',\n",
       " 'Cpu_Intel Core i7 7Y75 1.3GHz',\n",
       " 'Cpu_Intel Core i7 8550U 1.8GHz',\n",
       " 'Cpu_Intel Core i7 8650U 1.9GHz',\n",
       " 'Cpu_Intel Pentium Dual Core 4405U 2.1GHz',\n",
       " 'Cpu_Intel Pentium Dual Core 4405Y 1.5GHz',\n",
       " 'Cpu_Intel Pentium Dual Core N4200 1.1GHz',\n",
       " 'Cpu_Intel Pentium Quad Core N3700 1.6GHz',\n",
       " 'Cpu_Intel Pentium Quad Core N3710 1.6GHz',\n",
       " 'Cpu_Intel Pentium Quad Core N4200 1.1GHz',\n",
       " 'Cpu_Intel Xeon E3-1505M V6 3GHz',\n",
       " 'Cpu_Intel Xeon E3-1535M v5 2.9GHz',\n",
       " 'Memory_1.0TB HDD',\n",
       " 'Memory_1.0TB Hybrid',\n",
       " 'Memory_128GB Flash Storage',\n",
       " 'Memory_128GB HDD',\n",
       " 'Memory_128GB SSD',\n",
       " 'Memory_128GB SSD +  1TB HDD',\n",
       " 'Memory_128GB SSD +  2TB HDD',\n",
       " 'Memory_16GB Flash Storage',\n",
       " 'Memory_16GB SSD',\n",
       " 'Memory_180GB SSD',\n",
       " 'Memory_1TB HDD',\n",
       " 'Memory_1TB HDD +  1TB HDD',\n",
       " 'Memory_1TB SSD',\n",
       " 'Memory_1TB SSD +  1TB HDD',\n",
       " 'Memory_240GB SSD',\n",
       " 'Memory_256GB Flash Storage',\n",
       " 'Memory_256GB SSD',\n",
       " 'Memory_256GB SSD +  1TB HDD',\n",
       " 'Memory_256GB SSD +  256GB SSD',\n",
       " 'Memory_256GB SSD +  2TB HDD',\n",
       " 'Memory_256GB SSD +  500GB HDD',\n",
       " 'Memory_2TB HDD',\n",
       " 'Memory_32GB Flash Storage',\n",
       " 'Memory_32GB HDD',\n",
       " 'Memory_32GB SSD',\n",
       " 'Memory_500GB HDD',\n",
       " 'Memory_508GB Hybrid',\n",
       " 'Memory_512GB Flash Storage',\n",
       " 'Memory_512GB SSD',\n",
       " 'Memory_512GB SSD +  1TB HDD',\n",
       " 'Memory_512GB SSD +  256GB SSD',\n",
       " 'Memory_512GB SSD +  2TB HDD',\n",
       " 'Memory_512GB SSD +  512GB SSD',\n",
       " 'Memory_64GB Flash Storage',\n",
       " 'Memory_64GB Flash Storage +  1TB HDD',\n",
       " 'Memory_64GB SSD',\n",
       " 'Memory_8GB SSD',\n",
       " 'Gpu_AMD FirePro W4190M',\n",
       " 'Gpu_AMD FirePro W4190M ',\n",
       " 'Gpu_AMD FirePro W5130M',\n",
       " 'Gpu_AMD FirePro W6150M',\n",
       " 'Gpu_AMD R17M-M1-70',\n",
       " 'Gpu_AMD R4 Graphics',\n",
       " 'Gpu_AMD Radeon 520',\n",
       " 'Gpu_AMD Radeon 530',\n",
       " 'Gpu_AMD Radeon 540',\n",
       " 'Gpu_AMD Radeon Pro 455',\n",
       " 'Gpu_AMD Radeon Pro 555',\n",
       " 'Gpu_AMD Radeon R2',\n",
       " 'Gpu_AMD Radeon R2 Graphics',\n",
       " 'Gpu_AMD Radeon R4',\n",
       " 'Gpu_AMD Radeon R4 Graphics',\n",
       " 'Gpu_AMD Radeon R5',\n",
       " 'Gpu_AMD Radeon R5 430',\n",
       " 'Gpu_AMD Radeon R5 520',\n",
       " 'Gpu_AMD Radeon R5 M315',\n",
       " 'Gpu_AMD Radeon R5 M330',\n",
       " 'Gpu_AMD Radeon R5 M420',\n",
       " 'Gpu_AMD Radeon R5 M420X',\n",
       " 'Gpu_AMD Radeon R5 M430',\n",
       " 'Gpu_AMD Radeon R7',\n",
       " 'Gpu_AMD Radeon R7 M365X',\n",
       " 'Gpu_AMD Radeon R7 M440',\n",
       " 'Gpu_AMD Radeon R7 M445',\n",
       " 'Gpu_AMD Radeon R7 M460',\n",
       " 'Gpu_AMD Radeon RX 540',\n",
       " 'Gpu_AMD Radeon RX 550',\n",
       " 'Gpu_AMD Radeon RX 560',\n",
       " 'Gpu_AMD Radeon RX 580',\n",
       " 'Gpu_Intel Graphics 620',\n",
       " 'Gpu_Intel HD Graphics',\n",
       " 'Gpu_Intel HD Graphics 400',\n",
       " 'Gpu_Intel HD Graphics 405',\n",
       " 'Gpu_Intel HD Graphics 500',\n",
       " 'Gpu_Intel HD Graphics 505',\n",
       " 'Gpu_Intel HD Graphics 510',\n",
       " 'Gpu_Intel HD Graphics 515',\n",
       " 'Gpu_Intel HD Graphics 520',\n",
       " 'Gpu_Intel HD Graphics 5300',\n",
       " 'Gpu_Intel HD Graphics 540',\n",
       " 'Gpu_Intel HD Graphics 6000',\n",
       " 'Gpu_Intel HD Graphics 615',\n",
       " 'Gpu_Intel HD Graphics 620',\n",
       " 'Gpu_Intel HD Graphics 620 ',\n",
       " 'Gpu_Intel HD Graphics 630',\n",
       " 'Gpu_Intel Iris Graphics 540',\n",
       " 'Gpu_Intel Iris Graphics 550',\n",
       " 'Gpu_Intel Iris Plus Graphics 640',\n",
       " 'Gpu_Intel Iris Plus Graphics 650',\n",
       " 'Gpu_Intel Iris Pro Graphics',\n",
       " 'Gpu_Intel UHD Graphics 620',\n",
       " 'Gpu_Nvidia GTX 980 SLI',\n",
       " 'Gpu_Nvidia GeForce 150MX',\n",
       " 'Gpu_Nvidia GeForce 920M',\n",
       " 'Gpu_Nvidia GeForce 920MX',\n",
       " 'Gpu_Nvidia GeForce 920MX ',\n",
       " 'Gpu_Nvidia GeForce 930M',\n",
       " 'Gpu_Nvidia GeForce 930MX',\n",
       " 'Gpu_Nvidia GeForce 930MX ',\n",
       " 'Gpu_Nvidia GeForce 940MX',\n",
       " 'Gpu_Nvidia GeForce GT 940MX',\n",
       " 'Gpu_Nvidia GeForce GTX 1050',\n",
       " 'Gpu_Nvidia GeForce GTX 1050 Ti',\n",
       " 'Gpu_Nvidia GeForce GTX 1050M',\n",
       " 'Gpu_Nvidia GeForce GTX 1050Ti',\n",
       " 'Gpu_Nvidia GeForce GTX 1060',\n",
       " 'Gpu_Nvidia GeForce GTX 1070',\n",
       " 'Gpu_Nvidia GeForce GTX 1070M',\n",
       " 'Gpu_Nvidia GeForce GTX 1080',\n",
       " 'Gpu_Nvidia GeForce GTX 940M',\n",
       " 'Gpu_Nvidia GeForce GTX 940MX',\n",
       " 'Gpu_Nvidia GeForce GTX 950M',\n",
       " 'Gpu_Nvidia GeForce GTX 960',\n",
       " 'Gpu_Nvidia GeForce GTX 960<U+039C>',\n",
       " 'Gpu_Nvidia GeForce GTX 960M',\n",
       " 'Gpu_Nvidia GeForce GTX 965M',\n",
       " 'Gpu_Nvidia GeForce GTX 970M',\n",
       " 'Gpu_Nvidia GeForce GTX 980 ',\n",
       " 'Gpu_Nvidia GeForce GTX 980M',\n",
       " 'Gpu_Nvidia GeForce GTX1050 Ti',\n",
       " 'Gpu_Nvidia GeForce MX130',\n",
       " 'Gpu_Nvidia GeForce MX150',\n",
       " 'Gpu_Nvidia Quadro M1000M',\n",
       " 'Gpu_Nvidia Quadro M1200',\n",
       " 'Gpu_Nvidia Quadro M2000M',\n",
       " 'Gpu_Nvidia Quadro M2200M',\n",
       " 'Gpu_Nvidia Quadro M3000M',\n",
       " 'Gpu_Nvidia Quadro M500M',\n",
       " 'Gpu_Nvidia Quadro M620',\n",
       " 'Gpu_Nvidia Quadro M620M']"
      ]
     },
     "execution_count": 57,
     "metadata": {},
     "output_type": "execute_result"
    }
   ],
   "source": [
    "feat_sel = list(df.columns)\n",
    "col_drop = [\"Product\", \"inches\", \"weight_kg\"]\n",
    "\n",
    "for col in feat_sel:\n",
    "    if col in col_drop:\n",
    "        feat_sel.remove(col)\n",
    "\n",
    "feat_sel"
   ]
  },
  {
   "cell_type": "markdown",
   "metadata": {},
   "source": [
    "Nuestro target es la columna `Price_in_euros`"
   ]
  },
  {
   "cell_type": "markdown",
   "metadata": {},
   "source": [
    "-----------------------------------------------------------------------------------------------------------------"
   ]
  },
  {
   "cell_type": "markdown",
   "metadata": {},
   "source": [
    "## Modelado"
   ]
  },
  {
   "cell_type": "markdown",
   "metadata": {},
   "source": [
    "### 1. Definir X e y"
   ]
  },
  {
   "cell_type": "code",
   "execution_count": 58,
   "metadata": {},
   "outputs": [],
   "source": [
    "X = df[feat_sel].drop(columns = [target])\n",
    "y = df[target]"
   ]
  },
  {
   "cell_type": "markdown",
   "metadata": {},
   "source": [
    "### 2. Dividir X_train, X_test, y_train, y_test"
   ]
  },
  {
   "cell_type": "code",
   "execution_count": 59,
   "metadata": {},
   "outputs": [],
   "source": [
    "X_train, X_test, y_train, y_test = train_test_split(X, y, test_size = 0.20, random_state = 42)"
   ]
  },
  {
   "cell_type": "code",
   "execution_count": 60,
   "metadata": {},
   "outputs": [
    {
     "data": {
      "text/html": [
       "<div>\n",
       "<style scoped>\n",
       "    .dataframe tbody tr th:only-of-type {\n",
       "        vertical-align: middle;\n",
       "    }\n",
       "\n",
       "    .dataframe tbody tr th {\n",
       "        vertical-align: top;\n",
       "    }\n",
       "\n",
       "    .dataframe thead th {\n",
       "        text-align: right;\n",
       "    }\n",
       "</style>\n",
       "<table border=\"1\" class=\"dataframe\">\n",
       "  <thead>\n",
       "    <tr style=\"text-align: right;\">\n",
       "      <th></th>\n",
       "      <th>Company</th>\n",
       "      <th>TypeName</th>\n",
       "      <th>OpSys</th>\n",
       "      <th>ram_gb</th>\n",
       "      <th>ScreenResolution_1366x768</th>\n",
       "      <th>ScreenResolution_1440x900</th>\n",
       "      <th>ScreenResolution_1600x900</th>\n",
       "      <th>ScreenResolution_1920x1080</th>\n",
       "      <th>ScreenResolution_2560x1440</th>\n",
       "      <th>ScreenResolution_4K Ultra HD / Touchscreen 3840x2160</th>\n",
       "      <th>...</th>\n",
       "      <th>Gpu_Nvidia GeForce MX130</th>\n",
       "      <th>Gpu_Nvidia GeForce MX150</th>\n",
       "      <th>Gpu_Nvidia Quadro M1000M</th>\n",
       "      <th>Gpu_Nvidia Quadro M1200</th>\n",
       "      <th>Gpu_Nvidia Quadro M2000M</th>\n",
       "      <th>Gpu_Nvidia Quadro M2200M</th>\n",
       "      <th>Gpu_Nvidia Quadro M3000M</th>\n",
       "      <th>Gpu_Nvidia Quadro M500M</th>\n",
       "      <th>Gpu_Nvidia Quadro M620</th>\n",
       "      <th>Gpu_Nvidia Quadro M620M</th>\n",
       "    </tr>\n",
       "  </thead>\n",
       "  <tbody>\n",
       "    <tr>\n",
       "      <th>112</th>\n",
       "      <td>5</td>\n",
       "      <td>1</td>\n",
       "      <td>4</td>\n",
       "      <td>8</td>\n",
       "      <td>0</td>\n",
       "      <td>0</td>\n",
       "      <td>0</td>\n",
       "      <td>0</td>\n",
       "      <td>0</td>\n",
       "      <td>0</td>\n",
       "      <td>...</td>\n",
       "      <td>0</td>\n",
       "      <td>0</td>\n",
       "      <td>0</td>\n",
       "      <td>0</td>\n",
       "      <td>0</td>\n",
       "      <td>0</td>\n",
       "      <td>0</td>\n",
       "      <td>0</td>\n",
       "      <td>0</td>\n",
       "      <td>0</td>\n",
       "    </tr>\n",
       "    <tr>\n",
       "      <th>13</th>\n",
       "      <td>11</td>\n",
       "      <td>4</td>\n",
       "      <td>8</td>\n",
       "      <td>16</td>\n",
       "      <td>0</td>\n",
       "      <td>0</td>\n",
       "      <td>0</td>\n",
       "      <td>0</td>\n",
       "      <td>0</td>\n",
       "      <td>0</td>\n",
       "      <td>...</td>\n",
       "      <td>0</td>\n",
       "      <td>0</td>\n",
       "      <td>0</td>\n",
       "      <td>0</td>\n",
       "      <td>0</td>\n",
       "      <td>0</td>\n",
       "      <td>0</td>\n",
       "      <td>0</td>\n",
       "      <td>0</td>\n",
       "      <td>0</td>\n",
       "    </tr>\n",
       "    <tr>\n",
       "      <th>1190</th>\n",
       "      <td>6</td>\n",
       "      <td>1</td>\n",
       "      <td>4</td>\n",
       "      <td>4</td>\n",
       "      <td>1</td>\n",
       "      <td>0</td>\n",
       "      <td>0</td>\n",
       "      <td>0</td>\n",
       "      <td>0</td>\n",
       "      <td>0</td>\n",
       "      <td>...</td>\n",
       "      <td>0</td>\n",
       "      <td>0</td>\n",
       "      <td>0</td>\n",
       "      <td>0</td>\n",
       "      <td>0</td>\n",
       "      <td>0</td>\n",
       "      <td>0</td>\n",
       "      <td>0</td>\n",
       "      <td>0</td>\n",
       "      <td>0</td>\n",
       "    </tr>\n",
       "    <tr>\n",
       "      <th>55</th>\n",
       "      <td>3</td>\n",
       "      <td>1</td>\n",
       "      <td>4</td>\n",
       "      <td>4</td>\n",
       "      <td>1</td>\n",
       "      <td>0</td>\n",
       "      <td>0</td>\n",
       "      <td>0</td>\n",
       "      <td>0</td>\n",
       "      <td>0</td>\n",
       "      <td>...</td>\n",
       "      <td>0</td>\n",
       "      <td>0</td>\n",
       "      <td>0</td>\n",
       "      <td>0</td>\n",
       "      <td>0</td>\n",
       "      <td>0</td>\n",
       "      <td>0</td>\n",
       "      <td>0</td>\n",
       "      <td>0</td>\n",
       "      <td>0</td>\n",
       "    </tr>\n",
       "    <tr>\n",
       "      <th>1043</th>\n",
       "      <td>7</td>\n",
       "      <td>1</td>\n",
       "      <td>4</td>\n",
       "      <td>8</td>\n",
       "      <td>0</td>\n",
       "      <td>0</td>\n",
       "      <td>0</td>\n",
       "      <td>0</td>\n",
       "      <td>0</td>\n",
       "      <td>0</td>\n",
       "      <td>...</td>\n",
       "      <td>0</td>\n",
       "      <td>0</td>\n",
       "      <td>0</td>\n",
       "      <td>0</td>\n",
       "      <td>0</td>\n",
       "      <td>0</td>\n",
       "      <td>0</td>\n",
       "      <td>0</td>\n",
       "      <td>0</td>\n",
       "      <td>0</td>\n",
       "    </tr>\n",
       "  </tbody>\n",
       "</table>\n",
       "<p>5 rows × 277 columns</p>\n",
       "</div>"
      ],
      "text/plain": [
       "      Company  TypeName  OpSys  ram_gb  ScreenResolution_1366x768  \\\n",
       "112         5         1      4       8                          0   \n",
       "13         11         4      8      16                          0   \n",
       "1190        6         1      4       4                          1   \n",
       "55          3         1      4       4                          1   \n",
       "1043        7         1      4       8                          0   \n",
       "\n",
       "      ScreenResolution_1440x900  ScreenResolution_1600x900  \\\n",
       "112                           0                          0   \n",
       "13                            0                          0   \n",
       "1190                          0                          0   \n",
       "55                            0                          0   \n",
       "1043                          0                          0   \n",
       "\n",
       "      ScreenResolution_1920x1080  ScreenResolution_2560x1440  \\\n",
       "112                            0                           0   \n",
       "13                             0                           0   \n",
       "1190                           0                           0   \n",
       "55                             0                           0   \n",
       "1043                           0                           0   \n",
       "\n",
       "      ScreenResolution_4K Ultra HD / Touchscreen 3840x2160  ...  \\\n",
       "112                                                   0     ...   \n",
       "13                                                    0     ...   \n",
       "1190                                                  0     ...   \n",
       "55                                                    0     ...   \n",
       "1043                                                  0     ...   \n",
       "\n",
       "      Gpu_Nvidia GeForce MX130  Gpu_Nvidia GeForce MX150  \\\n",
       "112                          0                         0   \n",
       "13                           0                         0   \n",
       "1190                         0                         0   \n",
       "55                           0                         0   \n",
       "1043                         0                         0   \n",
       "\n",
       "      Gpu_Nvidia Quadro M1000M  Gpu_Nvidia Quadro M1200  \\\n",
       "112                          0                        0   \n",
       "13                           0                        0   \n",
       "1190                         0                        0   \n",
       "55                           0                        0   \n",
       "1043                         0                        0   \n",
       "\n",
       "      Gpu_Nvidia Quadro M2000M  Gpu_Nvidia Quadro M2200M  \\\n",
       "112                          0                         0   \n",
       "13                           0                         0   \n",
       "1190                         0                         0   \n",
       "55                           0                         0   \n",
       "1043                         0                         0   \n",
       "\n",
       "      Gpu_Nvidia Quadro M3000M  Gpu_Nvidia Quadro M500M  \\\n",
       "112                          0                        0   \n",
       "13                           0                        0   \n",
       "1190                         0                        0   \n",
       "55                           0                        0   \n",
       "1043                         0                        0   \n",
       "\n",
       "      Gpu_Nvidia Quadro M620  Gpu_Nvidia Quadro M620M  \n",
       "112                        0                        0  \n",
       "13                         0                        0  \n",
       "1190                       0                        0  \n",
       "55                         0                        0  \n",
       "1043                       0                        0  \n",
       "\n",
       "[5 rows x 277 columns]"
      ]
     },
     "execution_count": 60,
     "metadata": {},
     "output_type": "execute_result"
    }
   ],
   "source": [
    "X_train.head()"
   ]
  },
  {
   "cell_type": "code",
   "execution_count": 61,
   "metadata": {},
   "outputs": [
    {
     "data": {
      "text/plain": [
       "112     1480.00\n",
       "13      2439.97\n",
       "1190     369.00\n",
       "55       384.00\n",
       "1043    1080.00\n",
       "Name: Price_in_euros, dtype: float64"
      ]
     },
     "execution_count": 61,
     "metadata": {},
     "output_type": "execute_result"
    }
   ],
   "source": [
    "y_train.head()"
   ]
  },
  {
   "cell_type": "code",
   "execution_count": 62,
   "metadata": {},
   "outputs": [],
   "source": [
    "X_train.columns = X_train.columns.str.replace(r'[\\[\\]<>]', '', regex=True)\n",
    "X_train.columns = X_train.columns.astype(str)\n",
    "\n",
    "X_test.columns = X_test.columns.str.replace(r'[\\[\\]<>]', '', regex=True)\n",
    "X_test.columns = X_test.columns.astype(str)"
   ]
  },
  {
   "cell_type": "markdown",
   "metadata": {},
   "source": [
    "### 3. Baseline de modelos\n"
   ]
  },
  {
   "cell_type": "code",
   "execution_count": 63,
   "metadata": {},
   "outputs": [
    {
     "name": "stdout",
     "output_type": "stream",
     "text": [
      "{'model': 'Random Forest', 'RSME': -317.594531373032}\n",
      "{'model': 'XGBoost', 'RSME': -336.1754998798}\n",
      "{'model': 'LightGBM', 'RSME': -383.92352879557404}\n"
     ]
    },
    {
     "data": {
      "text/html": [
       "<div>\n",
       "<style scoped>\n",
       "    .dataframe tbody tr th:only-of-type {\n",
       "        vertical-align: middle;\n",
       "    }\n",
       "\n",
       "    .dataframe tbody tr th {\n",
       "        vertical-align: top;\n",
       "    }\n",
       "\n",
       "    .dataframe thead th {\n",
       "        text-align: right;\n",
       "    }\n",
       "</style>\n",
       "<table border=\"1\" class=\"dataframe\">\n",
       "  <thead>\n",
       "    <tr style=\"text-align: right;\">\n",
       "      <th></th>\n",
       "      <th>model</th>\n",
       "      <th>RSME</th>\n",
       "    </tr>\n",
       "  </thead>\n",
       "  <tbody>\n",
       "    <tr>\n",
       "      <th>0</th>\n",
       "      <td>Random Forest</td>\n",
       "      <td>-317.594531</td>\n",
       "    </tr>\n",
       "    <tr>\n",
       "      <th>1</th>\n",
       "      <td>XGBoost</td>\n",
       "      <td>-336.175500</td>\n",
       "    </tr>\n",
       "    <tr>\n",
       "      <th>2</th>\n",
       "      <td>LightGBM</td>\n",
       "      <td>-383.923529</td>\n",
       "    </tr>\n",
       "  </tbody>\n",
       "</table>\n",
       "</div>"
      ],
      "text/plain": [
       "           model        RSME\n",
       "0  Random Forest -317.594531\n",
       "1        XGBoost -336.175500\n",
       "2       LightGBM -383.923529"
      ]
     },
     "execution_count": 63,
     "metadata": {},
     "output_type": "execute_result"
    }
   ],
   "source": [
    "model_names = [\"Random Forest\", \"XGBoost\", \"LightGBM\"]\n",
    "rf_reg = RandomForestRegressor(random_state = 42)\n",
    "xg_reg = XGBRFRegressor(random_state = 42)\n",
    "lgb_reg = LGBMRegressor(random_state = 42, verbose = -100, n_jobs = -1)\n",
    "models = [rf_reg, xg_reg, lgb_reg]\n",
    "\n",
    "resultados = []\n",
    "\n",
    "for model_name, modelo in zip(model_names, models):\n",
    "    metrica = np.mean(cross_val_score(modelo, X_train, y_train, cv = 5, scoring  = \"neg_root_mean_squared_error\"))\n",
    "    data = {\n",
    "        \"model\": model_name,\n",
    "        \"RSME\": metrica\n",
    "    }\n",
    "    print(data)\n",
    "    resultados.append(data.copy())\n",
    "df_resultados = pd.DataFrame(resultados)\n",
    "df_resultados.sort_values(\"RSME\", ascending = False)"
   ]
  },
  {
   "cell_type": "code",
   "execution_count": 64,
   "metadata": {},
   "outputs": [],
   "source": [
    "# cat_reg = CatBoostRegressor(n_estimators = 100, depth = 5, learning_rate = 0.5, verbose = 100)\n",
    "\n",
    "# cat_reg.fit(X_train, y_train)"
   ]
  },
  {
   "cell_type": "code",
   "execution_count": 65,
   "metadata": {},
   "outputs": [],
   "source": [
    "# rfmodel = RandomForestRegressor(max_depth = 10)\n",
    "\n",
    "# rfmodel.fit(X_train, y_train)"
   ]
  },
  {
   "cell_type": "code",
   "execution_count": 66,
   "metadata": {},
   "outputs": [],
   "source": [
    "rf_reg.fit(X_train, y_train)\n",
    "y_pred = rf_reg.predict(X_test)"
   ]
  },
  {
   "cell_type": "code",
   "execution_count": 67,
   "metadata": {},
   "outputs": [],
   "source": [
    "xg_reg.fit(X_train, y_train)\n",
    "y_pred = xg_reg.predict(X_test)"
   ]
  },
  {
   "cell_type": "code",
   "execution_count": 68,
   "metadata": {},
   "outputs": [],
   "source": [
    "lgb_reg.fit(X_train, y_train)\n",
    "y_pred = lgb_reg.predict(X_test)"
   ]
  },
  {
   "cell_type": "code",
   "execution_count": 69,
   "metadata": {},
   "outputs": [],
   "source": [
    "# y_pred = rfmodel.predict(X_test)"
   ]
  },
  {
   "cell_type": "markdown",
   "metadata": {},
   "source": [
    "### 4. Sacar métricas, valorar los modelos \n",
    "\n",
    "Recuerda que en la competición se va a evaluar con la métrica de ``RMSE``."
   ]
  },
  {
   "cell_type": "code",
   "execution_count": 70,
   "metadata": {},
   "outputs": [
    {
     "name": "stdout",
     "output_type": "stream",
     "text": [
      "356.6002379045727\n"
     ]
    }
   ],
   "source": [
    "print(np.sqrt(mean_squared_error(y_test, y_pred)))"
   ]
  },
  {
   "cell_type": "code",
   "execution_count": 71,
   "metadata": {},
   "outputs": [],
   "source": [
    "param_grid = {\n",
    "    'n_estimators': [200, 500, 800, 1000],\n",
    "    'max_depth': [10, 20, 30, None],\n",
    "    'min_samples_split': [2, 5, 10],\n",
    "    'min_samples_leaf': [1, 2, 8],\n",
    "    'bootstrap': [True, False]\n",
    "}\n",
    "\n",
    "grid_model = GridSearchCV(rf_reg, param_grid = param_grid, scoring = \"neg_root_mean_squared_error\", cv = 5, n_jobs= -1)\n",
    "\n",
    "grid_model.fit(X_train, y_train)\n",
    "\n",
    "grid_model.best_score_\n",
    "best_model = grid_model.best_estimator_"
   ]
  },
  {
   "cell_type": "code",
   "execution_count": null,
   "metadata": {},
   "outputs": [],
   "source": []
  },
  {
   "cell_type": "markdown",
   "metadata": {},
   "source": [
    "-----------------------------------------------------------------"
   ]
  },
  {
   "cell_type": "markdown",
   "metadata": {},
   "source": [
    "## Una vez listo el modelo, toca predecir ``test.csv``"
   ]
  },
  {
   "cell_type": "markdown",
   "metadata": {},
   "source": [
    "**RECUERDA: APLICAR LAS TRANSFORMACIONES QUE HAYAS REALIZADO EN `train.csv` a `test.csv`.**\n",
    "\n",
    "\n",
    "Véase:\n",
    "- Estandarización/Normalización\n",
    "- Eliminación de Outliers\n",
    "- Eliminación de columnas\n",
    "- Creación de columnas nuevas\n",
    "- Gestión de valores nulos\n",
    "- Y un largo etcétera de técnicas que como Data Scientist hayas considerado las mejores para tu dataset."
   ]
  },
  {
   "cell_type": "markdown",
   "metadata": {},
   "source": [
    "### 1. Carga los datos de `test.csv` para predecir.\n"
   ]
  },
  {
   "cell_type": "code",
   "execution_count": 87,
   "metadata": {},
   "outputs": [
    {
     "data": {
      "text/html": [
       "<div>\n",
       "<style scoped>\n",
       "    .dataframe tbody tr th:only-of-type {\n",
       "        vertical-align: middle;\n",
       "    }\n",
       "\n",
       "    .dataframe tbody tr th {\n",
       "        vertical-align: top;\n",
       "    }\n",
       "\n",
       "    .dataframe thead th {\n",
       "        text-align: right;\n",
       "    }\n",
       "</style>\n",
       "<table border=\"1\" class=\"dataframe\">\n",
       "  <thead>\n",
       "    <tr style=\"text-align: right;\">\n",
       "      <th></th>\n",
       "      <th>Company</th>\n",
       "      <th>Product</th>\n",
       "      <th>TypeName</th>\n",
       "      <th>Inches</th>\n",
       "      <th>ScreenResolution</th>\n",
       "      <th>Cpu</th>\n",
       "      <th>Ram</th>\n",
       "      <th>Memory</th>\n",
       "      <th>Gpu</th>\n",
       "      <th>OpSys</th>\n",
       "      <th>Weight</th>\n",
       "    </tr>\n",
       "  </thead>\n",
       "  <tbody>\n",
       "    <tr>\n",
       "      <th>209</th>\n",
       "      <td>Lenovo</td>\n",
       "      <td>Legion Y520-15IKBN</td>\n",
       "      <td>Gaming</td>\n",
       "      <td>15.6</td>\n",
       "      <td>Full HD 1920x1080</td>\n",
       "      <td>Intel Core i7 7700HQ 2.8GHz</td>\n",
       "      <td>16GB</td>\n",
       "      <td>512GB SSD</td>\n",
       "      <td>Nvidia GeForce GTX 1060</td>\n",
       "      <td>No OS</td>\n",
       "      <td>2.4kg</td>\n",
       "    </tr>\n",
       "    <tr>\n",
       "      <th>1281</th>\n",
       "      <td>Acer</td>\n",
       "      <td>Aspire ES1-531</td>\n",
       "      <td>Notebook</td>\n",
       "      <td>15.6</td>\n",
       "      <td>1366x768</td>\n",
       "      <td>Intel Celeron Dual Core N3060 1.6GHz</td>\n",
       "      <td>4GB</td>\n",
       "      <td>500GB HDD</td>\n",
       "      <td>Intel HD Graphics 400</td>\n",
       "      <td>Linux</td>\n",
       "      <td>2.4kg</td>\n",
       "    </tr>\n",
       "    <tr>\n",
       "      <th>1168</th>\n",
       "      <td>Lenovo</td>\n",
       "      <td>V110-15ISK (i3-6006U/4GB/1TB/No</td>\n",
       "      <td>Notebook</td>\n",
       "      <td>15.6</td>\n",
       "      <td>1366x768</td>\n",
       "      <td>Intel Core i3 6006U 2.0GHz</td>\n",
       "      <td>4GB</td>\n",
       "      <td>1TB HDD</td>\n",
       "      <td>Intel HD Graphics 520</td>\n",
       "      <td>No OS</td>\n",
       "      <td>1.9kg</td>\n",
       "    </tr>\n",
       "    <tr>\n",
       "      <th>1231</th>\n",
       "      <td>Dell</td>\n",
       "      <td>Inspiron 7579</td>\n",
       "      <td>2 in 1 Convertible</td>\n",
       "      <td>15.6</td>\n",
       "      <td>IPS Panel Full HD / Touchscreen 1920x1080</td>\n",
       "      <td>Intel Core i5 7200U 2.5GHz</td>\n",
       "      <td>8GB</td>\n",
       "      <td>256GB SSD</td>\n",
       "      <td>Intel HD Graphics 620</td>\n",
       "      <td>Windows 10</td>\n",
       "      <td>2.191kg</td>\n",
       "    </tr>\n",
       "    <tr>\n",
       "      <th>1020</th>\n",
       "      <td>HP</td>\n",
       "      <td>ProBook 640</td>\n",
       "      <td>Notebook</td>\n",
       "      <td>14.0</td>\n",
       "      <td>Full HD 1920x1080</td>\n",
       "      <td>Intel Core i5 7200U 2.5GHz</td>\n",
       "      <td>4GB</td>\n",
       "      <td>256GB SSD</td>\n",
       "      <td>Intel HD Graphics 620</td>\n",
       "      <td>Windows 10</td>\n",
       "      <td>1.95kg</td>\n",
       "    </tr>\n",
       "  </tbody>\n",
       "</table>\n",
       "</div>"
      ],
      "text/plain": [
       "     Company                          Product            TypeName  Inches  \\\n",
       "209   Lenovo               Legion Y520-15IKBN              Gaming    15.6   \n",
       "1281    Acer                   Aspire ES1-531            Notebook    15.6   \n",
       "1168  Lenovo  V110-15ISK (i3-6006U/4GB/1TB/No            Notebook    15.6   \n",
       "1231    Dell                    Inspiron 7579  2 in 1 Convertible    15.6   \n",
       "1020      HP                      ProBook 640            Notebook    14.0   \n",
       "\n",
       "                               ScreenResolution  \\\n",
       "209                           Full HD 1920x1080   \n",
       "1281                                   1366x768   \n",
       "1168                                   1366x768   \n",
       "1231  IPS Panel Full HD / Touchscreen 1920x1080   \n",
       "1020                          Full HD 1920x1080   \n",
       "\n",
       "                                       Cpu   Ram     Memory  \\\n",
       "209            Intel Core i7 7700HQ 2.8GHz  16GB  512GB SSD   \n",
       "1281  Intel Celeron Dual Core N3060 1.6GHz   4GB  500GB HDD   \n",
       "1168            Intel Core i3 6006U 2.0GHz   4GB    1TB HDD   \n",
       "1231            Intel Core i5 7200U 2.5GHz   8GB  256GB SSD   \n",
       "1020            Intel Core i5 7200U 2.5GHz   4GB  256GB SSD   \n",
       "\n",
       "                          Gpu       OpSys   Weight  \n",
       "209   Nvidia GeForce GTX 1060       No OS    2.4kg  \n",
       "1281    Intel HD Graphics 400       Linux    2.4kg  \n",
       "1168    Intel HD Graphics 520       No OS    1.9kg  \n",
       "1231    Intel HD Graphics 620  Windows 10  2.191kg  \n",
       "1020    Intel HD Graphics 620  Windows 10   1.95kg  "
      ]
     },
     "execution_count": 87,
     "metadata": {},
     "output_type": "execute_result"
    }
   ],
   "source": [
    "X_pred = pd.read_csv(\"data/test.csv\", index_col = 0)\n",
    "X_pred.index.name = None\n",
    "X_pred.head()"
   ]
  },
  {
   "cell_type": "code",
   "execution_count": 88,
   "metadata": {},
   "outputs": [
    {
     "data": {
      "text/html": [
       "<div>\n",
       "<style scoped>\n",
       "    .dataframe tbody tr th:only-of-type {\n",
       "        vertical-align: middle;\n",
       "    }\n",
       "\n",
       "    .dataframe tbody tr th {\n",
       "        vertical-align: top;\n",
       "    }\n",
       "\n",
       "    .dataframe thead th {\n",
       "        text-align: right;\n",
       "    }\n",
       "</style>\n",
       "<table border=\"1\" class=\"dataframe\">\n",
       "  <thead>\n",
       "    <tr style=\"text-align: right;\">\n",
       "      <th></th>\n",
       "      <th>Company</th>\n",
       "      <th>Product</th>\n",
       "      <th>TypeName</th>\n",
       "      <th>Inches</th>\n",
       "      <th>ScreenResolution</th>\n",
       "      <th>Cpu</th>\n",
       "      <th>Ram</th>\n",
       "      <th>Memory</th>\n",
       "      <th>Gpu</th>\n",
       "      <th>OpSys</th>\n",
       "      <th>Weight</th>\n",
       "    </tr>\n",
       "  </thead>\n",
       "  <tbody>\n",
       "    <tr>\n",
       "      <th>820</th>\n",
       "      <td>MSI</td>\n",
       "      <td>GE72MVR 7RG</td>\n",
       "      <td>Gaming</td>\n",
       "      <td>17.3</td>\n",
       "      <td>Full HD 1920x1080</td>\n",
       "      <td>Intel Core i7 7700HQ 2.8GHz</td>\n",
       "      <td>16GB</td>\n",
       "      <td>512GB SSD +  1TB HDD</td>\n",
       "      <td>Nvidia GeForce GTX 1070</td>\n",
       "      <td>Windows 10</td>\n",
       "      <td>2.9kg</td>\n",
       "    </tr>\n",
       "    <tr>\n",
       "      <th>948</th>\n",
       "      <td>Toshiba</td>\n",
       "      <td>Tecra Z40-C-12X</td>\n",
       "      <td>Notebook</td>\n",
       "      <td>14.0</td>\n",
       "      <td>IPS Panel Full HD 1920x1080</td>\n",
       "      <td>Intel Core i5 6200U 2.3GHz</td>\n",
       "      <td>4GB</td>\n",
       "      <td>128GB SSD</td>\n",
       "      <td>Intel HD Graphics 520</td>\n",
       "      <td>Windows 10</td>\n",
       "      <td>1.47kg</td>\n",
       "    </tr>\n",
       "    <tr>\n",
       "      <th>483</th>\n",
       "      <td>Dell</td>\n",
       "      <td>Precision M5520</td>\n",
       "      <td>Workstation</td>\n",
       "      <td>15.6</td>\n",
       "      <td>Full HD 1920x1080</td>\n",
       "      <td>Intel Core i7 7700HQ 2.8GHz</td>\n",
       "      <td>8GB</td>\n",
       "      <td>256GB SSD</td>\n",
       "      <td>Nvidia Quadro M1200</td>\n",
       "      <td>Windows 10</td>\n",
       "      <td>1.78kg</td>\n",
       "    </tr>\n",
       "    <tr>\n",
       "      <th>1017</th>\n",
       "      <td>HP</td>\n",
       "      <td>Probook 440</td>\n",
       "      <td>Notebook</td>\n",
       "      <td>14.0</td>\n",
       "      <td>1366x768</td>\n",
       "      <td>Intel Core i5 7200U 2.5GHz</td>\n",
       "      <td>4GB</td>\n",
       "      <td>500GB HDD</td>\n",
       "      <td>Intel HD Graphics 620</td>\n",
       "      <td>Windows 10</td>\n",
       "      <td>1.64kg</td>\n",
       "    </tr>\n",
       "    <tr>\n",
       "      <th>421</th>\n",
       "      <td>Asus</td>\n",
       "      <td>ZenBook Flip</td>\n",
       "      <td>2 in 1 Convertible</td>\n",
       "      <td>13.3</td>\n",
       "      <td>IPS Panel Full HD / Touchscreen 1920x1080</td>\n",
       "      <td>Intel Core i5 7200U 2.5GHz</td>\n",
       "      <td>8GB</td>\n",
       "      <td>256GB SSD</td>\n",
       "      <td>Intel HD Graphics 620</td>\n",
       "      <td>Windows 10</td>\n",
       "      <td>1.27kg</td>\n",
       "    </tr>\n",
       "  </tbody>\n",
       "</table>\n",
       "</div>"
      ],
      "text/plain": [
       "      Company          Product            TypeName  Inches  \\\n",
       "820       MSI      GE72MVR 7RG              Gaming    17.3   \n",
       "948   Toshiba  Tecra Z40-C-12X            Notebook    14.0   \n",
       "483      Dell  Precision M5520         Workstation    15.6   \n",
       "1017       HP      Probook 440            Notebook    14.0   \n",
       "421      Asus     ZenBook Flip  2 in 1 Convertible    13.3   \n",
       "\n",
       "                               ScreenResolution                          Cpu  \\\n",
       "820                           Full HD 1920x1080  Intel Core i7 7700HQ 2.8GHz   \n",
       "948                 IPS Panel Full HD 1920x1080   Intel Core i5 6200U 2.3GHz   \n",
       "483                           Full HD 1920x1080  Intel Core i7 7700HQ 2.8GHz   \n",
       "1017                                   1366x768   Intel Core i5 7200U 2.5GHz   \n",
       "421   IPS Panel Full HD / Touchscreen 1920x1080   Intel Core i5 7200U 2.5GHz   \n",
       "\n",
       "       Ram                Memory                      Gpu       OpSys  Weight  \n",
       "820   16GB  512GB SSD +  1TB HDD  Nvidia GeForce GTX 1070  Windows 10   2.9kg  \n",
       "948    4GB             128GB SSD    Intel HD Graphics 520  Windows 10  1.47kg  \n",
       "483    8GB             256GB SSD      Nvidia Quadro M1200  Windows 10  1.78kg  \n",
       "1017   4GB             500GB HDD    Intel HD Graphics 620  Windows 10  1.64kg  \n",
       "421    8GB             256GB SSD    Intel HD Graphics 620  Windows 10  1.27kg  "
      ]
     },
     "execution_count": 88,
     "metadata": {},
     "output_type": "execute_result"
    }
   ],
   "source": [
    "X_pred.tail()"
   ]
  },
  {
   "cell_type": "code",
   "execution_count": 89,
   "metadata": {},
   "outputs": [
    {
     "name": "stdout",
     "output_type": "stream",
     "text": [
      "<class 'pandas.core.frame.DataFrame'>\n",
      "Index: 391 entries, 209 to 421\n",
      "Data columns (total 11 columns):\n",
      " #   Column            Non-Null Count  Dtype  \n",
      "---  ------            --------------  -----  \n",
      " 0   Company           391 non-null    object \n",
      " 1   Product           391 non-null    object \n",
      " 2   TypeName          391 non-null    object \n",
      " 3   Inches            391 non-null    float64\n",
      " 4   ScreenResolution  391 non-null    object \n",
      " 5   Cpu               391 non-null    object \n",
      " 6   Ram               391 non-null    object \n",
      " 7   Memory            391 non-null    object \n",
      " 8   Gpu               391 non-null    object \n",
      " 9   OpSys             391 non-null    object \n",
      " 10  Weight            391 non-null    object \n",
      "dtypes: float64(1), object(10)\n",
      "memory usage: 36.7+ KB\n"
     ]
    }
   ],
   "source": [
    "X_pred.info()"
   ]
  },
  {
   "cell_type": "markdown",
   "metadata": {},
   "source": [
    " ## 2. Replicar el procesado para ``test.csv``"
   ]
  },
  {
   "cell_type": "code",
   "execution_count": 90,
   "metadata": {},
   "outputs": [],
   "source": [
    "X_pred[\"inches\"] = X_pred.Inches.astype(float)\n",
    "X_pred['ram_gb'] = X_pred['Ram'].str.replace('GB', '').astype(int)\n",
    "X_pred[\"weight_kg\"] = X_pred['Weight'].str.replace('kg', '').astype(float)\n",
    "X_pred.drop(columns = [\"Inches\", \"Ram\", \"Weight\"], inplace = True)"
   ]
  },
  {
   "cell_type": "code",
   "execution_count": 91,
   "metadata": {},
   "outputs": [
    {
     "name": "stdout",
     "output_type": "stream",
     "text": [
      "<class 'pandas.core.frame.DataFrame'>\n",
      "Index: 391 entries, 209 to 421\n",
      "Data columns (total 11 columns):\n",
      " #   Column            Non-Null Count  Dtype  \n",
      "---  ------            --------------  -----  \n",
      " 0   Company           391 non-null    object \n",
      " 1   Product           391 non-null    object \n",
      " 2   TypeName          391 non-null    object \n",
      " 3   ScreenResolution  391 non-null    object \n",
      " 4   Cpu               391 non-null    object \n",
      " 5   Memory            391 non-null    object \n",
      " 6   Gpu               391 non-null    object \n",
      " 7   OpSys             391 non-null    object \n",
      " 8   inches            391 non-null    float64\n",
      " 9   ram_gb            391 non-null    int32  \n",
      " 10  weight_kg         391 non-null    float64\n",
      "dtypes: float64(2), int32(1), object(8)\n",
      "memory usage: 35.1+ KB\n"
     ]
    }
   ],
   "source": [
    "X_pred.info()"
   ]
  },
  {
   "cell_type": "code",
   "execution_count": 92,
   "metadata": {},
   "outputs": [],
   "source": [
    "# # # Ordenamos las features categóricas de menor precio de median a mayor precio para poder convertirlas en numéricas:\n",
    "# # categories_company = df.groupby(df[\"Company\"])[\"Price_in_euros\"].median().sort_values().index.to_list()\n",
    "# # # categories_typename = df.groupby(df[\"TypeName\"])[\"Price_in_euros\"].median().sort_values().index.to_list()\n",
    "# # categories_resolution = df.groupby(df[\"ScreenResolution\"])[\"Price_in_euros\"].median().sort_values().index.to_list()\n",
    "# # categories_cpu = df.groupby(df[\"Cpu\"])[\"Price_in_euros\"].median().sort_values().index.to_list()\n",
    "# # categories_memory = df.groupby(df[\"Memory\"])[\"Price_in_euros\"].median().sort_values().index.to_list()\n",
    "# # categories_gpu = df.groupby(df[\"Gpu\"])[\"Price_in_euros\"].median().sort_values().index.to_list()\n",
    "\n",
    "# # total_cat = [categories_company, categories_resolution, categories_cpu, categories_memory, categories_gpu]\n",
    "# # cols = [\"Company\", \"ScreenResolution\", \"Cpu\", \"Memory\", \"Gpu\"]\n",
    "\n",
    "# # enc = OrdinalEncoder(categories = total_cat, dtype= int)\n",
    "# # X_pred[cols] = enc.transform(X_pred[cols])\n",
    "\n",
    "# # Con la ram, el sistema operativo y el typename, vamos a hacer un get_dummies:\n",
    "# cols_dummies = X_train.columns\n",
    "# X_pred = pd.get_dummies(X_pred, columns = feat_sel, dtype = int).reindex(columns = cols_dummies, fill_value=0)"
   ]
  },
  {
   "cell_type": "code",
   "execution_count": 93,
   "metadata": {},
   "outputs": [],
   "source": [
    "X_pred[cols] = enc.transform(X_pred[cols])\n",
    "\n",
    "X_pred = pd.get_dummies(X_pred, columns = dummies_cols, dtype = int).reindex(columns = dummies_cols, fill_value=0)\n",
    "\n",
    "X_pred.columns = X_pred.columns.str.replace(r'[\\[\\]<>]', '', regex=True)\n",
    "X_pred.columns = X_pred.columns.astype(str)"
   ]
  },
  {
   "cell_type": "code",
   "execution_count": 96,
   "metadata": {},
   "outputs": [
    {
     "ename": "KeyError",
     "evalue": "\"None of [Index(['Company', 'TypeName', 'OpSys', 'Price_in_euros', 'ram_gb',\\n       'ScreenResolution_1366x768', 'ScreenResolution_1440x900',\\n       'ScreenResolution_1600x900', 'ScreenResolution_1920x1080',\\n       'ScreenResolution_2560x1440',\\n       ...\\n       'Gpu_Nvidia GeForce MX130', 'Gpu_Nvidia GeForce MX150',\\n       'Gpu_Nvidia Quadro M1000M', 'Gpu_Nvidia Quadro M1200',\\n       'Gpu_Nvidia Quadro M2000M', 'Gpu_Nvidia Quadro M2200M',\\n       'Gpu_Nvidia Quadro M3000M', 'Gpu_Nvidia Quadro M500M',\\n       'Gpu_Nvidia Quadro M620', 'Gpu_Nvidia Quadro M620M'],\\n      dtype='object', length=278)] are in the [columns]\"",
     "output_type": "error",
     "traceback": [
      "\u001b[1;31m---------------------------------------------------------------------------\u001b[0m",
      "\u001b[1;31mKeyError\u001b[0m                                  Traceback (most recent call last)",
      "Cell \u001b[1;32mIn[96], line 1\u001b[0m\n\u001b[1;32m----> 1\u001b[0m \u001b[43mX_pred\u001b[49m\u001b[43m[\u001b[49m\u001b[43mfeat_sel\u001b[49m\u001b[43m]\u001b[49m\n",
      "File \u001b[1;32m~\\AppData\\Local\\Packages\\PythonSoftwareFoundation.Python.3.9_qbz5n2kfra8p0\\LocalCache\\local-packages\\Python39\\site-packages\\pandas\\core\\frame.py:4108\u001b[0m, in \u001b[0;36mDataFrame.__getitem__\u001b[1;34m(self, key)\u001b[0m\n\u001b[0;32m   4106\u001b[0m     \u001b[38;5;28;01mif\u001b[39;00m is_iterator(key):\n\u001b[0;32m   4107\u001b[0m         key \u001b[38;5;241m=\u001b[39m \u001b[38;5;28mlist\u001b[39m(key)\n\u001b[1;32m-> 4108\u001b[0m     indexer \u001b[38;5;241m=\u001b[39m \u001b[38;5;28;43mself\u001b[39;49m\u001b[38;5;241;43m.\u001b[39;49m\u001b[43mcolumns\u001b[49m\u001b[38;5;241;43m.\u001b[39;49m\u001b[43m_get_indexer_strict\u001b[49m\u001b[43m(\u001b[49m\u001b[43mkey\u001b[49m\u001b[43m,\u001b[49m\u001b[43m \u001b[49m\u001b[38;5;124;43m\"\u001b[39;49m\u001b[38;5;124;43mcolumns\u001b[39;49m\u001b[38;5;124;43m\"\u001b[39;49m\u001b[43m)\u001b[49m[\u001b[38;5;241m1\u001b[39m]\n\u001b[0;32m   4110\u001b[0m \u001b[38;5;66;03m# take() does not accept boolean indexers\u001b[39;00m\n\u001b[0;32m   4111\u001b[0m \u001b[38;5;28;01mif\u001b[39;00m \u001b[38;5;28mgetattr\u001b[39m(indexer, \u001b[38;5;124m\"\u001b[39m\u001b[38;5;124mdtype\u001b[39m\u001b[38;5;124m\"\u001b[39m, \u001b[38;5;28;01mNone\u001b[39;00m) \u001b[38;5;241m==\u001b[39m \u001b[38;5;28mbool\u001b[39m:\n",
      "File \u001b[1;32m~\\AppData\\Local\\Packages\\PythonSoftwareFoundation.Python.3.9_qbz5n2kfra8p0\\LocalCache\\local-packages\\Python39\\site-packages\\pandas\\core\\indexes\\base.py:6200\u001b[0m, in \u001b[0;36mIndex._get_indexer_strict\u001b[1;34m(self, key, axis_name)\u001b[0m\n\u001b[0;32m   6197\u001b[0m \u001b[38;5;28;01melse\u001b[39;00m:\n\u001b[0;32m   6198\u001b[0m     keyarr, indexer, new_indexer \u001b[38;5;241m=\u001b[39m \u001b[38;5;28mself\u001b[39m\u001b[38;5;241m.\u001b[39m_reindex_non_unique(keyarr)\n\u001b[1;32m-> 6200\u001b[0m \u001b[38;5;28;43mself\u001b[39;49m\u001b[38;5;241;43m.\u001b[39;49m\u001b[43m_raise_if_missing\u001b[49m\u001b[43m(\u001b[49m\u001b[43mkeyarr\u001b[49m\u001b[43m,\u001b[49m\u001b[43m \u001b[49m\u001b[43mindexer\u001b[49m\u001b[43m,\u001b[49m\u001b[43m \u001b[49m\u001b[43maxis_name\u001b[49m\u001b[43m)\u001b[49m\n\u001b[0;32m   6202\u001b[0m keyarr \u001b[38;5;241m=\u001b[39m \u001b[38;5;28mself\u001b[39m\u001b[38;5;241m.\u001b[39mtake(indexer)\n\u001b[0;32m   6203\u001b[0m \u001b[38;5;28;01mif\u001b[39;00m \u001b[38;5;28misinstance\u001b[39m(key, Index):\n\u001b[0;32m   6204\u001b[0m     \u001b[38;5;66;03m# GH 42790 - Preserve name from an Index\u001b[39;00m\n",
      "File \u001b[1;32m~\\AppData\\Local\\Packages\\PythonSoftwareFoundation.Python.3.9_qbz5n2kfra8p0\\LocalCache\\local-packages\\Python39\\site-packages\\pandas\\core\\indexes\\base.py:6249\u001b[0m, in \u001b[0;36mIndex._raise_if_missing\u001b[1;34m(self, key, indexer, axis_name)\u001b[0m\n\u001b[0;32m   6247\u001b[0m \u001b[38;5;28;01mif\u001b[39;00m nmissing:\n\u001b[0;32m   6248\u001b[0m     \u001b[38;5;28;01mif\u001b[39;00m nmissing \u001b[38;5;241m==\u001b[39m \u001b[38;5;28mlen\u001b[39m(indexer):\n\u001b[1;32m-> 6249\u001b[0m         \u001b[38;5;28;01mraise\u001b[39;00m \u001b[38;5;167;01mKeyError\u001b[39;00m(\u001b[38;5;124mf\u001b[39m\u001b[38;5;124m\"\u001b[39m\u001b[38;5;124mNone of [\u001b[39m\u001b[38;5;132;01m{\u001b[39;00mkey\u001b[38;5;132;01m}\u001b[39;00m\u001b[38;5;124m] are in the [\u001b[39m\u001b[38;5;132;01m{\u001b[39;00maxis_name\u001b[38;5;132;01m}\u001b[39;00m\u001b[38;5;124m]\u001b[39m\u001b[38;5;124m\"\u001b[39m)\n\u001b[0;32m   6251\u001b[0m     not_found \u001b[38;5;241m=\u001b[39m \u001b[38;5;28mlist\u001b[39m(ensure_index(key)[missing_mask\u001b[38;5;241m.\u001b[39mnonzero()[\u001b[38;5;241m0\u001b[39m]]\u001b[38;5;241m.\u001b[39munique())\n\u001b[0;32m   6252\u001b[0m     \u001b[38;5;28;01mraise\u001b[39;00m \u001b[38;5;167;01mKeyError\u001b[39;00m(\u001b[38;5;124mf\u001b[39m\u001b[38;5;124m\"\u001b[39m\u001b[38;5;132;01m{\u001b[39;00mnot_found\u001b[38;5;132;01m}\u001b[39;00m\u001b[38;5;124m not in index\u001b[39m\u001b[38;5;124m\"\u001b[39m)\n",
      "\u001b[1;31mKeyError\u001b[0m: \"None of [Index(['Company', 'TypeName', 'OpSys', 'Price_in_euros', 'ram_gb',\\n       'ScreenResolution_1366x768', 'ScreenResolution_1440x900',\\n       'ScreenResolution_1600x900', 'ScreenResolution_1920x1080',\\n       'ScreenResolution_2560x1440',\\n       ...\\n       'Gpu_Nvidia GeForce MX130', 'Gpu_Nvidia GeForce MX150',\\n       'Gpu_Nvidia Quadro M1000M', 'Gpu_Nvidia Quadro M1200',\\n       'Gpu_Nvidia Quadro M2000M', 'Gpu_Nvidia Quadro M2200M',\\n       'Gpu_Nvidia Quadro M3000M', 'Gpu_Nvidia Quadro M500M',\\n       'Gpu_Nvidia Quadro M620', 'Gpu_Nvidia Quadro M620M'],\\n      dtype='object', length=278)] are in the [columns]\""
     ]
    }
   ],
   "source": [
    "X_pred[feat_sel]"
   ]
  },
  {
   "cell_type": "code",
   "execution_count": 95,
   "metadata": {},
   "outputs": [
    {
     "ename": "KeyError",
     "evalue": "\"None of [Index(['Company', 'TypeName', 'OpSys', 'Price_in_euros', 'ram_gb',\\n       'ScreenResolution_1366x768', 'ScreenResolution_1440x900',\\n       'ScreenResolution_1600x900', 'ScreenResolution_1920x1080',\\n       'ScreenResolution_2560x1440',\\n       ...\\n       'Gpu_Nvidia GeForce MX130', 'Gpu_Nvidia GeForce MX150',\\n       'Gpu_Nvidia Quadro M1000M', 'Gpu_Nvidia Quadro M1200',\\n       'Gpu_Nvidia Quadro M2000M', 'Gpu_Nvidia Quadro M2200M',\\n       'Gpu_Nvidia Quadro M3000M', 'Gpu_Nvidia Quadro M500M',\\n       'Gpu_Nvidia Quadro M620', 'Gpu_Nvidia Quadro M620M'],\\n      dtype='object', length=278)] are in the [columns]\"",
     "output_type": "error",
     "traceback": [
      "\u001b[1;31m---------------------------------------------------------------------------\u001b[0m",
      "\u001b[1;31mKeyError\u001b[0m                                  Traceback (most recent call last)",
      "Cell \u001b[1;32mIn[95], line 1\u001b[0m\n\u001b[1;32m----> 1\u001b[0m predictions_submit \u001b[38;5;241m=\u001b[39m best_model\u001b[38;5;241m.\u001b[39mpredict(\u001b[43mX_pred\u001b[49m\u001b[43m[\u001b[49m\u001b[43mfeat_sel\u001b[49m\u001b[43m]\u001b[49m)\n\u001b[0;32m      2\u001b[0m predictions_submit\n",
      "File \u001b[1;32m~\\AppData\\Local\\Packages\\PythonSoftwareFoundation.Python.3.9_qbz5n2kfra8p0\\LocalCache\\local-packages\\Python39\\site-packages\\pandas\\core\\frame.py:4108\u001b[0m, in \u001b[0;36mDataFrame.__getitem__\u001b[1;34m(self, key)\u001b[0m\n\u001b[0;32m   4106\u001b[0m     \u001b[38;5;28;01mif\u001b[39;00m is_iterator(key):\n\u001b[0;32m   4107\u001b[0m         key \u001b[38;5;241m=\u001b[39m \u001b[38;5;28mlist\u001b[39m(key)\n\u001b[1;32m-> 4108\u001b[0m     indexer \u001b[38;5;241m=\u001b[39m \u001b[38;5;28;43mself\u001b[39;49m\u001b[38;5;241;43m.\u001b[39;49m\u001b[43mcolumns\u001b[49m\u001b[38;5;241;43m.\u001b[39;49m\u001b[43m_get_indexer_strict\u001b[49m\u001b[43m(\u001b[49m\u001b[43mkey\u001b[49m\u001b[43m,\u001b[49m\u001b[43m \u001b[49m\u001b[38;5;124;43m\"\u001b[39;49m\u001b[38;5;124;43mcolumns\u001b[39;49m\u001b[38;5;124;43m\"\u001b[39;49m\u001b[43m)\u001b[49m[\u001b[38;5;241m1\u001b[39m]\n\u001b[0;32m   4110\u001b[0m \u001b[38;5;66;03m# take() does not accept boolean indexers\u001b[39;00m\n\u001b[0;32m   4111\u001b[0m \u001b[38;5;28;01mif\u001b[39;00m \u001b[38;5;28mgetattr\u001b[39m(indexer, \u001b[38;5;124m\"\u001b[39m\u001b[38;5;124mdtype\u001b[39m\u001b[38;5;124m\"\u001b[39m, \u001b[38;5;28;01mNone\u001b[39;00m) \u001b[38;5;241m==\u001b[39m \u001b[38;5;28mbool\u001b[39m:\n",
      "File \u001b[1;32m~\\AppData\\Local\\Packages\\PythonSoftwareFoundation.Python.3.9_qbz5n2kfra8p0\\LocalCache\\local-packages\\Python39\\site-packages\\pandas\\core\\indexes\\base.py:6200\u001b[0m, in \u001b[0;36mIndex._get_indexer_strict\u001b[1;34m(self, key, axis_name)\u001b[0m\n\u001b[0;32m   6197\u001b[0m \u001b[38;5;28;01melse\u001b[39;00m:\n\u001b[0;32m   6198\u001b[0m     keyarr, indexer, new_indexer \u001b[38;5;241m=\u001b[39m \u001b[38;5;28mself\u001b[39m\u001b[38;5;241m.\u001b[39m_reindex_non_unique(keyarr)\n\u001b[1;32m-> 6200\u001b[0m \u001b[38;5;28;43mself\u001b[39;49m\u001b[38;5;241;43m.\u001b[39;49m\u001b[43m_raise_if_missing\u001b[49m\u001b[43m(\u001b[49m\u001b[43mkeyarr\u001b[49m\u001b[43m,\u001b[49m\u001b[43m \u001b[49m\u001b[43mindexer\u001b[49m\u001b[43m,\u001b[49m\u001b[43m \u001b[49m\u001b[43maxis_name\u001b[49m\u001b[43m)\u001b[49m\n\u001b[0;32m   6202\u001b[0m keyarr \u001b[38;5;241m=\u001b[39m \u001b[38;5;28mself\u001b[39m\u001b[38;5;241m.\u001b[39mtake(indexer)\n\u001b[0;32m   6203\u001b[0m \u001b[38;5;28;01mif\u001b[39;00m \u001b[38;5;28misinstance\u001b[39m(key, Index):\n\u001b[0;32m   6204\u001b[0m     \u001b[38;5;66;03m# GH 42790 - Preserve name from an Index\u001b[39;00m\n",
      "File \u001b[1;32m~\\AppData\\Local\\Packages\\PythonSoftwareFoundation.Python.3.9_qbz5n2kfra8p0\\LocalCache\\local-packages\\Python39\\site-packages\\pandas\\core\\indexes\\base.py:6249\u001b[0m, in \u001b[0;36mIndex._raise_if_missing\u001b[1;34m(self, key, indexer, axis_name)\u001b[0m\n\u001b[0;32m   6247\u001b[0m \u001b[38;5;28;01mif\u001b[39;00m nmissing:\n\u001b[0;32m   6248\u001b[0m     \u001b[38;5;28;01mif\u001b[39;00m nmissing \u001b[38;5;241m==\u001b[39m \u001b[38;5;28mlen\u001b[39m(indexer):\n\u001b[1;32m-> 6249\u001b[0m         \u001b[38;5;28;01mraise\u001b[39;00m \u001b[38;5;167;01mKeyError\u001b[39;00m(\u001b[38;5;124mf\u001b[39m\u001b[38;5;124m\"\u001b[39m\u001b[38;5;124mNone of [\u001b[39m\u001b[38;5;132;01m{\u001b[39;00mkey\u001b[38;5;132;01m}\u001b[39;00m\u001b[38;5;124m] are in the [\u001b[39m\u001b[38;5;132;01m{\u001b[39;00maxis_name\u001b[38;5;132;01m}\u001b[39;00m\u001b[38;5;124m]\u001b[39m\u001b[38;5;124m\"\u001b[39m)\n\u001b[0;32m   6251\u001b[0m     not_found \u001b[38;5;241m=\u001b[39m \u001b[38;5;28mlist\u001b[39m(ensure_index(key)[missing_mask\u001b[38;5;241m.\u001b[39mnonzero()[\u001b[38;5;241m0\u001b[39m]]\u001b[38;5;241m.\u001b[39munique())\n\u001b[0;32m   6252\u001b[0m     \u001b[38;5;28;01mraise\u001b[39;00m \u001b[38;5;167;01mKeyError\u001b[39;00m(\u001b[38;5;124mf\u001b[39m\u001b[38;5;124m\"\u001b[39m\u001b[38;5;132;01m{\u001b[39;00mnot_found\u001b[38;5;132;01m}\u001b[39;00m\u001b[38;5;124m not in index\u001b[39m\u001b[38;5;124m\"\u001b[39m)\n",
      "\u001b[1;31mKeyError\u001b[0m: \"None of [Index(['Company', 'TypeName', 'OpSys', 'Price_in_euros', 'ram_gb',\\n       'ScreenResolution_1366x768', 'ScreenResolution_1440x900',\\n       'ScreenResolution_1600x900', 'ScreenResolution_1920x1080',\\n       'ScreenResolution_2560x1440',\\n       ...\\n       'Gpu_Nvidia GeForce MX130', 'Gpu_Nvidia GeForce MX150',\\n       'Gpu_Nvidia Quadro M1000M', 'Gpu_Nvidia Quadro M1200',\\n       'Gpu_Nvidia Quadro M2000M', 'Gpu_Nvidia Quadro M2200M',\\n       'Gpu_Nvidia Quadro M3000M', 'Gpu_Nvidia Quadro M500M',\\n       'Gpu_Nvidia Quadro M620', 'Gpu_Nvidia Quadro M620M'],\\n      dtype='object', length=278)] are in the [columns]\""
     ]
    }
   ],
   "source": [
    "predictions_submit = best_model.predict(X_pred[feat_sel])\n",
    "predictions_submit"
   ]
  },
  {
   "cell_type": "markdown",
   "metadata": {},
   "source": [
    "### 3. **¿Qué es lo que subirás a Kaggle?**"
   ]
  },
  {
   "cell_type": "markdown",
   "metadata": {},
   "source": [
    "**Para subir a Kaggle la predicción esta tendrá que tener una forma específica.**\n",
    "\n",
    "En este caso, la **MISMA** forma que `sample_submission.csv`. "
   ]
  },
  {
   "cell_type": "code",
   "execution_count": 60,
   "metadata": {},
   "outputs": [],
   "source": [
    "sample = pd.read_csv(\"data/sample_submission.csv\")"
   ]
  },
  {
   "cell_type": "code",
   "execution_count": 61,
   "metadata": {},
   "outputs": [
    {
     "data": {
      "text/html": [
       "<div>\n",
       "<style scoped>\n",
       "    .dataframe tbody tr th:only-of-type {\n",
       "        vertical-align: middle;\n",
       "    }\n",
       "\n",
       "    .dataframe tbody tr th {\n",
       "        vertical-align: top;\n",
       "    }\n",
       "\n",
       "    .dataframe thead th {\n",
       "        text-align: right;\n",
       "    }\n",
       "</style>\n",
       "<table border=\"1\" class=\"dataframe\">\n",
       "  <thead>\n",
       "    <tr style=\"text-align: right;\">\n",
       "      <th></th>\n",
       "      <th>laptop_ID</th>\n",
       "      <th>Price_in_euros</th>\n",
       "    </tr>\n",
       "  </thead>\n",
       "  <tbody>\n",
       "    <tr>\n",
       "      <th>0</th>\n",
       "      <td>209</td>\n",
       "      <td>1949.1</td>\n",
       "    </tr>\n",
       "    <tr>\n",
       "      <th>1</th>\n",
       "      <td>1281</td>\n",
       "      <td>805.0</td>\n",
       "    </tr>\n",
       "    <tr>\n",
       "      <th>2</th>\n",
       "      <td>1168</td>\n",
       "      <td>1101.0</td>\n",
       "    </tr>\n",
       "    <tr>\n",
       "      <th>3</th>\n",
       "      <td>1231</td>\n",
       "      <td>1293.8</td>\n",
       "    </tr>\n",
       "    <tr>\n",
       "      <th>4</th>\n",
       "      <td>1020</td>\n",
       "      <td>1832.6</td>\n",
       "    </tr>\n",
       "  </tbody>\n",
       "</table>\n",
       "</div>"
      ],
      "text/plain": [
       "   laptop_ID  Price_in_euros\n",
       "0        209          1949.1\n",
       "1       1281           805.0\n",
       "2       1168          1101.0\n",
       "3       1231          1293.8\n",
       "4       1020          1832.6"
      ]
     },
     "execution_count": 61,
     "metadata": {},
     "output_type": "execute_result"
    }
   ],
   "source": [
    "sample.head()"
   ]
  },
  {
   "cell_type": "code",
   "execution_count": 62,
   "metadata": {},
   "outputs": [
    {
     "data": {
      "text/plain": [
       "(391, 2)"
      ]
     },
     "execution_count": 62,
     "metadata": {},
     "output_type": "execute_result"
    }
   ],
   "source": [
    "sample.shape"
   ]
  },
  {
   "cell_type": "markdown",
   "metadata": {},
   "source": [
    "### 4. Mete tus predicciones en un dataframe llamado ``submission``."
   ]
  },
  {
   "cell_type": "code",
   "execution_count": 63,
   "metadata": {},
   "outputs": [],
   "source": [
    "#¿Cómo creamos la submission?\n",
    "submission = pd.DataFrame({\"laptop_ID\": X_pred.index,\n",
    "                        \"Price_in_euros\": predictions_submit})"
   ]
  },
  {
   "cell_type": "code",
   "execution_count": 64,
   "metadata": {},
   "outputs": [
    {
     "data": {
      "text/html": [
       "<div>\n",
       "<style scoped>\n",
       "    .dataframe tbody tr th:only-of-type {\n",
       "        vertical-align: middle;\n",
       "    }\n",
       "\n",
       "    .dataframe tbody tr th {\n",
       "        vertical-align: top;\n",
       "    }\n",
       "\n",
       "    .dataframe thead th {\n",
       "        text-align: right;\n",
       "    }\n",
       "</style>\n",
       "<table border=\"1\" class=\"dataframe\">\n",
       "  <thead>\n",
       "    <tr style=\"text-align: right;\">\n",
       "      <th></th>\n",
       "      <th>laptop_ID</th>\n",
       "      <th>Price_in_euros</th>\n",
       "    </tr>\n",
       "  </thead>\n",
       "  <tbody>\n",
       "    <tr>\n",
       "      <th>0</th>\n",
       "      <td>209</td>\n",
       "      <td>1425.790890</td>\n",
       "    </tr>\n",
       "    <tr>\n",
       "      <th>1</th>\n",
       "      <td>1281</td>\n",
       "      <td>359.049990</td>\n",
       "    </tr>\n",
       "    <tr>\n",
       "      <th>2</th>\n",
       "      <td>1168</td>\n",
       "      <td>357.942807</td>\n",
       "    </tr>\n",
       "    <tr>\n",
       "      <th>3</th>\n",
       "      <td>1231</td>\n",
       "      <td>1079.941803</td>\n",
       "    </tr>\n",
       "    <tr>\n",
       "      <th>4</th>\n",
       "      <td>1020</td>\n",
       "      <td>841.743495</td>\n",
       "    </tr>\n",
       "  </tbody>\n",
       "</table>\n",
       "</div>"
      ],
      "text/plain": [
       "   laptop_ID  Price_in_euros\n",
       "0        209     1425.790890\n",
       "1       1281      359.049990\n",
       "2       1168      357.942807\n",
       "3       1231     1079.941803\n",
       "4       1020      841.743495"
      ]
     },
     "execution_count": 64,
     "metadata": {},
     "output_type": "execute_result"
    }
   ],
   "source": [
    "submission.head()"
   ]
  },
  {
   "cell_type": "code",
   "execution_count": 65,
   "metadata": {},
   "outputs": [
    {
     "data": {
      "text/plain": [
       "(391, 2)"
      ]
     },
     "execution_count": 65,
     "metadata": {},
     "output_type": "execute_result"
    }
   ],
   "source": [
    "submission.shape"
   ]
  },
  {
   "cell_type": "markdown",
   "metadata": {},
   "source": [
    "### 5. Pásale el CHEQUEADOR para comprobar que efectivamente está listo para subir a Kaggle."
   ]
  },
  {
   "cell_type": "code",
   "execution_count": 66,
   "metadata": {},
   "outputs": [],
   "source": [
    "def chequeador(df_to_submit):\n",
    "    \"\"\"\n",
    "    Esta función se asegura de que tu submission tenga la forma requerida por Kaggle.\n",
    "    \n",
    "    Si es así, se guardará el dataframe en un `csv` y estará listo para subir a Kaggle.\n",
    "    \n",
    "    Si no, LEE EL MENSAJE Y HAZLE CASO.\n",
    "    \n",
    "    Si aún no:\n",
    "    - apaga tu ordenador, \n",
    "    - date una vuelta, \n",
    "    - enciendelo otra vez, \n",
    "    - abre este notebook y \n",
    "    - leelo todo de nuevo. \n",
    "    Todos nos merecemos una segunda oportunidad. También tú.\n",
    "    \"\"\"\n",
    "    if df_to_submit.shape == sample.shape:\n",
    "        if df_to_submit.columns.all() == sample.columns.all():\n",
    "            if df_to_submit.laptop_ID.all() == sample.laptop_ID.all():\n",
    "                print(\"You're ready to submit!\")\n",
    "                submission.to_csv(\"submission.csv\", index = False) #muy importante el index = False\n",
    "                urllib.request.urlretrieve(\"https://www.mihaileric.com/static/evaluation-meme-e0a350f278a36346e6d46b139b1d0da0-ed51e.jpg\", \"gfg.png\")     \n",
    "                img = Image.open(\"gfg.png\")\n",
    "                img.show()   \n",
    "            else:\n",
    "                print(\"Check the ids and try again\")\n",
    "        else:\n",
    "            print(\"Check the names of the columns and try again\")\n",
    "    else:\n",
    "        print(\"Check the number of rows and/or columns and try again\")\n",
    "        print(\"\\nMensaje secreto del TA: No me puedo creer que después de todo este notebook hayas hecho algún cambio en las filas de `test.csv`. Lloro.\")"
   ]
  },
  {
   "cell_type": "code",
   "execution_count": 67,
   "metadata": {},
   "outputs": [
    {
     "name": "stdout",
     "output_type": "stream",
     "text": [
      "You're ready to submit!\n"
     ]
    }
   ],
   "source": [
    "chequeador(submission)"
   ]
  },
  {
   "cell_type": "code",
   "execution_count": null,
   "metadata": {},
   "outputs": [],
   "source": []
  }
 ],
 "metadata": {
  "kernelspec": {
   "display_name": "Python 3",
   "language": "python",
   "name": "python3"
  },
  "language_info": {
   "codemirror_mode": {
    "name": "ipython",
    "version": 3
   },
   "file_extension": ".py",
   "mimetype": "text/x-python",
   "name": "python",
   "nbconvert_exporter": "python",
   "pygments_lexer": "ipython3",
   "version": "3.9.13"
  }
 },
 "nbformat": 4,
 "nbformat_minor": 4
}
